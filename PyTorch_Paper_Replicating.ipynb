{
  "cells": [
    {
      "cell_type": "markdown",
      "source": [
        "## 🧪 Replicating the Vision Transformer (ViT) Paper with PyTorch\n",
        "\n",
        "In this project, we aim to replicate the Vision Transformer (ViT) paper:  \n",
        "**\"An Image is Worth 16x16 Words: Transformers for Image Recognition at Scale\"**  \n",
        "🔗 [Read the paper here](https://arxiv.org/abs/2010.11929)\n",
        "\n",
        "\n",
        "### 🤔 Why Vision Transformers?\n",
        "\n",
        "The Transformer architecture—originally developed for NLP in *\"Attention Is All You Need\"*—revolutionized how models understand sequential data using attention mechanisms. The ViT paper brought this architecture to computer vision by splitting images into patches (like words in a sentence) and processing them using a Transformer, rather than a convolutional network.\n",
        "\n",
        "This project explores:\n",
        "- Building a **ViT model from scratch** using PyTorch.\n",
        "- Using the **CIFAR-10 dataset** for multi-class image classification.\n",
        "- Reproducing the experimental setup as closely as possible to the original paper.\n",
        "\n",
        "Let's dive into understanding how Transformers can be just as powerful for vision tasks as they are for language!\n"
      ],
      "metadata": {
        "id": "x31Y0Lw5pOUF"
      }
    },
    {
      "cell_type": "markdown",
      "source": [
        "## 0. Getting setup\n",
        "\n",
        "Before Starting the tasks, in order to make work easier and faster, let's turn the cell into Script mode and create files like:\n",
        "image classification data.\n",
        "1.  `engine.py` --> Contains functions for training and testing a PyTorch model.\n",
        "2. `helper_functions.py` --> Utility functions for visualization of loss curves."
      ],
      "metadata": {
        "id": "HLcRoGVPpSBa"
      }
    },
    {
      "cell_type": "code",
      "source": [
        "import os\n",
        "os.mkdir(\"scripts\")"
      ],
      "metadata": {
        "id": "nXtb7Ad1rvTV"
      },
      "execution_count": 1,
      "outputs": []
    },
    {
      "cell_type": "code",
      "source": [
        "%%writefile scripts/engine.py\n",
        "\n",
        "\"\"\"\n",
        "Contains functions for training and testing a PyTorch model.\n",
        "\"\"\"\n",
        "import torch\n",
        "\n",
        "from tqdm.auto import tqdm\n",
        "from typing import Dict, List, Tuple\n",
        "\n",
        "def train_step(model: torch.nn.Module,\n",
        "               dataloader: torch.utils.data.DataLoader,\n",
        "               loss_fn: torch.nn.Module,\n",
        "               optimizer: torch.optim.Optimizer,\n",
        "               device: torch.device) -> Tuple[float, float]:\n",
        "    \"\"\"Trains a PyTorch model for a single epoch.\n",
        "\n",
        "    Turns a target PyTorch model to training mode and then\n",
        "    runs through all of the required training steps (forward\n",
        "    pass, loss calculation, optimizer step).\n",
        "\n",
        "    Args:\n",
        "    model: A PyTorch model to be trained.\n",
        "    dataloader: A DataLoader instance for the model to be trained on.\n",
        "    loss_fn: A PyTorch loss function to minimize.\n",
        "    optimizer: A PyTorch optimizer to help minimize the loss function.\n",
        "    device: A target device to compute on (e.g. \"cuda\" or \"cpu\").\n",
        "\n",
        "    Returns:\n",
        "    A tuple of training loss and training accuracy metrics.\n",
        "    In the form (train_loss, train_accuracy). For example:\n",
        "\n",
        "    (0.1112, 0.8743)\n",
        "    \"\"\"\n",
        "    # Put model in train mode\n",
        "    model.train()\n",
        "\n",
        "    # Setup train loss and train accuracy values\n",
        "    train_loss, train_acc = 0, 0\n",
        "\n",
        "    # Loop through data loader data batches\n",
        "    for batch, (X, y) in enumerate(dataloader):\n",
        "        # Send data to target device\n",
        "        X, y = X.to(device), y.to(device)\n",
        "\n",
        "        # 1. Forward pass\n",
        "        y_pred = model(X)\n",
        "\n",
        "        # 2. Calculate  and accumulate loss\n",
        "        loss = loss_fn(y_pred, y)\n",
        "        train_loss += loss.item()\n",
        "\n",
        "        # 3. Optimizer zero grad\n",
        "        optimizer.zero_grad()\n",
        "\n",
        "        # 4. Loss backward\n",
        "        loss.backward()\n",
        "\n",
        "        # 5. Optimizer step\n",
        "        optimizer.step()\n",
        "\n",
        "        # Calculate and accumulate accuracy metric across all batches\n",
        "        y_pred_class = torch.argmax(torch.softmax(y_pred, dim=1), dim=1)\n",
        "        train_acc += (y_pred_class == y).sum().item()/len(y_pred)\n",
        "\n",
        "    # Adjust metrics to get average loss and accuracy per batch\n",
        "    train_loss = train_loss / len(dataloader)\n",
        "    train_acc = train_acc / len(dataloader)\n",
        "    return train_loss, train_acc\n",
        "\n",
        "def test_step(model: torch.nn.Module,\n",
        "              dataloader: torch.utils.data.DataLoader,\n",
        "              loss_fn: torch.nn.Module,\n",
        "              device: torch.device) -> Tuple[float, float]:\n",
        "    \"\"\"Tests a PyTorch model for a single epoch.\n",
        "\n",
        "    Turns a target PyTorch model to \"eval\" mode and then performs\n",
        "    a forward pass on a testing dataset.\n",
        "\n",
        "    Args:\n",
        "    model: A PyTorch model to be tested.\n",
        "    dataloader: A DataLoader instance for the model to be tested on.\n",
        "    loss_fn: A PyTorch loss function to calculate loss on the test data.\n",
        "    device: A target device to compute on (e.g. \"cuda\" or \"cpu\").\n",
        "\n",
        "    Returns:\n",
        "    A tuple of testing loss and testing accuracy metrics.\n",
        "    In the form (test_loss, test_accuracy). For example:\n",
        "\n",
        "    (0.0223, 0.8985)\n",
        "    \"\"\"\n",
        "    # Put model in eval mode\n",
        "    model.eval()\n",
        "\n",
        "    # Setup test loss and test accuracy values\n",
        "    test_loss, test_acc = 0, 0\n",
        "\n",
        "    # Turn on inference context manager\n",
        "    with torch.inference_mode():\n",
        "        # Loop through DataLoader batches\n",
        "        for batch, (X, y) in enumerate(dataloader):\n",
        "            # Send data to target device\n",
        "            X, y = X.to(device), y.to(device)\n",
        "\n",
        "            # 1. Forward pass\n",
        "            test_pred_logits = model(X)\n",
        "\n",
        "            # 2. Calculate and accumulate loss\n",
        "            loss = loss_fn(test_pred_logits, y)\n",
        "            test_loss += loss.item()\n",
        "\n",
        "            # Calculate and accumulate accuracy\n",
        "            test_pred_labels = test_pred_logits.argmax(dim=1)\n",
        "            test_acc += ((test_pred_labels == y).sum().item()/len(test_pred_labels))\n",
        "\n",
        "    # Adjust metrics to get average loss and accuracy per batch\n",
        "    test_loss = test_loss / len(dataloader)\n",
        "    test_acc = test_acc / len(dataloader)\n",
        "    return test_loss, test_acc\n",
        "\n",
        "def train(model: torch.nn.Module,\n",
        "          train_dataloader: torch.utils.data.DataLoader,\n",
        "          test_dataloader: torch.utils.data.DataLoader,\n",
        "          optimizer: torch.optim.Optimizer,\n",
        "          loss_fn: torch.nn.Module,\n",
        "          epochs: int,\n",
        "          device: torch.device) -> Dict[str, List]:\n",
        "    \"\"\"Trains and tests a PyTorch model.\n",
        "\n",
        "    Passes a target PyTorch models through train_step() and test_step()\n",
        "    functions for a number of epochs, training and testing the model\n",
        "    in the same epoch loop.\n",
        "\n",
        "    Calculates, prints and stores evaluation metrics throughout.\n",
        "\n",
        "    Args:\n",
        "    model: A PyTorch model to be trained and tested.\n",
        "    train_dataloader: A DataLoader instance for the model to be trained on.\n",
        "    test_dataloader: A DataLoader instance for the model to be tested on.\n",
        "    optimizer: A PyTorch optimizer to help minimize the loss function.\n",
        "    loss_fn: A PyTorch loss function to calculate loss on both datasets.\n",
        "    epochs: An integer indicating how many epochs to train for.\n",
        "    device: A target device to compute on (e.g. \"cuda\" or \"cpu\").\n",
        "\n",
        "    Returns:\n",
        "    A dictionary of training and testing loss as well as training and\n",
        "    testing accuracy metrics. Each metric has a value in a list for\n",
        "    each epoch.\n",
        "    In the form: {train_loss: [...],\n",
        "              train_acc: [...],\n",
        "              test_loss: [...],\n",
        "              test_acc: [...]}\n",
        "    For example if training for epochs=2:\n",
        "             {train_loss: [2.0616, 1.0537],\n",
        "              train_acc: [0.3945, 0.3945],\n",
        "              test_loss: [1.2641, 1.5706],\n",
        "              test_acc: [0.3400, 0.2973]}\n",
        "    \"\"\"\n",
        "    # Create empty results dictionary\n",
        "    results = {\"train_loss\": [],\n",
        "               \"train_acc\": [],\n",
        "               \"test_loss\": [],\n",
        "               \"test_acc\": []\n",
        "    }\n",
        "\n",
        "    # Make sure model on target device\n",
        "    model.to(device)\n",
        "\n",
        "    # Loop through training and testing steps for a number of epochs\n",
        "    for epoch in tqdm(range(epochs)):\n",
        "        train_loss, train_acc = train_step(model=model,\n",
        "                                          dataloader=train_dataloader,\n",
        "                                          loss_fn=loss_fn,\n",
        "                                          optimizer=optimizer,\n",
        "                                          device=device)\n",
        "        test_loss, test_acc = test_step(model=model,\n",
        "          dataloader=test_dataloader,\n",
        "          loss_fn=loss_fn,\n",
        "          device=device)\n",
        "\n",
        "        # Print out what's happening\n",
        "        print(\n",
        "          f\"Epoch: {epoch+1} | \"\n",
        "          f\"train_loss: {train_loss:.4f} | \"\n",
        "          f\"train_acc: {train_acc:.4f} | \"\n",
        "          f\"test_loss: {test_loss:.4f} | \"\n",
        "          f\"test_acc: {test_acc:.4f}\"\n",
        "        )\n",
        "\n",
        "        # Update results dictionary\n",
        "        results[\"train_loss\"].append(train_loss)\n",
        "        results[\"train_acc\"].append(train_acc)\n",
        "        results[\"test_loss\"].append(test_loss)\n",
        "        results[\"test_acc\"].append(test_acc)\n",
        "\n",
        "    # Return the filled results at the end of the epochs\n",
        "    return results"
      ],
      "metadata": {
        "colab": {
          "base_uri": "https://localhost:8080/"
        },
        "id": "_66yPXsdrszH",
        "outputId": "0f221cc0-a84d-4c35-d3af-1f591c24cf89"
      },
      "execution_count": 2,
      "outputs": [
        {
          "output_type": "stream",
          "name": "stdout",
          "text": [
            "Writing scripts/engine.py\n"
          ]
        }
      ]
    },
    {
      "cell_type": "code",
      "source": [
        "%%writefile scripts/helper_functions.py\n",
        "\n",
        "\"\"\"\n",
        "A series of helper functions used throughout the course.\n",
        "\n",
        "If a function gets defined once and could be used over and over, it'll go in here.\n",
        "\"\"\"\n",
        "import torch\n",
        "import matplotlib.pyplot as plt\n",
        "import numpy as np\n",
        "\n",
        "from torch import nn\n",
        "\n",
        "import os\n",
        "import zipfile\n",
        "\n",
        "from pathlib import Path\n",
        "\n",
        "import requests\n",
        "\n",
        "# Walk through an image classification directory and find out how many files (images)\n",
        "# are in each subdirectory.\n",
        "import os\n",
        "\n",
        "def walk_through_dir(dir_path):\n",
        "    \"\"\"\n",
        "    Walks through dir_path returning its contents.\n",
        "    Args:\n",
        "    dir_path (str): target directory\n",
        "\n",
        "    Returns:\n",
        "    A print out of:\n",
        "      number of subdiretories in dir_path\n",
        "      number of images (files) in each subdirectory\n",
        "      name of each subdirectory\n",
        "    \"\"\"\n",
        "    for dirpath, dirnames, filenames in os.walk(dir_path):\n",
        "        print(f\"There are {len(dirnames)} directories and {len(filenames)} images in '{dirpath}'.\")\n",
        "\n",
        "def plot_decision_boundary(model: torch.nn.Module, X: torch.Tensor, y: torch.Tensor):\n",
        "    \"\"\"Plots decision boundaries of model predicting on X in comparison to y.\n",
        "\n",
        "    Source - https://madewithml.com/courses/foundations/neural-networks/ (with modifications)\n",
        "    \"\"\"\n",
        "    # Put everything to CPU (works better with NumPy + Matplotlib)\n",
        "    model.to(\"cpu\")\n",
        "    X, y = X.to(\"cpu\"), y.to(\"cpu\")\n",
        "\n",
        "    # Setup prediction boundaries and grid\n",
        "    x_min, x_max = X[:, 0].min() - 0.1, X[:, 0].max() + 0.1\n",
        "    y_min, y_max = X[:, 1].min() - 0.1, X[:, 1].max() + 0.1\n",
        "    xx, yy = np.meshgrid(np.linspace(x_min, x_max, 101), np.linspace(y_min, y_max, 101))\n",
        "\n",
        "    # Make features\n",
        "    X_to_pred_on = torch.from_numpy(np.column_stack((xx.ravel(), yy.ravel()))).float()\n",
        "\n",
        "    # Make predictions\n",
        "    model.eval()\n",
        "    with torch.inference_mode():\n",
        "        y_logits = model(X_to_pred_on)\n",
        "\n",
        "    # Test for multi-class or binary and adjust logits to prediction labels\n",
        "    if len(torch.unique(y)) > 2:\n",
        "        y_pred = torch.softmax(y_logits, dim=1).argmax(dim=1)  # mutli-class\n",
        "    else:\n",
        "        y_pred = torch.round(torch.sigmoid(y_logits))  # binary\n",
        "\n",
        "    # Reshape preds and plot\n",
        "    y_pred = y_pred.reshape(xx.shape).detach().numpy()\n",
        "    plt.contourf(xx, yy, y_pred, cmap=plt.cm.RdYlBu, alpha=0.7)\n",
        "    plt.scatter(X[:, 0], X[:, 1], c=y, s=40, cmap=plt.cm.RdYlBu)\n",
        "    plt.xlim(xx.min(), xx.max())\n",
        "    plt.ylim(yy.min(), yy.max())\n",
        "\n",
        "\n",
        "# Plot linear data or training and test and predictions (optional)\n",
        "def plot_predictions(\n",
        "    train_data, train_labels, test_data, test_labels, predictions=None\n",
        "):\n",
        "    \"\"\"\n",
        "  Plots linear training data and test data and compares predictions.\n",
        "  \"\"\"\n",
        "    plt.figure(figsize=(10, 7))\n",
        "\n",
        "    # Plot training data in blue\n",
        "    plt.scatter(train_data, train_labels, c=\"b\", s=4, label=\"Training data\")\n",
        "\n",
        "    # Plot test data in green\n",
        "    plt.scatter(test_data, test_labels, c=\"g\", s=4, label=\"Testing data\")\n",
        "\n",
        "    if predictions is not None:\n",
        "        # Plot the predictions in red (predictions were made on the test data)\n",
        "        plt.scatter(test_data, predictions, c=\"r\", s=4, label=\"Predictions\")\n",
        "\n",
        "    # Show the legend\n",
        "    plt.legend(prop={\"size\": 14})\n",
        "\n",
        "\n",
        "# Calculate accuracy (a classification metric)\n",
        "def accuracy_fn(y_true, y_pred):\n",
        "    \"\"\"Calculates accuracy between truth labels and predictions.\n",
        "\n",
        "    Args:\n",
        "        y_true (torch.Tensor): Truth labels for predictions.\n",
        "        y_pred (torch.Tensor): Predictions to be compared to predictions.\n",
        "\n",
        "    Returns:\n",
        "        [torch.float]: Accuracy value between y_true and y_pred, e.g. 78.45\n",
        "    \"\"\"\n",
        "    correct = torch.eq(y_true, y_pred).sum().item()\n",
        "    acc = (correct / len(y_pred)) * 100\n",
        "    return acc\n",
        "\n",
        "\n",
        "def print_train_time(start, end, device=None):\n",
        "    \"\"\"Prints difference between start and end time.\n",
        "\n",
        "    Args:\n",
        "        start (float): Start time of computation (preferred in timeit format).\n",
        "        end (float): End time of computation.\n",
        "        device ([type], optional): Device that compute is running on. Defaults to None.\n",
        "\n",
        "    Returns:\n",
        "        float: time between start and end in seconds (higher is longer).\n",
        "    \"\"\"\n",
        "    total_time = end - start\n",
        "    print(f\"\\nTrain time on {device}: {total_time:.3f} seconds\")\n",
        "    return total_time\n",
        "\n",
        "\n",
        "# Plot loss curves of a model\n",
        "def plot_loss_curves(results):\n",
        "    \"\"\"Plots training curves of a results dictionary.\n",
        "\n",
        "    Args:\n",
        "        results (dict): dictionary containing list of values, e.g.\n",
        "            {\"train_loss\": [...],\n",
        "             \"train_acc\": [...],\n",
        "             \"test_loss\": [...],\n",
        "             \"test_acc\": [...]}\n",
        "    \"\"\"\n",
        "    loss = results[\"train_loss\"]\n",
        "    test_loss = results[\"test_loss\"]\n",
        "\n",
        "    accuracy = results[\"train_acc\"]\n",
        "    test_accuracy = results[\"test_acc\"]\n",
        "\n",
        "    epochs = range(len(results[\"train_loss\"]))\n",
        "\n",
        "    plt.figure(figsize=(15, 7))\n",
        "\n",
        "    # Plot loss\n",
        "    plt.subplot(1, 2, 1)\n",
        "    plt.plot(epochs, loss, label=\"train_loss\")\n",
        "    plt.plot(epochs, test_loss, label=\"test_loss\")\n",
        "    plt.title(\"Loss\")\n",
        "    plt.xlabel(\"Epochs\")\n",
        "    plt.legend()\n",
        "\n",
        "    # Plot accuracy\n",
        "    plt.subplot(1, 2, 2)\n",
        "    plt.plot(epochs, accuracy, label=\"train_accuracy\")\n",
        "    plt.plot(epochs, test_accuracy, label=\"test_accuracy\")\n",
        "    plt.title(\"Accuracy\")\n",
        "    plt.xlabel(\"Epochs\")\n",
        "    plt.legend()\n",
        "\n",
        "\n",
        "# Pred and plot image function from notebook 04\n",
        "# See creation: https://www.learnpytorch.io/04_pytorch_custom_datasets/#113-putting-custom-image-prediction-together-building-a-function\n",
        "from typing import List\n",
        "import torchvision\n",
        "\n",
        "\n",
        "def pred_and_plot_image(\n",
        "    model: torch.nn.Module,\n",
        "    image_path: str,\n",
        "    class_names: List[str] = None,\n",
        "    transform=None,\n",
        "    device: torch.device = \"cuda\" if torch.cuda.is_available() else \"cpu\",\n",
        "):\n",
        "    \"\"\"Makes a prediction on a target image with a trained model and plots the image.\n",
        "\n",
        "    Args:\n",
        "        model (torch.nn.Module): trained PyTorch image classification model.\n",
        "        image_path (str): filepath to target image.\n",
        "        class_names (List[str], optional): different class names for target image. Defaults to None.\n",
        "        transform (_type_, optional): transform of target image. Defaults to None.\n",
        "        device (torch.device, optional): target device to compute on. Defaults to \"cuda\" if torch.cuda.is_available() else \"cpu\".\n",
        "\n",
        "    Returns:\n",
        "        Matplotlib plot of target image and model prediction as title.\n",
        "\n",
        "    Example usage:\n",
        "        pred_and_plot_image(model=model,\n",
        "                            image=\"some_image.jpeg\",\n",
        "                            class_names=[\"class_1\", \"class_2\", \"class_3\"],\n",
        "                            transform=torchvision.transforms.ToTensor(),\n",
        "                            device=device)\n",
        "    \"\"\"\n",
        "\n",
        "    # 1. Load in image and convert the tensor values to float32\n",
        "    target_image = torchvision.io.read_image(str(image_path)).type(torch.float32)\n",
        "\n",
        "    # 2. Divide the image pixel values by 255 to get them between [0, 1]\n",
        "    target_image = target_image / 255.0\n",
        "\n",
        "    # 3. Transform if necessary\n",
        "    if transform:\n",
        "        target_image = transform(target_image)\n",
        "\n",
        "    # 4. Make sure the model is on the target device\n",
        "    model.to(device)\n",
        "\n",
        "    # 5. Turn on model evaluation mode and inference mode\n",
        "    model.eval()\n",
        "    with torch.inference_mode():\n",
        "        # Add an extra dimension to the image\n",
        "        target_image = target_image.unsqueeze(dim=0)\n",
        "\n",
        "        # Make a prediction on image with an extra dimension and send it to the target device\n",
        "        target_image_pred = model(target_image.to(device))\n",
        "\n",
        "    # 6. Convert logits -> prediction probabilities (using torch.softmax() for multi-class classification)\n",
        "    target_image_pred_probs = torch.softmax(target_image_pred, dim=1)\n",
        "\n",
        "    # 7. Convert prediction probabilities -> prediction labels\n",
        "    target_image_pred_label = torch.argmax(target_image_pred_probs, dim=1)\n",
        "\n",
        "    # 8. Plot the image alongside the prediction and prediction probability\n",
        "    plt.imshow(\n",
        "        target_image.squeeze().permute(1, 2, 0)\n",
        "    )  # make sure it's the right size for matplotlib\n",
        "    if class_names:\n",
        "        title = f\"Pred: {class_names[target_image_pred_label.cpu()]} | Prob: {target_image_pred_probs.max().cpu():.3f}\"\n",
        "    else:\n",
        "        title = f\"Pred: {target_image_pred_label} | Prob: {target_image_pred_probs.max().cpu():.3f}\"\n",
        "    plt.title(title)\n",
        "    plt.axis(False)\n",
        "\n",
        "def set_seeds(seed: int=42):\n",
        "    \"\"\"Sets random sets for torch operations.\n",
        "\n",
        "    Args:\n",
        "        seed (int, optional): Random seed to set. Defaults to 42.\n",
        "    \"\"\"\n",
        "    # Set the seed for general torch operations\n",
        "    torch.manual_seed(seed)\n",
        "    # Set the seed for CUDA torch operations (ones that happen on the GPU)\n",
        "    torch.cuda.manual_seed(seed)\n",
        "\n",
        "def download_data(source: str,\n",
        "                  destination: str,\n",
        "                  remove_source: bool = True) -> Path:\n",
        "    \"\"\"Downloads a zipped dataset from source and unzips to destination.\n",
        "\n",
        "    Args:\n",
        "        source (str): A link to a zipped file containing data.\n",
        "        destination (str): A target directory to unzip data to.\n",
        "        remove_source (bool): Whether to remove the source after downloading and extracting.\n",
        "\n",
        "    Returns:\n",
        "        pathlib.Path to downloaded data.\n",
        "\n",
        "    Example usage:\n",
        "        download_data(source=\"https://github.com/mrdbourke/pytorch-deep-learning/raw/main/data/pizza_steak_sushi.zip\",\n",
        "                      destination=\"pizza_steak_sushi\")\n",
        "    \"\"\"\n",
        "    # Setup path to data folder\n",
        "    data_path = Path(\"data/\")\n",
        "    image_path = data_path / destination\n",
        "\n",
        "    # If the image folder doesn't exist, download it and prepare it...\n",
        "    if image_path.is_dir():\n",
        "        print(f\"[INFO] {image_path} directory exists, skipping download.\")\n",
        "    else:\n",
        "        print(f\"[INFO] Did not find {image_path} directory, creating one...\")\n",
        "        image_path.mkdir(parents=True, exist_ok=True)\n",
        "\n",
        "        # Download pizza, steak, sushi data\n",
        "        target_file = Path(source).name\n",
        "        with open(data_path / target_file, \"wb\") as f:\n",
        "            request = requests.get(source)\n",
        "            print(f\"[INFO] Downloading {target_file} from {source}...\")\n",
        "            f.write(request.content)\n",
        "\n",
        "        # Unzip pizza, steak, sushi data\n",
        "        with zipfile.ZipFile(data_path / target_file, \"r\") as zip_ref:\n",
        "            print(f\"[INFO] Unzipping {target_file} data...\")\n",
        "            zip_ref.extractall(image_path)\n",
        "\n",
        "        # Remove .zip file\n",
        "        if remove_source:\n",
        "            os.remove(data_path / target_file)\n",
        "\n",
        "    return image_path"
      ],
      "metadata": {
        "colab": {
          "base_uri": "https://localhost:8080/"
        },
        "id": "w1pMds2mkqj9",
        "outputId": "4e94da1d-36ce-4813-8fd7-da5e63cc6d78"
      },
      "execution_count": 3,
      "outputs": [
        {
          "output_type": "stream",
          "name": "stdout",
          "text": [
            "Writing scripts/helper_functions.py\n"
          ]
        }
      ]
    },
    {
      "cell_type": "markdown",
      "source": [
        "## Data Setup\n",
        "\n",
        "we'll be using `CIFAR10` dataset from torchvision Library:\n",
        "https://docs.pytorch.org/vision/main/generated/torchvision.datasets.CIFAR10.html\n",
        "\n",
        "The `CIFAR-10` dataset consists of 60000 32x32 colour images in 10 classes, with 6000 images per class. There are 50000 training images and 10000 test images.\n",
        "\n",
        "The dataset is divided into five training batches and one test batch, each with 10000 images. The test batch contains exactly 1000 randomly-selected images from each class. The training batches contain the remaining images in random order, but some training batches may contain more images from one class than another. Between them, the training batches contain exactly 5000 images from each class."
      ],
      "metadata": {
        "id": "LHKvNSXKvDSk"
      }
    },
    {
      "cell_type": "code",
      "source": [
        "# Continue with regular imports\n",
        "import matplotlib.pyplot as plt\n",
        "import torch\n",
        "import torchvision\n",
        "\n",
        "from torch import nn\n",
        "from torchvision import transforms\n",
        "\n",
        "# Load the Scripts file\n",
        "# from scripts import data_setup, engine, utils, predictions"
      ],
      "metadata": {
        "id": "wEHWWAmOvGAY"
      },
      "execution_count": 4,
      "outputs": []
    },
    {
      "cell_type": "code",
      "source": [
        "import os\n",
        "os.cpu_count()"
      ],
      "metadata": {
        "colab": {
          "base_uri": "https://localhost:8080/"
        },
        "id": "FSVE-yFEwtKs",
        "outputId": "d1006c30-1daa-4a32-a91e-9c10efd64533"
      },
      "execution_count": 5,
      "outputs": [
        {
          "output_type": "execute_result",
          "data": {
            "text/plain": [
              "12"
            ]
          },
          "metadata": {},
          "execution_count": 5
        }
      ]
    },
    {
      "cell_type": "markdown",
      "source": [
        "### 1.1 Prepare transforms for images"
      ],
      "metadata": {
        "id": "iZ6w4v30DleI"
      }
    },
    {
      "cell_type": "code",
      "source": [
        "# Create image size (from Table 3 in the ViT paper)\n",
        "IMG_SIZE = 224\n",
        "\n",
        "# Create transform pipeline manually\n",
        "manual_transforms = transforms.Compose([\n",
        "    transforms.Resize((IMG_SIZE, IMG_SIZE)),\n",
        "    transforms.ToTensor(),\n",
        "])\n",
        "print(f\"Manually created transforms: {manual_transforms}\")"
      ],
      "metadata": {
        "colab": {
          "base_uri": "https://localhost:8080/"
        },
        "id": "qSpDx2oxDyp1",
        "outputId": "bf0ecd93-a22d-4fbb-c082-f71077b244e6"
      },
      "execution_count": 6,
      "outputs": [
        {
          "output_type": "stream",
          "name": "stdout",
          "text": [
            "Manually created transforms: Compose(\n",
            "    Resize(size=(224, 224), interpolation=bilinear, max_size=None, antialias=True)\n",
            "    ToTensor()\n",
            ")\n"
          ]
        }
      ]
    },
    {
      "cell_type": "markdown",
      "source": [
        "### 1.2 Get Train and Test Datasets"
      ],
      "metadata": {
        "id": "QLf8j8ocEK4s"
      }
    },
    {
      "cell_type": "code",
      "source": [
        "train_data = torchvision.datasets.CIFAR10(root=\".\",\n",
        "                                        train=True,\n",
        "                                        download=True,\n",
        "                                        transform=manual_transforms\n",
        "                                        )\n",
        "test_data = torchvision.datasets.CIFAR10(root=\".\",\n",
        "                                        train=False,\n",
        "                                        download=True,\n",
        "                                        transform=manual_transforms\n",
        "                                        )\n",
        "len(train_data), len(test_data)"
      ],
      "metadata": {
        "colab": {
          "base_uri": "https://localhost:8080/"
        },
        "id": "I5C79HVM-3Zq",
        "outputId": "6454beba-88de-4a80-d7e7-33552eb6c7f5"
      },
      "execution_count": 7,
      "outputs": [
        {
          "output_type": "stream",
          "name": "stderr",
          "text": [
            "100%|██████████| 170M/170M [00:01<00:00, 99.5MB/s]\n"
          ]
        },
        {
          "output_type": "execute_result",
          "data": {
            "text/plain": [
              "(50000, 10000)"
            ]
          },
          "metadata": {},
          "execution_count": 7
        }
      ]
    },
    {
      "cell_type": "markdown",
      "source": [
        "### 2.3 Select random 10% of training and test data.\n",
        "\n",
        "As the main goal is to replicate the paper not the accuracy measurement, we'll be using only 10% of the data randomly."
      ],
      "metadata": {
        "id": "ax_cCUp8IbF2"
      }
    },
    {
      "cell_type": "code",
      "source": [
        "from torch.utils.data import random_split\n",
        "\n",
        "\n",
        "# 1. Calculate the size of the 10% subset\n",
        "total_size_train = len(train_data)\n",
        "total_size_test = len(test_data)\n",
        "\n",
        "train_data_10_percent = int(0.1 * total_size_train) # 10% of the total train data\n",
        "test_data_10_percent = int(0.1 * total_size_test) # 10% of the total train data\n",
        "remaining_size_train = total_size_train - train_data_10_percent\n",
        "remaining_size_test = total_size_test - test_data_10_percent\n",
        "\n",
        "# 2. Create a random split of the dataset\n",
        "#    The dataset will be split into two parts: 10% for your subset and the remaining 90%.\n",
        "train_data_subset, _ = random_split(train_data, [train_data_10_percent, remaining_size_train])\n",
        "test_data_subset, _ = random_split(test_data, [test_data_10_percent, remaining_size_test])\n",
        "\n",
        "# Now 'subset_dataset' contains 10% of the original STL10 training data.\n",
        "# We can use this 'subset_dataset' with a DataLoader for your training or evaluation.\n",
        "print(f\"Total STL10 training dataset size: {total_size_train} Size of the 10% subset: {len(train_data_subset)}\")\n",
        "print(f\"Total STL10 testing dataset size: {total_size_test} Size of the 10% subset: {len(test_data_subset)}\")"
      ],
      "metadata": {
        "colab": {
          "base_uri": "https://localhost:8080/"
        },
        "id": "TWvJLLYoEM5t",
        "outputId": "078febcb-cd8f-47ad-c5e9-746348efd170"
      },
      "execution_count": 8,
      "outputs": [
        {
          "output_type": "stream",
          "name": "stdout",
          "text": [
            "Total STL10 training dataset size: 50000 Size of the 10% subset: 5000\n",
            "Total STL10 testing dataset size: 10000 Size of the 10% subset: 1000\n"
          ]
        }
      ]
    },
    {
      "cell_type": "markdown",
      "source": [
        "### 2.4 Turn images into `DataLoader`'s\n",
        "\n",
        "Transforms created!\n",
        "\n",
        "Let's now create our DataLoader's.\n",
        "\n",
        "The ViT paper states the use of a batch size of 4096.\n",
        "\n",
        "However, we're going to stick with a batch size of 32.\n",
        "\n",
        "**Why?**\n",
        "\n",
        "Because some hardware (including the free tier of Google Colab) may not be able to handle a batch size of 4096.\n",
        "\n",
        "Having a batch size of 4096 means that 4096 images need to fit into the GPU memory at a time.\n",
        "\n",
        "This works when you've got the hardware to handle it like a research team from Google often does but when you're running on a single GPU (such as using Google Colab), making sure things work with smaller batch size first is a good idea.\n",
        "\n",
        "An extension of this project could be to try a higher batch size value and see what happens."
      ],
      "metadata": {
        "id": "9gMr6wpmJC8J"
      }
    },
    {
      "cell_type": "code",
      "source": [
        "import os\n",
        "\n",
        "\n",
        "# Set the batch size\n",
        "BATCH_SIZE = 32 # this is lower than the ViT paper but it's because we're starting small\n",
        "NUM_WORKERS = os.cpu_count()\n",
        "\n",
        "# Create data loaders\n",
        "train_dataloader = torch.utils.data.DataLoader(dataset=train_data_subset,\n",
        "                                               batch_size=BATCH_SIZE,\n",
        "                                               shuffle=True,\n",
        "                                               num_workers=NUM_WORKERS,\n",
        "                                               pin_memory=True)\n",
        "\n",
        "test_dataloader = torch.utils.data.DataLoader(dataset=test_data_subset,\n",
        "                                               batch_size=BATCH_SIZE,\n",
        "                                               shuffle=True,\n",
        "                                               num_workers=NUM_WORKERS,\n",
        "                                               pin_memory=True)\n",
        "\n",
        "print(f\"Dataloaders: {train_dataloader, test_dataloader}\")\n",
        "print(f\"Length of train dataloader: {len(train_dataloader)} batches of {BATCH_SIZE}\")\n",
        "print(f\"Length of test dataloader: {len(test_dataloader)} batches of {BATCH_SIZE}\")"
      ],
      "metadata": {
        "colab": {
          "base_uri": "https://localhost:8080/"
        },
        "id": "t9W8YhljKlwP",
        "outputId": "54e329aa-fdf8-4e9f-e8a1-397e2fa1943c"
      },
      "execution_count": 9,
      "outputs": [
        {
          "output_type": "stream",
          "name": "stdout",
          "text": [
            "Dataloaders: (<torch.utils.data.dataloader.DataLoader object at 0x793dd01144d0>, <torch.utils.data.dataloader.DataLoader object at 0x793ccaa03150>)\n",
            "Length of train dataloader: 157 batches of 32\n",
            "Length of test dataloader: 32 batches of 32\n"
          ]
        }
      ]
    },
    {
      "cell_type": "markdown",
      "source": [
        "### 2.3 Visualize a single image\n",
        "Now we've loaded our data, let's visualize! it\n",
        "\n",
        "An important step in the `ViT` paper is preparing the images into patches.\n",
        "\n"
      ],
      "metadata": {
        "id": "HVmHHTvsML2k"
      }
    },
    {
      "cell_type": "code",
      "source": [
        "# Get a batch of images\n",
        "image_batch, label_batch = next(iter(train_dataloader))\n",
        "\n",
        "# Get a single image from the batch\n",
        "image, label = image_batch[0], label_batch[0]\n",
        "\n",
        "# View the batch shapes\n",
        "image.shape, label"
      ],
      "metadata": {
        "colab": {
          "base_uri": "https://localhost:8080/"
        },
        "id": "AYQiz7PBNHoC",
        "outputId": "afacc063-1662-4bf7-c5c2-8cbb587c5203"
      },
      "execution_count": 10,
      "outputs": [
        {
          "output_type": "execute_result",
          "data": {
            "text/plain": [
              "(torch.Size([3, 224, 224]), tensor(7))"
            ]
          },
          "metadata": {},
          "execution_count": 10
        }
      ]
    },
    {
      "cell_type": "markdown",
      "source": [
        "Now let's plot the image and its label with matplotlib.\n"
      ],
      "metadata": {
        "id": "LPSti0SMNgxc"
      }
    },
    {
      "cell_type": "code",
      "source": [
        "class_names = train_data.classes\n",
        "# Plot image with matplotlib\n",
        "plt.imshow(image.permute(1, 2, 0)) # rearrange image dimensions to suit matplotlib [color_channels, height, width] -> [height, width, color_channels]\n",
        "plt.title(class_names[label])\n",
        "plt.axis(False);"
      ],
      "metadata": {
        "colab": {
          "base_uri": "https://localhost:8080/",
          "height": 428
        },
        "id": "192AoYDENY5g",
        "outputId": "d0b0cd6b-a15e-4f33-de43-508a214d81f8"
      },
      "execution_count": 11,
      "outputs": [
        {
          "output_type": "display_data",
          "data": {
            "text/plain": [
              "<Figure size 640x480 with 1 Axes>"
            ],
            "image/png": "[encoded data removed]"
          },
          "metadata": {}
        }
      ]
    },
    {
      "cell_type": "markdown",
      "source": [
        "Nice!\n",
        "\n",
        "Looks like our images are importing correctly, let's continue with the paper replication.\n",
        "\n"
      ],
      "metadata": {
        "id": "gy0PJ60eOZrW"
      }
    },
    {
      "cell_type": "markdown",
      "source": [
        "## 2. Replicating the ViT paper: an overview\n",
        "We'd like to replicate the ViT paper for our own problem, `CIFAR10` Datasets.\n",
        "\n",
        "So our model inputs are: images of 10 classes contained in this dataset.\n",
        "\n"
      ],
      "metadata": {
        "id": "NROBBzwyNjGA"
      }
    },
    {
      "cell_type": "markdown",
      "source": [
        "### 2.1 Inputs and outputs, layers and blocks\n",
        "`ViT` is a deep learning neural network architecture.\n",
        "\n",
        "And any neural network architecture is generally comprised of layers.\n",
        "\n",
        "And a collection of layers is often referred to as a block.\n",
        "\n",
        "And stacking many blocks together is what gives us the whole architecture.\n",
        "\n",
        "A layer takes an input (say an image tensor), performs some kind of function on it (for example what's in the layer's `forward()` method) and then returns an output.\n",
        "\n",
        "So if a single layer takes an input and gives an output, then a collection of layers or a block also takes an input and gives an output.\n",
        "\n",
        "Let's make this concrete:\n",
        "\n",
        "  > **Layer** - takes an input, performs a function on it, returns an output.\n",
        "\n",
        "  > **Block** - a collection of layers, takes an input, performs a series of functions on it, returns an output.\n",
        "\n",
        "  > **Architecture (or model)** - a collection of blocks, takes an input, performs a series of functions on it, returns an output.\n",
        "\n",
        "This ideology is what we're going to be using to replicate the `ViT` paper.\n",
        "\n",
        "We're going to take it layer by layer, block by block, function by function putting the pieces of the puzzle together like Lego to get our desired overall architecture.\n",
        "\n",
        "The reason we do this is because looking at a whole research paper can be intimidating.\n",
        "\n",
        "So for a better understanding, we'll break it down, starting with the inputs and outputs of single layer and working up to the inputs and outputs of the whole model.\n",
        "\n",
        "![](https://raw.githubusercontent.com/mrdbourke/pytorch-deep-learning/main/images/08-vit-paper-intputs-outputs-layers-and-blocks.png)"
      ],
      "metadata": {
        "id": "wl4s3x0lOi_C"
      }
    },
    {
      "cell_type": "markdown",
      "source": [
        " ### 2.2 Getting specific: What's ViT made of?\n",
        " There are many little details about the ViT model sprinkled throughout the paper.\n",
        "\n",
        "Finding them all is like one big treasure hunt!\n",
        "\n",
        "Remember, a research paper is often months of work compressed into a few pages so it's understandable for it to take of practice to replicate.\n",
        "\n",
        "However, the main three resources we'll be looking at for the architecture design are:\n",
        "\n",
        "* **Figure 1** - This gives an overview of the model in a graphical sense, you could almost recreate the architecture with this figure alone.\n",
        "* **Four equations in section 3.1** - These equations give a little bit more of a mathematical grounding to the coloured blocks in Figure 1.\n",
        "\n",
        "* **Table 1** - This table shows the various hyperparameter settings (such as number of layers and number of hidden units) for different ViT model variants. We'll be focused on the smallest version, ViT-Base."
      ],
      "metadata": {
        "id": "T6JS6HgHPD7c"
      }
    },
    {
      "cell_type": "markdown",
      "source": [
        "#### 2.2.1 Exploring Figure 1\n",
        "\n",
        "\n",
        "![](https://raw.githubusercontent.com/mrdbourke/pytorch-deep-learning/main/images/08-vit-paper-figure-1-inputs-and-outputs.png)"
      ],
      "metadata": {
        "id": "jLmHHwViQT-K"
      }
    },
    {
      "cell_type": "markdown",
      "source": [
        "#### 2.2.2 Exploring the Four Equations\n",
        "The next main part(s) of the ViT paper we're going to look at are the four equations in section 3.1.\n",
        "\n",
        "![](https://raw.githubusercontent.com/mrdbourke/pytorch-deep-learning/main/images/08-vit-paper-four-equations.png)\n",
        "\n",
        "These four equations represent the math behind the four major parts of the ViT architecture."
      ],
      "metadata": {
        "id": "61-WopNFQuwI"
      }
    },
    {
      "cell_type": "markdown",
      "source": [
        "#### 2.2.3 Equation 1 overview\n",
        "\n",
        "$$ \\begin{aligned} \\mathbf{z}_{0} &=\\left[\\mathbf{x}_{\\text {class }} ; \\mathbf{x}_{p}^{1} \\mathbf{E} ; \\mathbf{x}_{p}^{2} \\mathbf{E} ; \\cdots ; \\mathbf{x}_{p}^{N} \\mathbf{E}\\right]+\\mathbf{E}_{\\text {pos }}, & & \\mathbf{E} \\in \\mathbb{R}^{\\left(P^{2} \\cdot C\\right) \\times D}, \\mathbf{E}_{\\text {pos }} \\in \\mathbb{R}^{(N+1) \\times D} \\end{aligned} $$\n",
        "\n",
        "This equation deals with the class token, patch embedding and position embedding ($\\mathbf{E}$ is for embedding) of the input image.\n",
        "\n",
        "In vector form, the embedding might look something like:\n",
        "\n",
        "```python\n",
        "x_input = [class_token, image_patch_1, image_patch_2, image_patch_3...] + [class_token_position, image_patch_1_position, image_patch_2_position, image_patch_3_position...]\n",
        "```\n",
        "\n",
        "Where each of the elements in the vector is learnable (their requires_grad=True).\n",
        "\n"
      ],
      "metadata": {
        "id": "7UAB41ZDRKNa"
      }
    },
    {
      "cell_type": "markdown",
      "source": [
        "#### 2.2.4 Equation 2 overview\n",
        "$$ \\begin{aligned} \\mathbf{z}_{\\ell}^{\\prime} &=\\operatorname{MSA}\\left(\\operatorname{LN}\\left(\\mathbf{z}_{\\ell-1}\\right)\\right)+\\mathbf{z}_{\\ell-1}, & & \\ell=1 \\ldots L \\end{aligned} $$\n",
        "\n",
        "This says that for every layer from $1$ through to $L$ (the total number of layers), there's a Multi-Head Attention layer (MSA) wrapping a LayerNorm layer (LN).\n",
        "\n",
        "The addition on the end is the equivalent of adding the input to the output and forming a skip/residual connection.\n",
        "\n",
        "We'll call this layer the \"MSA block\".\n",
        "\n",
        "In pseudocode, this might look like:\n",
        "```python\n",
        "x_output_MSA_block = MSA_layer(LN_layer(x_input)) + x_input\n",
        "```\n",
        "Notice the skip connection on the end (adding the input of the layers to the output of the layers).\n",
        "\n"
      ],
      "metadata": {
        "id": "D5czmUPURoQY"
      }
    },
    {
      "cell_type": "markdown",
      "source": [
        "#### 2.2.5 Equation 3 overview\n",
        "$$ \\begin{aligned} \\mathbf{z}_{\\ell} &=\\operatorname{MLP}\\left(\\operatorname{LN}\\left(\\mathbf{z}_{\\ell}^{\\prime}\\right)\\right)+\\mathbf{z}_{\\ell}^{\\prime}, & & \\ell=1 \\ldots L \\\\ \\end{aligned} $$\n",
        "\n",
        "This says that for every layer from $1$ through to $L$ (the total number of layers), there's also a Multilayer Perceptron layer (MLP) wrapping a LayerNorm layer (LN).\n",
        "\n",
        "The addition on the end is showing the presence of a skip/residual connection.\n",
        "\n",
        "We'll call this layer the \"MLP block\".\n",
        "\n",
        "In pseudocode, this might look like:\n",
        "```python\n",
        "x_output_MLP_block = MLP_layer(LN_layer(x_output_MSA_block)) + x_output_MSA_block\n",
        "```\n",
        "Notice the skip connection on the end (adding the input of the layers to the output of the layers).\n",
        "\n"
      ],
      "metadata": {
        "id": "ssCHNt06SAWe"
      }
    },
    {
      "cell_type": "markdown",
      "source": [
        "#### 2.2.6 Equation 4 overview\n",
        "$$ \\begin{aligned} \\mathbf{y} &=\\operatorname{LN}\\left(\\mathbf{z}_{L}^{0}\\right) & & \\end{aligned} $$\n",
        "\n",
        "This says for the last layer $L$, the output $y$ is the 0 index token of $z$ wrapped in a LayerNorm layer (LN).\n",
        "\n",
        "Or in our case, the 0 index of x_output_MLP_block:\n",
        "\n",
        "```python\n",
        "y = Linear_layer(LN_layer(x_output_MLP_block[0]))\n",
        "```"
      ],
      "metadata": {
        "id": "DwDCaO8aSsfd"
      }
    },
    {
      "cell_type": "markdown",
      "source": [
        "#### 2.2.7 Exploring Table 1\n",
        "The final piece of the ViT architecture puzzle we'll focus on (for now) is Table 1.\n",
        "\n",
        "| Model      | Layers | Hidden size $D$ | MLP size | Heads | Params  |\n",
        "|------------|--------|------------------|----------|--------|---------|\n",
        "| ViT-Base   | 12     | 768              | 3072     | 12     | $86M$   |\n",
        "| ViT-Large  | 24     | 1024             | 4096     | 16     | $307M$  |\n",
        "| ViT-Huge   | 32     | 1280             | 5120     | 16     | $632M$  |\n",
        "\n"
      ],
      "metadata": {
        "id": "VFgf971SS5zq"
      }
    },
    {
      "cell_type": "markdown",
      "source": [
        "## 3. Equation 1: Split data into patches and creating the class, position and patch embedding\n",
        "\n",
        "The standard Transformer receives as input a 1D sequence of token embeddings. To handle 2D images, we reshape the image $\\mathbf{x} \\in \\mathbb{R}^{H \\times W \\times C}$ into a sequence of flattened 2D patches $\\mathbf{x}_{p} \\in \\mathbb{R}^{N \\times\\left(P^{2} \\cdot C\\right)}$, where $(H, W)$ is the resolution of the original image, $C$ is the number of channels, $(P, P)$ is the resolution of each image patch, and $N=H W / P^{2}$ is the resulting number of patches, which also serves as the effective input sequence length for the Transformer. The Transformer uses constant latent vector size $D$ through all of its layers, so we flatten the patches and map to $D$ dimensions with a trainable linear projection (Eq. 1). We refer to the output of this projection as the patch embeddings.\n",
        "\n"
      ],
      "metadata": {
        "id": "YiPTJKHuUi4c"
      }
    },
    {
      "cell_type": "markdown",
      "source": [
        "### 3.1 Calculating patch embedding input and output shapes by hand"
      ],
      "metadata": {
        "id": "vrUN0oA-TJT0"
      }
    },
    {
      "cell_type": "markdown",
      "source": [
        "How about we start by calculating these input and output shape values by hand?\n",
        "\n",
        "To do so, let's create some variables to mimic each of the terms (such as $H$, $W$ etc) above.\n",
        "\n",
        "We'll use a patch size ($P$) of 16 since it's the best performing version of ViT-Base uses (see column \"ViT-B/16\" of Table 5 in the ViT paper for more)."
      ],
      "metadata": {
        "id": "Iy4Mgsm7TwEL"
      }
    },
    {
      "cell_type": "code",
      "source": [
        "# Create example values\n",
        "height = 224 # H (\"The training resolution is 224.\")\n",
        "width = 224 # W\n",
        "color_channels = 3 # C\n",
        "patch_size = 16 # P\n",
        "\n",
        "# Calculate N (number of patches)\n",
        "number_of_patches = int((height * width) / patch_size**2)\n",
        "print(f\"Number of patches (N) with image height (H={height}), width (W={width}) and patch size (P={patch_size}): {number_of_patches}\")"
      ],
      "metadata": {
        "colab": {
          "base_uri": "https://localhost:8080/"
        },
        "id": "cFW7qteLT1W6",
        "outputId": "c733d978-8887-4147-b470-7de907673504"
      },
      "execution_count": 12,
      "outputs": [
        {
          "output_type": "stream",
          "name": "stdout",
          "text": [
            "Number of patches (N) with image height (H=224), width (W=224) and patch size (P=16): 196\n"
          ]
        }
      ]
    },
    {
      "cell_type": "markdown",
      "source": [
        "We've got the number of patches, how about we create the image output size as well?\n",
        "\n",
        "Better yet, let's replicate the input and output shapes of the patch embedding layer.\n",
        "\n",
        "Recall:\n",
        "\n",
        "  1. **Input:** The image starts as 2D with size ${H \\times W \\times C}$.\n",
        "  2. **Output:** The image gets converted to a sequence of flattened 2D patches with size ${N \\times\\left(P^{2} \\cdot C\\right)}$.\n"
      ],
      "metadata": {
        "id": "FYswr-LeT4Mk"
      }
    },
    {
      "cell_type": "code",
      "source": [
        "# Input shape (this is the size of a single image)\n",
        "embedding_layer_input_shape = (height, width, color_channels)\n",
        "\n",
        "# Output shape\n",
        "embedding_layer_output_shape = (number_of_patches, patch_size**2 * color_channels)\n",
        "\n",
        "print(f\"Input shape (single 2D image): {embedding_layer_input_shape}\")\n",
        "print(f\"Output shape (single 2D image flattened into patches): {embedding_layer_output_shape}\")"
      ],
      "metadata": {
        "colab": {
          "base_uri": "https://localhost:8080/"
        },
        "id": "TP9tEpEvUCxi",
        "outputId": "a3cfb14b-4230-4e76-ee9d-244d3e7f6673"
      },
      "execution_count": 13,
      "outputs": [
        {
          "output_type": "stream",
          "name": "stdout",
          "text": [
            "Input shape (single 2D image): (224, 224, 3)\n",
            "Output shape (single 2D image flattened into patches): (196, 768)\n"
          ]
        }
      ]
    },
    {
      "cell_type": "markdown",
      "source": [
        "### 3.2 Turning a single image into patches\n",
        "Now we know the ideal input and output shapes for our patch embedding layer, let's move towards making it.\n",
        "\n",
        "Let's start with our single image."
      ],
      "metadata": {
        "id": "1L5ug2eWUQXg"
      }
    },
    {
      "cell_type": "code",
      "source": [
        "# View single image\n",
        "plt.imshow(image.permute(1, 2, 0)) # adjust for matplotlib\n",
        "plt.title(class_names[label])\n",
        "plt.axis(False);"
      ],
      "metadata": {
        "colab": {
          "base_uri": "https://localhost:8080/",
          "height": 428
        },
        "id": "BuIkhAnuVFim",
        "outputId": "e4abf8e3-a12b-4940-a9a1-3b246bf990b4"
      },
      "execution_count": 14,
      "outputs": [
        {
          "output_type": "display_data",
          "data": {
            "text/plain": [
              "<Figure size 640x480 with 1 Axes>"
            ],
            "image/png": "[encoded data removed]"
          },
          "metadata": {}
        }
      ]
    },
    {
      "cell_type": "markdown",
      "source": [
        "We want to turn this image into patches of itself inline with Figure 1 of the ViT paper.\n",
        "\n",
        "How about we start by just visualizing the top row of patched pixels?\n",
        "\n",
        "We can do this by indexing on the different image dimensions.\n",
        "\n"
      ],
      "metadata": {
        "id": "BM7pQ_jTVQki"
      }
    },
    {
      "cell_type": "code",
      "source": [
        "# Change image shape to be compatible with matplotlib (color_channels, height, width) -> (height, width, color_channels)\n",
        "image_permuted = image.permute(1, 2, 0)\n",
        "\n",
        "# Index to plot the top row of patched pixels\n",
        "patch_size = 16\n",
        "plt.figure(figsize=(patch_size, patch_size))\n",
        "plt.imshow(image_permuted[:patch_size, :, :]);"
      ],
      "metadata": {
        "colab": {
          "base_uri": "https://localhost:8080/",
          "height": 152
        },
        "id": "UpztSRLLVWsv",
        "outputId": "61859498-3aed-4d60-e709-fb9d03e1b67e"
      },
      "execution_count": 15,
      "outputs": [
        {
          "output_type": "display_data",
          "data": {
            "text/plain": [
              "<Figure size 1600x1600 with 1 Axes>"
            ],
            "image/png": "[encoded data removed]"
          },
          "metadata": {}
        }
      ]
    },
    {
      "cell_type": "markdown",
      "source": [
        "Now we've got the top row, let's turn it into patches.\n",
        "\n",
        "We can do this by iterating through the number of patches there'd be in the top row.\n"
      ],
      "metadata": {
        "id": "ZL9UimLgVZJa"
      }
    },
    {
      "cell_type": "code",
      "source": [
        "# Setup hyperparameters and make sure img_size and patch_size are compatible\n",
        "img_size = 224\n",
        "patch_size = 16\n",
        "num_patches = img_size/patch_size\n",
        "assert img_size % patch_size == 0, \"Image size must be divisible by patch size\"\n",
        "print(f\"Number of patches per row: {num_patches}\\nPatch size: {patch_size} pixels x {patch_size} pixels\")\n",
        "\n",
        "# Create a series of subplots\n",
        "fig, axs = plt.subplots(nrows=1,\n",
        "                        ncols=img_size // patch_size, # one column for each patch\n",
        "                        figsize=(num_patches, num_patches),\n",
        "                        sharex=True,\n",
        "                        sharey=True)\n",
        "\n",
        "# Iterate through number of patches in the top row\n",
        "for i, patch in enumerate(range(0, img_size, patch_size)):\n",
        "    axs[i].imshow(image_permuted[:patch_size, patch:patch+patch_size, :]); # keep height index constant, alter the width index\n",
        "    axs[i].set_xlabel(i+1) # set the label\n",
        "    axs[i].set_xticks([])\n",
        "    axs[i].set_yticks([])"
      ],
      "metadata": {
        "colab": {
          "base_uri": "https://localhost:8080/",
          "height": 156
        },
        "id": "01Kf31ycVfMp",
        "outputId": "10ea2a5e-25bb-4a20-b36e-ad6b54fabe82"
      },
      "execution_count": 16,
      "outputs": [
        {
          "output_type": "stream",
          "name": "stdout",
          "text": [
            "Number of patches per row: 14.0\n",
            "Patch size: 16 pixels x 16 pixels\n"
          ]
        },
        {
          "output_type": "display_data",
          "data": {
            "text/plain": [
              "<Figure size 1400x1400 with 14 Axes>"
            ],
            "image/png": "[encoded data removed]"
          },
          "metadata": {}
        }
      ]
    },
    {
      "cell_type": "markdown",
      "source": [
        "This time we'll iterate through the indexes for height and width and plot each patch as it's own subplot.\n",
        "\n"
      ],
      "metadata": {
        "id": "STNuUy-IVhS1"
      }
    },
    {
      "cell_type": "code",
      "source": [
        "# Setup hyperparameters and make sure img_size and patch_size are compatible\n",
        "img_size = 224\n",
        "patch_size = 16\n",
        "num_patches = img_size/patch_size\n",
        "assert img_size % patch_size == 0, \"Image size must be divisible by patch size\"\n",
        "print(f\"Number of patches per row: {num_patches}\\\n",
        "        \\nNumber of patches per column: {num_patches}\\\n",
        "        \\nTotal patches: {num_patches*num_patches}\\\n",
        "        \\nPatch size: {patch_size} pixels x {patch_size} pixels\")\n",
        "\n",
        "# Create a series of subplots\n",
        "fig, axs = plt.subplots(nrows=img_size // patch_size, # need int not float\n",
        "                        ncols=img_size // patch_size,\n",
        "                        figsize=(num_patches, num_patches),\n",
        "                        sharex=True,\n",
        "                        sharey=True)\n",
        "\n",
        "# Loop through height and width of image\n",
        "for i, patch_height in enumerate(range(0, img_size, patch_size)): # iterate through height\n",
        "    for j, patch_width in enumerate(range(0, img_size, patch_size)): # iterate through width\n",
        "\n",
        "        # Plot the permuted image patch (image_permuted -> (Height, Width, Color Channels))\n",
        "        axs[i, j].imshow(image_permuted[patch_height:patch_height+patch_size, # iterate through height\n",
        "                                        patch_width:patch_width+patch_size, # iterate through width\n",
        "                                        :]) # get all color channels\n",
        "\n",
        "        # Set up label information, remove the ticks for clarity and set labels to outside\n",
        "        axs[i, j].set_ylabel(i+1,\n",
        "                             rotation=\"horizontal\",\n",
        "                             horizontalalignment=\"right\",\n",
        "                             verticalalignment=\"center\")\n",
        "        axs[i, j].set_xlabel(j+1)\n",
        "        axs[i, j].set_xticks([])\n",
        "        axs[i, j].set_yticks([])\n",
        "        axs[i, j].label_outer()\n",
        "\n",
        "# Set a super title\n",
        "fig.suptitle(f\"{class_names[label]} -> Patchified\", fontsize=16)\n",
        "plt.show()"
      ],
      "metadata": {
        "colab": {
          "base_uri": "https://localhost:8080/",
          "height": 1000
        },
        "id": "6-Dq5YBbVls4",
        "outputId": "fa8b0dcf-f4bf-4489-bba4-a966e2fe9fec"
      },
      "execution_count": 17,
      "outputs": [
        {
          "output_type": "stream",
          "name": "stdout",
          "text": [
            "Number of patches per row: 14.0        \n",
            "Number of patches per column: 14.0        \n",
            "Total patches: 196.0        \n",
            "Patch size: 16 pixels x 16 pixels\n"
          ]
        },
        {
          "output_type": "display_data",
          "data": {
            "text/plain": [
              "<Figure size 1400x1400 with 196 Axes>"
            ],
            "image/png": "[encoded data removed]"
          },
          "metadata": {}
        }
      ]
    },
    {
      "cell_type": "markdown",
      "source": [
        "\n",
        "Image patchified!\n",
        "\n",
        "Woah, that looks cool.\n",
        "\n",
        "Now we have to turn each of these patches into an embedding and convert them into a sequence."
      ],
      "metadata": {
        "id": "p55n4WoqVoMK"
      }
    },
    {
      "cell_type": "markdown",
      "source": [
        "### 3.3 Creating image patches with torch.nn.Conv2d()"
      ],
      "metadata": {
        "id": "pSxwzB7mWBDQ"
      }
    },
    {
      "cell_type": "code",
      "source": [
        "from torch import nn\n",
        "\n",
        "# Set the patch size\n",
        "patch_size=16\n",
        "\n",
        "# Create the Conv2d layer with hyperparameters from the ViT paper\n",
        "conv2d = nn.Conv2d(in_channels=3, # number of color channels\n",
        "                   out_channels=768, # from Table 1: Hidden size D, this is the embedding size\n",
        "                   kernel_size=patch_size, # could also use (patch_size, patch_size)\n",
        "                   stride=patch_size,\n",
        "                   padding=0)"
      ],
      "metadata": {
        "id": "N8yVImIDWJXU"
      },
      "execution_count": 18,
      "outputs": []
    },
    {
      "cell_type": "code",
      "source": [
        "# View single image\n",
        "plt.imshow(image.permute(1, 2, 0)) # adjust for matplotlib\n",
        "plt.title(class_names[label])\n",
        "plt.axis(False);"
      ],
      "metadata": {
        "colab": {
          "base_uri": "https://localhost:8080/",
          "height": 428
        },
        "id": "TFaUTH5sXre9",
        "outputId": "c5fcf0c0-0ffb-4cc3-a991-444360901c9b"
      },
      "execution_count": 19,
      "outputs": [
        {
          "output_type": "display_data",
          "data": {
            "text/plain": [
              "<Figure size 640x480 with 1 Axes>"
            ],
            "image/png": "[encoded data removed]"
          },
          "metadata": {}
        }
      ]
    },
    {
      "cell_type": "code",
      "source": [
        "# Pass the image through the convolutional layer\n",
        "image_out_of_conv = conv2d(image.unsqueeze(0)) # add a single batch dimension (height, width, color_channels) -> (batch, height, width, color_channels)\n",
        "print(image_out_of_conv.shape)"
      ],
      "metadata": {
        "colab": {
          "base_uri": "https://localhost:8080/"
        },
        "id": "sYtga8e-XuG1",
        "outputId": "5f1fe245-c394-4e55-d752-89f397548ec0"
      },
      "execution_count": 20,
      "outputs": [
        {
          "output_type": "stream",
          "name": "stdout",
          "text": [
            "torch.Size([1, 768, 14, 14])\n"
          ]
        }
      ]
    },
    {
      "cell_type": "code",
      "source": [
        "# Plot random 5 convolutional feature maps\n",
        "import random\n",
        "random_indexes = random.sample(range(0, 758), k=5) # pick 5 numbers between 0 and the embedding size\n",
        "print(f\"Showing random convolutional feature maps from indexes: {random_indexes}\")\n",
        "\n",
        "# Create plot\n",
        "fig, axs = plt.subplots(nrows=1, ncols=5, figsize=(12, 12))\n",
        "\n",
        "# Plot random image feature maps\n",
        "for i, idx in enumerate(random_indexes):\n",
        "    image_conv_feature_map = image_out_of_conv[:, idx, :, :] # index on the output tensor of the convolutional layer\n",
        "    axs[i].imshow(image_conv_feature_map.squeeze().detach().numpy())\n",
        "    axs[i].set(xticklabels=[], yticklabels=[], xticks=[], yticks=[]);"
      ],
      "metadata": {
        "colab": {
          "base_uri": "https://localhost:8080/",
          "height": 214
        },
        "id": "hNH3j2hYXxrH",
        "outputId": "87c7f01d-1976-49e3-cd71-f473679e31a9"
      },
      "execution_count": 21,
      "outputs": [
        {
          "output_type": "stream",
          "name": "stdout",
          "text": [
            "Showing random convolutional feature maps from indexes: [259, 434, 3, 23, 176]\n"
          ]
        },
        {
          "output_type": "display_data",
          "data": {
            "text/plain": [
              "<Figure size 1200x1200 with 5 Axes>"
            ],
            "image/png": "[encoded data removed]"
          },
          "metadata": {}
        }
      ]
    },
    {
      "cell_type": "markdown",
      "source": [
        "Notice how the feature maps all kind of represent the original image, after visualizing a few more you can start to see the different major outlines and some major features.\n",
        "\n",
        "Let's check one out in numerical form.\n",
        "\n",
        "\n"
      ],
      "metadata": {
        "id": "mndeCYhgX086"
      }
    },
    {
      "cell_type": "code",
      "source": [
        "# Get a single feature map in tensor form\n",
        "single_feature_map = image_out_of_conv[:, 0, :, :]\n",
        "single_feature_map, single_feature_map.requires_grad"
      ],
      "metadata": {
        "colab": {
          "base_uri": "https://localhost:8080/"
        },
        "id": "PWlx0huVX-sG",
        "outputId": "b69e6b69-440c-49c0-87df-3e331ecbdb2e"
      },
      "execution_count": 22,
      "outputs": [
        {
          "output_type": "execute_result",
          "data": {
            "text/plain": [
              "(tensor([[[ 0.6876,  0.6905,  0.6871,  0.4738,  0.7965,  0.3301,  0.6089,\n",
              "            0.7325,  0.6915,  0.6891,  0.6891,  0.6891,  0.6891,  0.6891],\n",
              "          [ 0.6831,  0.6857,  0.6838,  0.3876,  0.1593,  0.3988,  0.1469,\n",
              "            0.8041,  0.6915,  0.6843,  0.6857,  0.6857,  0.6857,  0.6857],\n",
              "          [ 0.6831,  0.6857,  0.6772,  0.2207,  0.1696,  0.1769,  0.0562,\n",
              "            0.3062,  0.7057,  0.7374,  0.6936,  0.6860,  0.6857,  0.6857],\n",
              "          [ 0.6831,  0.6841,  0.5595,  0.4921,  0.3328,  0.2422,  0.2446,\n",
              "            0.1667,  0.3220,  0.3478,  0.5936,  0.7869,  0.6915,  0.6868],\n",
              "          [ 0.6830,  0.6873,  0.5245,  0.3578,  0.2592,  0.1420,  0.0992,\n",
              "            0.1014,  0.0739,  0.1342,  0.2033,  0.4243,  0.6791,  0.7677],\n",
              "          [ 0.6805,  0.6421,  0.4787,  0.4291,  0.3501,  0.1625,  0.1150,\n",
              "            0.1689,  0.0950,  0.0334,  0.0656,  0.0641,  0.2104,  0.5108],\n",
              "          [ 0.6318,  0.4348,  0.4628,  0.2812,  0.2393,  0.1574,  0.1371,\n",
              "            0.0889,  0.1084,  0.0130,  0.0411,  0.0392,  0.0250,  0.1326],\n",
              "          [ 0.3900,  0.2325,  0.4032,  0.2698,  0.0398,  0.1620,  0.4132,\n",
              "            0.3289, -0.0982,  0.1159,  0.0605,  0.0545,  0.0538,  0.1962],\n",
              "          [ 0.2537,  0.1517,  0.3997,  0.5215,  0.3582,  0.4962,  0.6554,\n",
              "            0.6706,  0.2171, -0.0345,  0.0366,  0.0597,  0.1284,  0.3156],\n",
              "          [ 0.6464,  0.5157,  0.6076,  0.5451,  0.6136,  0.6624,  0.6849,\n",
              "            0.6851,  0.6342,  0.0161,  0.0051,  0.0437,  0.1478,  0.3737],\n",
              "          [ 0.6879,  0.6093,  0.5107,  0.5855,  0.6709,  0.6967,  0.6869,\n",
              "            0.6901,  0.6841,  0.4418, -0.0168,  0.0337,  0.1670,  0.4694],\n",
              "          [ 0.4713,  0.5580,  0.6131,  0.6312,  0.6174,  0.6465,  0.6742,\n",
              "            0.6909,  0.6891,  0.4833,  0.0096,  0.0142,  0.1541,  0.4080],\n",
              "          [ 0.5150,  0.4591,  0.5218,  0.5838,  0.5893,  0.6251,  0.6215,\n",
              "            0.6735,  0.6808,  0.4989, -0.0577,  0.0103,  0.0861,  0.3079],\n",
              "          [ 0.4571,  0.4732,  0.4276,  0.4808,  0.5081,  0.5386,  0.5510,\n",
              "            0.5907,  0.6253,  0.6045,  0.0309, -0.0040,  0.0124,  0.0480]]],\n",
              "        grad_fn=<SliceBackward0>),\n",
              " True)"
            ]
          },
          "metadata": {},
          "execution_count": 22
        }
      ]
    },
    {
      "cell_type": "markdown",
      "source": [
        "### 3.4 Flattening the patch embedding with `torch.nn.Flatten()`\n",
        "\n",
        "Desired output (1D sequence of flattened 2D patches): (196, 768) -> (number of patches, embedding dimension) -> ${N \\times\\left(P^{2} \\cdot C\\right)}$\n"
      ],
      "metadata": {
        "id": "4WVogpiGYF7B"
      }
    },
    {
      "cell_type": "code",
      "source": [
        "# Current tensor shape\n",
        "print(f\"Current tensor shape: {image_out_of_conv.shape} -> [batch, embedding_dim, feature_map_height, feature_map_width]\")"
      ],
      "metadata": {
        "colab": {
          "base_uri": "https://localhost:8080/"
        },
        "id": "J5rHcL54YXdL",
        "outputId": "29d1ec20-65db-415d-90aa-f465a36dd447"
      },
      "execution_count": 23,
      "outputs": [
        {
          "output_type": "stream",
          "name": "stdout",
          "text": [
            "Current tensor shape: torch.Size([1, 768, 14, 14]) -> [batch, embedding_dim, feature_map_height, feature_map_width]\n"
          ]
        }
      ]
    },
    {
      "cell_type": "markdown",
      "source": [
        "Well we've got the 768 part ( $(P^{2} \\cdot C)$ ) but we still need the number of patches ($N$).\n",
        "\n",
        "Reading back through section 3.1 of the ViT paper it says (bold mine):\n",
        "\n",
        "  > *As a special case, the patches can have spatial size $1 \\times 1$, which means that the input sequence is obtained by simply flattening the spatial dimensions of the feature map and projecting to the Transformer dimension.*\n",
        "\n"
      ],
      "metadata": {
        "id": "pnnUXSbQYgzT"
      }
    },
    {
      "cell_type": "code",
      "source": [
        "# Create flatten layer\n",
        "flatten = nn.Flatten(start_dim=2, # flatten feature_map_height (dimension 2)\n",
        "                     end_dim=3) # flatten feature_map_width (dimension 3)"
      ],
      "metadata": {
        "id": "tBezvY-YYpqk"
      },
      "execution_count": 24,
      "outputs": []
    },
    {
      "cell_type": "markdown",
      "source": [
        "Nice! Now let's put it all together!\n",
        "\n",
        "We'll:\n",
        "\n",
        "1. Take a single image.\n",
        "2. Put in through the convolutional layer (conv2d) to turn the image into 2D feature maps (patch embeddings).\n",
        "3. Flatten the 2D feature map into a single sequence.\n"
      ],
      "metadata": {
        "id": "1AQwkyK7Y3xs"
      }
    },
    {
      "cell_type": "code",
      "source": [
        "# 1. View single image\n",
        "plt.imshow(image.permute(1, 2, 0)) # adjust for matplotlib\n",
        "plt.title(class_names[label])\n",
        "plt.axis(False);\n",
        "print(f\"Original image shape: {image.shape}\")\n",
        "\n",
        "# 2. Turn image into feature maps\n",
        "image_out_of_conv = conv2d(image.unsqueeze(0)) # add batch dimension to avoid shape errors\n",
        "print(f\"Image feature map shape: {image_out_of_conv.shape}\")\n",
        "\n",
        "# 3. Flatten the feature maps\n",
        "image_out_of_conv_flattened = flatten(image_out_of_conv)\n",
        "print(f\"Flattened image feature map shape: {image_out_of_conv_flattened.shape}\")"
      ],
      "metadata": {
        "colab": {
          "base_uri": "https://localhost:8080/",
          "height": 480
        },
        "id": "PDHikTyLY77n",
        "outputId": "74c3ee76-1ca5-4103-eb25-59e6b55a4241"
      },
      "execution_count": 25,
      "outputs": [
        {
          "output_type": "stream",
          "name": "stdout",
          "text": [
            "Original image shape: torch.Size([3, 224, 224])\n",
            "Image feature map shape: torch.Size([1, 768, 14, 14])\n",
            "Flattened image feature map shape: torch.Size([1, 768, 196])\n"
          ]
        },
        {
          "output_type": "display_data",
          "data": {
            "text/plain": [
              "<Figure size 640x480 with 1 Axes>"
            ],
            "image/png": "[encoded data removed]"
          },
          "metadata": {}
        }
      ]
    },
    {
      "cell_type": "markdown",
      "source": [
        "Woohoo! It looks like our `image_out_of_conv_flattened` shape is very close to our desired output shape:\n",
        "\n",
        "> Desired output (flattened 2D patches): (196, 768) -> ${N \\times\\left(P^{2} \\cdot C\\right)}$\n",
        "\n",
        "> Current shape: (1, 768, 196)\n",
        "\n",
        "The only difference is our current shape has a batch size and the dimensions are in a different order to the desired output.\n",
        "\n",
        "We can do so with torch.Tensor.permute() just like we do when rearranging image tensors to plot them with matplotlib.\n",
        "\n"
      ],
      "metadata": {
        "id": "IMxGqrvuZBvW"
      }
    },
    {
      "cell_type": "code",
      "source": [
        "# Get flattened image patch embeddings in right shape\n",
        "image_out_of_conv_flattened_reshaped = image_out_of_conv_flattened.permute(0, 2, 1) # [batch_size, P^2•C, N] -> [batch_size, N, P^2•C]\n",
        "print(f\"Patch embedding sequence shape: {image_out_of_conv_flattened_reshaped.shape} -> [batch_size, num_patches, embedding_size]\")"
      ],
      "metadata": {
        "colab": {
          "base_uri": "https://localhost:8080/"
        },
        "id": "5HyLT8zUZIlo",
        "outputId": "cbc4d776-c8f4-4324-baf8-42360d9c36d7"
      },
      "execution_count": 26,
      "outputs": [
        {
          "output_type": "stream",
          "name": "stdout",
          "text": [
            "Patch embedding sequence shape: torch.Size([1, 196, 768]) -> [batch_size, num_patches, embedding_size]\n"
          ]
        }
      ]
    },
    {
      "cell_type": "markdown",
      "source": [
        "We've now matched the desired input and output shapes for the patch embedding layer of the ViT architecture using a couple of PyTorch layers.\n",
        "\n",
        "How about we visualize one of the flattened feature maps?\n",
        "\n"
      ],
      "metadata": {
        "id": "-J01vTEVZVVI"
      }
    },
    {
      "cell_type": "code",
      "source": [
        "# Get a single flattened feature map\n",
        "single_flattened_feature_map = image_out_of_conv_flattened_reshaped[:, :, 0] # index: (batch_size, number_of_patches, embedding_dimension)\n",
        "\n",
        "# Plot the flattened feature map visually\n",
        "plt.figure(figsize=(22, 22))\n",
        "plt.imshow(single_flattened_feature_map.detach().numpy())\n",
        "plt.title(f\"Flattened feature map shape: {single_flattened_feature_map.shape}\")\n",
        "plt.axis(False);"
      ],
      "metadata": {
        "colab": {
          "base_uri": "https://localhost:8080/",
          "height": 64
        },
        "id": "1VYU3y5xZao1",
        "outputId": "ff6f49c7-82ae-40f1-a998-9a09c7279222"
      },
      "execution_count": 27,
      "outputs": [
        {
          "output_type": "display_data",
          "data": {
            "text/plain": [
              "<Figure size 2200x2200 with 1 Axes>"
            ],
            "image/png": "[encoded data removed]"
          },
          "metadata": {}
        }
      ]
    },
    {
      "cell_type": "markdown",
      "source": [
        "Hmm,\n",
        "\n",
        "the flattened feature map doesn't look like much visually, but that's not what we're concerned about, this is what will be the output of the patching embedding layer and the input to the rest of the ViT architecture.\n",
        "\n",
        " > Note: The original Transformer architecture was designed to work with text. The Vision Transformer architecture (ViT) had the goal of using the original Transformer for images. This is why the input to the ViT architecture is processed in the way it is. We're essentially taking a 2D image and formatting it so it appears as a 1D sequence of text.\n",
        "\n",
        "How about we view the flattened feature map in tensor form?\n",
        "\n",
        "\n"
      ],
      "metadata": {
        "id": "sFca3I_zZcC3"
      }
    },
    {
      "cell_type": "code",
      "source": [
        "# See the flattened feature map as a tensor\n",
        "single_flattened_feature_map, single_flattened_feature_map.requires_grad, single_flattened_feature_map.shape"
      ],
      "metadata": {
        "colab": {
          "base_uri": "https://localhost:8080/"
        },
        "id": "QEzpNoKMZlh6",
        "outputId": "ebf2eb18-78fc-4244-e90f-3c13166a5ab4"
      },
      "execution_count": 28,
      "outputs": [
        {
          "output_type": "execute_result",
          "data": {
            "text/plain": [
              "(tensor([[ 0.6876,  0.6905,  0.6871,  0.4738,  0.7965,  0.3301,  0.6089,  0.7325,\n",
              "           0.6915,  0.6891,  0.6891,  0.6891,  0.6891,  0.6891,  0.6831,  0.6857,\n",
              "           0.6838,  0.3876,  0.1593,  0.3988,  0.1469,  0.8041,  0.6915,  0.6843,\n",
              "           0.6857,  0.6857,  0.6857,  0.6857,  0.6831,  0.6857,  0.6772,  0.2207,\n",
              "           0.1696,  0.1769,  0.0562,  0.3062,  0.7057,  0.7374,  0.6936,  0.6860,\n",
              "           0.6857,  0.6857,  0.6831,  0.6841,  0.5595,  0.4921,  0.3328,  0.2422,\n",
              "           0.2446,  0.1667,  0.3220,  0.3478,  0.5936,  0.7869,  0.6915,  0.6868,\n",
              "           0.6830,  0.6873,  0.5245,  0.3578,  0.2592,  0.1420,  0.0992,  0.1014,\n",
              "           0.0739,  0.1342,  0.2033,  0.4243,  0.6791,  0.7677,  0.6805,  0.6421,\n",
              "           0.4787,  0.4291,  0.3501,  0.1625,  0.1150,  0.1689,  0.0950,  0.0334,\n",
              "           0.0656,  0.0641,  0.2104,  0.5108,  0.6318,  0.4348,  0.4628,  0.2812,\n",
              "           0.2393,  0.1574,  0.1371,  0.0889,  0.1084,  0.0130,  0.0411,  0.0392,\n",
              "           0.0250,  0.1326,  0.3900,  0.2325,  0.4032,  0.2698,  0.0398,  0.1620,\n",
              "           0.4132,  0.3289, -0.0982,  0.1159,  0.0605,  0.0545,  0.0538,  0.1962,\n",
              "           0.2537,  0.1517,  0.3997,  0.5215,  0.3582,  0.4962,  0.6554,  0.6706,\n",
              "           0.2171, -0.0345,  0.0366,  0.0597,  0.1284,  0.3156,  0.6464,  0.5157,\n",
              "           0.6076,  0.5451,  0.6136,  0.6624,  0.6849,  0.6851,  0.6342,  0.0161,\n",
              "           0.0051,  0.0437,  0.1478,  0.3737,  0.6879,  0.6093,  0.5107,  0.5855,\n",
              "           0.6709,  0.6967,  0.6869,  0.6901,  0.6841,  0.4418, -0.0168,  0.0337,\n",
              "           0.1670,  0.4694,  0.4713,  0.5580,  0.6131,  0.6312,  0.6174,  0.6465,\n",
              "           0.6742,  0.6909,  0.6891,  0.4833,  0.0096,  0.0142,  0.1541,  0.4080,\n",
              "           0.5150,  0.4591,  0.5218,  0.5838,  0.5893,  0.6251,  0.6215,  0.6735,\n",
              "           0.6808,  0.4989, -0.0577,  0.0103,  0.0861,  0.3079,  0.4571,  0.4732,\n",
              "           0.4276,  0.4808,  0.5081,  0.5386,  0.5510,  0.5907,  0.6253,  0.6045,\n",
              "           0.0309, -0.0040,  0.0124,  0.0480]], grad_fn=<SelectBackward0>),\n",
              " True,\n",
              " torch.Size([1, 196]))"
            ]
          },
          "metadata": {},
          "execution_count": 28
        }
      ]
    },
    {
      "cell_type": "markdown",
      "source": [
        "We've turned our single 2D image into a 1D learnable embedding vector (or \"Linear Projection of Flattened Patches\" in Figure 1 of the ViT paper).\n",
        "\n"
      ],
      "metadata": {
        "id": "cXBvCmWLZwp2"
      }
    },
    {
      "cell_type": "markdown",
      "source": [
        "### 3.5 Turning the ViT patch embedding layer into a PyTorch module\n",
        "Time to put everything we've done for creating the patch embedding into a single PyTorch layer.\n",
        "\n",
        "We can do so by subclassing nn.Module and creating a small PyTorch \"model\" to do all of the steps above.\n",
        "\n"
      ],
      "metadata": {
        "id": "bzg8JWpoZ07j"
      }
    },
    {
      "cell_type": "code",
      "source": [
        "# 1. Create a class which subclasses nn.Module\n",
        "class PatchEmbedding(nn.Module):\n",
        "    \"\"\"Turns a 2D input image into a 1D sequence learnable embedding vector.\n",
        "\n",
        "    Args:\n",
        "        in_channels (int): Number of color channels for the input images. Defaults to 3.\n",
        "        patch_size (int): Size of patches to convert input image into. Defaults to 16.\n",
        "        embedding_dim (int): Size of embedding to turn image into. Defaults to 768.\n",
        "    \"\"\"\n",
        "    # 2. Initialize the class with appropriate variables\n",
        "    def __init__(self,\n",
        "                 in_channels:int=3,\n",
        "                 patch_size:int=16,\n",
        "                 embedding_dim:int=768):\n",
        "        super().__init__()\n",
        "\n",
        "        # 3. Create a layer to turn an image into patches\n",
        "        self.patcher = nn.Conv2d(in_channels=in_channels,\n",
        "                                 out_channels=embedding_dim,\n",
        "                                 kernel_size=patch_size,\n",
        "                                 stride=patch_size,\n",
        "                                 padding=0)\n",
        "\n",
        "        # 4. Create a layer to flatten the patch feature maps into a single dimension\n",
        "        self.flatten = nn.Flatten(start_dim=2, # only flatten the feature map dimensions into a single vector\n",
        "                                  end_dim=3)\n",
        "\n",
        "    # 5. Define the forward method\n",
        "    def forward(self, x):\n",
        "        # Create assertion to check that inputs are the correct shape\n",
        "        image_resolution = x.shape[-1]\n",
        "        assert image_resolution % patch_size == 0, f\"Input image size must be divisible by patch size, image shape: {image_resolution}, patch size: {patch_size}\"\n",
        "\n",
        "        # Perform the forward pass\n",
        "        x_patched = self.patcher(x)\n",
        "        x_flattened = self.flatten(x_patched)\n",
        "        # 6. Make sure the output shape has the right order\n",
        "        return x_flattened.permute(0, 2, 1) # adjust so the embedding is on the final dimension [batch_size, P^2•C, N] -> [batch_size, N, P^2•C]"
      ],
      "metadata": {
        "id": "gpnptz99Z49-"
      },
      "execution_count": 29,
      "outputs": []
    },
    {
      "cell_type": "markdown",
      "source": [
        "\n",
        "PatchEmbedding layer created!\n",
        "\n",
        "Let's try it out on a single image."
      ],
      "metadata": {
        "id": "M8inAGxUaH4X"
      }
    },
    {
      "cell_type": "code",
      "source": [
        "torch.manual_seed(42)\n",
        "torch.cuda.manual_seed(42)\n",
        "\n",
        "# Create an instance of patch embedding layer\n",
        "patchify = PatchEmbedding(in_channels=3,\n",
        "                          patch_size=16,\n",
        "                          embedding_dim=768)\n",
        "\n",
        "# Pass a single image through\n",
        "print(f\"Input image shape: {image.unsqueeze(0).shape}\")\n",
        "patch_embedded_image = patchify(image.unsqueeze(0)) # add an extra batch dimension on the 0th index, otherwise will error\n",
        "print(f\"Output patch embedding shape: {patch_embedded_image.shape}\")"
      ],
      "metadata": {
        "colab": {
          "base_uri": "https://localhost:8080/"
        },
        "id": "D1jAdw6QaLXu",
        "outputId": "ece8531a-d01b-4597-9b6d-92595f8a67fb"
      },
      "execution_count": 30,
      "outputs": [
        {
          "output_type": "stream",
          "name": "stdout",
          "text": [
            "Input image shape: torch.Size([1, 3, 224, 224])\n",
            "Output patch embedding shape: torch.Size([1, 196, 768])\n"
          ]
        }
      ]
    },
    {
      "cell_type": "markdown",
      "source": [
        "The output shape matches the ideal input and output shapes we'd like to see from the patch embedding layer:\n",
        "\n",
        "Input: The image starts as 2D with size ${H \\times W \\times C}$.\n",
        "Output: The image gets converted to a 1D sequence of flattened 2D patches with size ${N \\times\\left(P^{2} \\cdot C\\right)}$.\n",
        "\n",
        "Let's now get a summary of our PatchEmbedding layer.\n",
        "\n"
      ],
      "metadata": {
        "id": "A86CDqN0aS8q"
      }
    },
    {
      "cell_type": "code",
      "source": [
        "!pip install torchinfo"
      ],
      "metadata": {
        "colab": {
          "base_uri": "https://localhost:8080/"
        },
        "id": "NrelSCUXan0d",
        "outputId": "c1b7bc44-c719-4c42-9d46-d83d50439623"
      },
      "execution_count": 31,
      "outputs": [
        {
          "output_type": "stream",
          "name": "stdout",
          "text": [
            "Collecting torchinfo\n",
            "  Downloading torchinfo-1.8.0-py3-none-any.whl.metadata (21 kB)\n",
            "Downloading torchinfo-1.8.0-py3-none-any.whl (23 kB)\n",
            "Installing collected packages: torchinfo\n",
            "Successfully installed torchinfo-1.8.0\n"
          ]
        }
      ]
    },
    {
      "cell_type": "code",
      "source": [
        "from torchinfo import summary\n",
        "# Create random input sizes\n",
        "random_input_image = (1, 3, 224, 224)\n",
        "random_input_image_error = (1, 3, 250, 250) # will error because image size is incompatible with patch_size\n",
        "\n",
        "# # Get a summary of the input and outputs of PatchEmbedding\n",
        "summary(PatchEmbedding(),\n",
        "        input_size=random_input_image, # try swapping this for \"random_input_image_error\"\n",
        "        col_names=[\"input_size\", \"output_size\", \"num_params\", \"trainable\"],\n",
        "        col_width=20,\n",
        "        row_settings=[\"var_names\"])"
      ],
      "metadata": {
        "colab": {
          "base_uri": "https://localhost:8080/"
        },
        "id": "dhTnxttgaZI4",
        "outputId": "b61637ab-a0a1-4fd4-cf3b-4f974b11ed5e"
      },
      "execution_count": 32,
      "outputs": [
        {
          "output_type": "execute_result",
          "data": {
            "text/plain": [
              "========================================================================================================================\n",
              "Layer (type (var_name))                  Input Shape          Output Shape         Param #              Trainable\n",
              "========================================================================================================================\n",
              "PatchEmbedding (PatchEmbedding)          [1, 3, 224, 224]     [1, 196, 768]        --                   True\n",
              "├─Conv2d (patcher)                       [1, 3, 224, 224]     [1, 768, 14, 14]     590,592              True\n",
              "├─Flatten (flatten)                      [1, 768, 14, 14]     [1, 768, 196]        --                   --\n",
              "========================================================================================================================\n",
              "Total params: 590,592\n",
              "Trainable params: 590,592\n",
              "Non-trainable params: 0\n",
              "Total mult-adds (Units.MEGABYTES): 115.76\n",
              "========================================================================================================================\n",
              "Input size (MB): 0.60\n",
              "Forward/backward pass size (MB): 1.20\n",
              "Params size (MB): 2.36\n",
              "Estimated Total Size (MB): 4.17\n",
              "========================================================================================================================"
            ]
          },
          "metadata": {},
          "execution_count": 32
        }
      ]
    },
    {
      "cell_type": "markdown",
      "source": [
        "### 3.6 Creating the class token embedding\n",
        "\n",
        "Okay we've made the image patch embedding, time to get to work on the class token embedding.\n",
        "\n",
        "Or $\\mathbf{x}_\\text {class }$ from equation 1.\n",
        "\n",
        "we need to \"preprend a learnable embedding to the sequence of embedded patches\".\n",
        "\n",
        "Let's start by viewing our sequence of embedded patches tensor (created in section 4.5) and its shape."
      ],
      "metadata": {
        "id": "M91fLmvkahwp"
      }
    },
    {
      "cell_type": "code",
      "source": [
        "# View the patch embedding and patch embedding shape\n",
        "print(patch_embedded_image)\n",
        "print(f\"Patch embedding shape: {patch_embedded_image.shape} -> [batch_size, number_of_patches, embedding_dimension]\")"
      ],
      "metadata": {
        "colab": {
          "base_uri": "https://localhost:8080/"
        },
        "id": "JZAFj4y8a3Mc",
        "outputId": "442eb583-3d2e-4f40-e0fb-4c088739648f"
      },
      "execution_count": 33,
      "outputs": [
        {
          "output_type": "stream",
          "name": "stdout",
          "text": [
            "tensor([[[-1.0352,  0.2825, -0.2857,  ...,  0.7867, -0.4694,  0.3635],\n",
            "         [-1.0358,  0.2839, -0.2866,  ...,  0.7899, -0.4715,  0.3624],\n",
            "         [-1.0327,  0.2824, -0.2866,  ...,  0.7862, -0.4711,  0.3634],\n",
            "         ...,\n",
            "         [-0.0477, -0.0044, -0.0450,  ...,  0.0328, -0.0239,  0.0355],\n",
            "         [-0.0557,  0.0027, -0.0410,  ...,  0.0379, -0.0210,  0.0142],\n",
            "         [-0.0860,  0.0200, -0.0360,  ...,  0.0655, -0.0418,  0.0132]]],\n",
            "       grad_fn=<PermuteBackward0>)\n",
            "Patch embedding shape: torch.Size([1, 196, 768]) -> [batch_size, number_of_patches, embedding_dimension]\n"
          ]
        }
      ]
    },
    {
      "cell_type": "markdown",
      "source": [
        "Let's create a learnable embedding for the class token.\n",
        "\n",
        "To do so, we'll get the batch size and embedding dimension shape and then we'll create a torch.ones() tensor in the shape [batch_size, 1, embedding_dimension].\n",
        "\n",
        "And we'll make the tensor learnable by passing it to nn.Parameter() with requires_grad=True.\n",
        "\n"
      ],
      "metadata": {
        "id": "viapWSlSbC3U"
      }
    },
    {
      "cell_type": "code",
      "source": [
        "# Get the batch size and embedding dimension\n",
        "batch_size = patch_embedded_image.shape[0]\n",
        "embedding_dimension = patch_embedded_image.shape[-1]\n",
        "\n",
        "# Create the class token embedding as a learnable parameter that shares the same size as the embedding dimension (D)\n",
        "class_token = nn.Parameter(torch.ones(batch_size, 1, embedding_dimension), # [batch_size, number_of_tokens, embedding_dimension]\n",
        "                           requires_grad=True) # make sure the embedding is learnable\n",
        "\n",
        "# Show the first 10 examples of the class_token\n",
        "print(class_token[:, :, :10])\n",
        "\n",
        "# Print the class_token shape\n",
        "print(f\"Class token shape: {class_token.shape} -> [batch_size, number_of_tokens, embedding_dimension]\")"
      ],
      "metadata": {
        "colab": {
          "base_uri": "https://localhost:8080/"
        },
        "id": "4ibLFWacbIqX",
        "outputId": "eb7b7e03-876f-430d-b680-44580b2fd33a"
      },
      "execution_count": 34,
      "outputs": [
        {
          "output_type": "stream",
          "name": "stdout",
          "text": [
            "tensor([[[1., 1., 1., 1., 1., 1., 1., 1., 1., 1.]]], grad_fn=<SliceBackward0>)\n",
            "Class token shape: torch.Size([1, 1, 768]) -> [batch_size, number_of_tokens, embedding_dimension]\n"
          ]
        }
      ]
    },
    {
      "cell_type": "code",
      "source": [
        "# Add the class token embedding to the front of the patch embedding\n",
        "patch_embedded_image_with_class_embedding = torch.cat((class_token, patch_embedded_image),\n",
        "                                                      dim=1) # concat on first dimension\n",
        "\n",
        "# Print the sequence of patch embeddings with the prepended class token embedding\n",
        "print(patch_embedded_image_with_class_embedding)\n",
        "print(f\"Sequence of patch embeddings with class token prepended shape: {patch_embedded_image_with_class_embedding.shape} -> [batch_size, number_of_patches, embedding_dimension]\")"
      ],
      "metadata": {
        "colab": {
          "base_uri": "https://localhost:8080/"
        },
        "id": "bGu1aG86bONL",
        "outputId": "9a65b461-54dc-46ed-881f-a43f47a771d3"
      },
      "execution_count": 35,
      "outputs": [
        {
          "output_type": "stream",
          "name": "stdout",
          "text": [
            "tensor([[[ 1.0000,  1.0000,  1.0000,  ...,  1.0000,  1.0000,  1.0000],\n",
            "         [-1.0352,  0.2825, -0.2857,  ...,  0.7867, -0.4694,  0.3635],\n",
            "         [-1.0358,  0.2839, -0.2866,  ...,  0.7899, -0.4715,  0.3624],\n",
            "         ...,\n",
            "         [-0.0477, -0.0044, -0.0450,  ...,  0.0328, -0.0239,  0.0355],\n",
            "         [-0.0557,  0.0027, -0.0410,  ...,  0.0379, -0.0210,  0.0142],\n",
            "         [-0.0860,  0.0200, -0.0360,  ...,  0.0655, -0.0418,  0.0132]]],\n",
            "       grad_fn=<CatBackward0>)\n",
            "Sequence of patch embeddings with class token prepended shape: torch.Size([1, 197, 768]) -> [batch_size, number_of_patches, embedding_dimension]\n"
          ]
        }
      ]
    },
    {
      "cell_type": "markdown",
      "source": [
        "### 3.7 Creating the position embedding"
      ],
      "metadata": {
        "id": "Ho0SWgeFbTux"
      }
    },
    {
      "cell_type": "markdown",
      "source": [
        "Well, we've got the class token embedding and the patch embedding, now how might we create the position embedding?\n",
        "\n",
        "Or $\\mathbf{E}_{\\text {pos }}$ from equation 1 where $E$ stands for \"embedding\".\n",
        "\n"
      ],
      "metadata": {
        "id": "0cCd5FDVbaXv"
      }
    },
    {
      "cell_type": "code",
      "source": [
        "# View the sequence of patch embeddings with the prepended class embedding\n",
        "patch_embedded_image_with_class_embedding, patch_embedded_image_with_class_embedding.shape"
      ],
      "metadata": {
        "colab": {
          "base_uri": "https://localhost:8080/"
        },
        "id": "X_nIr-NpbfIR",
        "outputId": "08ec6389-f23a-44fb-fc06-2711e606bd7e"
      },
      "execution_count": 36,
      "outputs": [
        {
          "output_type": "execute_result",
          "data": {
            "text/plain": [
              "(tensor([[[ 1.0000,  1.0000,  1.0000,  ...,  1.0000,  1.0000,  1.0000],\n",
              "          [-1.0352,  0.2825, -0.2857,  ...,  0.7867, -0.4694,  0.3635],\n",
              "          [-1.0358,  0.2839, -0.2866,  ...,  0.7899, -0.4715,  0.3624],\n",
              "          ...,\n",
              "          [-0.0477, -0.0044, -0.0450,  ...,  0.0328, -0.0239,  0.0355],\n",
              "          [-0.0557,  0.0027, -0.0410,  ...,  0.0379, -0.0210,  0.0142],\n",
              "          [-0.0860,  0.0200, -0.0360,  ...,  0.0655, -0.0418,  0.0132]]],\n",
              "        grad_fn=<CatBackward0>),\n",
              " torch.Size([1, 197, 768]))"
            ]
          },
          "metadata": {},
          "execution_count": 36
        }
      ]
    },
    {
      "cell_type": "code",
      "source": [
        "# Calculate N (number of patches)\n",
        "number_of_patches = int((height * width) / patch_size**2)\n",
        "\n",
        "# Get embedding dimension\n",
        "embedding_dimension = patch_embedded_image_with_class_embedding.shape[2]\n",
        "\n",
        "# Create the learnable 1D position embedding\n",
        "position_embedding = nn.Parameter(torch.ones(1,\n",
        "                                             number_of_patches+1,\n",
        "                                             embedding_dimension),\n",
        "                                  requires_grad=True) # make sure it's learnable\n",
        "\n",
        "# Show the first 10 sequences and 10 position embedding values and check the shape of the position embedding\n",
        "print(position_embedding[:, :10, :10])\n",
        "print(f\"Position embedding shape: {position_embedding.shape} -> [batch_size, number_of_patches, embedding_dimension]\")"
      ],
      "metadata": {
        "colab": {
          "base_uri": "https://localhost:8080/"
        },
        "id": "_BkD3hBbbg6e",
        "outputId": "32ad37cb-4798-44df-dabe-d123488f3fcd"
      },
      "execution_count": 37,
      "outputs": [
        {
          "output_type": "stream",
          "name": "stdout",
          "text": [
            "tensor([[[1., 1., 1., 1., 1., 1., 1., 1., 1., 1.],\n",
            "         [1., 1., 1., 1., 1., 1., 1., 1., 1., 1.],\n",
            "         [1., 1., 1., 1., 1., 1., 1., 1., 1., 1.],\n",
            "         [1., 1., 1., 1., 1., 1., 1., 1., 1., 1.],\n",
            "         [1., 1., 1., 1., 1., 1., 1., 1., 1., 1.],\n",
            "         [1., 1., 1., 1., 1., 1., 1., 1., 1., 1.],\n",
            "         [1., 1., 1., 1., 1., 1., 1., 1., 1., 1.],\n",
            "         [1., 1., 1., 1., 1., 1., 1., 1., 1., 1.],\n",
            "         [1., 1., 1., 1., 1., 1., 1., 1., 1., 1.],\n",
            "         [1., 1., 1., 1., 1., 1., 1., 1., 1., 1.]]], grad_fn=<SliceBackward0>)\n",
            "Position embedding shape: torch.Size([1, 197, 768]) -> [batch_size, number_of_patches, embedding_dimension]\n"
          ]
        }
      ]
    },
    {
      "cell_type": "markdown",
      "source": [
        "Position embeddings created!\n",
        "\n",
        "Let's add them to our sequence of patch embeddings with a prepended class token.\n",
        "\n"
      ],
      "metadata": {
        "id": "KLufi64YbnHT"
      }
    },
    {
      "cell_type": "code",
      "source": [
        "# Add the position embedding to the patch and class token embedding\n",
        "patch_and_position_embedding = patch_embedded_image_with_class_embedding + position_embedding\n",
        "print(patch_and_position_embedding)\n",
        "print(f\"Patch embeddings, class token prepended and positional embeddings added shape: {patch_and_position_embedding.shape} -> [batch_size, number_of_patches, embedding_dimension]\")"
      ],
      "metadata": {
        "colab": {
          "base_uri": "https://localhost:8080/"
        },
        "id": "N-EoM9_MbsNy",
        "outputId": "e5f6dec0-3d19-4474-c1d8-a889b7c70ed7"
      },
      "execution_count": 38,
      "outputs": [
        {
          "output_type": "stream",
          "name": "stdout",
          "text": [
            "tensor([[[ 2.0000,  2.0000,  2.0000,  ...,  2.0000,  2.0000,  2.0000],\n",
            "         [-0.0352,  1.2825,  0.7143,  ...,  1.7867,  0.5306,  1.3635],\n",
            "         [-0.0358,  1.2839,  0.7134,  ...,  1.7899,  0.5285,  1.3624],\n",
            "         ...,\n",
            "         [ 0.9523,  0.9956,  0.9550,  ...,  1.0328,  0.9761,  1.0355],\n",
            "         [ 0.9443,  1.0027,  0.9590,  ...,  1.0379,  0.9790,  1.0142],\n",
            "         [ 0.9140,  1.0200,  0.9640,  ...,  1.0655,  0.9582,  1.0132]]],\n",
            "       grad_fn=<AddBackward0>)\n",
            "Patch embeddings, class token prepended and positional embeddings added shape: torch.Size([1, 197, 768]) -> [batch_size, number_of_patches, embedding_dimension]\n"
          ]
        }
      ]
    },
    {
      "cell_type": "markdown",
      "source": [
        "### 3.8 Putting it all together: from image to embedding"
      ],
      "metadata": {
        "id": "8dPrx8f9btmP"
      }
    },
    {
      "cell_type": "code",
      "source": [
        "torch.manual_seed(42)\n",
        "torch.cuda.manual_seed(42)\n",
        "\n",
        "# 1. Set patch size\n",
        "patch_size = 16\n",
        "\n",
        "# 2. Print shape of original image tensor and get the image dimensions\n",
        "print(f\"Image tensor shape: {image.shape}\")\n",
        "height, width = image.shape[1], image.shape[2]\n",
        "\n",
        "# 3. Get image tensor and add batch dimension\n",
        "x = image.unsqueeze(0)\n",
        "print(f\"Input image with batch dimension shape: {x.shape}\")\n",
        "\n",
        "# 4. Create patch embedding layer\n",
        "patch_embedding_layer = PatchEmbedding(in_channels=3,\n",
        "                                       patch_size=patch_size,\n",
        "                                       embedding_dim=768)\n",
        "\n",
        "# 5. Pass image through patch embedding layer\n",
        "patch_embedding = patch_embedding_layer(x)\n",
        "print(f\"Patching embedding shape: {patch_embedding.shape}\")\n",
        "\n",
        "# 6. Create class token embedding\n",
        "batch_size = patch_embedding.shape[0]\n",
        "embedding_dimension = patch_embedding.shape[-1]\n",
        "class_token = nn.Parameter(torch.ones(batch_size, 1, embedding_dimension),\n",
        "                           requires_grad=True) # make sure it's learnable\n",
        "print(f\"Class token embedding shape: {class_token.shape}\")\n",
        "\n",
        "# 7. Prepend class token embedding to patch embedding\n",
        "patch_embedding_class_token = torch.cat((class_token, patch_embedding), dim=1)\n",
        "print(f\"Patch embedding with class token shape: {patch_embedding_class_token.shape}\")\n",
        "\n",
        "# 8. Create position embedding\n",
        "number_of_patches = int((height * width) / patch_size**2)\n",
        "position_embedding = nn.Parameter(torch.ones(1, number_of_patches+1, embedding_dimension),\n",
        "                                  requires_grad=True) # make sure it's learnable\n",
        "\n",
        "# 9. Add position embedding to patch embedding with class token\n",
        "patch_and_position_embedding = patch_embedding_class_token + position_embedding\n",
        "print(f\"Patch and position embedding shape: {patch_and_position_embedding.shape}\")"
      ],
      "metadata": {
        "colab": {
          "base_uri": "https://localhost:8080/"
        },
        "id": "4RO_4Gk5b4p1",
        "outputId": "28a0c53f-10c4-43cb-9a1e-6cf5c584591c"
      },
      "execution_count": 39,
      "outputs": [
        {
          "output_type": "stream",
          "name": "stdout",
          "text": [
            "Image tensor shape: torch.Size([3, 224, 224])\n",
            "Input image with batch dimension shape: torch.Size([1, 3, 224, 224])\n",
            "Patching embedding shape: torch.Size([1, 196, 768])\n",
            "Class token embedding shape: torch.Size([1, 1, 768])\n",
            "Patch embedding with class token shape: torch.Size([1, 197, 768])\n",
            "Patch and position embedding shape: torch.Size([1, 197, 768])\n"
          ]
        }
      ]
    },
    {
      "cell_type": "markdown",
      "source": [
        "## 4. Equation 2: Multi-Head Attention (MSA)"
      ],
      "metadata": {
        "id": "3JN8wO6hcFs4"
      }
    },
    {
      "cell_type": "markdown",
      "source": [
        "We've got our input data patchified and embedded, now let's move onto the next part of the ViT architecture.\n",
        "\n",
        "To start, we'll break down the Transformer Encoder section into two parts (start small and increase when necessary).\n",
        "\n",
        "The first being equation 2 and the second being equation 3.\n",
        "\n",
        "Recall equation 2 states:\n",
        "\n",
        "$$ \\begin{aligned} \\mathbf{z}_{\\ell}^{\\prime} &=\\operatorname{MSA}\\left(\\operatorname{LN}\\left(\\mathbf{z}_{\\ell-1}\\right)\\right)+\\mathbf{z}_{\\ell-1}, & & \\ell=1 \\ldots L \\end{aligned} $$\n",
        "\n",
        "This indicates a Multi-Head Attention (MSA) layer wrapped in a LayerNorm (LN) layer with a residual connection (the input to the layer gets added to the output of the layer).\n",
        "\n",
        "We'll refer to equation 2 as the \"MSA block\".\n",
        "\n"
      ],
      "metadata": {
        "id": "tvFPzuDHcQSn"
      }
    },
    {
      "cell_type": "markdown",
      "source": [
        "In saying this, to replicate these layers and residual connection with PyTorch code we can use:\n",
        "\n",
        "Multi-Head Self Attention (MSA) - torch.nn.MultiheadAttention().\n",
        "Norm (LN or LayerNorm) - torch.nn.LayerNorm().\n",
        "Residual connection - add the input to output"
      ],
      "metadata": {
        "id": "2SXfgLAucV1p"
      }
    },
    {
      "cell_type": "markdown",
      "source": [
        "### 4.1 The LayerNorm (LN) layer\n",
        "\n",
        "Layer Normalization (`torch.nn.LayerNorm()` or Norm or LayerNorm or LN) normalizes an input over the last dimension.\n",
        "\n",
        "What does it do?\n",
        "\n",
        "Layer Normalization helps improve training time and model generalization (ability to adapt to unseen data).\n",
        "\n",
        "\n",
        "\n"
      ],
      "metadata": {
        "id": "ghqDIllOcbqg"
      }
    },
    {
      "cell_type": "markdown",
      "source": [
        "### 4.2 The Multi-Head Self Attention (MSA) layer\n",
        "\n",
        "We can implement the MSA layer in PyTorch with torch.nn.MultiheadAttention() with the parameters:\n",
        "\n",
        "  > `embed_dim` - the embedding dimension from Table 1 (Hidden size $D$).\n",
        "\n",
        "> `num_heads` - how many attention heads to use (this is where the term \"multihead\" comes from), this value is also in Table 1 (Heads).\n",
        "> `dropout` - whether or not to apply dropout to the attention layer (according to Appendix B.1, dropout isn't used after the qkv-projections).\n",
        "\n",
        "> `batch_first` - does our batch dimension come first? (yes it does)\n"
      ],
      "metadata": {
        "id": "1bbmgvgQcfS_"
      }
    },
    {
      "cell_type": "markdown",
      "source": [
        "### 4.3 Replicating Equation 2 with PyTorch layers"
      ],
      "metadata": {
        "id": "Hv5QrA3mcu_P"
      }
    },
    {
      "cell_type": "markdown",
      "source": [
        "Let's put everything we've discussed about the LayerNorm (LN) and Multi-Head Attention (MSA) layers in equation 2 into practice.\n",
        "\n",
        "To do so, we'll:\n",
        "\n",
        "1. Create a class called `MultiheadSelfAttentionBlock` that inherits from `torch.nn.Module`.\n",
        "2. Initialize the class with hyperparameters from Table 1 of the ViT paper for the `ViT-Base model`.\n",
        "3. Create a layer normalization (LN) layer with `torch.nn.LayerNorm()` with the normalized_shape parameter the same as our embedding dimension ($D$ from Table 1).\n",
        "4. Create a multi-head attention (MSA) layer with the appropriate `embed_dim`, `num_heads`, dropout and batch_first parameters.\n",
        "5. Create a `forward()` method for our class passing the in the inputs through the LN layer and MSA layer.\n"
      ],
      "metadata": {
        "id": "HzVD2LWedFT0"
      }
    },
    {
      "cell_type": "code",
      "source": [
        "# 1. Create a class that inherits from nn.Module\n",
        "class MultiheadSelfAttentionBlock(nn.Module):\n",
        "    \"\"\"Creates a multi-head self-attention block (\"MSA block\" for short).\n",
        "    \"\"\"\n",
        "    # 2. Initialize the class with hyperparameters from Table 1\n",
        "    def __init__(self,\n",
        "                 embedding_dim:int=768, # Hidden size D from Table 1 for ViT-Base\n",
        "                 num_heads:int=12, # Heads from Table 1 for ViT-Base\n",
        "                 attn_dropout:float=0): # doesn't look like the paper uses any dropout in MSABlocks\n",
        "        super().__init__()\n",
        "\n",
        "        # 3. Create the Norm layer (LN)\n",
        "        self.layer_norm = nn.LayerNorm(normalized_shape=embedding_dim)\n",
        "\n",
        "        # 4. Create the Multi-Head Attention (MSA) layer\n",
        "        self.multihead_attn = nn.MultiheadAttention(embed_dim=embedding_dim,\n",
        "                                                    num_heads=num_heads,\n",
        "                                                    dropout=attn_dropout,\n",
        "                                                    batch_first=True) # does our batch dimension come first?\n",
        "\n",
        "    # 5. Create a forward() method to pass the data through the layers\n",
        "    def forward(self, x):\n",
        "        x = self.layer_norm(x)\n",
        "        attn_output, _ = self.multihead_attn(query=x, # query embeddings\n",
        "                                             key=x, # key embeddings\n",
        "                                             value=x, # value embeddings\n",
        "                                             need_weights=False) # do we need the weights or just the layer outputs?\n",
        "        return attn_output"
      ],
      "metadata": {
        "id": "1b_HqMjzdIBZ"
      },
      "execution_count": 40,
      "outputs": []
    },
    {
      "cell_type": "markdown",
      "source": [
        "MSABlock created!\n",
        "\n",
        "Let's try it out by create an instance of our MultiheadSelfAttentionBlock and passing through the patch_and_position_embedding variable we created in section 4.8.\n",
        "\n"
      ],
      "metadata": {
        "id": "JbwLuNyFdmy1"
      }
    },
    {
      "cell_type": "code",
      "source": [
        "# Create an instance of MSABlock\n",
        "multihead_self_attention_block = MultiheadSelfAttentionBlock(embedding_dim=768, # from Table 1\n",
        "                                                             num_heads=12) # from Table 1\n",
        "\n",
        "# Pass patch and position image embedding through MSABlock\n",
        "patched_image_through_msa_block = multihead_self_attention_block(patch_and_position_embedding)\n",
        "print(f\"Input shape of MSA block: {patch_and_position_embedding.shape}\")\n",
        "print(f\"Output shape MSA block: {patched_image_through_msa_block.shape}\")"
      ],
      "metadata": {
        "colab": {
          "base_uri": "https://localhost:8080/"
        },
        "id": "bcQD-noifAPL",
        "outputId": "02a28051-46c5-416d-e9c2-3b1f9922181b"
      },
      "execution_count": 41,
      "outputs": [
        {
          "output_type": "stream",
          "name": "stdout",
          "text": [
            "Input shape of MSA block: torch.Size([1, 197, 768])\n",
            "Output shape MSA block: torch.Size([1, 197, 768])\n"
          ]
        }
      ]
    },
    {
      "cell_type": "markdown",
      "source": [
        "## 5. Equation 3: Multilayer Perceptron (MLP)"
      ],
      "metadata": {
        "id": "jkYVIDqmfDD2"
      }
    },
    {
      "cell_type": "markdown",
      "source": [
        "Let's keep it going and replicate equation 3:\n",
        "\n",
        "$$ \\begin{aligned} \\mathbf{z}_{\\ell} &=\\operatorname{MLP}\\left(\\operatorname{LN}\\left(\\mathbf{z}_{\\ell}^{\\prime}\\right)\\right)+\\mathbf{z}_{\\ell}^{\\prime}, & & \\ell=1 \\ldots L \\end{aligned} $$\n",
        "\n",
        "Here MLP stands for \"multilayer perceptron\" and LN stands for \"layer normalization\" (as discussed above).\n",
        "\n",
        "And the addition on the end is the skip/residual connection.\n",
        "\n",
        "We'll refer to equation 3 as the \"MLP block\" of the Transformer encoder (notice how we're continuing the trend of breaking down the architecture into smaller chunks).\n",
        "\n"
      ],
      "metadata": {
        "id": "N5BjeBkSfL7O"
      }
    },
    {
      "cell_type": "markdown",
      "source": [
        "### 5.1 The MLP layer(s)"
      ],
      "metadata": {
        "id": "Jlu17GVYfSD8"
      }
    },
    {
      "cell_type": "markdown",
      "source": [
        "The term MLP is quite broad as it can refer to almost any combination of multiple layers (hence the \"multi\" in multilayer perceptron).\n",
        "\n",
        "But it generally follows the pattern of:\n",
        "\n",
        "```python\n",
        "linear layer -> non-linear layer -> linear layer -> non-linear layer\n",
        "```\n",
        "In the the case of the ViT paper, the MLP structure is defined in section 3.1:\n",
        "\n",
        "The MLP contains two layers with a `GELU` non-linearity.\n",
        "\n",
        "Where \"two layers\" refers to linear layers (`torch.nn.Linear()` in PyTorch) and \"`GELU` non-linearity\" is the `GELU` (Gaussian Error Linear Units) non-linear activation function (`torch.nn.GELU()` in PyTorch).\n",
        "\n"
      ],
      "metadata": {
        "id": "WVrA2Jrxfd1U"
      }
    },
    {
      "cell_type": "markdown",
      "source": [
        "### 5.2 Replicating Equation 3 with PyTorch layers"
      ],
      "metadata": {
        "id": "55IrFei2fmYB"
      }
    },
    {
      "cell_type": "code",
      "source": [
        "# 1. Create a class that inherits from nn.Module\n",
        "class MLPBlock(nn.Module):\n",
        "    \"\"\"Creates a layer normalized multilayer perceptron block (\"MLP block\" for short).\"\"\"\n",
        "    # 2. Initialize the class with hyperparameters from Table 1 and Table 3\n",
        "    def __init__(self,\n",
        "                 embedding_dim:int=768, # Hidden Size D from Table 1 for ViT-Base\n",
        "                 mlp_size:int=3072, # MLP size from Table 1 for ViT-Base\n",
        "                 dropout:float=0.1): # Dropout from Table 3 for ViT-Base\n",
        "        super().__init__()\n",
        "\n",
        "        # 3. Create the Norm layer (LN)\n",
        "        self.layer_norm = nn.LayerNorm(normalized_shape=embedding_dim)\n",
        "\n",
        "        # 4. Create the Multilayer perceptron (MLP) layer(s)\n",
        "        self.mlp = nn.Sequential(\n",
        "            nn.Linear(in_features=embedding_dim,\n",
        "                      out_features=mlp_size),\n",
        "            nn.GELU(), # \"The MLP contains two layers with a GELU non-linearity (section 3.1).\"\n",
        "            nn.Dropout(p=dropout),\n",
        "            nn.Linear(in_features=mlp_size, # needs to take same in_features as out_features of layer above\n",
        "                      out_features=embedding_dim), # take back to embedding_dim\n",
        "            nn.Dropout(p=dropout) # \"Dropout, when used, is applied after every dense layer..\"\n",
        "        )\n",
        "\n",
        "    # 5. Create a forward() method to pass the data through the layers\n",
        "    def forward(self, x):\n",
        "        x = self.layer_norm(x)\n",
        "        x = self.mlp(x)\n",
        "        return x"
      ],
      "metadata": {
        "id": "xa9BZECzf7Ej"
      },
      "execution_count": 42,
      "outputs": []
    },
    {
      "cell_type": "markdown",
      "source": [
        "Let's try it out by create an instance of our MLPBlock and passing through the `patched_image_through_msa_block` variable we created in section 4.3.\n",
        "\n"
      ],
      "metadata": {
        "id": "3d58-panf-Qw"
      }
    },
    {
      "cell_type": "code",
      "source": [
        "# Create an instance of MLPBlock\n",
        "mlp_block = MLPBlock(embedding_dim=768, # from Table 1\n",
        "                     mlp_size=3072, # from Table 1\n",
        "                     dropout=0.1) # from Table 3\n",
        "\n",
        "# Pass output of MSABlock through MLPBlock\n",
        "patched_image_through_mlp_block = mlp_block(patched_image_through_msa_block)\n",
        "print(f\"Input shape of MLP block: {patched_image_through_msa_block.shape}\")\n",
        "print(f\"Output shape MLP block: {patched_image_through_mlp_block.shape}\")"
      ],
      "metadata": {
        "colab": {
          "base_uri": "https://localhost:8080/"
        },
        "id": "ruFUUPHegDX4",
        "outputId": "e33631e3-a516-4117-cde4-28cd4bfba5cf"
      },
      "execution_count": 43,
      "outputs": [
        {
          "output_type": "stream",
          "name": "stdout",
          "text": [
            "Input shape of MLP block: torch.Size([1, 197, 768])\n",
            "Output shape MLP block: torch.Size([1, 197, 768])\n"
          ]
        }
      ]
    },
    {
      "cell_type": "markdown",
      "source": [
        "Equation 3 replicated (except for the residual connection on the end but we'll get to this in section 6.1)!"
      ],
      "metadata": {
        "id": "jmAmwzZ0gRdD"
      }
    },
    {
      "cell_type": "markdown",
      "source": [
        "## 6. Create the Transformer Encoder"
      ],
      "metadata": {
        "id": "ROHbbY7QgKMo"
      }
    },
    {
      "cell_type": "markdown",
      "source": [
        "Time to stack together our MultiheadSelfAttentionBlock (equation 2) and MLPBlock (equation 3) and create the Transformer Encoder of the ViT architecture.\n",
        "\n",
        "In deep learning, an `\"encoder\"` or `\"auto encoder\"` generally refers to a stack of layers that \"encodes\" an input (turns it into some form of numerical representation).\n",
        "\n",
        "In our case, the Transformer Encoder will encode our patched image embedding into a learned representation using a series of alternating layers of MSA blocks and MLP blocks, as per section 3.1 of the ViT Paper:\n",
        "\n"
      ],
      "metadata": {
        "id": "BYiK-DO5gXIN"
      }
    },
    {
      "cell_type": "markdown",
      "source": [
        "### 6.1 Creating a Transformer Encoder by combining our custom made layers"
      ],
      "metadata": {
        "id": "3qnhJsf4gitE"
      }
    },
    {
      "cell_type": "markdown",
      "source": [
        "Enough talk,\n",
        "\n",
        "let's see this in action and make a ViT Transformer Encoder with PyTorch by combining our previously created layers.\n",
        "\n",
        "To do so, we'll:\n",
        "\n",
        "1. Create a class called `TransformerEncoderBlock` that inherits from `torch.nn.Module`.\n",
        "2. Initialize the class with hyperparameters from Table 1 and Table 3 of the ViT paper for the ViT-Base model.\n",
        "3. Instantiate a MSA block for equation 2 using our `MultiheadSelfAttentionBlock` from section 4.2 with the appropriate parameters.\n",
        "4. Instantiate a MLP block for equation 3 using our MLPBlock from section 5.2 with the appropriate parameters.\n",
        "5. Create a `forward()` method for our `TransformerEncoderBlock` class.\n",
        "6. Create a residual connection for the MSA block (for equation 2).\n",
        "7. Create a residual connection for the MLP block (for equation 3).\n"
      ],
      "metadata": {
        "id": "mA-6ljXZgt9g"
      }
    },
    {
      "cell_type": "code",
      "source": [
        "# 1. Create a class that inherits from nn.Module\n",
        "class TransformerEncoderBlock(nn.Module):\n",
        "    \"\"\"Creates a Transformer Encoder block.\"\"\"\n",
        "    # 2. Initialize the class with hyperparameters from Table 1 and Table 3\n",
        "    def __init__(self,\n",
        "                 embedding_dim:int=768, # Hidden size D from Table 1 for ViT-Base\n",
        "                 num_heads:int=12, # Heads from Table 1 for ViT-Base\n",
        "                 mlp_size:int=3072, # MLP size from Table 1 for ViT-Base\n",
        "                 mlp_dropout:float=0.1, # Amount of dropout for dense layers from Table 3 for ViT-Base\n",
        "                 attn_dropout:float=0): # Amount of dropout for attention layers\n",
        "        super().__init__()\n",
        "\n",
        "        # 3. Create MSA block (equation 2)\n",
        "        self.msa_block = MultiheadSelfAttentionBlock(embedding_dim=embedding_dim,\n",
        "                                                     num_heads=num_heads,\n",
        "                                                     attn_dropout=attn_dropout)\n",
        "\n",
        "        # 4. Create MLP block (equation 3)\n",
        "        self.mlp_block =  MLPBlock(embedding_dim=embedding_dim,\n",
        "                                   mlp_size=mlp_size,\n",
        "                                   dropout=mlp_dropout)\n",
        "\n",
        "    # 5. Create a forward() method\n",
        "    def forward(self, x):\n",
        "\n",
        "        # 6. Create residual connection for MSA block (add the input to the output)\n",
        "        x =  self.msa_block(x) + x\n",
        "\n",
        "        # 7. Create residual connection for MLP block (add the input to the output)\n",
        "        x = self.mlp_block(x) + x\n",
        "\n",
        "        return x"
      ],
      "metadata": {
        "id": "dY37VAcxhMC0"
      },
      "execution_count": 44,
      "outputs": []
    },
    {
      "cell_type": "markdown",
      "source": [
        "Transformer Encoder block created!\n",
        "\n",
        "Let's get a `torchinfo.summary()` of passing an input of shape (1, 197, 768) -> (`batch_size, num_patches, embedding_dimension`) to our Transformer Encoder block.\n",
        "\n"
      ],
      "metadata": {
        "id": "2YlCgMRrhSbQ"
      }
    },
    {
      "cell_type": "code",
      "source": [
        "# Create an instance of TransformerEncoderBlock\n",
        "transformer_encoder_block = TransformerEncoderBlock()\n",
        "\n",
        "# Print an input and output summary of our Transformer Encoder\n",
        "summary(model=transformer_encoder_block,\n",
        "        input_size=(1, 197, 768), # (batch_size, num_patches, embedding_dimension)\n",
        "        col_names=[\"input_size\", \"output_size\", \"num_params\", \"trainable\"],\n",
        "        col_width=20,\n",
        "        row_settings=[\"var_names\"])"
      ],
      "metadata": {
        "colab": {
          "base_uri": "https://localhost:8080/"
        },
        "id": "ZWwMRzLlhZGp",
        "outputId": "c8b85a87-083f-4404-af94-0480c8afcce7"
      },
      "execution_count": 45,
      "outputs": [
        {
          "output_type": "execute_result",
          "data": {
            "text/plain": [
              "==================================================================================================================================\n",
              "Layer (type (var_name))                            Input Shape          Output Shape         Param #              Trainable\n",
              "==================================================================================================================================\n",
              "TransformerEncoderBlock (TransformerEncoderBlock)  [1, 197, 768]        [1, 197, 768]        --                   True\n",
              "├─MultiheadSelfAttentionBlock (msa_block)          [1, 197, 768]        [1, 197, 768]        --                   True\n",
              "│    └─LayerNorm (layer_norm)                      [1, 197, 768]        [1, 197, 768]        1,536                True\n",
              "│    └─MultiheadAttention (multihead_attn)         --                   [1, 197, 768]        2,362,368            True\n",
              "├─MLPBlock (mlp_block)                             [1, 197, 768]        [1, 197, 768]        --                   True\n",
              "│    └─LayerNorm (layer_norm)                      [1, 197, 768]        [1, 197, 768]        1,536                True\n",
              "│    └─Sequential (mlp)                            [1, 197, 768]        [1, 197, 768]        --                   True\n",
              "│    │    └─Linear (0)                             [1, 197, 768]        [1, 197, 3072]       2,362,368            True\n",
              "│    │    └─GELU (1)                               [1, 197, 3072]       [1, 197, 3072]       --                   --\n",
              "│    │    └─Dropout (2)                            [1, 197, 3072]       [1, 197, 3072]       --                   --\n",
              "│    │    └─Linear (3)                             [1, 197, 3072]       [1, 197, 768]        2,360,064            True\n",
              "│    │    └─Dropout (4)                            [1, 197, 768]        [1, 197, 768]        --                   --\n",
              "==================================================================================================================================\n",
              "Total params: 7,087,872\n",
              "Trainable params: 7,087,872\n",
              "Non-trainable params: 0\n",
              "Total mult-adds (Units.MEGABYTES): 4.73\n",
              "==================================================================================================================================\n",
              "Input size (MB): 0.61\n",
              "Forward/backward pass size (MB): 8.47\n",
              "Params size (MB): 18.90\n",
              "Estimated Total Size (MB): 27.98\n",
              "=================================================================================================================================="
            ]
          },
          "metadata": {},
          "execution_count": 45
        }
      ]
    },
    {
      "cell_type": "markdown",
      "source": [
        "## 7. Putting it all together to create ViT"
      ],
      "metadata": {
        "id": "3sSqCGZ0hg2f"
      }
    },
    {
      "cell_type": "code",
      "source": [
        "# 1. Create a ViT class that inherits from nn.Module\n",
        "class ViT(nn.Module):\n",
        "    \"\"\"Creates a Vision Transformer architecture with ViT-Base hyperparameters by default.\"\"\"\n",
        "    # 2. Initialize the class with hyperparameters from Table 1 and Table 3\n",
        "    def __init__(self,\n",
        "                 img_size:int=224, # Training resolution from Table 3 in ViT paper\n",
        "                 in_channels:int=3, # Number of channels in input image\n",
        "                 patch_size:int=16, # Patch size\n",
        "                 num_transformer_layers:int=12, # Layers from Table 1 for ViT-Base\n",
        "                 embedding_dim:int=768, # Hidden size D from Table 1 for ViT-Base\n",
        "                 mlp_size:int=3072, # MLP size from Table 1 for ViT-Base\n",
        "                 num_heads:int=12, # Heads from Table 1 for ViT-Base\n",
        "                 attn_dropout:float=0, # Dropout for attention projection\n",
        "                 mlp_dropout:float=0.1, # Dropout for dense/MLP layers\n",
        "                 embedding_dropout:float=0.1, # Dropout for patch and position embeddings\n",
        "                 num_classes:int=1000): # Default for ImageNet but can customize this\n",
        "        super().__init__() # don't forget the super().__init__()!\n",
        "\n",
        "        # 3. Make the image size is divisible by the patch size\n",
        "        assert img_size % patch_size == 0, f\"Image size must be divisible by patch size, image size: {img_size}, patch size: {patch_size}.\"\n",
        "\n",
        "        # 4. Calculate number of patches (height * width/patch^2)\n",
        "        self.num_patches = (img_size * img_size) // patch_size**2\n",
        "\n",
        "        # 5. Create learnable class embedding (needs to go at front of sequence of patch embeddings)\n",
        "        self.class_embedding = nn.Parameter(data=torch.randn(1, 1, embedding_dim),\n",
        "                                            requires_grad=True)\n",
        "\n",
        "        # 6. Create learnable position embedding\n",
        "        self.position_embedding = nn.Parameter(data=torch.randn(1, self.num_patches+1, embedding_dim),\n",
        "                                               requires_grad=True)\n",
        "\n",
        "        # 7. Create embedding dropout value\n",
        "        self.embedding_dropout = nn.Dropout(p=embedding_dropout)\n",
        "\n",
        "        # 8. Create patch embedding layer\n",
        "        self.patch_embedding = PatchEmbedding(in_channels=in_channels,\n",
        "                                              patch_size=patch_size,\n",
        "                                              embedding_dim=embedding_dim)\n",
        "\n",
        "        # 9. Create Transformer Encoder blocks (we can stack Transformer Encoder blocks using nn.Sequential())\n",
        "        # Note: The \"*\" means \"all\"\n",
        "        self.transformer_encoder = nn.Sequential(*[TransformerEncoderBlock(embedding_dim=embedding_dim,\n",
        "                                                                            num_heads=num_heads,\n",
        "                                                                            mlp_size=mlp_size,\n",
        "                                                                            mlp_dropout=mlp_dropout) for _ in range(num_transformer_layers)])\n",
        "\n",
        "        # 10. Create classifier head\n",
        "        self.classifier = nn.Sequential(\n",
        "            nn.LayerNorm(normalized_shape=embedding_dim),\n",
        "            nn.Linear(in_features=embedding_dim,\n",
        "                      out_features=num_classes)\n",
        "        )\n",
        "\n",
        "    # 11. Create a forward() method\n",
        "    def forward(self, x):\n",
        "\n",
        "        # 12. Get batch size\n",
        "        batch_size = x.shape[0]\n",
        "\n",
        "        # 13. Create class token embedding and expand it to match the batch size (equation 1)\n",
        "        class_token = self.class_embedding.expand(batch_size, -1, -1) # \"-1\" means to infer the dimension (try this line on its own)\n",
        "\n",
        "        # 14. Create patch embedding (equation 1)\n",
        "        x = self.patch_embedding(x)\n",
        "\n",
        "        # 15. Concat class embedding and patch embedding (equation 1)\n",
        "        x = torch.cat((class_token, x), dim=1)\n",
        "\n",
        "        # 16. Add position embedding to patch embedding (equation 1)\n",
        "        x = self.position_embedding + x\n",
        "\n",
        "        # 17. Run embedding dropout (Appendix B.1)\n",
        "        x = self.embedding_dropout(x)\n",
        "\n",
        "        # 18. Pass patch, position and class embedding through transformer encoder layers (equations 2 & 3)\n",
        "        x = self.transformer_encoder(x)\n",
        "\n",
        "        # 19. Put 0 index logit through classifier (equation 4)\n",
        "        x = self.classifier(x[:, 0]) # run on each sample in a batch at 0 index\n",
        "\n",
        "        return x"
      ],
      "metadata": {
        "id": "0oHpuZL3hvjV"
      },
      "execution_count": 46,
      "outputs": []
    },
    {
      "cell_type": "markdown",
      "source": [
        "🕺💃🥳 Woohoo!!! We just built a vision transformer!\n"
      ],
      "metadata": {
        "id": "dsqvqMVCh5O9"
      }
    },
    {
      "cell_type": "code",
      "source": [
        "# Example of creating the class embedding and expanding over a batch dimension\n",
        "batch_size = 32\n",
        "class_token_embedding_single = nn.Parameter(data=torch.randn(1, 1, 768)) # create a single learnable class token\n",
        "class_token_embedding_expanded = class_token_embedding_single.expand(batch_size, -1, -1) # expand the single learnable class token across the batch dimension, \"-1\" means to \"infer the dimension\"\n",
        "\n",
        "# Print out the change in shapes\n",
        "print(f\"Shape of class token embedding single: {class_token_embedding_single.shape}\")\n",
        "print(f\"Shape of class token embedding expanded: {class_token_embedding_expanded.shape}\")"
      ],
      "metadata": {
        "colab": {
          "base_uri": "https://localhost:8080/"
        },
        "id": "4cZxNsqUh8fW",
        "outputId": "d7cd4b7b-8f19-4715-e831-53d8c0b0f117"
      },
      "execution_count": 47,
      "outputs": [
        {
          "output_type": "stream",
          "name": "stdout",
          "text": [
            "Shape of class token embedding single: torch.Size([1, 1, 768])\n",
            "Shape of class token embedding expanded: torch.Size([32, 1, 768])\n"
          ]
        }
      ]
    },
    {
      "cell_type": "markdown",
      "source": [
        "Let's create a random tensor in the same shape as a single image, pass to an instance of ViT and see what happens.\n",
        "\n"
      ],
      "metadata": {
        "id": "iQJzLQVhiDQQ"
      }
    },
    {
      "cell_type": "code",
      "source": [
        "torch.manual_seed(42)\n",
        "\n",
        "# Create a random tensor with same shape as a single image\n",
        "random_image_tensor = torch.randn(1, 3, 224, 224) # (batch_size, color_channels, height, width)\n",
        "\n",
        "# Create an instance of ViT with the number of classes we're working with (pizza, steak, sushi)\n",
        "vit = ViT(num_classes=len(class_names))\n",
        "\n",
        "# Pass the random image tensor to our ViT instance\n",
        "vit(random_image_tensor)"
      ],
      "metadata": {
        "colab": {
          "base_uri": "https://localhost:8080/"
        },
        "id": "d3XeWILNh_Jh",
        "outputId": "acc233e7-5bef-403b-ab81-ec9be2c25dd1"
      },
      "execution_count": 48,
      "outputs": [
        {
          "output_type": "execute_result",
          "data": {
            "text/plain": [
              "tensor([[ 0.4452,  0.5503,  0.9471, -0.4082, -0.1517, -0.1520, -0.5361, -0.1304,\n",
              "         -0.7799,  1.1546]], grad_fn=<AddmmBackward0>)"
            ]
          },
          "metadata": {},
          "execution_count": 48
        }
      ]
    },
    {
      "cell_type": "markdown",
      "source": [
        "### 7.1 Getting a visual summary of our ViT model"
      ],
      "metadata": {
        "id": "IsXyQeD4iLiA"
      }
    },
    {
      "cell_type": "code",
      "source": [
        "from torchinfo import summary\n",
        "\n",
        "# # Print a summary of our custom ViT model using torchinfo\n",
        "summary(model=vit,\n",
        "        input_size=(32, 3, 224, 224), # (batch_size, color_channels, height, width)\n",
        "        # col_names=[\"input_size\"], # uncomment for smaller output\n",
        "        col_names=[\"input_size\", \"output_size\", \"num_params\", \"trainable\"],\n",
        "        col_width=20,\n",
        "        row_settings=[\"var_names\"]\n",
        ")"
      ],
      "metadata": {
        "colab": {
          "base_uri": "https://localhost:8080/"
        },
        "id": "UCLRSs-wiHt6",
        "outputId": "6dd4b830-b387-4da3-c43f-5048958dc579"
      },
      "execution_count": 49,
      "outputs": [
        {
          "output_type": "execute_result",
          "data": {
            "text/plain": [
              "============================================================================================================================================\n",
              "Layer (type (var_name))                                      Input Shape          Output Shape         Param #              Trainable\n",
              "============================================================================================================================================\n",
              "ViT (ViT)                                                    [32, 3, 224, 224]    [32, 10]             152,064              True\n",
              "├─PatchEmbedding (patch_embedding)                           [32, 3, 224, 224]    [32, 196, 768]       --                   True\n",
              "│    └─Conv2d (patcher)                                      [32, 3, 224, 224]    [32, 768, 14, 14]    590,592              True\n",
              "│    └─Flatten (flatten)                                     [32, 768, 14, 14]    [32, 768, 196]       --                   --\n",
              "├─Dropout (embedding_dropout)                                [32, 197, 768]       [32, 197, 768]       --                   --\n",
              "├─Sequential (transformer_encoder)                           [32, 197, 768]       [32, 197, 768]       --                   True\n",
              "│    └─TransformerEncoderBlock (0)                           [32, 197, 768]       [32, 197, 768]       --                   True\n",
              "│    │    └─MultiheadSelfAttentionBlock (msa_block)          [32, 197, 768]       [32, 197, 768]       2,363,904            True\n",
              "│    │    └─MLPBlock (mlp_block)                             [32, 197, 768]       [32, 197, 768]       4,723,968            True\n",
              "│    └─TransformerEncoderBlock (1)                           [32, 197, 768]       [32, 197, 768]       --                   True\n",
              "│    │    └─MultiheadSelfAttentionBlock (msa_block)          [32, 197, 768]       [32, 197, 768]       2,363,904            True\n",
              "│    │    └─MLPBlock (mlp_block)                             [32, 197, 768]       [32, 197, 768]       4,723,968            True\n",
              "│    └─TransformerEncoderBlock (2)                           [32, 197, 768]       [32, 197, 768]       --                   True\n",
              "│    │    └─MultiheadSelfAttentionBlock (msa_block)          [32, 197, 768]       [32, 197, 768]       2,363,904            True\n",
              "│    │    └─MLPBlock (mlp_block)                             [32, 197, 768]       [32, 197, 768]       4,723,968            True\n",
              "│    └─TransformerEncoderBlock (3)                           [32, 197, 768]       [32, 197, 768]       --                   True\n",
              "│    │    └─MultiheadSelfAttentionBlock (msa_block)          [32, 197, 768]       [32, 197, 768]       2,363,904            True\n",
              "│    │    └─MLPBlock (mlp_block)                             [32, 197, 768]       [32, 197, 768]       4,723,968            True\n",
              "│    └─TransformerEncoderBlock (4)                           [32, 197, 768]       [32, 197, 768]       --                   True\n",
              "│    │    └─MultiheadSelfAttentionBlock (msa_block)          [32, 197, 768]       [32, 197, 768]       2,363,904            True\n",
              "│    │    └─MLPBlock (mlp_block)                             [32, 197, 768]       [32, 197, 768]       4,723,968            True\n",
              "│    └─TransformerEncoderBlock (5)                           [32, 197, 768]       [32, 197, 768]       --                   True\n",
              "│    │    └─MultiheadSelfAttentionBlock (msa_block)          [32, 197, 768]       [32, 197, 768]       2,363,904            True\n",
              "│    │    └─MLPBlock (mlp_block)                             [32, 197, 768]       [32, 197, 768]       4,723,968            True\n",
              "│    └─TransformerEncoderBlock (6)                           [32, 197, 768]       [32, 197, 768]       --                   True\n",
              "│    │    └─MultiheadSelfAttentionBlock (msa_block)          [32, 197, 768]       [32, 197, 768]       2,363,904            True\n",
              "│    │    └─MLPBlock (mlp_block)                             [32, 197, 768]       [32, 197, 768]       4,723,968            True\n",
              "│    └─TransformerEncoderBlock (7)                           [32, 197, 768]       [32, 197, 768]       --                   True\n",
              "│    │    └─MultiheadSelfAttentionBlock (msa_block)          [32, 197, 768]       [32, 197, 768]       2,363,904            True\n",
              "│    │    └─MLPBlock (mlp_block)                             [32, 197, 768]       [32, 197, 768]       4,723,968            True\n",
              "│    └─TransformerEncoderBlock (8)                           [32, 197, 768]       [32, 197, 768]       --                   True\n",
              "│    │    └─MultiheadSelfAttentionBlock (msa_block)          [32, 197, 768]       [32, 197, 768]       2,363,904            True\n",
              "│    │    └─MLPBlock (mlp_block)                             [32, 197, 768]       [32, 197, 768]       4,723,968            True\n",
              "│    └─TransformerEncoderBlock (9)                           [32, 197, 768]       [32, 197, 768]       --                   True\n",
              "│    │    └─MultiheadSelfAttentionBlock (msa_block)          [32, 197, 768]       [32, 197, 768]       2,363,904            True\n",
              "│    │    └─MLPBlock (mlp_block)                             [32, 197, 768]       [32, 197, 768]       4,723,968            True\n",
              "│    └─TransformerEncoderBlock (10)                          [32, 197, 768]       [32, 197, 768]       --                   True\n",
              "│    │    └─MultiheadSelfAttentionBlock (msa_block)          [32, 197, 768]       [32, 197, 768]       2,363,904            True\n",
              "│    │    └─MLPBlock (mlp_block)                             [32, 197, 768]       [32, 197, 768]       4,723,968            True\n",
              "│    └─TransformerEncoderBlock (11)                          [32, 197, 768]       [32, 197, 768]       --                   True\n",
              "│    │    └─MultiheadSelfAttentionBlock (msa_block)          [32, 197, 768]       [32, 197, 768]       2,363,904            True\n",
              "│    │    └─MLPBlock (mlp_block)                             [32, 197, 768]       [32, 197, 768]       4,723,968            True\n",
              "├─Sequential (classifier)                                    [32, 768]            [32, 10]             --                   True\n",
              "│    └─LayerNorm (0)                                         [32, 768]            [32, 768]            1,536                True\n",
              "│    └─Linear (1)                                            [32, 768]            [32, 10]             7,690                True\n",
              "============================================================================================================================================\n",
              "Total params: 85,806,346\n",
              "Trainable params: 85,806,346\n",
              "Non-trainable params: 0\n",
              "Total mult-adds (Units.GIGABYTES): 5.52\n",
              "============================================================================================================================================\n",
              "Input size (MB): 19.27\n",
              "Forward/backward pass size (MB): 3292.20\n",
              "Params size (MB): 229.22\n",
              "Estimated Total Size (MB): 3540.69\n",
              "============================================================================================================================================"
            ]
          },
          "metadata": {},
          "execution_count": 49
        }
      ]
    },
    {
      "cell_type": "markdown",
      "source": [
        "## 8. Setting up training code for our ViT model"
      ],
      "metadata": {
        "id": "R-Jee5MaiXNH"
      }
    },
    {
      "cell_type": "code",
      "source": [
        "from scripts import engine\n",
        "from scripts import helper_functions\n",
        "\n",
        "device = \"cuda\" if torch.cuda.is_available() else \"cpu\"\n",
        "\n",
        "# Setup the optimizer to optimize our ViT model parameters using hyperparameters from the ViT paper\n",
        "optimizer = torch.optim.Adam(params=vit.parameters(),\n",
        "                             lr=3e-3, # Base LR from Table 3 for ViT-* ImageNet-1k\n",
        "                             betas=(0.9, 0.999), # default values but also mentioned in ViT paper section 4.1 (Training & Fine-tuning)\n",
        "                             weight_decay=0.3) # from the ViT paper section 4.1 (Training & Fine-tuning) and Table 3 for ViT-* ImageNet-1k\n",
        "\n",
        "# Setup the loss function for multi-class classification\n",
        "loss_fn = torch.nn.CrossEntropyLoss()\n",
        "\n",
        "# Set the seeds\n",
        "helper_functions.set_seeds()\n",
        "\n",
        "# Train the model and save the training results to a dictionary\n",
        "results = engine.train(model=vit,\n",
        "                       train_dataloader=train_dataloader,\n",
        "                       test_dataloader=test_dataloader,\n",
        "                       optimizer=optimizer,\n",
        "                       loss_fn=loss_fn,\n",
        "                       epochs=3,\n",
        "                       device=device)"
      ],
      "metadata": {
        "colab": {
          "base_uri": "https://localhost:8080/",
          "height": 101,
          "referenced_widgets": [
            "80c40e3e03f444b094c5ead52bf2876b",
            "57db53be1f8748519bc3d02516fafeb6",
            "922df6ce88cc48c79479ca2be74d4a7c",
            "ba2c9a8e71244e97bc6be16c8ece9de4",
            "7cef39b65b764abab64dc78a6254bea4",
            "ec5c22cc42eb43b59aafd99450d5f48a",
            "ec72c49a888448478481d52f15a39112",
            "7759ddc77ea246d2bca37a35166e7a3d",
            "44ea41d7a73e45bf80bead942d01a965",
            "6a53078f21f24708a17e4d942edbe66a",
            "d132b3df5a1b4aca9436312efc1a73ec"
          ]
        },
        "id": "sJj5PKJbi2Xb",
        "outputId": "5381d780-8be4-4c6c-e679-32b6d70f923c"
      },
      "execution_count": 52,
      "outputs": [
        {
          "output_type": "display_data",
          "data": {
            "text/plain": [
              "  0%|          | 0/3 [00:00<?, ?it/s]"
            ],
            "application/vnd.jupyter.widget-view+json": {
              "version_major": 2,
              "version_minor": 0,
              "model_id": "80c40e3e03f444b094c5ead52bf2876b"
            }
          },
          "metadata": {}
        },
        {
          "output_type": "stream",
          "name": "stdout",
          "text": [
            "Epoch: 1 | train_loss: 2.5341 | train_acc: 0.0965 | test_loss: 2.3974 | test_acc: 0.1064\n",
            "Epoch: 2 | train_loss: 2.3370 | train_acc: 0.0977 | test_loss: 2.3341 | test_acc: 0.1113\n",
            "Epoch: 3 | train_loss: 2.3109 | train_acc: 0.0953 | test_loss: 2.3016 | test_acc: 0.1064\n"
          ]
        }
      ]
    },
    {
      "cell_type": "markdown",
      "source": [
        "### 8.1 Plot the loss curves of our ViT model"
      ],
      "metadata": {
        "id": "lw-1knwykMMp"
      }
    },
    {
      "cell_type": "code",
      "source": [
        "from scripts import helper_functions\n",
        "\n",
        "# Plot our ViT model's loss curves\n",
        "helper_functions.plot_loss_curves(results)"
      ],
      "metadata": {
        "colab": {
          "base_uri": "https://localhost:8080/",
          "height": 641
        },
        "id": "iUzcHrRPkbke",
        "outputId": "bb3a691b-8f62-42e0-bb27-6648a0d2ffd8"
      },
      "execution_count": 53,
      "outputs": [
        {
          "output_type": "display_data",
          "data": {
            "text/plain": [
              "<Figure size 1500x700 with 2 Axes>"
            ],
            "image/png": "[encoded data removed]"
          },
          "metadata": {}
        }
      ]
    },
    {
      "cell_type": "markdown",
      "source": [
        "## ✅ Conclusion & Takeaways\n",
        "\n",
        "In this project, we successfully recreated a simplified version of the Vision Transformer (ViT) using PyTorch, inspired by the original ViT paper.\n",
        "\n",
        "### 🔍 Key Learnings:\n",
        "- Transformers can be effectively adapted to image classification by treating image patches like word tokens.\n",
        "- Unlike traditional CNNs, ViTs rely on attention mechanisms rather than convolutions to capture spatial relationships.\n",
        "- PyTorch provides the flexibility needed to design custom architectures from scratch and replicate research effectively.\n",
        "\n",
        "### 📈 Next Steps:\n",
        "- Train the ViT on larger datasets like ImageNet or Tiny ImageNet for improved performance.\n",
        "- Compare ViT against CNN baselines (e.g., ResNet) in terms of accuracy and training speed.\n",
        "- Experiment with pre-trained transformer models via `timm` or Hugging Face's `transformers`.\n",
        "\n",
        "### 🎯 Final Note:\n",
        "Replicating papers is not just about accuracy—it’s about learning the underlying principles, dissecting architecture design, and gaining insights into how deep learning evolves. This project deepened that understanding and lays the groundwork for future experimentation with cutting-edge models.\n",
        "\n"
      ],
      "metadata": {
        "id": "pc4f52NNHYay"
      }
    },
    {
      "cell_type": "code",
      "source": [],
      "metadata": {
        "id": "bjTmmd9GIiA7"
      },
      "execution_count": null,
      "outputs": []
    }
  ],
  "metadata": {
    "colab": {
      "machine_shape": "hm",
      "provenance": []
    },
    "kernelspec": {
      "display_name": "Python 3",
      "name": "python3"
    },
    "language_info": {
      "name": "python"
    },
    "widgets": {
      "application/vnd.jupyter.widget-state+json": {
        "80c40e3e03f444b094c5ead52bf2876b": {
          "model_module": "@jupyter-widgets/controls",
          "model_name": "HBoxModel",
          "model_module_version": "1.5.0",
          "state": {
            "_dom_classes": [],
            "_model_module": "@jupyter-widgets/controls",
            "_model_module_version": "1.5.0",
            "_model_name": "HBoxModel",
            "_view_count": null,
            "_view_module": "@jupyter-widgets/controls",
            "_view_module_version": "1.5.0",
            "_view_name": "HBoxView",
            "box_style": "",
            "children": [
              "IPY_MODEL_57db53be1f8748519bc3d02516fafeb6",
              "IPY_MODEL_922df6ce88cc48c79479ca2be74d4a7c",
              "IPY_MODEL_ba2c9a8e71244e97bc6be16c8ece9de4"
            ],
            "layout": "IPY_MODEL_7cef39b65b764abab64dc78a6254bea4"
          }
        },
        "57db53be1f8748519bc3d02516fafeb6": {
          "model_module": "@jupyter-widgets/controls",
          "model_name": "HTMLModel",
          "model_module_version": "1.5.0",
          "state": {
            "_dom_classes": [],
            "_model_module": "@jupyter-widgets/controls",
            "_model_module_version": "1.5.0",
            "_model_name": "HTMLModel",
            "_view_count": null,
            "_view_module": "@jupyter-widgets/controls",
            "_view_module_version": "1.5.0",
            "_view_name": "HTMLView",
            "description": "",
            "description_tooltip": null,
            "layout": "IPY_MODEL_ec5c22cc42eb43b59aafd99450d5f48a",
            "placeholder": "​",
            "style": "IPY_MODEL_ec72c49a888448478481d52f15a39112",
            "value": "100%"
          }
        },
        "922df6ce88cc48c79479ca2be74d4a7c": {
          "model_module": "@jupyter-widgets/controls",
          "model_name": "FloatProgressModel",
          "model_module_version": "1.5.0",
          "state": {
            "_dom_classes": [],
            "_model_module": "@jupyter-widgets/controls",
            "_model_module_version": "1.5.0",
            "_model_name": "FloatProgressModel",
            "_view_count": null,
            "_view_module": "@jupyter-widgets/controls",
            "_view_module_version": "1.5.0",
            "_view_name": "ProgressView",
            "bar_style": "success",
            "description": "",
            "description_tooltip": null,
            "layout": "IPY_MODEL_7759ddc77ea246d2bca37a35166e7a3d",
            "max": 3,
            "min": 0,
            "orientation": "horizontal",
            "style": "IPY_MODEL_44ea41d7a73e45bf80bead942d01a965",
            "value": 3
          }
        },
        "ba2c9a8e71244e97bc6be16c8ece9de4": {
          "model_module": "@jupyter-widgets/controls",
          "model_name": "HTMLModel",
          "model_module_version": "1.5.0",
          "state": {
            "_dom_classes": [],
            "_model_module": "@jupyter-widgets/controls",
            "_model_module_version": "1.5.0",
            "_model_name": "HTMLModel",
            "_view_count": null,
            "_view_module": "@jupyter-widgets/controls",
            "_view_module_version": "1.5.0",
            "_view_name": "HTMLView",
            "description": "",
            "description_tooltip": null,
            "layout": "IPY_MODEL_6a53078f21f24708a17e4d942edbe66a",
            "placeholder": "​",
            "style": "IPY_MODEL_d132b3df5a1b4aca9436312efc1a73ec",
            "value": " 3/3 [01:58&lt;00:00, 39.27s/it]"
          }
        },
        "7cef39b65b764abab64dc78a6254bea4": {
          "model_module": "@jupyter-widgets/base",
          "model_name": "LayoutModel",
          "model_module_version": "1.2.0",
          "state": {
            "_model_module": "@jupyter-widgets/base",
            "_model_module_version": "1.2.0",
            "_model_name": "LayoutModel",
            "_view_count": null,
            "_view_module": "@jupyter-widgets/base",
            "_view_module_version": "1.2.0",
            "_view_name": "LayoutView",
            "align_content": null,
            "align_items": null,
            "align_self": null,
            "border": null,
            "bottom": null,
            "display": null,
            "flex": null,
            "flex_flow": null,
            "grid_area": null,
            "grid_auto_columns": null,
            "grid_auto_flow": null,
            "grid_auto_rows": null,
            "grid_column": null,
            "grid_gap": null,
            "grid_row": null,
            "grid_template_areas": null,
            "grid_template_columns": null,
            "grid_template_rows": null,
            "height": null,
            "justify_content": null,
            "justify_items": null,
            "left": null,
            "margin": null,
            "max_height": null,
            "max_width": null,
            "min_height": null,
            "min_width": null,
            "object_fit": null,
            "object_position": null,
            "order": null,
            "overflow": null,
            "overflow_x": null,
            "overflow_y": null,
            "padding": null,
            "right": null,
            "top": null,
            "visibility": null,
            "width": null
          }
        },
        "ec5c22cc42eb43b59aafd99450d5f48a": {
          "model_module": "@jupyter-widgets/base",
          "model_name": "LayoutModel",
          "model_module_version": "1.2.0",
          "state": {
            "_model_module": "@jupyter-widgets/base",
            "_model_module_version": "1.2.0",
            "_model_name": "LayoutModel",
            "_view_count": null,
            "_view_module": "@jupyter-widgets/base",
            "_view_module_version": "1.2.0",
            "_view_name": "LayoutView",
            "align_content": null,
            "align_items": null,
            "align_self": null,
            "border": null,
            "bottom": null,
            "display": null,
            "flex": null,
            "flex_flow": null,
            "grid_area": null,
            "grid_auto_columns": null,
            "grid_auto_flow": null,
            "grid_auto_rows": null,
            "grid_column": null,
            "grid_gap": null,
            "grid_row": null,
            "grid_template_areas": null,
            "grid_template_columns": null,
            "grid_template_rows": null,
            "height": null,
            "justify_content": null,
            "justify_items": null,
            "left": null,
            "margin": null,
            "max_height": null,
            "max_width": null,
            "min_height": null,
            "min_width": null,
            "object_fit": null,
            "object_position": null,
            "order": null,
            "overflow": null,
            "overflow_x": null,
            "overflow_y": null,
            "padding": null,
            "right": null,
            "top": null,
            "visibility": null,
            "width": null
          }
        },
        "ec72c49a888448478481d52f15a39112": {
          "model_module": "@jupyter-widgets/controls",
          "model_name": "DescriptionStyleModel",
          "model_module_version": "1.5.0",
          "state": {
            "_model_module": "@jupyter-widgets/controls",
            "_model_module_version": "1.5.0",
            "_model_name": "DescriptionStyleModel",
            "_view_count": null,
            "_view_module": "@jupyter-widgets/base",
            "_view_module_version": "1.2.0",
            "_view_name": "StyleView",
            "description_width": ""
          }
        },
        "7759ddc77ea246d2bca37a35166e7a3d": {
          "model_module": "@jupyter-widgets/base",
          "model_name": "LayoutModel",
          "model_module_version": "1.2.0",
          "state": {
            "_model_module": "@jupyter-widgets/base",
            "_model_module_version": "1.2.0",
            "_model_name": "LayoutModel",
            "_view_count": null,
            "_view_module": "@jupyter-widgets/base",
            "_view_module_version": "1.2.0",
            "_view_name": "LayoutView",
            "align_content": null,
            "align_items": null,
            "align_self": null,
            "border": null,
            "bottom": null,
            "display": null,
            "flex": null,
            "flex_flow": null,
            "grid_area": null,
            "grid_auto_columns": null,
            "grid_auto_flow": null,
            "grid_auto_rows": null,
            "grid_column": null,
            "grid_gap": null,
            "grid_row": null,
            "grid_template_areas": null,
            "grid_template_columns": null,
            "grid_template_rows": null,
            "height": null,
            "justify_content": null,
            "justify_items": null,
            "left": null,
            "margin": null,
            "max_height": null,
            "max_width": null,
            "min_height": null,
            "min_width": null,
            "object_fit": null,
            "object_position": null,
            "order": null,
            "overflow": null,
            "overflow_x": null,
            "overflow_y": null,
            "padding": null,
            "right": null,
            "top": null,
            "visibility": null,
            "width": null
          }
        },
        "44ea41d7a73e45bf80bead942d01a965": {
          "model_module": "@jupyter-widgets/controls",
          "model_name": "ProgressStyleModel",
          "model_module_version": "1.5.0",
          "state": {
            "_model_module": "@jupyter-widgets/controls",
            "_model_module_version": "1.5.0",
            "_model_name": "ProgressStyleModel",
            "_view_count": null,
            "_view_module": "@jupyter-widgets/base",
            "_view_module_version": "1.2.0",
            "_view_name": "StyleView",
            "bar_color": null,
            "description_width": ""
          }
        },
        "6a53078f21f24708a17e4d942edbe66a": {
          "model_module": "@jupyter-widgets/base",
          "model_name": "LayoutModel",
          "model_module_version": "1.2.0",
          "state": {
            "_model_module": "@jupyter-widgets/base",
            "_model_module_version": "1.2.0",
            "_model_name": "LayoutModel",
            "_view_count": null,
            "_view_module": "@jupyter-widgets/base",
            "_view_module_version": "1.2.0",
            "_view_name": "LayoutView",
            "align_content": null,
            "align_items": null,
            "align_self": null,
            "border": null,
            "bottom": null,
            "display": null,
            "flex": null,
            "flex_flow": null,
            "grid_area": null,
            "grid_auto_columns": null,
            "grid_auto_flow": null,
            "grid_auto_rows": null,
            "grid_column": null,
            "grid_gap": null,
            "grid_row": null,
            "grid_template_areas": null,
            "grid_template_columns": null,
            "grid_template_rows": null,
            "height": null,
            "justify_content": null,
            "justify_items": null,
            "left": null,
            "margin": null,
            "max_height": null,
            "max_width": null,
            "min_height": null,
            "min_width": null,
            "object_fit": null,
            "object_position": null,
            "order": null,
            "overflow": null,
            "overflow_x": null,
            "overflow_y": null,
            "padding": null,
            "right": null,
            "top": null,
            "visibility": null,
            "width": null
          }
        },
        "d132b3df5a1b4aca9436312efc1a73ec": {
          "model_module": "@jupyter-widgets/controls",
          "model_name": "DescriptionStyleModel",
          "model_module_version": "1.5.0",
          "state": {
            "_model_module": "@jupyter-widgets/controls",
            "_model_module_version": "1.5.0",
            "_model_name": "DescriptionStyleModel",
            "_view_count": null,
            "_view_module": "@jupyter-widgets/base",
            "_view_module_version": "1.2.0",
            "_view_name": "StyleView",
            "description_width": ""
          }
        }
      }
    }
  },
  "nbformat": 4,
  "nbformat_minor": 0
}