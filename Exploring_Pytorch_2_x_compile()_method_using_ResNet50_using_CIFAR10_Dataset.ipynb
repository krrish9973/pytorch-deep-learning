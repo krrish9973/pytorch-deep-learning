{
  "cells": [
    {
      "cell_type": "markdown",
      "metadata": {
        "id": "view-in-github",
        "colab_type": "text"
      },
      "source": [
        "<a href=\"https://colab.research.google.com/github/krrish9973/pytorch-deep-learning/blob/main/Exploring_Pytorch_2_x_compile()_method_using_ResNet50_using_CIFAR10_Dataset.ipynb\" target=\"_parent\"><img src=\"https://colab.research.google.com/assets/colab-badge.svg\" alt=\"Open In Colab\"/></a>"
      ]
    },
    {
      "cell_type": "markdown",
      "metadata": {
        "id": "ursr9V-nGUZd"
      },
      "source": [
        "## What we're going to cover\n",
        "\n",
        "Namely we'll make two of the same models, one using the default PyTorch setup and the other using the new `torch.compile()` setup and we'll train them on the same dataset.\n",
        "\n",
        "1. Model 1 - no `torch.compile()`.\n",
        "2. Model 2 - `torch.compile()`.\n",
        "\n",
        "We'll then compare the training/testing times of both models for single run and multiple runs.\n",
        "\n",
        "| Experiment       | Model    | Data    | Epochs | Batch size | Image size | torch.compile() |\n",
        "|------------------|----------|---------|--------|-------------|-------------|------------------|\n",
        "| 1 (single run)   | ResNet50 | CIFAR10 | 5      | 128         | 224         | No               |\n",
        "| 2 (single run)   | ResNet50 | CIFAR10 | 5      | 128         | 224         | Yes              |\n",
        "| 3 (multi-run)    | ResNet50 | CIFAR10 | 3x5    | 128         | 224         | No               |\n",
        "| 4 (multi-run)    | ResNet50 | CIFAR10 | 3x5    | 128         | 224           | Yes                |\n"
      ]
    },
    {
      "cell_type": "markdown",
      "metadata": {
        "id": "4AaFu0_1RSb0"
      },
      "source": [
        "## 1. Get GPU info"
      ]
    },
    {
      "cell_type": "code",
      "execution_count": null,
      "metadata": {
        "colab": {
          "base_uri": "https://localhost:8080/"
        },
        "id": "sQq2s9PxSOc-",
        "outputId": "dfcf0695-3160-482a-d9c0-fbe44943dfd2"
      },
      "outputs": [
        {
          "name": "stdout",
          "output_type": "stream",
          "text": [
            "GPU name: NVIDIA_A100-SXM4-40GB\n",
            "GPU capability score: (8, 0)\n",
            "GPU score higher than or equal to (8, 0), PyTorch 2.x speedup features available.\n",
            "GPU information:\n",
            "Sat Jun 28 11:12:39 2025       \n",
            "+-----------------------------------------------------------------------------------------+\n",
            "| NVIDIA-SMI 550.54.15              Driver Version: 550.54.15      CUDA Version: 12.4     |\n",
            "|-----------------------------------------+------------------------+----------------------+\n",
            "| GPU  Name                 Persistence-M | Bus-Id          Disp.A | Volatile Uncorr. ECC |\n",
            "| Fan  Temp   Perf          Pwr:Usage/Cap |           Memory-Usage | GPU-Util  Compute M. |\n",
            "|                                         |                        |               MIG M. |\n",
            "|=========================================+========================+======================|\n",
            "|   0  NVIDIA A100-SXM4-40GB          Off |   00000000:00:04.0 Off |                    0 |\n",
            "| N/A   42C    P0             46W /  400W |       5MiB /  40960MiB |      0%      Default |\n",
            "|                                         |                        |             Disabled |\n",
            "+-----------------------------------------+------------------------+----------------------+\n",
            "                                                                                         \n",
            "+-----------------------------------------------------------------------------------------+\n",
            "| Processes:                                                                              |\n",
            "|  GPU   GI   CI        PID   Type   Process name                              GPU Memory |\n",
            "|        ID   ID                                                               Usage      |\n",
            "|=========================================================================================|\n",
            "|  No running processes found                                                             |\n",
            "+-----------------------------------------------------------------------------------------+\n"
          ]
        }
      ],
      "source": [
        "import torch\n",
        "\n",
        "# Make sure we're using a NVIDIA GPU\n",
        "if torch.cuda.is_available():\n",
        "  gpu_info = !nvidia-smi\n",
        "  gpu_info = '\\n'.join(gpu_info)\n",
        "  if gpu_info.find(\"failed\") >= 0:\n",
        "    print(\"Not connected to a GPU, to leverage the best of PyTorch 2.x, you should connect to a GPU.\")\n",
        "\n",
        "  # Get GPU name\n",
        "  gpu_name = !nvidia-smi --query-gpu=gpu_name --format=csv\n",
        "  gpu_name = gpu_name[1]\n",
        "  GPU_NAME = gpu_name.replace(\" \", \"_\") # remove underscores for easier saving\n",
        "  print(f'GPU name: {GPU_NAME}')\n",
        "\n",
        "  # Get GPU capability score\n",
        "  GPU_SCORE = torch.cuda.get_device_capability()\n",
        "  print(f\"GPU capability score: {GPU_SCORE}\")\n",
        "  if GPU_SCORE >= (8, 0):\n",
        "    print(f\"GPU score higher than or equal to (8, 0), PyTorch 2.x speedup features available.\")\n",
        "  else:\n",
        "    print(f\"GPU score lower than (8, 0), PyTorch 2.x speedup features will be limited (PyTorch 2.x speedups happen most on newer GPUs).\")\n",
        "\n",
        "  # Print GPU info\n",
        "  print(f\"GPU information:\\n{gpu_info}\")\n",
        "\n",
        "else:\n",
        "  print(\"PyTorch couldn't find a GPU, to leverage the best of PyTorch 2.0, you should connect to a GPU.\")"
      ]
    },
    {
      "cell_type": "markdown",
      "metadata": {
        "id": "f3nT4VKYSdrH"
      },
      "source": [
        "### 1.1 Globally set devices"
      ]
    },
    {
      "cell_type": "code",
      "execution_count": null,
      "metadata": {
        "colab": {
          "base_uri": "https://localhost:8080/"
        },
        "id": "2xDpq8v_SlgQ",
        "outputId": "3669c93e-3719-43ba-cb43-83da09f3c055"
      },
      "outputs": [
        {
          "name": "stdout",
          "output_type": "stream",
          "text": [
            "Layer weights are on device: cuda:0\n",
            "Layer creating data on device: cuda:0\n"
          ]
        }
      ],
      "source": [
        "import torch\n",
        "\n",
        "# Set the device\n",
        "device = \"cuda\" if torch.cuda.is_available() else \"cpu\"\n",
        "\n",
        "# Set the device with context manager (requires PyTorch 2.x+)\n",
        "with torch.device(device):\n",
        "    # All tensors created in this block will be on device\n",
        "    layer = torch.nn.Linear(20, 30)\n",
        "    print(f\"Layer weights are on device: {layer.weight.device}\")\n",
        "    print(f\"Layer creating data on device: {layer(torch.randn(128, 20)).device}\")"
      ]
    },
    {
      "cell_type": "code",
      "execution_count": null,
      "metadata": {
        "colab": {
          "base_uri": "https://localhost:8080/"
        },
        "id": "1pNDXKAcSpMx",
        "outputId": "889eff1e-48e3-485e-d4fb-c75aa4dfc1a1"
      },
      "outputs": [
        {
          "name": "stdout",
          "output_type": "stream",
          "text": [
            "Layer weights are on device: cuda:0\n",
            "Layer creating data on device: cuda:0\n"
          ]
        }
      ],
      "source": [
        "import torch\n",
        "\n",
        "# Set the device\n",
        "device = \"cuda\" if torch.cuda.is_available() else \"cpu\"\n",
        "\n",
        "# Set the device globally\n",
        "torch.set_default_device(device)\n",
        "\n",
        "# All tensors created will be on the global device by default\n",
        "layer = torch.nn.Linear(20, 30)\n",
        "print(f\"Layer weights are on device: {layer.weight.device}\")\n",
        "print(f\"Layer creating data on device: {layer(torch.randn(128, 20)).device}\")"
      ]
    },
    {
      "cell_type": "code",
      "execution_count": null,
      "metadata": {
        "colab": {
          "base_uri": "https://localhost:8080/"
        },
        "id": "Z2u0vKO9SwFD",
        "outputId": "639f33ec-c924-4c49-ac50-c58b6e652b51"
      },
      "outputs": [
        {
          "name": "stdout",
          "output_type": "stream",
          "text": [
            "Layer weights are on device: cpu\n",
            "Layer creating data on device: cpu\n"
          ]
        }
      ],
      "source": [
        "#Now Back to CPU\n",
        "\n",
        "import torch\n",
        "\n",
        "# Set the device globally\n",
        "torch.set_default_device(\"cpu\")\n",
        "\n",
        "# All tensors created will be on \"cpu\"\n",
        "layer = torch.nn.Linear(20, 30)\n",
        "print(f\"Layer weights are on device: {layer.weight.device}\")\n",
        "print(f\"Layer creating data on device: {layer(torch.randn(128, 20)).device}\")"
      ]
    },
    {
      "cell_type": "markdown",
      "metadata": {
        "id": "h7lMNCDOS8Ic"
      },
      "source": [
        "## 2. Setting up the experiments\n",
        "\n",
        "To keep things simple, as we discussed we're going to run a series of four experiments, all with:\n",
        "\n",
        "> Model: `ResNet50` (from TorchVision)\n",
        "\n",
        "> Data: `CIFAR10` (from TorchVision)\n",
        "\n",
        "> Epochs: 5 (single run) and 3x5 (multiple runs)\n",
        "\n",
        "> `Batch size`: 128\n",
        "\n",
        "> `Image size`: 224\n",
        "\n",
        "Each experiment will be run with and without `torch.compile()`.\n",
        "\n",
        "Why the single and multiple runs?\n",
        "\n",
        "Because we can measure speedups via a single run, however, we'll also want to run the tests multiple times to get an average (just to make sure the results from a single run weren't a fluke or something went wrong).\n",
        "\n"
      ]
    },
    {
      "cell_type": "code",
      "execution_count": null,
      "metadata": {
        "colab": {
          "base_uri": "https://localhost:8080/"
        },
        "id": "Eqg75QVjS_Zf",
        "outputId": "2ba47909-830a-4712-8601-c910c4b5fc51"
      },
      "outputs": [
        {
          "name": "stdout",
          "output_type": "stream",
          "text": [
            "PyTorch version: 2.6.0+cu124\n",
            "TorchVision version: 0.21.0+cu124\n",
            "Using device: cuda\n"
          ]
        }
      ],
      "source": [
        "import torch\n",
        "import torchvision\n",
        "\n",
        "print(f\"PyTorch version: {torch.__version__}\")\n",
        "print(f\"TorchVision version: {torchvision.__version__}\")\n",
        "\n",
        "# Set the target device\n",
        "device = \"cuda\" if torch.cuda.is_available() else \"cpu\"\n",
        "\n",
        "print(f\"Using device: {device}\")"
      ]
    },
    {
      "cell_type": "markdown",
      "metadata": {
        "id": "BqDO055DTavS"
      },
      "source": [
        "### 2.1 Create model and transforms\n",
        "\n",
        "We'll count the model's parameters to see how big of a model we're working with. The more parameters in a model, the larger GPU memory you'll need to train it. However, the more parameters your model has, the more GPU memory it uses, the larger relative speedup you'll often see. Meaning, a larger model may take longer to train in total, however, on a relative basis because it's using more GPU power, it could be faster than a smaller model. As in, a model with 10M parameters may take only 5x longer to train than a model with 1M parameters (10x the size but only 5x the training time)."
      ]
    },
    {
      "cell_type": "code",
      "execution_count": null,
      "metadata": {
        "colab": {
          "base_uri": "https://localhost:8080/"
        },
        "id": "oaGM-Su4TfQ3",
        "outputId": "523d15d2-fbca-4cfd-b517-12ffa15df4a2"
      },
      "outputs": [
        {
          "name": "stderr",
          "output_type": "stream",
          "text": [
            "Downloading: \"https://download.pytorch.org/models/resnet50-11ad3fa6.pth\" to /root/.cache/torch/hub/checkpoints/resnet50-11ad3fa6.pth\n",
            "100%|██████████| 97.8M/97.8M [00:00<00:00, 195MB/s]\n"
          ]
        },
        {
          "name": "stdout",
          "output_type": "stream",
          "text": [
            "Total parameters of model: 25557032 (the more parameters, the more GPU memory the model will use, the more *relative* of a speedup you'll get)\n",
            "Model transforms:\n",
            "ImageClassification(\n",
            "    crop_size=[224]\n",
            "    resize_size=[232]\n",
            "    mean=[0.485, 0.456, 0.406]\n",
            "    std=[0.229, 0.224, 0.225]\n",
            "    interpolation=InterpolationMode.BILINEAR\n",
            ")\n"
          ]
        }
      ],
      "source": [
        "# Create model weights and transforms\n",
        "model_weights = torchvision.models.ResNet50_Weights.IMAGENET1K_V2 # <- use the latest weights (could also use .DEFAULT)\n",
        "transforms = model_weights.transforms()\n",
        "\n",
        "# Setup model\n",
        "model = torchvision.models.resnet50(weights=model_weights)\n",
        "\n",
        "# Count the number of parameters in the model\n",
        "total_params = sum(\n",
        "    param.numel() for param in model.parameters() # <- all params\n",
        "\t# param.numel() for param in model.parameters() if param.requires_grad # <- only trainable params\n",
        ")\n",
        "\n",
        "print(f\"Total parameters of model: {total_params} (the more parameters, the more GPU memory the model will use, the more *relative* of a speedup you'll get)\")\n",
        "print(f\"Model transforms:\\n{transforms}\")"
      ]
    },
    {
      "cell_type": "code",
      "execution_count": null,
      "metadata": {
        "id": "2bGp4NhxTxiP"
      },
      "outputs": [],
      "source": [
        "def create_model(num_classes=10):\n",
        "  \"\"\"\n",
        "  Creates a ResNet50 model with the latest weights and transforms via torchvision.\n",
        "  \"\"\"\n",
        "  model_weights = torchvision.models.ResNet50_Weights.IMAGENET1K_V2\n",
        "  transforms = model_weights.transforms()\n",
        "  model = torchvision.models.resnet50(weights=model_weights)\n",
        "\n",
        "  # Adjust the number of output features in model to match the number of classes in the dataset\n",
        "  model.fc = torch.nn.Linear(in_features=2048,\n",
        "                             out_features=num_classes)\n",
        "  return model, transforms\n",
        "\n",
        "model, transforms = create_model()"
      ]
    },
    {
      "cell_type": "markdown",
      "metadata": {
        "id": "OzSDS2GrT6gg"
      },
      "source": [
        "### 2.2 Speedups are most noticeable when a large portion of the GPU is being used\n",
        "\n",
        "Since modern GPUs are so fast at performing operations, you will often notice the majority of relative speedups when as much data as possible is on the GPU.\n",
        "\n",
        "This can be achieved by:\n",
        "\n",
        "1. **Increasing the batch size** - More samples per batch means more samples on the GPU, for example, using a batch size of 256 instead of 32.\n",
        "\n",
        "2. **Increasing data size** - For example, using larger image size, 224x224 instead of 32x32. A larger data size means that more tensor operations will be happening on the GPU.\n",
        "\n",
        "3. **Increasing model size** - For example, using a larger model such as ResNet101 instead of ResNet50. A larger model means that more tensor operations will be happening on the GPU.\n",
        "\n",
        "4. **Decreasing data transfer** - For example, setting up all your tensors to be on GPU memory, this minimizes the amount of data transfer between the CPU and GPU.\n"
      ]
    },
    {
      "cell_type": "markdown",
      "metadata": {
        "id": "H6sxpEjfUFku"
      },
      "source": [
        "### 2.3 Checking the memory limits of our GPU\n",
        "\n",
        "To take advantage of speedups at scale, let's check how much memory our GPU has.\n",
        "\n",
        "If your GPU has less memory, you may need to decrease the batch size or image size (less potential for speedups).\n",
        "\n",
        "We can check the memory available on our GPU using `torch.cuda.mem_get_info()`.\n",
        "\n",
        "This will return a tuple of (`total_free_gpu_memory`, `total_gpu_memory`).\n",
        "\n"
      ]
    },
    {
      "cell_type": "code",
      "execution_count": null,
      "metadata": {
        "colab": {
          "base_uri": "https://localhost:8080/"
        },
        "id": "a5bKcOf5US6H",
        "outputId": "bea0d650-f6a4-4a9d-a8a8-6ff8e384e47d"
      },
      "outputs": [
        {
          "name": "stdout",
          "output_type": "stream",
          "text": [
            "Total free GPU memory: 41.994 GB\n",
            "Total GPU memory: 42.474 GB\n"
          ]
        }
      ],
      "source": [
        "# Check available GPU memory and total GPU memory\n",
        "total_free_gpu_memory, total_gpu_memory = torch.cuda.mem_get_info()\n",
        "print(f\"Total free GPU memory: {round(total_free_gpu_memory * 1e-9, 3)} GB\")\n",
        "print(f\"Total GPU memory: {round(total_gpu_memory * 1e-9, 3)} GB\")"
      ]
    },
    {
      "cell_type": "code",
      "execution_count": null,
      "metadata": {
        "colab": {
          "base_uri": "https://localhost:8080/"
        },
        "id": "HMAg0v4CUjXz",
        "outputId": "5348cda2-09a2-4c95-df82-d7044e713834"
      },
      "outputs": [
        {
          "name": "stdout",
          "output_type": "stream",
          "text": [
            "GPU memory available is 41.994 GB, using batch size of 128 and image size 224\n"
          ]
        }
      ],
      "source": [
        "# Set batch size depending on amount of GPU memory\n",
        "total_free_gpu_memory_gb = round(total_free_gpu_memory * 1e-9, 3)\n",
        "if total_free_gpu_memory_gb >= 16:\n",
        "  BATCH_SIZE = 128 # Note: you could experiment with higher values here if you like.\n",
        "  IMAGE_SIZE = 224\n",
        "  print(f\"GPU memory available is {total_free_gpu_memory_gb} GB, using batch size of {BATCH_SIZE} and image size {IMAGE_SIZE}\")\n",
        "else:\n",
        "  BATCH_SIZE = 32\n",
        "  IMAGE_SIZE = 128\n",
        "  print(f\"GPU memory available is {total_free_gpu_memory_gb} GB, using batch size of {BATCH_SIZE} and image size {IMAGE_SIZE}\")"
      ]
    },
    {
      "cell_type": "code",
      "execution_count": null,
      "metadata": {
        "colab": {
          "base_uri": "https://localhost:8080/"
        },
        "id": "zyMz9a74Up5_",
        "outputId": "de825154-969f-44d1-8936-4d94248e0988"
      },
      "outputs": [
        {
          "name": "stdout",
          "output_type": "stream",
          "text": [
            "Updated data transforms:\n",
            "ImageClassification(\n",
            "    crop_size=224\n",
            "    resize_size=224\n",
            "    mean=[0.485, 0.456, 0.406]\n",
            "    std=[0.229, 0.224, 0.225]\n",
            "    interpolation=InterpolationMode.BILINEAR\n",
            ")\n"
          ]
        }
      ],
      "source": [
        "transforms.crop_size = IMAGE_SIZE\n",
        "transforms.resize_size = IMAGE_SIZE\n",
        "print(f\"Updated data transforms:\\n{transforms}\")"
      ]
    },
    {
      "cell_type": "markdown",
      "metadata": {
        "id": "4Z-V7sBFUsoV"
      },
      "source": [
        "### 2.4 More potential speedups with TF32"
      ]
    },
    {
      "cell_type": "code",
      "execution_count": null,
      "metadata": {
        "colab": {
          "base_uri": "https://localhost:8080/"
        },
        "id": "nJCY0nHXU4Z3",
        "outputId": "240dbe56-da76-408a-e7c3-8541a5a73092"
      },
      "outputs": [
        {
          "name": "stdout",
          "output_type": "stream",
          "text": [
            "[INFO] Using GPU with score: (8, 0), enabling TensorFloat32 (TF32) computing (faster on new GPUs)\n"
          ]
        }
      ],
      "source": [
        "if GPU_SCORE >= (8, 0):\n",
        "  print(f\"[INFO] Using GPU with score: {GPU_SCORE}, enabling TensorFloat32 (TF32) computing (faster on new GPUs)\")\n",
        "  torch.backends.cuda.matmul.allow_tf32 = True\n",
        "else:\n",
        "  print(f\"[INFO] Using GPU with score: {GPU_SCORE}, TensorFloat32 (TF32) not available, to use it you need a GPU with score >= (8, 0)\")\n",
        "  torch.backends.cuda.matmul.allow_tf32 = False"
      ]
    },
    {
      "cell_type": "markdown",
      "metadata": {
        "id": "LEVJM-6jU9NO"
      },
      "source": [
        "### 2.5 Preparing datasets\n",
        "Computing setup done!\n",
        "\n",
        "Let's now create our datasets.\n",
        "\n",
        "To keep things simple, we'll use CIFAR10 since it's readily available in `torchvision`.\n",
        "\n",
        "Some info about `CIFAR10`:\n",
        "\n",
        "CIFAR10 is a dataset of 60,000 32x32 color images in 10 classes, with 6,000 images per class.\n",
        "There are 50,000 training images and 10,000 test images.\n",
        "The dataset contains 10 classes: `airplane, automobile, bird, cat, deer, dog, frog, horse, ship, truck`.\n",
        "Although the original dataset consists of 32x32 images, we'll use the transforms we created earlier to resize them to 224x224 (larger images provide more information and will take up more memory on the GPU).\n",
        "\n"
      ]
    },
    {
      "cell_type": "code",
      "execution_count": null,
      "metadata": {
        "colab": {
          "base_uri": "https://localhost:8080/"
        },
        "id": "c7EBQp2dVWZN",
        "outputId": "2c5fefa2-1163-4ac2-dce6-3da17cdc3afe"
      },
      "outputs": [
        {
          "name": "stderr",
          "output_type": "stream",
          "text": [
            "100%|██████████| 170M/170M [00:02<00:00, 79.9MB/s]\n"
          ]
        },
        {
          "name": "stdout",
          "output_type": "stream",
          "text": [
            "[INFO] Train dataset length: 50000\n",
            "[INFO] Test dataset length: 10000\n"
          ]
        }
      ],
      "source": [
        "# Create train and test datasets\n",
        "train_dataset = torchvision.datasets.CIFAR10(root='.',\n",
        "                                             train=True,\n",
        "                                             download=True,\n",
        "                                             transform=transforms)\n",
        "\n",
        "test_dataset = torchvision.datasets.CIFAR10(root='.',\n",
        "                                            train=False, # want the test split\n",
        "                                            download=True,\n",
        "                                            transform=transforms)\n",
        "\n",
        "# Get the lengths of the datasets\n",
        "train_len = len(train_dataset)\n",
        "test_len = len(test_dataset)\n",
        "\n",
        "print(f\"[INFO] Train dataset length: {train_len}\")\n",
        "print(f\"[INFO] Test dataset length: {test_len}\")"
      ]
    },
    {
      "cell_type": "markdown",
      "metadata": {
        "id": "JETuIA5hVpNp"
      },
      "source": [
        "### 2.6 Create DataLoaders\n",
        "Let's create our DataLoaders using `torch.utils.data.DataLoader`.\n",
        "\n",
        "We'll set their `batch_size` to the `BATCH_SIZE` we created earlier.\n",
        "\n",
        "And the `num_workers` parameter to be the number of CPU cores we have available with `os.cpu_count()`.\n",
        "\n"
      ]
    },
    {
      "cell_type": "code",
      "execution_count": null,
      "metadata": {
        "colab": {
          "base_uri": "https://localhost:8080/"
        },
        "id": "BqtIkZ_qVt6J",
        "outputId": "aae208c4-c8bc-4674-d193-98c638ec24b9"
      },
      "outputs": [
        {
          "name": "stdout",
          "output_type": "stream",
          "text": [
            "Train dataloader length: 391 batches of size 128\n",
            "Test dataloader length: 79 batches of size 128\n",
            "Using number of workers: 12 (generally more workers means faster dataloading from CPU to GPU)\n"
          ]
        }
      ],
      "source": [
        "from torch.utils.data import DataLoader\n",
        "\n",
        "# Create DataLoaders\n",
        "import os\n",
        "NUM_WORKERS = os.cpu_count() # <- use all available CPU cores (this number can be tweaked through experimentation but generally more workers means faster dataloading from CPU to GPU)\n",
        "\n",
        "train_dataloader = DataLoader(dataset=train_dataset,\n",
        "                              batch_size=BATCH_SIZE,\n",
        "                              shuffle=True,\n",
        "                              num_workers=NUM_WORKERS)\n",
        "\n",
        "test_dataloader = DataLoader(dataset=test_dataset,\n",
        "                              batch_size=BATCH_SIZE,\n",
        "                              shuffle=False,\n",
        "                              num_workers=NUM_WORKERS)\n",
        "\n",
        "# Print details\n",
        "print(f\"Train dataloader length: {len(train_dataloader)} batches of size {BATCH_SIZE}\")\n",
        "print(f\"Test dataloader length: {len(test_dataloader)} batches of size {BATCH_SIZE}\")\n",
        "print(f\"Using number of workers: {NUM_WORKERS} (generally more workers means faster dataloading from CPU to GPU)\")"
      ]
    },
    {
      "cell_type": "markdown",
      "metadata": {
        "id": "v-tMGCz_V7u5"
      },
      "source": [
        "### 2.7 Create training and testing loops\n",
        "\n",
        "Dataloaders ready!\n",
        "\n",
        "Let's now create some training and testing loops.\n",
        "\n",
        "\n",
        "Since we're focused on measuring speed, we're going to add a timing component to each loop to measure how long each takes to complete.\n",
        "\n",
        "We'll do this by measuring the start and end time of each training and testing epoch with Python's `time.time()` and tracking it in a dictionary.\n"
      ]
    },
    {
      "cell_type": "code",
      "execution_count": null,
      "metadata": {
        "id": "m81v87XqV_gJ"
      },
      "outputs": [],
      "source": [
        "import time\n",
        "from tqdm.auto import tqdm\n",
        "from typing import Dict, List, Tuple\n",
        "\n",
        "def train_step(epoch: int,\n",
        "               model: torch.nn.Module,\n",
        "               dataloader: torch.utils.data.DataLoader,\n",
        "               loss_fn: torch.nn.Module,\n",
        "               optimizer: torch.optim.Optimizer,\n",
        "               device: torch.device,\n",
        "               disable_progress_bar: bool = False) -> Tuple[float, float]:\n",
        "  \"\"\"Trains a PyTorch model for a single epoch.\n",
        "\n",
        "  Turns a target PyTorch model to training mode and then\n",
        "  runs through all of the required training steps (forward\n",
        "  pass, loss calculation, optimizer step).\n",
        "\n",
        "  Args:\n",
        "    model: A PyTorch model to be trained.\n",
        "    dataloader: A DataLoader instance for the model to be trained on.\n",
        "    loss_fn: A PyTorch loss function to minimize.\n",
        "    optimizer: A PyTorch optimizer to help minimize the loss function.\n",
        "    device: A target device to compute on (e.g. \"cuda\" or \"cpu\").\n",
        "\n",
        "  Returns:\n",
        "    A tuple of training loss and training accuracy metrics.\n",
        "    In the form (train_loss, train_accuracy). For example:\n",
        "\n",
        "    (0.1112, 0.8743)\n",
        "  \"\"\"\n",
        "  # Put model in train mode\n",
        "  model.train()\n",
        "\n",
        "  # Setup train loss and train accuracy values\n",
        "  train_loss, train_acc = 0, 0\n",
        "\n",
        "  # Loop through data loader data batches\n",
        "  progress_bar = tqdm(\n",
        "        enumerate(dataloader),\n",
        "        desc=f\"Training Epoch {epoch}\",\n",
        "        total=len(dataloader),\n",
        "        disable=disable_progress_bar\n",
        "    )\n",
        "\n",
        "  for batch, (X, y) in progress_bar:\n",
        "      # Send data to target device\n",
        "      X, y = X.to(device), y.to(device)\n",
        "\n",
        "      # 1. Forward pass\n",
        "      y_pred = model(X)\n",
        "\n",
        "      # 2. Calculate  and accumulate loss\n",
        "      loss = loss_fn(y_pred, y)\n",
        "      train_loss += loss.item()\n",
        "\n",
        "      # 3. Optimizer zero grad\n",
        "      optimizer.zero_grad()\n",
        "\n",
        "      # 4. Loss backward\n",
        "      loss.backward()\n",
        "\n",
        "      # 5. Optimizer step\n",
        "      optimizer.step()\n",
        "\n",
        "      # Calculate and accumulate accuracy metrics across all batches\n",
        "      y_pred_class = torch.argmax(torch.softmax(y_pred, dim=1), dim=1)\n",
        "      train_acc += (y_pred_class == y).sum().item()/len(y_pred)\n",
        "\n",
        "      # Update progress bar\n",
        "      progress_bar.set_postfix(\n",
        "            {\n",
        "                \"train_loss\": train_loss / (batch + 1),\n",
        "                \"train_acc\": train_acc / (batch + 1),\n",
        "            }\n",
        "        )\n",
        "\n",
        "\n",
        "  # Adjust metrics to get average loss and accuracy per batch\n",
        "  train_loss = train_loss / len(dataloader)\n",
        "  train_acc = train_acc / len(dataloader)\n",
        "  return train_loss, train_acc\n",
        "\n",
        "def test_step(epoch: int,\n",
        "              model: torch.nn.Module,\n",
        "              dataloader: torch.utils.data.DataLoader,\n",
        "              loss_fn: torch.nn.Module,\n",
        "              device: torch.device,\n",
        "              disable_progress_bar: bool = False) -> Tuple[float, float]:\n",
        "  \"\"\"Tests a PyTorch model for a single epoch.\n",
        "\n",
        "  Turns a target PyTorch model to \"eval\" mode and then performs\n",
        "  a forward pass on a testing dataset.\n",
        "\n",
        "  Args:\n",
        "    model: A PyTorch model to be tested.\n",
        "    dataloader: A DataLoader instance for the model to be tested on.\n",
        "    loss_fn: A PyTorch loss function to calculate loss on the test data.\n",
        "    device: A target device to compute on (e.g. \"cuda\" or \"cpu\").\n",
        "\n",
        "  Returns:\n",
        "    A tuple of testing loss and testing accuracy metrics.\n",
        "    In the form (test_loss, test_accuracy). For example:\n",
        "\n",
        "    (0.0223, 0.8985)\n",
        "  \"\"\"\n",
        "  # Put model in eval mode\n",
        "  model.eval()\n",
        "\n",
        "  # Setup test loss and test accuracy values\n",
        "  test_loss, test_acc = 0, 0\n",
        "\n",
        "  # Loop through data loader data batches\n",
        "  progress_bar = tqdm(\n",
        "      enumerate(dataloader),\n",
        "      desc=f\"Testing Epoch {epoch}\",\n",
        "      total=len(dataloader),\n",
        "      disable=disable_progress_bar\n",
        "  )\n",
        "\n",
        "  # Turn on inference context manager\n",
        "  with torch.no_grad(): # no_grad() required for PyTorch 2.0, I found some errors with `torch.inference_mode()`, please let me know if this is not the case\n",
        "      # Loop through DataLoader batches\n",
        "      for batch, (X, y) in progress_bar:\n",
        "          # Send data to target device\n",
        "          X, y = X.to(device), y.to(device)\n",
        "\n",
        "          # 1. Forward pass\n",
        "          test_pred_logits = model(X)\n",
        "\n",
        "          # 2. Calculate and accumulate loss\n",
        "          loss = loss_fn(test_pred_logits, y)\n",
        "          test_loss += loss.item()\n",
        "\n",
        "          # Calculate and accumulate accuracy\n",
        "          test_pred_labels = test_pred_logits.argmax(dim=1)\n",
        "          test_acc += ((test_pred_labels == y).sum().item()/len(test_pred_labels))\n",
        "\n",
        "          # Update progress bar\n",
        "          progress_bar.set_postfix(\n",
        "              {\n",
        "                  \"test_loss\": test_loss / (batch + 1),\n",
        "                  \"test_acc\": test_acc / (batch + 1),\n",
        "              }\n",
        "          )\n",
        "\n",
        "  # Adjust metrics to get average loss and accuracy per batch\n",
        "  test_loss = test_loss / len(dataloader)\n",
        "  test_acc = test_acc / len(dataloader)\n",
        "  return test_loss, test_acc\n",
        "\n",
        "def train(model: torch.nn.Module,\n",
        "          train_dataloader: torch.utils.data.DataLoader,\n",
        "          test_dataloader: torch.utils.data.DataLoader,\n",
        "          optimizer: torch.optim.Optimizer,\n",
        "          loss_fn: torch.nn.Module,\n",
        "          epochs: int,\n",
        "          device: torch.device,\n",
        "          disable_progress_bar: bool = False) -> Dict[str, List]:\n",
        "  \"\"\"Trains and tests a PyTorch model.\n",
        "\n",
        "  Passes a target PyTorch models through train_step() and test_step()\n",
        "  functions for a number of epochs, training and testing the model\n",
        "  in the same epoch loop.\n",
        "\n",
        "  Calculates, prints and stores evaluation metrics throughout.\n",
        "\n",
        "  Args:\n",
        "    model: A PyTorch model to be trained and tested.\n",
        "    train_dataloader: A DataLoader instance for the model to be trained on.\n",
        "    test_dataloader: A DataLoader instance for the model to be tested on.\n",
        "    optimizer: A PyTorch optimizer to help minimize the loss function.\n",
        "    loss_fn: A PyTorch loss function to calculate loss on both datasets.\n",
        "    epochs: An integer indicating how many epochs to train for.\n",
        "    device: A target device to compute on (e.g. \"cuda\" or \"cpu\").\n",
        "\n",
        "  Returns:\n",
        "    A dictionary of training and testing loss as well as training and\n",
        "    testing accuracy metrics. Each metric has a value in a list for\n",
        "    each epoch.\n",
        "    In the form: {train_loss: [...],\n",
        "                  train_acc: [...],\n",
        "                  test_loss: [...],\n",
        "                  test_acc: [...]}\n",
        "    For example if training for epochs=2:\n",
        "                 {train_loss: [2.0616, 1.0537],\n",
        "                  train_acc: [0.3945, 0.3945],\n",
        "                  test_loss: [1.2641, 1.5706],\n",
        "                  test_acc: [0.3400, 0.2973]}\n",
        "  \"\"\"\n",
        "  # Create empty results dictionary\n",
        "  results = {\"train_loss\": [],\n",
        "      \"train_acc\": [],\n",
        "      \"test_loss\": [],\n",
        "      \"test_acc\": [],\n",
        "      \"train_epoch_time\": [],\n",
        "      \"test_epoch_time\": []\n",
        "  }\n",
        "\n",
        "  # Loop through training and testing steps for a number of epochs\n",
        "  for epoch in tqdm(range(epochs), disable=disable_progress_bar):\n",
        "\n",
        "      # Perform training step and time it\n",
        "      train_epoch_start_time = time.time()\n",
        "      train_loss, train_acc = train_step(epoch=epoch,\n",
        "                                        model=model,\n",
        "                                        dataloader=train_dataloader,\n",
        "                                        loss_fn=loss_fn,\n",
        "                                        optimizer=optimizer,\n",
        "                                        device=device,\n",
        "                                        disable_progress_bar=disable_progress_bar)\n",
        "      train_epoch_end_time = time.time()\n",
        "      train_epoch_time = train_epoch_end_time - train_epoch_start_time\n",
        "\n",
        "      # Perform testing step and time it\n",
        "      test_epoch_start_time = time.time()\n",
        "      test_loss, test_acc = test_step(epoch=epoch,\n",
        "                                      model=model,\n",
        "                                      dataloader=test_dataloader,\n",
        "                                      loss_fn=loss_fn,\n",
        "                                      device=device,\n",
        "                                      disable_progress_bar=disable_progress_bar)\n",
        "      test_epoch_end_time = time.time()\n",
        "      test_epoch_time = test_epoch_end_time - test_epoch_start_time\n",
        "\n",
        "      # Print out what's happening\n",
        "      print(\n",
        "          f\"Epoch: {epoch+1} | \"\n",
        "          f\"train_loss: {train_loss:.4f} | \"\n",
        "          f\"train_acc: {train_acc:.4f} | \"\n",
        "          f\"test_loss: {test_loss:.4f} | \"\n",
        "          f\"test_acc: {test_acc:.4f} | \"\n",
        "          f\"train_epoch_time: {train_epoch_time:.4f} | \"\n",
        "          f\"test_epoch_time: {test_epoch_time:.4f}\"\n",
        "      )\n",
        "\n",
        "      # Update results dictionary\n",
        "      results[\"train_loss\"].append(train_loss)\n",
        "      results[\"train_acc\"].append(train_acc)\n",
        "      results[\"test_loss\"].append(test_loss)\n",
        "      results[\"test_acc\"].append(test_acc)\n",
        "      results[\"train_epoch_time\"].append(train_epoch_time)\n",
        "      results[\"test_epoch_time\"].append(test_epoch_time)\n",
        "\n",
        "  # Return the filled results at the end of the epochs\n",
        "  return results"
      ]
    },
    {
      "cell_type": "markdown",
      "metadata": {
        "id": "nFrWaWu0WMb9"
      },
      "source": [
        "## 3. Time models across single run\n",
        "\n",
        "Training and testing functions ready!\n",
        "\n",
        "Time to start training/evaluating and timing our model.\n",
        "\n",
        "We'll start with the first experiment.\n",
        "\n"
      ]
    },
    {
      "cell_type": "markdown",
      "metadata": {
        "id": "gdfusn6GWVJ6"
      },
      "source": [
        "### 3.1 Experiment 1 - Single run, no compile\n",
        "We'll set the number of epochs to `5` and use a learning rate of `0.003` throughout (you can experiment with different learning rates for better results but we're focused on speed).\n",
        "\n"
      ]
    },
    {
      "cell_type": "code",
      "execution_count": null,
      "metadata": {
        "id": "HBy_kTTLWfMj"
      },
      "outputs": [],
      "source": [
        "# Set the number of epochs as a constant\n",
        "NUM_EPOCHS = 5\n",
        "\n",
        "# Set the learning rate as a constant (this can be changed to get better results but for now we're just focused on time)\n",
        "LEARNING_RATE = 0.003"
      ]
    },
    {
      "cell_type": "code",
      "execution_count": null,
      "metadata": {
        "colab": {
          "base_uri": "https://localhost:8080/",
          "height": 456,
          "referenced_widgets": [
            "2bbf014fd2654b8592baa991b8f8c819",
            "9db813749df34942bbd61f239d2552cf",
            "c95a0c6f0334469cb1d3eb79fdaf4efc",
            "17b8824263a2493c9192c97a9d803569",
            "c3e0738291494f3f92c0eca9f7c9e9c1",
            "9a0e6604fab64f42a437ab767cf2c722",
            "11ddac3626ae4609a54009543c19687b",
            "41d315ba08444ac389c362e15de0ab0b",
            "a8fe6707fee04db1a4181c88d40521ae",
            "f0f7178a61d842d28d5beb526f30133d",
            "5f3190dd09f34687833eb59b1ddfb1ba",
            "4d4916b8eeea428487e3865a551b4740",
            "68b31e71689f4915ad26dbe554ee3633",
            "8cfefaf9a4284e8d8432aec9f819dbcc",
            "7215d2e82ae54f1bbe74ccae0a722a5d",
            "3945d345805a47799aba10603721694b",
            "f8402a3a926c462e9ba2df7bc94ce058",
            "793ef5b659b24cd5b2aab59830c0bb1f",
            "21c499b30a21450ea584c5e263d647e5",
            "a405a3c36fc646ae8d4c55a34fa58c0b",
            "7a580e7a6e274b19924f40daed443a28",
            "8fab9036cd824beb8204341bfa10f406",
            "f473d0eaafb149c38ac42407c1553e69",
            "017f0e744b6f42b7a3a1aaa654ac42bf",
            "688f5d9e6aa34cab82f4d32401b03ea9",
            "18e291e21d614dca814d58055ca153a4",
            "1d691f43e0404197b80caa39fe1e831c",
            "b15d2563e478490fb0f07d9d92f9df0b",
            "d6608c5435234381ac0a40d9b07cec81",
            "091b861bfc3a458aaf9cef0b41a56d84",
            "348d646a4b68495c9c531884bf7a5a46",
            "0ac454a49b0944a68c7779aa1e5852a6",
            "47b734c738394b1d836b61318a41dc81",
            "22611e99b0f44cd281b761ee6de09849",
            "8935814cf13b42f5afc21b5b0e9e3d2d",
            "43144ec63b2c4d57ad58fc664fcaa7cc",
            "9df4bbfc3949473b952f4df621e9bd50",
            "b1a78a6179b64dc28fe048a5b3589298",
            "9561e111ba064bc392130d66e4bad44b",
            "7d5a2d700f8842e4a3ee01633a81ea99",
            "7d1b2800ae4f426ca13156a8eab73419",
            "993e9e328c5447c0b755e800a6234880",
            "8a99c7802abb4a2ab3465c92cf9ff7f5",
            "60f6fa6ea519482c949029afe953ee4e",
            "a1cddbf205e7402e9913e500711246d3",
            "c0a5db9df46c4071ba5364185add40f9",
            "7fa476dea4424cdc974b3d91a7f513ec",
            "14cca047f8784283831ac45cf02ff5d1",
            "0ae3929f3bf64e9ebd490c86561ef19c",
            "d6aabd4d147b4f5e9e4f32787d1362dc",
            "8009b4a1c31a4dbcb05c02eb615289cd",
            "9625ea3f8a05484fae4d792bd7b73668",
            "85bb85f0fead4b7587716c7dab0c5048",
            "635f048a99f2495ebab6e73c44b885cc",
            "1e52fa0d3e0e4e8ea2570482176c1649",
            "6fa7e36bda5745f9bf6be4baaee463de",
            "524d070f944a4a5897bcd8c4da345f62",
            "c4f69c61154c4c34be95d6453adb1222",
            "390b85fafb33468c9cfff2f0621a7b69",
            "24cc9bb8e1ac4d9db3047f9195611549",
            "c9bbfd12b967470c83f143e04189cc35",
            "4c5fc3ee5f4e4d6cb2d65922c5762754",
            "a034419ab8db47e89434b2f9bfccd988",
            "889bf04981f642ed95d7cb1dfbcc9bd7",
            "2b3fe65671e74556b613cd3e8ed638fb",
            "e03c31f8c9004e6a939b0ab39e02a7e5",
            "8a1538840bc64397808605eaffa25ef9",
            "4b5f5c0994b8492880a58c3044181ebb",
            "49bf4f2d310c4384a534cf3f1488dcec",
            "45eab47863744480a389e1683634ced6",
            "feda31a5770747139573cbc1ef87089a",
            "b1516beaedfe40ab98d1aacf3553a21c",
            "7c005a474e6f4040b4a588b2325596f7",
            "db4fc7b6e5a54932b25a6cbdbe624935",
            "570b90bca18e47b7a77f3030eb58fe09",
            "73215d3805d34116b0be0e5544f6d2d3",
            "99644aed5d2344d4aa1a57d397d43fa0",
            "0818f74c368c4626b21cf02650eb5cf0",
            "0effd48489f44a1f862f380a748afc71",
            "e777c907350e43b69ad3106d696be99d",
            "cb1c8719da8141c9b2eabddad4b987c7",
            "32c8ad122324462698d9c59ca5a1112a",
            "bc5b513310f7458cb13623c8b50aa91b",
            "52942a47a6e44ccdb48f826dbf2b2e9d",
            "1f24aea3513c4ab989418fa7e59ac3b8",
            "854fb4fc93be41c79d61ec4e9de0c330",
            "ef869ec331dc42f28a2ed58b20c1036d",
            "b017562e0d374bbf9220c8f1e760365a",
            "8f52608f8f494b67b10d8205763fcb0b",
            "cb62fa7a2bbb42a782462f05dda83d24",
            "edf6ff47a2d046cebc45f2c2f9ea19ae",
            "52f54df30fe446639090794bb579013e",
            "9668a4b8ff2c41d8b1bf536277aa7258",
            "1d0f0b39a13a4419893ab058cef5d537",
            "6d9a381a29db41068d35d9ad8b092189",
            "3bc48204699b4fd098ae6d44c87349cc",
            "d1851c8fc9db4a0cbd6b14b8f9959c4d",
            "5506f6be93fe45889f0cd37200be896b",
            "ad98c6c579814cc2a98c00b39d831e27",
            "d3b671b89e724bd2bf3addbb53ff59b9",
            "4a7b6303d6a34eb7bb5852c67d78e6d5",
            "23ef0812ade14e41b7907eb457f72b24",
            "00993c1e65c14bf78ab28b91e4774455",
            "d5c654cbfe1145e6aff14caa5e084d63",
            "a88c4a4548b64cb690689fb138a108d2",
            "8c89dacd2caf4789817efd929cb12baf",
            "3ea4d8fd049946a2b578c323d49943cc",
            "f30b3f5389ee4679bae4c528262dbab8",
            "b56f2a87be474e48817e6e83364829a3",
            "c947a176a35749728e3b384e19d75785",
            "412a03cd2c76452c8bdb83a3ef7aecb9",
            "c93f535622da49ce8a04ba8011bf5723",
            "3ca80ee03475473c8eaa427d4f9b8637",
            "456f52c4522e4f9f82e8495a45f05dc0",
            "41a96d817ccc4813a46c08673c008055",
            "6afc190b383d4c2f9c3b6656400823b8",
            "c20c1f2c61fa4077bab1fdae5e59826f",
            "1b9484ebf7b0490f9165240563f7b995",
            "25e80e44a8024a9285dd6fbce811ca1f",
            "03d5d7c1bcaf4a828600ef22c0c077c4",
            "58f437dfc4b8476a88dd1e6a13c7d3af"
          ]
        },
        "id": "hXb8gjZlWoxO",
        "outputId": "5bbb595e-962b-4190-e890-5866e647e4fb"
      },
      "outputs": [
        {
          "data": {
            "application/vnd.jupyter.widget-view+json": {
              "model_id": "2bbf014fd2654b8592baa991b8f8c819",
              "version_major": 2,
              "version_minor": 0
            },
            "text/plain": [
              "  0%|          | 0/5 [00:00<?, ?it/s]"
            ]
          },
          "metadata": {},
          "output_type": "display_data"
        },
        {
          "data": {
            "application/vnd.jupyter.widget-view+json": {
              "model_id": "4d4916b8eeea428487e3865a551b4740",
              "version_major": 2,
              "version_minor": 0
            },
            "text/plain": [
              "Training Epoch 0:   0%|          | 0/391 [00:00<?, ?it/s]"
            ]
          },
          "metadata": {},
          "output_type": "display_data"
        },
        {
          "data": {
            "application/vnd.jupyter.widget-view+json": {
              "model_id": "f473d0eaafb149c38ac42407c1553e69",
              "version_major": 2,
              "version_minor": 0
            },
            "text/plain": [
              "Testing Epoch 0:   0%|          | 0/79 [00:00<?, ?it/s]"
            ]
          },
          "metadata": {},
          "output_type": "display_data"
        },
        {
          "name": "stdout",
          "output_type": "stream",
          "text": [
            "Epoch: 1 | train_loss: 0.7717 | train_acc: 0.7317 | test_loss: 0.6770 | test_acc: 0.7863 | train_epoch_time: 72.6679 | test_epoch_time: 7.2021\n"
          ]
        },
        {
          "data": {
            "application/vnd.jupyter.widget-view+json": {
              "model_id": "22611e99b0f44cd281b761ee6de09849",
              "version_major": 2,
              "version_minor": 0
            },
            "text/plain": [
              "Training Epoch 1:   0%|          | 0/391 [00:00<?, ?it/s]"
            ]
          },
          "metadata": {},
          "output_type": "display_data"
        },
        {
          "data": {
            "application/vnd.jupyter.widget-view+json": {
              "model_id": "a1cddbf205e7402e9913e500711246d3",
              "version_major": 2,
              "version_minor": 0
            },
            "text/plain": [
              "Testing Epoch 1:   0%|          | 0/79 [00:00<?, ?it/s]"
            ]
          },
          "metadata": {},
          "output_type": "display_data"
        },
        {
          "name": "stdout",
          "output_type": "stream",
          "text": [
            "Epoch: 2 | train_loss: 0.4265 | train_acc: 0.8538 | test_loss: 0.5848 | test_acc: 0.8041 | train_epoch_time: 70.8556 | test_epoch_time: 7.4179\n"
          ]
        },
        {
          "data": {
            "application/vnd.jupyter.widget-view+json": {
              "model_id": "6fa7e36bda5745f9bf6be4baaee463de",
              "version_major": 2,
              "version_minor": 0
            },
            "text/plain": [
              "Training Epoch 2:   0%|          | 0/391 [00:00<?, ?it/s]"
            ]
          },
          "metadata": {},
          "output_type": "display_data"
        },
        {
          "data": {
            "application/vnd.jupyter.widget-view+json": {
              "model_id": "8a1538840bc64397808605eaffa25ef9",
              "version_major": 2,
              "version_minor": 0
            },
            "text/plain": [
              "Testing Epoch 2:   0%|          | 0/79 [00:00<?, ?it/s]"
            ]
          },
          "metadata": {},
          "output_type": "display_data"
        },
        {
          "name": "stdout",
          "output_type": "stream",
          "text": [
            "Epoch: 3 | train_loss: 0.3145 | train_acc: 0.8905 | test_loss: 0.5107 | test_acc: 0.8247 | train_epoch_time: 70.8166 | test_epoch_time: 7.2687\n"
          ]
        },
        {
          "data": {
            "application/vnd.jupyter.widget-view+json": {
              "model_id": "0818f74c368c4626b21cf02650eb5cf0",
              "version_major": 2,
              "version_minor": 0
            },
            "text/plain": [
              "Training Epoch 3:   0%|          | 0/391 [00:00<?, ?it/s]"
            ]
          },
          "metadata": {},
          "output_type": "display_data"
        },
        {
          "data": {
            "application/vnd.jupyter.widget-view+json": {
              "model_id": "8f52608f8f494b67b10d8205763fcb0b",
              "version_major": 2,
              "version_minor": 0
            },
            "text/plain": [
              "Testing Epoch 3:   0%|          | 0/79 [00:00<?, ?it/s]"
            ]
          },
          "metadata": {},
          "output_type": "display_data"
        },
        {
          "name": "stdout",
          "output_type": "stream",
          "text": [
            "Epoch: 4 | train_loss: 0.2330 | train_acc: 0.9179 | test_loss: 0.4751 | test_acc: 0.8453 | train_epoch_time: 70.7681 | test_epoch_time: 7.1960\n"
          ]
        },
        {
          "data": {
            "application/vnd.jupyter.widget-view+json": {
              "model_id": "d3b671b89e724bd2bf3addbb53ff59b9",
              "version_major": 2,
              "version_minor": 0
            },
            "text/plain": [
              "Training Epoch 4:   0%|          | 0/391 [00:00<?, ?it/s]"
            ]
          },
          "metadata": {},
          "output_type": "display_data"
        },
        {
          "data": {
            "application/vnd.jupyter.widget-view+json": {
              "model_id": "412a03cd2c76452c8bdb83a3ef7aecb9",
              "version_major": 2,
              "version_minor": 0
            },
            "text/plain": [
              "Testing Epoch 4:   0%|          | 0/79 [00:00<?, ?it/s]"
            ]
          },
          "metadata": {},
          "output_type": "display_data"
        },
        {
          "name": "stdout",
          "output_type": "stream",
          "text": [
            "Epoch: 5 | train_loss: 0.1750 | train_acc: 0.9396 | test_loss: 0.3792 | test_acc: 0.8722 | train_epoch_time: 71.0646 | test_epoch_time: 7.2744\n"
          ]
        }
      ],
      "source": [
        "# Create model\n",
        "model, transforms = create_model()\n",
        "model.to(device)\n",
        "\n",
        "# Create loss function and optimizer\n",
        "loss_fn = torch.nn.CrossEntropyLoss()\n",
        "optimizer = torch.optim.Adam(model.parameters(),\n",
        "                             lr=LEARNING_RATE)\n",
        "\n",
        "# Train model and track results\n",
        "single_run_no_compile_results = train(model=model,\n",
        "                                      train_dataloader=train_dataloader,\n",
        "                                      test_dataloader=test_dataloader,\n",
        "                                      loss_fn=loss_fn,\n",
        "                                      optimizer=optimizer,\n",
        "                                      epochs=NUM_EPOCHS,\n",
        "                                      device=device)"
      ]
    },
    {
      "cell_type": "markdown",
      "metadata": {
        "id": "CGzV7E8oWswz"
      },
      "source": [
        "### 3.2 Experiment 2 - Single run, with compile\n",
        "\n",
        "Now we'll do the same experiment but this time we'll use `torch.compile()`."
      ]
    },
    {
      "cell_type": "code",
      "execution_count": null,
      "metadata": {
        "colab": {
          "base_uri": "https://localhost:8080/",
          "height": 473,
          "referenced_widgets": [
            "1ab36b021727461590588e8d814164cf",
            "dc9b2b3ef00a4f9fba25d18719b3c039",
            "bfae8a5564f8471193bee3210e6c76ca",
            "87bc7bde8e2148c28554c2c826ade74b",
            "51278ffcda1549e68ea629d1b8e861bc",
            "3332fce5156d48f79b34585e743f9110",
            "22a6569ec0d3408980b4c365d42a6161",
            "ebda9a29931e4b2aa9c843303ff0784a",
            "f66598aef8df40c2861df8e370d2b8a3",
            "cd9a7ebaf9864a228c42b14c15eea818",
            "f3584cc630b6431cb988ef66635db567",
            "b007d1037d9e4d70a8efa8ca9cd38a98",
            "728f7bad89654cb19983118ef10e5d0d",
            "28254cf013544d619a575ee4a378ac0d",
            "f67e5dbb57aa42b0bf35993f35c69be5",
            "646d76289f36487da744e4826a75a0ae",
            "9d780d8bd03448a58c53447befd4daea",
            "3fcf9a8469094c54ad9b1a11fd0725e5",
            "f1402ccb29934b38ae345e8fa419c964",
            "7832760c329e41c4af9594ea9b107166",
            "717ef08ced0a41a482891d3b4ed7bfdc",
            "ede12bc1e8d046c48504a7ad092c6df5",
            "008689a7554a4892bf847a3daa0ffc97",
            "19978e19a55e42e0bfc9c1d6acec4610",
            "5f063810ad554c8088f39941b7ecf138",
            "ca4fa2a4c1384954be372d4693b0ae07",
            "7aee3220591f4509bf95d91fe8b233ce",
            "35aab0f0eca54513bdf16357efece335",
            "c3b8b6f1d3eb45aca0be0d123c4f38c6",
            "baae350279a64a74a245cffec730d76f",
            "c6c10805f5cf4ad19035b231f46aeebe",
            "37dc01d0f5114c2cb53a0045d4f35e9f",
            "9e55cada8d1a4c029e9b21174ae8b28d",
            "2582c06adcc748faa2d3a59c5d43b2e6",
            "648f6a92d8d341328a91b4e12ec38357",
            "50b3210bfc0c4e6fb937aa0ae390240f",
            "92272291f59242ac83cc357be6403132",
            "f2e9ac8973414804a8d15610c176b8f3",
            "e47a46941caf4755909b312a393ebc74",
            "471772f529214979aa495304279c6d49",
            "96b56f05ebf444fbb423240ca21276b9",
            "7b6e3b4ed9a842ce966df2d5c806980f",
            "564f4b17a87a441c80c36b51dc33ee68",
            "51ac45ca95864ab5968d8bc9d5321f82",
            "c83cc1b5bb0b4ff3a5d2196910d8db94",
            "beb1be35fc324c8dbe46ae76ed87bc5b",
            "ae9ed7bb76394b4eba7e212dd046a023",
            "0329e01191744e4a9f65084b64d34668",
            "3622a581bd69487ebe955dd20e8e0ba1",
            "e8e6968e72ab416cacac2d0dd1c388cb",
            "a6b9181e513a4c4e93e65c6ce12f588b",
            "4ffbfd0fc2cb492abe59f8c11a2fa50d",
            "43b793bdc7914298bae6a2316bff0168",
            "4db49a0f060c4499a295d984eebeb2a7",
            "1e6df6f18de94dd295215ba19eb4dd84",
            "d7e9c27f15ca48cdbf4d16046804ac69",
            "fcb42ef51f6143f88497b0f367e8cac9",
            "d84a6a4e9a8845c585d1b350b115477c",
            "bd916292f9f6404abd0ec4e0ec43535b",
            "40869d37a47c42809ff5eb4eb88ba10f",
            "3a3b15aba502403f97c97e6d05484fd5",
            "253dd483551c498eb5a190414c54fea1",
            "1a4529d0b22c481c8102ad075891f913",
            "e7b2889a72a545acbe2873b1730fedf5",
            "2009566cb8754d72bcf7eb57eac7bbb9",
            "3edc90a2c7bf40f68420ab6a907a3331",
            "1392bd0fe6cb478b96a9770fe355df70",
            "4af2d269f3d84ff49d143784aac8627f",
            "b3badf58b3294f06acd7d15596415c45",
            "7c024bc046b54dda82f9ac4632a5f438",
            "d1f8a66b53ee4b97b2c1ef9d4b5fcee7",
            "7188dd2fbe3e430a815ec4a7f9f7c78a",
            "276d58906a7145eea735dbab0a8ab77f",
            "5132d54e51c44ff7a1f0e3b0b8a70112",
            "c7e5dfe55a3644db9fcdfc78da347d02",
            "eabccff7a8a343f1b47b51d754a88a3d",
            "f20e28dbd6704531be76abfee43f651b",
            "ca58d59aca204d74a68f40acc0b81562",
            "004510c3bfe54a3e8422c65af41afa57",
            "5d551729da1d4c869ee4bfffe3c96078",
            "39aedc32413542a59c8437c4eb682724",
            "df536a9398c4415ca9602c4e9520bc1e",
            "d29ac3e3d6e24d2e8e13225597679fdc",
            "46d9268ff6654d2e9ffa15bf21c68242",
            "6f675a7fc852450698f55249e77e4e74",
            "8ea8c0cc4c13416a95b3d61e59fe57d1",
            "9939830209664747a4b02cd6b53341b5",
            "3feb245bd191438da6adb55160e3b36f",
            "585c399904f541f298a4aa83754eb3ed",
            "f9e0dcfe5d494344b2ffcbd39f2096de",
            "8b0905b48fc949278527079c97bf073e",
            "f4e80e27bd7649e2b4b70cc0960ef7c5",
            "51cc83b2de9b42e9883ed8cbfd549635",
            "c90abd7701de47ebb37be31760f6e3ab",
            "97b73bdcefde45b7831a5498af552bcb",
            "c2d02a7bbfe64e44a6aa5e64c536f57d",
            "ce656044f4514fb09c3d691fd0697090",
            "d03f05f1eeca4a0fbee6b4af1e515628",
            "a27e036c52c844bd9b33b5cbbb51e246",
            "139d22577a4142049cd5cb327a03e308",
            "927c96dd321a426783dfff22b0321982",
            "63f585e9ef074830bc10002c1851977f",
            "9b5c5fe4765345d5ad2820665f67eff5",
            "c4241cb09ae2489c80ab36a2e637d59d",
            "ba0e51f98ea545c9bfa91a2f80ad93af",
            "63879c59fc204056ba5181bb202d72f2",
            "4348531fe5724fab87de7af1f15ab527",
            "694139cd9485480fadcee6f07b9b7496",
            "bb9dad4a48ca4c66b675d1132da4ddca",
            "ebf794ed953b44dfbd7f0c7513985bdd",
            "1bb0eb2b4850415481bc6482227fba14",
            "2acef626bdbb460bbaa33c9c5a14190a",
            "71497459b2fb4d9eb7d95f80966c3d8c",
            "9bd1f5890e9e475fb66e3c28bd108783",
            "105797598802409ebbe70558a58a15cf",
            "3c37f49f98d748e0a068f58d66019303",
            "bf72b279762648ad9effc180595745a3",
            "483b013dfeb84ac69d96be3fe94183e1",
            "26edbef90f0649e59064622f16869da5",
            "fb083ad1f9ea40a4ac023be291635956",
            "b314fcaae6b4436eac9eee945c9270ba"
          ]
        },
        "id": "f56Z9VDfW00p",
        "outputId": "278e243c-db77-428d-9ead-efcbf62202c9"
      },
      "outputs": [
        {
          "name": "stdout",
          "output_type": "stream",
          "text": [
            "Time to compile: 1.920236587524414 | Note: The first time you compile your model, the first few epochs will be slower than subsequent runs.\n"
          ]
        },
        {
          "data": {
            "application/vnd.jupyter.widget-view+json": {
              "model_id": "1ab36b021727461590588e8d814164cf",
              "version_major": 2,
              "version_minor": 0
            },
            "text/plain": [
              "  0%|          | 0/5 [00:00<?, ?it/s]"
            ]
          },
          "metadata": {},
          "output_type": "display_data"
        },
        {
          "data": {
            "application/vnd.jupyter.widget-view+json": {
              "model_id": "b007d1037d9e4d70a8efa8ca9cd38a98",
              "version_major": 2,
              "version_minor": 0
            },
            "text/plain": [
              "Training Epoch 0:   0%|          | 0/391 [00:00<?, ?it/s]"
            ]
          },
          "metadata": {},
          "output_type": "display_data"
        },
        {
          "data": {
            "application/vnd.jupyter.widget-view+json": {
              "model_id": "008689a7554a4892bf847a3daa0ffc97",
              "version_major": 2,
              "version_minor": 0
            },
            "text/plain": [
              "Testing Epoch 0:   0%|          | 0/79 [00:00<?, ?it/s]"
            ]
          },
          "metadata": {},
          "output_type": "display_data"
        },
        {
          "name": "stdout",
          "output_type": "stream",
          "text": [
            "Epoch: 1 | train_loss: 0.8958 | train_acc: 0.6850 | test_loss: 0.8287 | test_acc: 0.7163 | train_epoch_time: 188.3038 | test_epoch_time: 25.9503\n"
          ]
        },
        {
          "data": {
            "application/vnd.jupyter.widget-view+json": {
              "model_id": "2582c06adcc748faa2d3a59c5d43b2e6",
              "version_major": 2,
              "version_minor": 0
            },
            "text/plain": [
              "Training Epoch 1:   0%|          | 0/391 [00:00<?, ?it/s]"
            ]
          },
          "metadata": {},
          "output_type": "display_data"
        },
        {
          "data": {
            "application/vnd.jupyter.widget-view+json": {
              "model_id": "c83cc1b5bb0b4ff3a5d2196910d8db94",
              "version_major": 2,
              "version_minor": 0
            },
            "text/plain": [
              "Testing Epoch 1:   0%|          | 0/79 [00:00<?, ?it/s]"
            ]
          },
          "metadata": {},
          "output_type": "display_data"
        },
        {
          "name": "stdout",
          "output_type": "stream",
          "text": [
            "Epoch: 2 | train_loss: 0.4852 | train_acc: 0.8343 | test_loss: 0.5276 | test_acc: 0.8174 | train_epoch_time: 60.5551 | test_epoch_time: 6.5021\n"
          ]
        },
        {
          "data": {
            "application/vnd.jupyter.widget-view+json": {
              "model_id": "d7e9c27f15ca48cdbf4d16046804ac69",
              "version_major": 2,
              "version_minor": 0
            },
            "text/plain": [
              "Training Epoch 2:   0%|          | 0/391 [00:00<?, ?it/s]"
            ]
          },
          "metadata": {},
          "output_type": "display_data"
        },
        {
          "data": {
            "application/vnd.jupyter.widget-view+json": {
              "model_id": "1392bd0fe6cb478b96a9770fe355df70",
              "version_major": 2,
              "version_minor": 0
            },
            "text/plain": [
              "Testing Epoch 2:   0%|          | 0/79 [00:00<?, ?it/s]"
            ]
          },
          "metadata": {},
          "output_type": "display_data"
        },
        {
          "name": "stdout",
          "output_type": "stream",
          "text": [
            "Epoch: 3 | train_loss: 0.3524 | train_acc: 0.8781 | test_loss: 0.4431 | test_acc: 0.8476 | train_epoch_time: 60.5492 | test_epoch_time: 6.6065\n"
          ]
        },
        {
          "data": {
            "application/vnd.jupyter.widget-view+json": {
              "model_id": "ca58d59aca204d74a68f40acc0b81562",
              "version_major": 2,
              "version_minor": 0
            },
            "text/plain": [
              "Training Epoch 3:   0%|          | 0/391 [00:00<?, ?it/s]"
            ]
          },
          "metadata": {},
          "output_type": "display_data"
        },
        {
          "data": {
            "application/vnd.jupyter.widget-view+json": {
              "model_id": "585c399904f541f298a4aa83754eb3ed",
              "version_major": 2,
              "version_minor": 0
            },
            "text/plain": [
              "Testing Epoch 3:   0%|          | 0/79 [00:00<?, ?it/s]"
            ]
          },
          "metadata": {},
          "output_type": "display_data"
        },
        {
          "name": "stdout",
          "output_type": "stream",
          "text": [
            "Epoch: 4 | train_loss: 0.2596 | train_acc: 0.9091 | test_loss: 0.4431 | test_acc: 0.8547 | train_epoch_time: 60.5281 | test_epoch_time: 6.4857\n"
          ]
        },
        {
          "data": {
            "application/vnd.jupyter.widget-view+json": {
              "model_id": "139d22577a4142049cd5cb327a03e308",
              "version_major": 2,
              "version_minor": 0
            },
            "text/plain": [
              "Training Epoch 4:   0%|          | 0/391 [00:00<?, ?it/s]"
            ]
          },
          "metadata": {},
          "output_type": "display_data"
        },
        {
          "data": {
            "application/vnd.jupyter.widget-view+json": {
              "model_id": "1bb0eb2b4850415481bc6482227fba14",
              "version_major": 2,
              "version_minor": 0
            },
            "text/plain": [
              "Testing Epoch 4:   0%|          | 0/79 [00:00<?, ?it/s]"
            ]
          },
          "metadata": {},
          "output_type": "display_data"
        },
        {
          "name": "stdout",
          "output_type": "stream",
          "text": [
            "Epoch: 5 | train_loss: 0.1984 | train_acc: 0.9314 | test_loss: 0.4376 | test_acc: 0.8571 | train_epoch_time: 60.4969 | test_epoch_time: 6.5444\n"
          ]
        }
      ],
      "source": [
        "# Create model and transforms\n",
        "model, transforms = create_model()\n",
        "model.to(device)\n",
        "\n",
        "# Create loss function and optimizer\n",
        "loss_fn = torch.nn.CrossEntropyLoss()\n",
        "optimizer = torch.optim.Adam(model.parameters(),\n",
        "                             lr=LEARNING_RATE)\n",
        "\n",
        "# Compile the model and time how long it takes\n",
        "compile_start_time = time.time()\n",
        "\n",
        "### New in PyTorch 2.x ###\n",
        "compiled_model = torch.compile(model)\n",
        "##########################\n",
        "\n",
        "compile_end_time = time.time()\n",
        "compile_time = compile_end_time - compile_start_time\n",
        "print(f\"Time to compile: {compile_time} | Note: The first time you compile your model, the first few epochs will be slower than subsequent runs.\")\n",
        "\n",
        "# Train the compiled model\n",
        "single_run_compile_results = train(model=compiled_model,\n",
        "                                   train_dataloader=train_dataloader,\n",
        "                                   test_dataloader=test_dataloader,\n",
        "                                   loss_fn=loss_fn,\n",
        "                                   optimizer=optimizer,\n",
        "                                   epochs=NUM_EPOCHS,\n",
        "                                   device=device)"
      ]
    },
    {
      "cell_type": "markdown",
      "metadata": {
        "id": "fkEZeIT-bLXh"
      },
      "source": [
        "### 3.3 Compare the results of experiment 1 and 2\n",
        "\n",
        "We've got two trained models:\n",
        "\n",
        "  1. One without `torch.compile()`.\n",
        "  2. One with `torch.compile()`.\n",
        "\n",
        "Let's compare the results of each experiment.\n",
        "To do so, we'll first create dataframes of the results of each.\n",
        "\n",
        "Then we'll plot the results of each experiment on a bar chart.\n",
        "\n"
      ]
    },
    {
      "cell_type": "code",
      "execution_count": null,
      "metadata": {
        "id": "eSCkS10abVJU"
      },
      "outputs": [],
      "source": [
        "# Turn experiment results into dataframes\n",
        "import pandas as pd\n",
        "single_run_no_compile_results_df = pd.DataFrame(single_run_no_compile_results)\n",
        "single_run_compile_results_df = pd.DataFrame(single_run_compile_results)"
      ]
    },
    {
      "cell_type": "code",
      "execution_count": null,
      "metadata": {
        "colab": {
          "base_uri": "https://localhost:8080/",
          "height": 206
        },
        "id": "e-OD3pBYbkov",
        "outputId": "8c4fe3e0-550b-45fd-9250-1e727ab755b3"
      },
      "outputs": [
        {
          "data": {
            "application/vnd.google.colaboratory.intrinsic+json": {
              "summary": "{\n  \"name\": \"single_run_no_compile_results_df\",\n  \"rows\": 5,\n  \"fields\": [\n    {\n      \"column\": \"train_loss\",\n      \"properties\": {\n        \"dtype\": \"number\",\n        \"std\": 0.23631637649753812,\n        \"min\": 0.175025508436553,\n        \"max\": 0.7716580590476161,\n        \"num_unique_values\": 5,\n        \"samples\": [\n          0.42645362553084293,\n          0.175025508436553,\n          0.31451408991880736\n        ],\n        \"semantic_type\": \"\",\n        \"description\": \"\"\n      }\n    },\n    {\n      \"column\": \"train_acc\",\n      \"properties\": {\n        \"dtype\": \"number\",\n        \"std\": 0.08200858203025663,\n        \"min\": 0.7316775895140665,\n        \"max\": 0.9396259590792839,\n        \"num_unique_values\": 5,\n        \"samples\": [\n          0.8538163363171356,\n          0.9396259590792839,\n          0.8904971227621483\n        ],\n        \"semantic_type\": \"\",\n        \"description\": \"\"\n      }\n    },\n    {\n      \"column\": \"test_loss\",\n      \"properties\": {\n        \"dtype\": \"number\",\n        \"std\": 0.11251905392923973,\n        \"min\": 0.37917009071458746,\n        \"max\": 0.676995415476304,\n        \"num_unique_values\": 5,\n        \"samples\": [\n          0.5847935627532911,\n          0.37917009071458746,\n          0.5107053099553797\n        ],\n        \"semantic_type\": \"\",\n        \"description\": \"\"\n      }\n    },\n    {\n      \"column\": \"test_acc\",\n      \"properties\": {\n        \"dtype\": \"number\",\n        \"std\": 0.03379324375038403,\n        \"min\": 0.7862935126582279,\n        \"max\": 0.8722310126582279,\n        \"num_unique_values\": 5,\n        \"samples\": [\n          0.8040941455696202,\n          0.8722310126582279,\n          0.8246637658227848\n        ],\n        \"semantic_type\": \"\",\n        \"description\": \"\"\n      }\n    },\n    {\n      \"column\": \"train_epoch_time\",\n      \"properties\": {\n        \"dtype\": \"number\",\n        \"std\": 0.8092189615368175,\n        \"min\": 70.76806616783142,\n        \"max\": 72.6679220199585,\n        \"num_unique_values\": 5,\n        \"samples\": [\n          70.85560369491577,\n          71.06458473205566,\n          70.81659030914307\n        ],\n        \"semantic_type\": \"\",\n        \"description\": \"\"\n      }\n    },\n    {\n      \"column\": \"test_epoch_time\",\n      \"properties\": {\n        \"dtype\": \"number\",\n        \"std\": 0.0894121256639384,\n        \"min\": 7.19596004486084,\n        \"max\": 7.417922735214233,\n        \"num_unique_values\": 5,\n        \"samples\": [\n          7.417922735214233,\n          7.274432897567749,\n          7.268704891204834\n        ],\n        \"semantic_type\": \"\",\n        \"description\": \"\"\n      }\n    }\n  ]\n}",
              "type": "dataframe",
              "variable_name": "single_run_no_compile_results_df"
            },
            "text/html": [
              "\n",
              "  <div id=\"df-a43894d1-97c3-4f5c-8397-c30b649c14ba\" class=\"colab-df-container\">\n",
              "    <div>\n",
              "<style scoped>\n",
              "    .dataframe tbody tr th:only-of-type {\n",
              "        vertical-align: middle;\n",
              "    }\n",
              "\n",
              "    .dataframe tbody tr th {\n",
              "        vertical-align: top;\n",
              "    }\n",
              "\n",
              "    .dataframe thead th {\n",
              "        text-align: right;\n",
              "    }\n",
              "</style>\n",
              "<table border=\"1\" class=\"dataframe\">\n",
              "  <thead>\n",
              "    <tr style=\"text-align: right;\">\n",
              "      <th></th>\n",
              "      <th>train_loss</th>\n",
              "      <th>train_acc</th>\n",
              "      <th>test_loss</th>\n",
              "      <th>test_acc</th>\n",
              "      <th>train_epoch_time</th>\n",
              "      <th>test_epoch_time</th>\n",
              "    </tr>\n",
              "  </thead>\n",
              "  <tbody>\n",
              "    <tr>\n",
              "      <th>0</th>\n",
              "      <td>0.771658</td>\n",
              "      <td>0.731678</td>\n",
              "      <td>0.676995</td>\n",
              "      <td>0.786294</td>\n",
              "      <td>72.667922</td>\n",
              "      <td>7.202100</td>\n",
              "    </tr>\n",
              "    <tr>\n",
              "      <th>1</th>\n",
              "      <td>0.426454</td>\n",
              "      <td>0.853816</td>\n",
              "      <td>0.584794</td>\n",
              "      <td>0.804094</td>\n",
              "      <td>70.855604</td>\n",
              "      <td>7.417923</td>\n",
              "    </tr>\n",
              "    <tr>\n",
              "      <th>2</th>\n",
              "      <td>0.314514</td>\n",
              "      <td>0.890497</td>\n",
              "      <td>0.510705</td>\n",
              "      <td>0.824664</td>\n",
              "      <td>70.816590</td>\n",
              "      <td>7.268705</td>\n",
              "    </tr>\n",
              "    <tr>\n",
              "      <th>3</th>\n",
              "      <td>0.232996</td>\n",
              "      <td>0.917887</td>\n",
              "      <td>0.475058</td>\n",
              "      <td>0.845332</td>\n",
              "      <td>70.768066</td>\n",
              "      <td>7.195960</td>\n",
              "    </tr>\n",
              "    <tr>\n",
              "      <th>4</th>\n",
              "      <td>0.175026</td>\n",
              "      <td>0.939626</td>\n",
              "      <td>0.379170</td>\n",
              "      <td>0.872231</td>\n",
              "      <td>71.064585</td>\n",
              "      <td>7.274433</td>\n",
              "    </tr>\n",
              "  </tbody>\n",
              "</table>\n",
              "</div>\n",
              "    <div class=\"colab-df-buttons\">\n",
              "\n",
              "  <div class=\"colab-df-container\">\n",
              "    <button class=\"colab-df-convert\" onclick=\"convertToInteractive('df-a43894d1-97c3-4f5c-8397-c30b649c14ba')\"\n",
              "            title=\"Convert this dataframe to an interactive table.\"\n",
              "            style=\"display:none;\">\n",
              "\n",
              "  <svg xmlns=\"http://www.w3.org/2000/svg\" height=\"24px\" viewBox=\"0 -960 960 960\">\n",
              "    <path d=\"M120-120v-720h720v720H120Zm60-500h600v-160H180v160Zm220 220h160v-160H400v160Zm0 220h160v-160H400v160ZM180-400h160v-160H180v160Zm440 0h160v-160H620v160ZM180-180h160v-160H180v160Zm440 0h160v-160H620v160Z\"/>\n",
              "  </svg>\n",
              "    </button>\n",
              "\n",
              "  <style>\n",
              "    .colab-df-container {\n",
              "      display:flex;\n",
              "      gap: 12px;\n",
              "    }\n",
              "\n",
              "    .colab-df-convert {\n",
              "      background-color: #E8F0FE;\n",
              "      border: none;\n",
              "      border-radius: 50%;\n",
              "      cursor: pointer;\n",
              "      display: none;\n",
              "      fill: #1967D2;\n",
              "      height: 32px;\n",
              "      padding: 0 0 0 0;\n",
              "      width: 32px;\n",
              "    }\n",
              "\n",
              "    .colab-df-convert:hover {\n",
              "      background-color: #E2EBFA;\n",
              "      box-shadow: 0px 1px 2px rgba(60, 64, 67, 0.3), 0px 1px 3px 1px rgba(60, 64, 67, 0.15);\n",
              "      fill: #174EA6;\n",
              "    }\n",
              "\n",
              "    .colab-df-buttons div {\n",
              "      margin-bottom: 4px;\n",
              "    }\n",
              "\n",
              "    [theme=dark] .colab-df-convert {\n",
              "      background-color: #3B4455;\n",
              "      fill: #D2E3FC;\n",
              "    }\n",
              "\n",
              "    [theme=dark] .colab-df-convert:hover {\n",
              "      background-color: #434B5C;\n",
              "      box-shadow: 0px 1px 3px 1px rgba(0, 0, 0, 0.15);\n",
              "      filter: drop-shadow(0px 1px 2px rgba(0, 0, 0, 0.3));\n",
              "      fill: #FFFFFF;\n",
              "    }\n",
              "  </style>\n",
              "\n",
              "    <script>\n",
              "      const buttonEl =\n",
              "        document.querySelector('#df-a43894d1-97c3-4f5c-8397-c30b649c14ba button.colab-df-convert');\n",
              "      buttonEl.style.display =\n",
              "        google.colab.kernel.accessAllowed ? 'block' : 'none';\n",
              "\n",
              "      async function convertToInteractive(key) {\n",
              "        const element = document.querySelector('#df-a43894d1-97c3-4f5c-8397-c30b649c14ba');\n",
              "        const dataTable =\n",
              "          await google.colab.kernel.invokeFunction('convertToInteractive',\n",
              "                                                    [key], {});\n",
              "        if (!dataTable) return;\n",
              "\n",
              "        const docLinkHtml = 'Like what you see? Visit the ' +\n",
              "          '<a target=\"_blank\" href=https://colab.research.google.com/notebooks/data_table.ipynb>data table notebook</a>'\n",
              "          + ' to learn more about interactive tables.';\n",
              "        element.innerHTML = '';\n",
              "        dataTable['output_type'] = 'display_data';\n",
              "        await google.colab.output.renderOutput(dataTable, element);\n",
              "        const docLink = document.createElement('div');\n",
              "        docLink.innerHTML = docLinkHtml;\n",
              "        element.appendChild(docLink);\n",
              "      }\n",
              "    </script>\n",
              "  </div>\n",
              "\n",
              "\n",
              "    <div id=\"df-1e692ea7-3dc7-4db1-874c-d843e5430672\">\n",
              "      <button class=\"colab-df-quickchart\" onclick=\"quickchart('df-1e692ea7-3dc7-4db1-874c-d843e5430672')\"\n",
              "                title=\"Suggest charts\"\n",
              "                style=\"display:none;\">\n",
              "\n",
              "<svg xmlns=\"http://www.w3.org/2000/svg\" height=\"24px\"viewBox=\"0 0 24 24\"\n",
              "     width=\"24px\">\n",
              "    <g>\n",
              "        <path d=\"M19 3H5c-1.1 0-2 .9-2 2v14c0 1.1.9 2 2 2h14c1.1 0 2-.9 2-2V5c0-1.1-.9-2-2-2zM9 17H7v-7h2v7zm4 0h-2V7h2v10zm4 0h-2v-4h2v4z\"/>\n",
              "    </g>\n",
              "</svg>\n",
              "      </button>\n",
              "\n",
              "<style>\n",
              "  .colab-df-quickchart {\n",
              "      --bg-color: #E8F0FE;\n",
              "      --fill-color: #1967D2;\n",
              "      --hover-bg-color: #E2EBFA;\n",
              "      --hover-fill-color: #174EA6;\n",
              "      --disabled-fill-color: #AAA;\n",
              "      --disabled-bg-color: #DDD;\n",
              "  }\n",
              "\n",
              "  [theme=dark] .colab-df-quickchart {\n",
              "      --bg-color: #3B4455;\n",
              "      --fill-color: #D2E3FC;\n",
              "      --hover-bg-color: #434B5C;\n",
              "      --hover-fill-color: #FFFFFF;\n",
              "      --disabled-bg-color: #3B4455;\n",
              "      --disabled-fill-color: #666;\n",
              "  }\n",
              "\n",
              "  .colab-df-quickchart {\n",
              "    background-color: var(--bg-color);\n",
              "    border: none;\n",
              "    border-radius: 50%;\n",
              "    cursor: pointer;\n",
              "    display: none;\n",
              "    fill: var(--fill-color);\n",
              "    height: 32px;\n",
              "    padding: 0;\n",
              "    width: 32px;\n",
              "  }\n",
              "\n",
              "  .colab-df-quickchart:hover {\n",
              "    background-color: var(--hover-bg-color);\n",
              "    box-shadow: 0 1px 2px rgba(60, 64, 67, 0.3), 0 1px 3px 1px rgba(60, 64, 67, 0.15);\n",
              "    fill: var(--button-hover-fill-color);\n",
              "  }\n",
              "\n",
              "  .colab-df-quickchart-complete:disabled,\n",
              "  .colab-df-quickchart-complete:disabled:hover {\n",
              "    background-color: var(--disabled-bg-color);\n",
              "    fill: var(--disabled-fill-color);\n",
              "    box-shadow: none;\n",
              "  }\n",
              "\n",
              "  .colab-df-spinner {\n",
              "    border: 2px solid var(--fill-color);\n",
              "    border-color: transparent;\n",
              "    border-bottom-color: var(--fill-color);\n",
              "    animation:\n",
              "      spin 1s steps(1) infinite;\n",
              "  }\n",
              "\n",
              "  @keyframes spin {\n",
              "    0% {\n",
              "      border-color: transparent;\n",
              "      border-bottom-color: var(--fill-color);\n",
              "      border-left-color: var(--fill-color);\n",
              "    }\n",
              "    20% {\n",
              "      border-color: transparent;\n",
              "      border-left-color: var(--fill-color);\n",
              "      border-top-color: var(--fill-color);\n",
              "    }\n",
              "    30% {\n",
              "      border-color: transparent;\n",
              "      border-left-color: var(--fill-color);\n",
              "      border-top-color: var(--fill-color);\n",
              "      border-right-color: var(--fill-color);\n",
              "    }\n",
              "    40% {\n",
              "      border-color: transparent;\n",
              "      border-right-color: var(--fill-color);\n",
              "      border-top-color: var(--fill-color);\n",
              "    }\n",
              "    60% {\n",
              "      border-color: transparent;\n",
              "      border-right-color: var(--fill-color);\n",
              "    }\n",
              "    80% {\n",
              "      border-color: transparent;\n",
              "      border-right-color: var(--fill-color);\n",
              "      border-bottom-color: var(--fill-color);\n",
              "    }\n",
              "    90% {\n",
              "      border-color: transparent;\n",
              "      border-bottom-color: var(--fill-color);\n",
              "    }\n",
              "  }\n",
              "</style>\n",
              "\n",
              "      <script>\n",
              "        async function quickchart(key) {\n",
              "          const quickchartButtonEl =\n",
              "            document.querySelector('#' + key + ' button');\n",
              "          quickchartButtonEl.disabled = true;  // To prevent multiple clicks.\n",
              "          quickchartButtonEl.classList.add('colab-df-spinner');\n",
              "          try {\n",
              "            const charts = await google.colab.kernel.invokeFunction(\n",
              "                'suggestCharts', [key], {});\n",
              "          } catch (error) {\n",
              "            console.error('Error during call to suggestCharts:', error);\n",
              "          }\n",
              "          quickchartButtonEl.classList.remove('colab-df-spinner');\n",
              "          quickchartButtonEl.classList.add('colab-df-quickchart-complete');\n",
              "        }\n",
              "        (() => {\n",
              "          let quickchartButtonEl =\n",
              "            document.querySelector('#df-1e692ea7-3dc7-4db1-874c-d843e5430672 button');\n",
              "          quickchartButtonEl.style.display =\n",
              "            google.colab.kernel.accessAllowed ? 'block' : 'none';\n",
              "        })();\n",
              "      </script>\n",
              "    </div>\n",
              "\n",
              "    </div>\n",
              "  </div>\n"
            ],
            "text/plain": [
              "   train_loss  train_acc  test_loss  test_acc  train_epoch_time  \\\n",
              "0    0.771658   0.731678   0.676995  0.786294         72.667922   \n",
              "1    0.426454   0.853816   0.584794  0.804094         70.855604   \n",
              "2    0.314514   0.890497   0.510705  0.824664         70.816590   \n",
              "3    0.232996   0.917887   0.475058  0.845332         70.768066   \n",
              "4    0.175026   0.939626   0.379170  0.872231         71.064585   \n",
              "\n",
              "   test_epoch_time  \n",
              "0         7.202100  \n",
              "1         7.417923  \n",
              "2         7.268705  \n",
              "3         7.195960  \n",
              "4         7.274433  "
            ]
          },
          "execution_count": 19,
          "metadata": {},
          "output_type": "execute_result"
        }
      ],
      "source": [
        "# Check out the head of one of the results dataframes\n",
        "single_run_no_compile_results_df.head()"
      ]
    },
    {
      "cell_type": "code",
      "execution_count": null,
      "metadata": {
        "colab": {
          "base_uri": "https://localhost:8080/",
          "height": 206
        },
        "id": "tF2HmajwhMI_",
        "outputId": "4dd3ff1b-a740-4d48-95fc-b26c34cc1ba0"
      },
      "outputs": [
        {
          "data": {
            "application/vnd.google.colaboratory.intrinsic+json": {
              "summary": "{\n  \"name\": \"single_run_compile_results_df\",\n  \"rows\": 5,\n  \"fields\": [\n    {\n      \"column\": \"train_loss\",\n      \"properties\": {\n        \"dtype\": \"number\",\n        \"std\": 0.27767696148856935,\n        \"min\": 0.19835698240629548,\n        \"max\": 0.8958360282966243,\n        \"num_unique_values\": 5,\n        \"samples\": [\n          0.48523924082441405,\n          0.19835698240629548,\n          0.3524244857185027\n        ],\n        \"semantic_type\": \"\",\n        \"description\": \"\"\n      }\n    },\n    {\n      \"column\": \"train_acc\",\n      \"properties\": {\n        \"dtype\": \"number\",\n        \"std\": 0.09792171395928878,\n        \"min\": 0.6849624360613811,\n        \"max\": 0.9313858695652174,\n        \"num_unique_values\": 5,\n        \"samples\": [\n          0.8342950767263427,\n          0.9313858695652174,\n          0.8780770460358056\n        ],\n        \"semantic_type\": \"\",\n        \"description\": \"\"\n      }\n    },\n    {\n      \"column\": \"test_loss\",\n      \"properties\": {\n        \"dtype\": \"number\",\n        \"std\": 0.16783867360255347,\n        \"min\": 0.43762551606455935,\n        \"max\": 0.8286993507343002,\n        \"num_unique_values\": 5,\n        \"samples\": [\n          0.5276211737831936,\n          0.43762551606455935,\n          0.4430670572232597\n        ],\n        \"semantic_type\": \"\",\n        \"description\": \"\"\n      }\n    },\n    {\n      \"column\": \"test_acc\",\n      \"properties\": {\n        \"dtype\": \"number\",\n        \"std\": 0.05937177487361625,\n        \"min\": 0.7162776898734177,\n        \"max\": 0.8571004746835443,\n        \"num_unique_values\": 5,\n        \"samples\": [\n          0.8174446202531646,\n          0.8571004746835443,\n          0.8476068037974683\n        ],\n        \"semantic_type\": \"\",\n        \"description\": \"\"\n      }\n    },\n    {\n      \"column\": \"train_epoch_time\",\n      \"properties\": {\n        \"dtype\": \"number\",\n        \"std\": 57.14114629571472,\n        \"min\": 60.496922969818115,\n        \"max\": 188.30381178855896,\n        \"num_unique_values\": 5,\n        \"samples\": [\n          60.555099964141846,\n          60.496922969818115,\n          60.54919981956482\n        ],\n        \"semantic_type\": \"\",\n        \"description\": \"\"\n      }\n    },\n    {\n      \"column\": \"test_epoch_time\",\n      \"properties\": {\n        \"dtype\": \"number\",\n        \"std\": 8.683051672400753,\n        \"min\": 6.485682964324951,\n        \"max\": 25.950287580490112,\n        \"num_unique_values\": 5,\n        \"samples\": [\n          6.502082586288452,\n          6.544395446777344,\n          6.606537103652954\n        ],\n        \"semantic_type\": \"\",\n        \"description\": \"\"\n      }\n    }\n  ]\n}",
              "type": "dataframe",
              "variable_name": "single_run_compile_results_df"
            },
            "text/html": [
              "\n",
              "  <div id=\"df-a6afaa17-302b-4ac0-92b9-910755ee289f\" class=\"colab-df-container\">\n",
              "    <div>\n",
              "<style scoped>\n",
              "    .dataframe tbody tr th:only-of-type {\n",
              "        vertical-align: middle;\n",
              "    }\n",
              "\n",
              "    .dataframe tbody tr th {\n",
              "        vertical-align: top;\n",
              "    }\n",
              "\n",
              "    .dataframe thead th {\n",
              "        text-align: right;\n",
              "    }\n",
              "</style>\n",
              "<table border=\"1\" class=\"dataframe\">\n",
              "  <thead>\n",
              "    <tr style=\"text-align: right;\">\n",
              "      <th></th>\n",
              "      <th>train_loss</th>\n",
              "      <th>train_acc</th>\n",
              "      <th>test_loss</th>\n",
              "      <th>test_acc</th>\n",
              "      <th>train_epoch_time</th>\n",
              "      <th>test_epoch_time</th>\n",
              "    </tr>\n",
              "  </thead>\n",
              "  <tbody>\n",
              "    <tr>\n",
              "      <th>0</th>\n",
              "      <td>0.895836</td>\n",
              "      <td>0.684962</td>\n",
              "      <td>0.828699</td>\n",
              "      <td>0.716278</td>\n",
              "      <td>188.303812</td>\n",
              "      <td>25.950288</td>\n",
              "    </tr>\n",
              "    <tr>\n",
              "      <th>1</th>\n",
              "      <td>0.485239</td>\n",
              "      <td>0.834295</td>\n",
              "      <td>0.527621</td>\n",
              "      <td>0.817445</td>\n",
              "      <td>60.555100</td>\n",
              "      <td>6.502083</td>\n",
              "    </tr>\n",
              "    <tr>\n",
              "      <th>2</th>\n",
              "      <td>0.352424</td>\n",
              "      <td>0.878077</td>\n",
              "      <td>0.443067</td>\n",
              "      <td>0.847607</td>\n",
              "      <td>60.549200</td>\n",
              "      <td>6.606537</td>\n",
              "    </tr>\n",
              "    <tr>\n",
              "      <th>3</th>\n",
              "      <td>0.259615</td>\n",
              "      <td>0.909063</td>\n",
              "      <td>0.443145</td>\n",
              "      <td>0.854727</td>\n",
              "      <td>60.528115</td>\n",
              "      <td>6.485683</td>\n",
              "    </tr>\n",
              "    <tr>\n",
              "      <th>4</th>\n",
              "      <td>0.198357</td>\n",
              "      <td>0.931386</td>\n",
              "      <td>0.437626</td>\n",
              "      <td>0.857100</td>\n",
              "      <td>60.496923</td>\n",
              "      <td>6.544395</td>\n",
              "    </tr>\n",
              "  </tbody>\n",
              "</table>\n",
              "</div>\n",
              "    <div class=\"colab-df-buttons\">\n",
              "\n",
              "  <div class=\"colab-df-container\">\n",
              "    <button class=\"colab-df-convert\" onclick=\"convertToInteractive('df-a6afaa17-302b-4ac0-92b9-910755ee289f')\"\n",
              "            title=\"Convert this dataframe to an interactive table.\"\n",
              "            style=\"display:none;\">\n",
              "\n",
              "  <svg xmlns=\"http://www.w3.org/2000/svg\" height=\"24px\" viewBox=\"0 -960 960 960\">\n",
              "    <path d=\"M120-120v-720h720v720H120Zm60-500h600v-160H180v160Zm220 220h160v-160H400v160Zm0 220h160v-160H400v160ZM180-400h160v-160H180v160Zm440 0h160v-160H620v160ZM180-180h160v-160H180v160Zm440 0h160v-160H620v160Z\"/>\n",
              "  </svg>\n",
              "    </button>\n",
              "\n",
              "  <style>\n",
              "    .colab-df-container {\n",
              "      display:flex;\n",
              "      gap: 12px;\n",
              "    }\n",
              "\n",
              "    .colab-df-convert {\n",
              "      background-color: #E8F0FE;\n",
              "      border: none;\n",
              "      border-radius: 50%;\n",
              "      cursor: pointer;\n",
              "      display: none;\n",
              "      fill: #1967D2;\n",
              "      height: 32px;\n",
              "      padding: 0 0 0 0;\n",
              "      width: 32px;\n",
              "    }\n",
              "\n",
              "    .colab-df-convert:hover {\n",
              "      background-color: #E2EBFA;\n",
              "      box-shadow: 0px 1px 2px rgba(60, 64, 67, 0.3), 0px 1px 3px 1px rgba(60, 64, 67, 0.15);\n",
              "      fill: #174EA6;\n",
              "    }\n",
              "\n",
              "    .colab-df-buttons div {\n",
              "      margin-bottom: 4px;\n",
              "    }\n",
              "\n",
              "    [theme=dark] .colab-df-convert {\n",
              "      background-color: #3B4455;\n",
              "      fill: #D2E3FC;\n",
              "    }\n",
              "\n",
              "    [theme=dark] .colab-df-convert:hover {\n",
              "      background-color: #434B5C;\n",
              "      box-shadow: 0px 1px 3px 1px rgba(0, 0, 0, 0.15);\n",
              "      filter: drop-shadow(0px 1px 2px rgba(0, 0, 0, 0.3));\n",
              "      fill: #FFFFFF;\n",
              "    }\n",
              "  </style>\n",
              "\n",
              "    <script>\n",
              "      const buttonEl =\n",
              "        document.querySelector('#df-a6afaa17-302b-4ac0-92b9-910755ee289f button.colab-df-convert');\n",
              "      buttonEl.style.display =\n",
              "        google.colab.kernel.accessAllowed ? 'block' : 'none';\n",
              "\n",
              "      async function convertToInteractive(key) {\n",
              "        const element = document.querySelector('#df-a6afaa17-302b-4ac0-92b9-910755ee289f');\n",
              "        const dataTable =\n",
              "          await google.colab.kernel.invokeFunction('convertToInteractive',\n",
              "                                                    [key], {});\n",
              "        if (!dataTable) return;\n",
              "\n",
              "        const docLinkHtml = 'Like what you see? Visit the ' +\n",
              "          '<a target=\"_blank\" href=https://colab.research.google.com/notebooks/data_table.ipynb>data table notebook</a>'\n",
              "          + ' to learn more about interactive tables.';\n",
              "        element.innerHTML = '';\n",
              "        dataTable['output_type'] = 'display_data';\n",
              "        await google.colab.output.renderOutput(dataTable, element);\n",
              "        const docLink = document.createElement('div');\n",
              "        docLink.innerHTML = docLinkHtml;\n",
              "        element.appendChild(docLink);\n",
              "      }\n",
              "    </script>\n",
              "  </div>\n",
              "\n",
              "\n",
              "    <div id=\"df-9fa4a58a-39da-41d3-aa71-b9d1570f59ae\">\n",
              "      <button class=\"colab-df-quickchart\" onclick=\"quickchart('df-9fa4a58a-39da-41d3-aa71-b9d1570f59ae')\"\n",
              "                title=\"Suggest charts\"\n",
              "                style=\"display:none;\">\n",
              "\n",
              "<svg xmlns=\"http://www.w3.org/2000/svg\" height=\"24px\"viewBox=\"0 0 24 24\"\n",
              "     width=\"24px\">\n",
              "    <g>\n",
              "        <path d=\"M19 3H5c-1.1 0-2 .9-2 2v14c0 1.1.9 2 2 2h14c1.1 0 2-.9 2-2V5c0-1.1-.9-2-2-2zM9 17H7v-7h2v7zm4 0h-2V7h2v10zm4 0h-2v-4h2v4z\"/>\n",
              "    </g>\n",
              "</svg>\n",
              "      </button>\n",
              "\n",
              "<style>\n",
              "  .colab-df-quickchart {\n",
              "      --bg-color: #E8F0FE;\n",
              "      --fill-color: #1967D2;\n",
              "      --hover-bg-color: #E2EBFA;\n",
              "      --hover-fill-color: #174EA6;\n",
              "      --disabled-fill-color: #AAA;\n",
              "      --disabled-bg-color: #DDD;\n",
              "  }\n",
              "\n",
              "  [theme=dark] .colab-df-quickchart {\n",
              "      --bg-color: #3B4455;\n",
              "      --fill-color: #D2E3FC;\n",
              "      --hover-bg-color: #434B5C;\n",
              "      --hover-fill-color: #FFFFFF;\n",
              "      --disabled-bg-color: #3B4455;\n",
              "      --disabled-fill-color: #666;\n",
              "  }\n",
              "\n",
              "  .colab-df-quickchart {\n",
              "    background-color: var(--bg-color);\n",
              "    border: none;\n",
              "    border-radius: 50%;\n",
              "    cursor: pointer;\n",
              "    display: none;\n",
              "    fill: var(--fill-color);\n",
              "    height: 32px;\n",
              "    padding: 0;\n",
              "    width: 32px;\n",
              "  }\n",
              "\n",
              "  .colab-df-quickchart:hover {\n",
              "    background-color: var(--hover-bg-color);\n",
              "    box-shadow: 0 1px 2px rgba(60, 64, 67, 0.3), 0 1px 3px 1px rgba(60, 64, 67, 0.15);\n",
              "    fill: var(--button-hover-fill-color);\n",
              "  }\n",
              "\n",
              "  .colab-df-quickchart-complete:disabled,\n",
              "  .colab-df-quickchart-complete:disabled:hover {\n",
              "    background-color: var(--disabled-bg-color);\n",
              "    fill: var(--disabled-fill-color);\n",
              "    box-shadow: none;\n",
              "  }\n",
              "\n",
              "  .colab-df-spinner {\n",
              "    border: 2px solid var(--fill-color);\n",
              "    border-color: transparent;\n",
              "    border-bottom-color: var(--fill-color);\n",
              "    animation:\n",
              "      spin 1s steps(1) infinite;\n",
              "  }\n",
              "\n",
              "  @keyframes spin {\n",
              "    0% {\n",
              "      border-color: transparent;\n",
              "      border-bottom-color: var(--fill-color);\n",
              "      border-left-color: var(--fill-color);\n",
              "    }\n",
              "    20% {\n",
              "      border-color: transparent;\n",
              "      border-left-color: var(--fill-color);\n",
              "      border-top-color: var(--fill-color);\n",
              "    }\n",
              "    30% {\n",
              "      border-color: transparent;\n",
              "      border-left-color: var(--fill-color);\n",
              "      border-top-color: var(--fill-color);\n",
              "      border-right-color: var(--fill-color);\n",
              "    }\n",
              "    40% {\n",
              "      border-color: transparent;\n",
              "      border-right-color: var(--fill-color);\n",
              "      border-top-color: var(--fill-color);\n",
              "    }\n",
              "    60% {\n",
              "      border-color: transparent;\n",
              "      border-right-color: var(--fill-color);\n",
              "    }\n",
              "    80% {\n",
              "      border-color: transparent;\n",
              "      border-right-color: var(--fill-color);\n",
              "      border-bottom-color: var(--fill-color);\n",
              "    }\n",
              "    90% {\n",
              "      border-color: transparent;\n",
              "      border-bottom-color: var(--fill-color);\n",
              "    }\n",
              "  }\n",
              "</style>\n",
              "\n",
              "      <script>\n",
              "        async function quickchart(key) {\n",
              "          const quickchartButtonEl =\n",
              "            document.querySelector('#' + key + ' button');\n",
              "          quickchartButtonEl.disabled = true;  // To prevent multiple clicks.\n",
              "          quickchartButtonEl.classList.add('colab-df-spinner');\n",
              "          try {\n",
              "            const charts = await google.colab.kernel.invokeFunction(\n",
              "                'suggestCharts', [key], {});\n",
              "          } catch (error) {\n",
              "            console.error('Error during call to suggestCharts:', error);\n",
              "          }\n",
              "          quickchartButtonEl.classList.remove('colab-df-spinner');\n",
              "          quickchartButtonEl.classList.add('colab-df-quickchart-complete');\n",
              "        }\n",
              "        (() => {\n",
              "          let quickchartButtonEl =\n",
              "            document.querySelector('#df-9fa4a58a-39da-41d3-aa71-b9d1570f59ae button');\n",
              "          quickchartButtonEl.style.display =\n",
              "            google.colab.kernel.accessAllowed ? 'block' : 'none';\n",
              "        })();\n",
              "      </script>\n",
              "    </div>\n",
              "\n",
              "    </div>\n",
              "  </div>\n"
            ],
            "text/plain": [
              "   train_loss  train_acc  test_loss  test_acc  train_epoch_time  \\\n",
              "0    0.895836   0.684962   0.828699  0.716278        188.303812   \n",
              "1    0.485239   0.834295   0.527621  0.817445         60.555100   \n",
              "2    0.352424   0.878077   0.443067  0.847607         60.549200   \n",
              "3    0.259615   0.909063   0.443145  0.854727         60.528115   \n",
              "4    0.198357   0.931386   0.437626  0.857100         60.496923   \n",
              "\n",
              "   test_epoch_time  \n",
              "0        25.950288  \n",
              "1         6.502083  \n",
              "2         6.606537  \n",
              "3         6.485683  \n",
              "4         6.544395  "
            ]
          },
          "execution_count": 20,
          "metadata": {},
          "output_type": "execute_result"
        }
      ],
      "source": [
        "single_run_compile_results_df.head()"
      ]
    },
    {
      "cell_type": "markdown",
      "metadata": {
        "id": "eVIFKBimblpJ"
      },
      "source": [
        "Got the results for experiments 1 and 2!\n",
        "\n",
        "Now let's write a function to take in the results and compare them with a bar chart.\n",
        "\n",
        "We'll add some metadata to the function so it can display some information about the experiments.\n",
        "\n",
        "Namely all of the parameters in our experiment setup:\n",
        "\n",
        "The dataset name.\n",
        "The model name.\n",
        "The number of epochs.\n",
        "The batch size.\n",
        "The image size.\n"
      ]
    },
    {
      "cell_type": "code",
      "execution_count": null,
      "metadata": {
        "id": "Pq9Ba1Kjb7_E"
      },
      "outputs": [],
      "source": [
        "# Create filename to save the results\n",
        "DATASET_NAME = \"CIFAR10\"\n",
        "MODEL_NAME = \"ResNet50\""
      ]
    },
    {
      "cell_type": "code",
      "execution_count": null,
      "metadata": {
        "id": "if7rI3VMb9zp"
      },
      "outputs": [],
      "source": [
        "import matplotlib.pyplot as plt\n",
        "import numpy as np\n",
        "\n",
        "def plot_mean_epoch_times(non_compiled_results: pd.DataFrame,\n",
        "                          compiled_results: pd.DataFrame,\n",
        "                          multi_runs: bool=False,\n",
        "                          num_runs: int=0,\n",
        "                          save: bool=False,\n",
        "                          save_path: str=\"\",\n",
        "                          dataset_name: str=DATASET_NAME,\n",
        "                          model_name: str=MODEL_NAME,\n",
        "                          num_epochs: int=NUM_EPOCHS,\n",
        "                          image_size: int=IMAGE_SIZE,\n",
        "                          batch_size: int=BATCH_SIZE) -> plt.figure:\n",
        "\n",
        "    # Get the mean epoch times from the non-compiled models\n",
        "    mean_train_epoch_time = non_compiled_results.train_epoch_time.mean()\n",
        "    mean_test_epoch_time = non_compiled_results.test_epoch_time.mean()\n",
        "    mean_results = [mean_train_epoch_time, mean_test_epoch_time]\n",
        "\n",
        "    # Get the mean epoch times from the compiled models\n",
        "    mean_compile_train_epoch_time = compiled_results.train_epoch_time.mean()\n",
        "    mean_compile_test_epoch_time = compiled_results.test_epoch_time.mean()\n",
        "    mean_compile_results = [mean_compile_train_epoch_time, mean_compile_test_epoch_time]\n",
        "\n",
        "    # Calculate the percentage difference between the mean compile and non-compile train epoch times\n",
        "    train_epoch_time_diff = mean_compile_train_epoch_time - mean_train_epoch_time\n",
        "    train_epoch_time_diff_percent = (train_epoch_time_diff / mean_train_epoch_time) * 100\n",
        "\n",
        "    # Calculate the percentage difference between the mean compile and non-compile test epoch times\n",
        "    test_epoch_time_diff = mean_compile_test_epoch_time - mean_test_epoch_time\n",
        "    test_epoch_time_diff_percent = (test_epoch_time_diff / mean_test_epoch_time) * 100\n",
        "\n",
        "    # Print the mean difference percentages\n",
        "    print(f\"Mean train epoch time difference: {round(train_epoch_time_diff_percent, 3)}% (negative means faster)\")\n",
        "    print(f\"Mean test epoch time difference: {round(test_epoch_time_diff_percent, 3)}% (negative means faster)\")\n",
        "\n",
        "    # Create a bar plot of the mean train and test epoch time for both compiled and non-compiled models\n",
        "    plt.figure(figsize=(10, 7))\n",
        "    width = 0.3\n",
        "    x_indicies = np.arange(len(mean_results))\n",
        "\n",
        "    plt.bar(x=x_indicies, height=mean_results, width=width, label=\"non_compiled_results\")\n",
        "    plt.bar(x=x_indicies + width, height=mean_compile_results, width=width, label=\"compiled_results\")\n",
        "    plt.xticks(x_indicies + width / 2, (\"Train Epoch\", \"Test Epoch\"))\n",
        "    plt.ylabel(\"Mean epoch time (seconds, lower is better)\")\n",
        "\n",
        "    # Create the title based on the parameters passed to the function\n",
        "    if multi_runs:\n",
        "        plt.suptitle(\"Multiple run results\")\n",
        "        plt.title(f\"GPU: {gpu_name} | Epochs: {num_epochs} ({num_runs} runs) | Data: {dataset_name} | Model: {model_name} | Image size: {image_size} | Batch size: {batch_size}\")\n",
        "    else:\n",
        "        plt.suptitle(\"Single run results\")\n",
        "        plt.title(f\"GPU: {gpu_name} | Epochs: {num_epochs} | Data: {dataset_name} | Model: {model_name} | Image size: {image_size} | Batch size: {batch_size}\")\n",
        "    plt.legend();\n",
        "\n",
        "    # Save the figure\n",
        "    if save:\n",
        "        assert save_path != \"\", \"Please specify a save path to save the model figure to via the save_path parameter.\"\n",
        "        plt.savefig(save_path)\n",
        "        print(f\"[INFO] Plot saved to {save_path}\")"
      ]
    },
    {
      "cell_type": "markdown",
      "metadata": {
        "id": "WHHnbIsxcA6U"
      },
      "source": [
        "Plot function ready!\n",
        "\n",
        "Let's create a directory to store our figures in and then plot the results of our first two experiments.\n",
        "\n"
      ]
    },
    {
      "cell_type": "code",
      "execution_count": null,
      "metadata": {
        "colab": {
          "base_uri": "https://localhost:8080/",
          "height": 738
        },
        "id": "rcLjQeU5cD1K",
        "outputId": "67e3e51c-3164-4ee7-cc4f-8a61ddf311c5"
      },
      "outputs": [
        {
          "name": "stdout",
          "output_type": "stream",
          "text": [
            "[INFO] Save path for single run results: pytorch_2_results/figures/single_run_NVIDIA_A100-SXM4-40GB_ResNet50_CIFAR10_224_train_epoch_time.png\n",
            "Mean train epoch time difference: 20.85% (negative means faster)\n",
            "Mean test epoch time difference: 43.263% (negative means faster)\n",
            "[INFO] Plot saved to pytorch_2_results/figures/single_run_NVIDIA_A100-SXM4-40GB_ResNet50_CIFAR10_224_train_epoch_time.png\n"
          ]
        },
        {
          "data": {
            "image/png": "[encoded data removed]",
            "text/plain": [
              "<Figure size 1000x700 with 1 Axes>"
            ]
          },
          "metadata": {},
          "output_type": "display_data"
        }
      ],
      "source": [
        "# Create directory for saving figures\n",
        "import os\n",
        "dir_to_save_figures_in = \"pytorch_2_results/figures/\"\n",
        "os.makedirs(dir_to_save_figures_in, exist_ok=True)\n",
        "\n",
        "# Create a save path for the single run results\n",
        "save_path_multi_run = f\"{dir_to_save_figures_in}single_run_{GPU_NAME}_{MODEL_NAME}_{DATASET_NAME}_{IMAGE_SIZE}_train_epoch_time.png\"\n",
        "print(f\"[INFO] Save path for single run results: {save_path_multi_run}\")\n",
        "\n",
        "# Plot the results and save the figures\n",
        "plot_mean_epoch_times(non_compiled_results=single_run_no_compile_results_df,\n",
        "                      compiled_results=single_run_compile_results_df,\n",
        "                      multi_runs=False,\n",
        "                      save_path=save_path_multi_run,\n",
        "                      save=True)"
      ]
    },
    {
      "cell_type": "markdown",
      "metadata": {
        "id": "dkY2xgVUcGFG"
      },
      "source": [
        "\n",
        "Hmm... what's happening here?\n",
        "\n",
        "It looks like the model with `torch.compile()` took longer than the model without it\n",
        "\n",
        "**Why might this be the case?**\n",
        "\n",
        "Well on a per epoch time we can see that although experiment 2 (with `torch.compile()`) was far slower for the first epoch, it started being faster than experiment 1 (without `torch.compile()`)for subsequent epochs.\n",
        "\n",
        "This is because behind the scenes `torch.compile()` spends the first steps of a training run \"warming up\" the model and performing optimization steps behind the scenes.\n",
        "\n",
        "These optimization steps take time up front but mean subsequent steps should be faster.\n",
        "\n",
        "To test if this is true, we could try training the model above for longer (say 50 epochs rather than 5) and see what the average training times come out to be.\n",
        "\n"
      ]
    },
    {
      "cell_type": "markdown",
      "metadata": {
        "id": "QIEHtCYZgp7Y"
      },
      "source": [
        "### 3.4 Save single run results to file with GPU details\n",
        "We can save the raw data of our results to file too by exporting the dataframes as CSVs.\n",
        "\n",
        "We'll first create a directory for storing results.\n",
        "\n",
        "Then we'll create filepaths to save each of the target dataframes to before exporting them.\n"
      ]
    },
    {
      "cell_type": "code",
      "execution_count": null,
      "metadata": {
        "colab": {
          "base_uri": "https://localhost:8080/"
        },
        "id": "v6tDhoxRhb_7",
        "outputId": "47d256bc-3c95-447e-96c9-168f54ad2cda"
      },
      "outputs": [
        {
          "name": "stdout",
          "output_type": "stream",
          "text": [
            "[INFO] Saving non-compiled experiment 1 results to: pytorch_2_results/single_run_results/single_run_non_compiled_results_CIFAR10_ResNet50_NVIDIA_A100-SXM4-40GB.csv\n",
            "[INFO] Saving compiled experiment 2 results to: pytorch_2_results/single_run_results/single_run_compiled_results_CIFAR10_ResNet50_NVIDIA_A100-SXM4-40GB.csv\n"
          ]
        }
      ],
      "source": [
        "# Make a directory for single_run results\n",
        "import os\n",
        "pytorch_2_results_dir = \"pytorch_2_results\"\n",
        "pytorch_2_single_run_results_dir = f\"{pytorch_2_results_dir}/single_run_results\"\n",
        "os.makedirs(pytorch_2_single_run_results_dir, exist_ok=True)\n",
        "\n",
        "# Create filenames for each of the dataframes\n",
        "save_name_for_non_compiled_results = f\"single_run_non_compiled_results_{DATASET_NAME}_{MODEL_NAME}_{GPU_NAME}.csv\"\n",
        "save_name_for_compiled_results = f\"single_run_compiled_results_{DATASET_NAME}_{MODEL_NAME}_{GPU_NAME}.csv\"\n",
        "\n",
        "# Create filepaths to save the results to\n",
        "single_run_no_compile_save_path = f\"{pytorch_2_single_run_results_dir}/{save_name_for_non_compiled_results}\"\n",
        "single_run_compile_save_path = f\"{pytorch_2_single_run_results_dir}/{save_name_for_compiled_results}\"\n",
        "print(f\"[INFO] Saving non-compiled experiment 1 results to: {single_run_no_compile_save_path}\")\n",
        "print(f\"[INFO] Saving compiled experiment 2 results to: {single_run_compile_save_path}\")\n",
        "\n",
        "# Save the results\n",
        "single_run_no_compile_results_df.to_csv(single_run_no_compile_save_path)\n",
        "single_run_compile_results_df.to_csv(single_run_compile_save_path)"
      ]
    },
    {
      "cell_type": "markdown",
      "metadata": {
        "id": "_G5SGb7cheCA"
      },
      "source": [
        "## 4. Time models across multiple runs\n",
        "\n",
        "Now we've tested our model with a single run with `torch.compile()` on and off, let's do the same for multiple runs.\n",
        "\n",
        "We're going to start by creating three functions for experiments 3 and 4.\n",
        "\n",
        "1. Experiment 3: `create_and_train_non_compiled_model()` - this function will be similar to the workflow we've used for the single runs. We'll put the model creation (via `create_model()`) and training in a single function so we can call it multiple times (for multiple runs) and measure the time of each run.\n",
        "\n",
        "2. Experiment 4: `create_compiled_model()` - this function will be similar to the `create_model()` function above, however, it will create a normal PyTorch model and then call `torch.compile()` on it and return it.\n",
        "\n",
        "3. Experiment 4: `train_compiled_model()` - this function will take in a compiled model and train it in the same way we've been training our models for single runs.\n",
        "\n",
        "Why separate functions 2 and 3 (`create_compiled_model()` and `train_compiled_model()`) for experiment 4?\n",
        "\n",
        "Because calling `torch.compile()` on model means that for the first few runs, the model will be `\"warming up\"` as PyTorch calculates a bunch of optimization steps behind the scenes.\n",
        "\n"
      ]
    },
    {
      "cell_type": "code",
      "execution_count": null,
      "metadata": {
        "id": "FI2QpBJwhv_t"
      },
      "outputs": [],
      "source": [
        "def create_and_train_non_compiled_model(epochs=NUM_EPOCHS,\n",
        "                                        learning_rate=LEARNING_RATE,\n",
        "                                        disable_progress_bar=False):\n",
        "    \"\"\"\n",
        "    Create and train a non-compiled PyTorch model.\n",
        "    \"\"\"\n",
        "    model, _ = create_model()\n",
        "    model.to(device)\n",
        "\n",
        "    loss_fn = torch.nn.CrossEntropyLoss()\n",
        "    optimizer = torch.optim.Adam(model.parameters(),\n",
        "                                 lr=learning_rate)\n",
        "\n",
        "    results = train(model=model,\n",
        "                    train_dataloader=train_dataloader,\n",
        "                    test_dataloader=test_dataloader,\n",
        "                    loss_fn=loss_fn,\n",
        "                    optimizer=optimizer,\n",
        "                    epochs=epochs,\n",
        "                    device=device,\n",
        "                    disable_progress_bar=disable_progress_bar)\n",
        "    return results\n",
        "\n",
        "def create_compiled_model():\n",
        "    \"\"\"\n",
        "    Create a compiled PyTorch model and return it.\n",
        "    \"\"\"\n",
        "    model, _ = create_model()\n",
        "    model.to(device)\n",
        "\n",
        "    compile_start_time = time.time()\n",
        "    ### New in PyTorch 2.x ###\n",
        "    compiled_model = torch.compile(model)\n",
        "    ##########################\n",
        "    compile_end_time = time.time()\n",
        "\n",
        "    compile_time = compile_end_time - compile_start_time\n",
        "\n",
        "    print(f\"Time to compile: {compile_time} | Note: The first time you compile your model, the first few epochs will be slower than subsequent runs.\")\n",
        "    return compiled_model\n",
        "\n",
        "def train_compiled_model(model=compiled_model,\n",
        "                         epochs=NUM_EPOCHS,\n",
        "                         learning_rate=LEARNING_RATE,\n",
        "                         disable_progress_bar=False):\n",
        "    \"\"\"\n",
        "    Train a compiled model and return the results.\n",
        "    \"\"\"\n",
        "    loss_fn = torch.nn.CrossEntropyLoss()\n",
        "    optimizer = torch.optim.Adam(compiled_model.parameters(),\n",
        "                                 lr=learning_rate)\n",
        "\n",
        "    compile_results = train(model=model,\n",
        "                            train_dataloader=train_dataloader,\n",
        "                            test_dataloader=test_dataloader,\n",
        "                            loss_fn=loss_fn,\n",
        "                            optimizer=optimizer,\n",
        "                            epochs=epochs,\n",
        "                            device=device,\n",
        "                            disable_progress_bar=disable_progress_bar)\n",
        "\n",
        "    return compile_results"
      ]
    },
    {
      "cell_type": "markdown",
      "metadata": {
        "id": "tguBQ60DiU5-"
      },
      "source": [
        "### 4.1 Experiment 3 - Multiple runs, no compile\n",
        "\n",
        "Functions ready for experiment 3 and 4!\n",
        "\n",
        "Let's start with experiment 3.\n",
        "\n"
      ]
    },
    {
      "cell_type": "code",
      "execution_count": null,
      "metadata": {
        "colab": {
          "base_uri": "https://localhost:8080/",
          "height": 362,
          "referenced_widgets": [
            "c4d518e19ae248f4ae2897ada88bb3d4",
            "a4dbe6cbcbfa49e7aaf58b0c2e5f884f",
            "86c02f77b5994d2696b883b8128dcaed",
            "1f5a0e3808b44709bf3544d0d6c11804",
            "77267190af9a43179776e3b12017002d",
            "8a999c2db47647a48d0b0b14b0a053ae",
            "ef01209bc3da4ed0848902e8d756fa7e",
            "f68130d870b44461b5c78c7fb6940758",
            "6fd265e4f9904731bcf8062d1f580d4b",
            "ff1bbbb71861475a9399f9b8c1f83b38",
            "435cb97e083d4cfe8d99ed5e253c1e55"
          ]
        },
        "id": "iogWxjD0jRCj",
        "outputId": "e71e2a94-3fbb-4b9c-f3a7-dc21d4b1486d"
      },
      "outputs": [
        {
          "data": {
            "application/vnd.jupyter.widget-view+json": {
              "model_id": "c4d518e19ae248f4ae2897ada88bb3d4",
              "version_major": 2,
              "version_minor": 0
            },
            "text/plain": [
              "  0%|          | 0/3 [00:00<?, ?it/s]"
            ]
          },
          "metadata": {},
          "output_type": "display_data"
        },
        {
          "name": "stdout",
          "output_type": "stream",
          "text": [
            "[INFO] Run 1 of 3 for non-compiled model\n",
            "Epoch: 1 | train_loss: 0.7682 | train_acc: 0.7355 | test_loss: 0.7637 | test_acc: 0.7431 | train_epoch_time: 70.2027 | test_epoch_time: 7.3502\n",
            "Epoch: 2 | train_loss: 0.4271 | train_acc: 0.8537 | test_loss: 0.4773 | test_acc: 0.8364 | train_epoch_time: 70.2355 | test_epoch_time: 7.2114\n",
            "Epoch: 3 | train_loss: 0.3077 | train_acc: 0.8941 | test_loss: 0.4370 | test_acc: 0.8536 | train_epoch_time: 70.0717 | test_epoch_time: 7.4173\n",
            "Epoch: 4 | train_loss: 0.2274 | train_acc: 0.9204 | test_loss: 0.4544 | test_acc: 0.8590 | train_epoch_time: 70.2405 | test_epoch_time: 7.2027\n",
            "Epoch: 5 | train_loss: 0.1723 | train_acc: 0.9398 | test_loss: 0.4488 | test_acc: 0.8560 | train_epoch_time: 70.3798 | test_epoch_time: 7.3072\n",
            "[INFO] Run 2 of 3 for non-compiled model\n",
            "Epoch: 1 | train_loss: 0.8143 | train_acc: 0.7156 | test_loss: 0.8499 | test_acc: 0.7120 | train_epoch_time: 70.0880 | test_epoch_time: 7.3357\n",
            "Epoch: 2 | train_loss: 0.4517 | train_acc: 0.8456 | test_loss: 0.5630 | test_acc: 0.8070 | train_epoch_time: 70.1979 | test_epoch_time: 7.3167\n",
            "Epoch: 3 | train_loss: 0.3258 | train_acc: 0.8883 | test_loss: 0.4197 | test_acc: 0.8579 | train_epoch_time: 70.1983 | test_epoch_time: 7.2290\n",
            "Epoch: 4 | train_loss: 0.2403 | train_acc: 0.9164 | test_loss: 0.3818 | test_acc: 0.8736 | train_epoch_time: 70.3118 | test_epoch_time: 7.2905\n",
            "Epoch: 5 | train_loss: 0.1830 | train_acc: 0.9369 | test_loss: 0.3778 | test_acc: 0.8807 | train_epoch_time: 70.2720 | test_epoch_time: 7.3641\n",
            "[INFO] Run 3 of 3 for non-compiled model\n",
            "Epoch: 1 | train_loss: 0.7881 | train_acc: 0.7291 | test_loss: 0.6580 | test_acc: 0.7792 | train_epoch_time: 70.1634 | test_epoch_time: 7.2618\n",
            "Epoch: 2 | train_loss: 0.4348 | train_acc: 0.8500 | test_loss: 0.4460 | test_acc: 0.8429 | train_epoch_time: 70.2919 | test_epoch_time: 7.3301\n",
            "Epoch: 3 | train_loss: 0.3155 | train_acc: 0.8902 | test_loss: 0.4497 | test_acc: 0.8543 | train_epoch_time: 70.2856 | test_epoch_time: 7.2095\n",
            "Epoch: 4 | train_loss: 0.2364 | train_acc: 0.9167 | test_loss: 0.4105 | test_acc: 0.8654 | train_epoch_time: 70.2635 | test_epoch_time: 7.3196\n",
            "Epoch: 5 | train_loss: 0.1777 | train_acc: 0.9375 | test_loss: 0.3862 | test_acc: 0.8762 | train_epoch_time: 70.1410 | test_epoch_time: 7.3263\n"
          ]
        }
      ],
      "source": [
        "# Run non-compiled model for multiple runs\n",
        "NUM_RUNS = 3\n",
        "NUM_EPOCHS = 5\n",
        "\n",
        "# Create an empty list to store multiple run results\n",
        "non_compile_results_multiple_runs = []\n",
        "\n",
        "# Run non-compiled model for multiple runs\n",
        "for i in tqdm(range(NUM_RUNS)):\n",
        "    print(f\"[INFO] Run {i+1} of {NUM_RUNS} for non-compiled model\")\n",
        "    results = create_and_train_non_compiled_model(epochs=NUM_EPOCHS, disable_progress_bar=True)\n",
        "    non_compile_results_multiple_runs.append(results)"
      ]
    },
    {
      "cell_type": "code",
      "execution_count": null,
      "metadata": {
        "colab": {
          "base_uri": "https://localhost:8080/",
          "height": 206
        },
        "id": "V6ykBrffjXKp",
        "outputId": "ba4181ff-9310-40b3-8bb3-fea1cf114846"
      },
      "outputs": [
        {
          "data": {
            "application/vnd.google.colaboratory.intrinsic+json": {
              "summary": "{\n  \"name\": \"non_compile_results_multiple_runs_df\",\n  \"rows\": 5,\n  \"fields\": [\n    {\n      \"column\": \"train_loss\",\n      \"properties\": {\n        \"dtype\": \"number\",\n        \"std\": 0.24344695563182953,\n        \"min\": 0.17764042148276057,\n        \"max\": 0.7901839977995717,\n        \"num_unique_values\": 5,\n        \"samples\": [\n          0.4378992311230909,\n          0.17764042148276057,\n          0.3163354420829612\n        ],\n        \"semantic_type\": \"\",\n        \"description\": \"\"\n      }\n    },\n    {\n      \"column\": \"train_acc\",\n      \"properties\": {\n        \"dtype\": \"number\",\n        \"std\": 0.0838846199743495,\n        \"min\": 0.7267449914748508,\n        \"max\": 0.9380714514066496,\n        \"num_unique_values\": 5,\n        \"samples\": [\n          0.8497895353793692,\n          0.9380714514066496,\n          0.8908740942028985\n        ],\n        \"semantic_type\": \"\",\n        \"description\": \"\"\n      }\n    },\n    {\n      \"column\": \"test_loss\",\n      \"properties\": {\n        \"dtype\": \"number\",\n        \"std\": 0.1471436810185278,\n        \"min\": 0.40425228582152833,\n        \"max\": 0.7571794940198021,\n        \"num_unique_values\": 5,\n        \"samples\": [\n          0.4954292933271907,\n          0.40425228582152833,\n          0.435474587769448\n        ],\n        \"semantic_type\": \"\",\n        \"description\": \"\"\n      }\n    },\n    {\n      \"column\": \"test_acc\",\n      \"properties\": {\n        \"dtype\": \"number\",\n        \"std\": 0.05203988078677917,\n        \"min\": 0.7447587025316457,\n        \"max\": 0.8709783755274261,\n        \"num_unique_values\": 5,\n        \"samples\": [\n          0.8287513185654009,\n          0.8709783755274261,\n          0.855287447257384\n        ],\n        \"semantic_type\": \"\",\n        \"description\": \"\"\n      }\n    },\n    {\n      \"column\": \"train_epoch_time\",\n      \"properties\": {\n        \"dtype\": \"number\",\n        \"std\": 0.05246667177034347,\n        \"min\": 70.15135145187378,\n        \"max\": 70.27195517222087,\n        \"num_unique_values\": 5,\n        \"samples\": [\n          70.24172441164653,\n          70.26424400011699,\n          70.18519433339436\n        ],\n        \"semantic_type\": \"\",\n        \"description\": \"\"\n      }\n    },\n    {\n      \"column\": \"test_epoch_time\",\n      \"properties\": {\n        \"dtype\": \"number\",\n        \"std\": 0.025252734300678686,\n        \"min\": 7.270933787027995,\n        \"max\": 7.332522392272949,\n        \"num_unique_values\": 5,\n        \"samples\": [\n          7.286039113998413,\n          7.332522392272949,\n          7.285253842671712\n        ],\n        \"semantic_type\": \"\",\n        \"description\": \"\"\n      }\n    }\n  ]\n}",
              "type": "dataframe",
              "variable_name": "non_compile_results_multiple_runs_df"
            },
            "text/html": [
              "\n",
              "  <div id=\"df-9e7363b3-458f-462c-b67b-b2efab2922f0\" class=\"colab-df-container\">\n",
              "    <div>\n",
              "<style scoped>\n",
              "    .dataframe tbody tr th:only-of-type {\n",
              "        vertical-align: middle;\n",
              "    }\n",
              "\n",
              "    .dataframe tbody tr th {\n",
              "        vertical-align: top;\n",
              "    }\n",
              "\n",
              "    .dataframe thead th {\n",
              "        text-align: right;\n",
              "    }\n",
              "</style>\n",
              "<table border=\"1\" class=\"dataframe\">\n",
              "  <thead>\n",
              "    <tr style=\"text-align: right;\">\n",
              "      <th></th>\n",
              "      <th>train_loss</th>\n",
              "      <th>train_acc</th>\n",
              "      <th>test_loss</th>\n",
              "      <th>test_acc</th>\n",
              "      <th>train_epoch_time</th>\n",
              "      <th>test_epoch_time</th>\n",
              "    </tr>\n",
              "  </thead>\n",
              "  <tbody>\n",
              "    <tr>\n",
              "      <th>0</th>\n",
              "      <td>0.790184</td>\n",
              "      <td>0.726745</td>\n",
              "      <td>0.757179</td>\n",
              "      <td>0.744759</td>\n",
              "      <td>70.151351</td>\n",
              "      <td>7.315916</td>\n",
              "    </tr>\n",
              "    <tr>\n",
              "      <th>1</th>\n",
              "      <td>0.437899</td>\n",
              "      <td>0.849790</td>\n",
              "      <td>0.495429</td>\n",
              "      <td>0.828751</td>\n",
              "      <td>70.241724</td>\n",
              "      <td>7.286039</td>\n",
              "    </tr>\n",
              "    <tr>\n",
              "      <th>2</th>\n",
              "      <td>0.316335</td>\n",
              "      <td>0.890874</td>\n",
              "      <td>0.435475</td>\n",
              "      <td>0.855287</td>\n",
              "      <td>70.185194</td>\n",
              "      <td>7.285254</td>\n",
              "    </tr>\n",
              "    <tr>\n",
              "      <th>3</th>\n",
              "      <td>0.234725</td>\n",
              "      <td>0.917843</td>\n",
              "      <td>0.415594</td>\n",
              "      <td>0.866001</td>\n",
              "      <td>70.271955</td>\n",
              "      <td>7.270934</td>\n",
              "    </tr>\n",
              "    <tr>\n",
              "      <th>4</th>\n",
              "      <td>0.177640</td>\n",
              "      <td>0.938071</td>\n",
              "      <td>0.404252</td>\n",
              "      <td>0.870978</td>\n",
              "      <td>70.264244</td>\n",
              "      <td>7.332522</td>\n",
              "    </tr>\n",
              "  </tbody>\n",
              "</table>\n",
              "</div>\n",
              "    <div class=\"colab-df-buttons\">\n",
              "\n",
              "  <div class=\"colab-df-container\">\n",
              "    <button class=\"colab-df-convert\" onclick=\"convertToInteractive('df-9e7363b3-458f-462c-b67b-b2efab2922f0')\"\n",
              "            title=\"Convert this dataframe to an interactive table.\"\n",
              "            style=\"display:none;\">\n",
              "\n",
              "  <svg xmlns=\"http://www.w3.org/2000/svg\" height=\"24px\" viewBox=\"0 -960 960 960\">\n",
              "    <path d=\"M120-120v-720h720v720H120Zm60-500h600v-160H180v160Zm220 220h160v-160H400v160Zm0 220h160v-160H400v160ZM180-400h160v-160H180v160Zm440 0h160v-160H620v160ZM180-180h160v-160H180v160Zm440 0h160v-160H620v160Z\"/>\n",
              "  </svg>\n",
              "    </button>\n",
              "\n",
              "  <style>\n",
              "    .colab-df-container {\n",
              "      display:flex;\n",
              "      gap: 12px;\n",
              "    }\n",
              "\n",
              "    .colab-df-convert {\n",
              "      background-color: #E8F0FE;\n",
              "      border: none;\n",
              "      border-radius: 50%;\n",
              "      cursor: pointer;\n",
              "      display: none;\n",
              "      fill: #1967D2;\n",
              "      height: 32px;\n",
              "      padding: 0 0 0 0;\n",
              "      width: 32px;\n",
              "    }\n",
              "\n",
              "    .colab-df-convert:hover {\n",
              "      background-color: #E2EBFA;\n",
              "      box-shadow: 0px 1px 2px rgba(60, 64, 67, 0.3), 0px 1px 3px 1px rgba(60, 64, 67, 0.15);\n",
              "      fill: #174EA6;\n",
              "    }\n",
              "\n",
              "    .colab-df-buttons div {\n",
              "      margin-bottom: 4px;\n",
              "    }\n",
              "\n",
              "    [theme=dark] .colab-df-convert {\n",
              "      background-color: #3B4455;\n",
              "      fill: #D2E3FC;\n",
              "    }\n",
              "\n",
              "    [theme=dark] .colab-df-convert:hover {\n",
              "      background-color: #434B5C;\n",
              "      box-shadow: 0px 1px 3px 1px rgba(0, 0, 0, 0.15);\n",
              "      filter: drop-shadow(0px 1px 2px rgba(0, 0, 0, 0.3));\n",
              "      fill: #FFFFFF;\n",
              "    }\n",
              "  </style>\n",
              "\n",
              "    <script>\n",
              "      const buttonEl =\n",
              "        document.querySelector('#df-9e7363b3-458f-462c-b67b-b2efab2922f0 button.colab-df-convert');\n",
              "      buttonEl.style.display =\n",
              "        google.colab.kernel.accessAllowed ? 'block' : 'none';\n",
              "\n",
              "      async function convertToInteractive(key) {\n",
              "        const element = document.querySelector('#df-9e7363b3-458f-462c-b67b-b2efab2922f0');\n",
              "        const dataTable =\n",
              "          await google.colab.kernel.invokeFunction('convertToInteractive',\n",
              "                                                    [key], {});\n",
              "        if (!dataTable) return;\n",
              "\n",
              "        const docLinkHtml = 'Like what you see? Visit the ' +\n",
              "          '<a target=\"_blank\" href=https://colab.research.google.com/notebooks/data_table.ipynb>data table notebook</a>'\n",
              "          + ' to learn more about interactive tables.';\n",
              "        element.innerHTML = '';\n",
              "        dataTable['output_type'] = 'display_data';\n",
              "        await google.colab.output.renderOutput(dataTable, element);\n",
              "        const docLink = document.createElement('div');\n",
              "        docLink.innerHTML = docLinkHtml;\n",
              "        element.appendChild(docLink);\n",
              "      }\n",
              "    </script>\n",
              "  </div>\n",
              "\n",
              "\n",
              "    <div id=\"df-a8fb34bc-afd4-49cd-8e00-66f6fc34bfe7\">\n",
              "      <button class=\"colab-df-quickchart\" onclick=\"quickchart('df-a8fb34bc-afd4-49cd-8e00-66f6fc34bfe7')\"\n",
              "                title=\"Suggest charts\"\n",
              "                style=\"display:none;\">\n",
              "\n",
              "<svg xmlns=\"http://www.w3.org/2000/svg\" height=\"24px\"viewBox=\"0 0 24 24\"\n",
              "     width=\"24px\">\n",
              "    <g>\n",
              "        <path d=\"M19 3H5c-1.1 0-2 .9-2 2v14c0 1.1.9 2 2 2h14c1.1 0 2-.9 2-2V5c0-1.1-.9-2-2-2zM9 17H7v-7h2v7zm4 0h-2V7h2v10zm4 0h-2v-4h2v4z\"/>\n",
              "    </g>\n",
              "</svg>\n",
              "      </button>\n",
              "\n",
              "<style>\n",
              "  .colab-df-quickchart {\n",
              "      --bg-color: #E8F0FE;\n",
              "      --fill-color: #1967D2;\n",
              "      --hover-bg-color: #E2EBFA;\n",
              "      --hover-fill-color: #174EA6;\n",
              "      --disabled-fill-color: #AAA;\n",
              "      --disabled-bg-color: #DDD;\n",
              "  }\n",
              "\n",
              "  [theme=dark] .colab-df-quickchart {\n",
              "      --bg-color: #3B4455;\n",
              "      --fill-color: #D2E3FC;\n",
              "      --hover-bg-color: #434B5C;\n",
              "      --hover-fill-color: #FFFFFF;\n",
              "      --disabled-bg-color: #3B4455;\n",
              "      --disabled-fill-color: #666;\n",
              "  }\n",
              "\n",
              "  .colab-df-quickchart {\n",
              "    background-color: var(--bg-color);\n",
              "    border: none;\n",
              "    border-radius: 50%;\n",
              "    cursor: pointer;\n",
              "    display: none;\n",
              "    fill: var(--fill-color);\n",
              "    height: 32px;\n",
              "    padding: 0;\n",
              "    width: 32px;\n",
              "  }\n",
              "\n",
              "  .colab-df-quickchart:hover {\n",
              "    background-color: var(--hover-bg-color);\n",
              "    box-shadow: 0 1px 2px rgba(60, 64, 67, 0.3), 0 1px 3px 1px rgba(60, 64, 67, 0.15);\n",
              "    fill: var(--button-hover-fill-color);\n",
              "  }\n",
              "\n",
              "  .colab-df-quickchart-complete:disabled,\n",
              "  .colab-df-quickchart-complete:disabled:hover {\n",
              "    background-color: var(--disabled-bg-color);\n",
              "    fill: var(--disabled-fill-color);\n",
              "    box-shadow: none;\n",
              "  }\n",
              "\n",
              "  .colab-df-spinner {\n",
              "    border: 2px solid var(--fill-color);\n",
              "    border-color: transparent;\n",
              "    border-bottom-color: var(--fill-color);\n",
              "    animation:\n",
              "      spin 1s steps(1) infinite;\n",
              "  }\n",
              "\n",
              "  @keyframes spin {\n",
              "    0% {\n",
              "      border-color: transparent;\n",
              "      border-bottom-color: var(--fill-color);\n",
              "      border-left-color: var(--fill-color);\n",
              "    }\n",
              "    20% {\n",
              "      border-color: transparent;\n",
              "      border-left-color: var(--fill-color);\n",
              "      border-top-color: var(--fill-color);\n",
              "    }\n",
              "    30% {\n",
              "      border-color: transparent;\n",
              "      border-left-color: var(--fill-color);\n",
              "      border-top-color: var(--fill-color);\n",
              "      border-right-color: var(--fill-color);\n",
              "    }\n",
              "    40% {\n",
              "      border-color: transparent;\n",
              "      border-right-color: var(--fill-color);\n",
              "      border-top-color: var(--fill-color);\n",
              "    }\n",
              "    60% {\n",
              "      border-color: transparent;\n",
              "      border-right-color: var(--fill-color);\n",
              "    }\n",
              "    80% {\n",
              "      border-color: transparent;\n",
              "      border-right-color: var(--fill-color);\n",
              "      border-bottom-color: var(--fill-color);\n",
              "    }\n",
              "    90% {\n",
              "      border-color: transparent;\n",
              "      border-bottom-color: var(--fill-color);\n",
              "    }\n",
              "  }\n",
              "</style>\n",
              "\n",
              "      <script>\n",
              "        async function quickchart(key) {\n",
              "          const quickchartButtonEl =\n",
              "            document.querySelector('#' + key + ' button');\n",
              "          quickchartButtonEl.disabled = true;  // To prevent multiple clicks.\n",
              "          quickchartButtonEl.classList.add('colab-df-spinner');\n",
              "          try {\n",
              "            const charts = await google.colab.kernel.invokeFunction(\n",
              "                'suggestCharts', [key], {});\n",
              "          } catch (error) {\n",
              "            console.error('Error during call to suggestCharts:', error);\n",
              "          }\n",
              "          quickchartButtonEl.classList.remove('colab-df-spinner');\n",
              "          quickchartButtonEl.classList.add('colab-df-quickchart-complete');\n",
              "        }\n",
              "        (() => {\n",
              "          let quickchartButtonEl =\n",
              "            document.querySelector('#df-a8fb34bc-afd4-49cd-8e00-66f6fc34bfe7 button');\n",
              "          quickchartButtonEl.style.display =\n",
              "            google.colab.kernel.accessAllowed ? 'block' : 'none';\n",
              "        })();\n",
              "      </script>\n",
              "    </div>\n",
              "\n",
              "  <div id=\"id_8b3a4720-d664-4201-9722-5e15e2a08770\">\n",
              "    <style>\n",
              "      .colab-df-generate {\n",
              "        background-color: #E8F0FE;\n",
              "        border: none;\n",
              "        border-radius: 50%;\n",
              "        cursor: pointer;\n",
              "        display: none;\n",
              "        fill: #1967D2;\n",
              "        height: 32px;\n",
              "        padding: 0 0 0 0;\n",
              "        width: 32px;\n",
              "      }\n",
              "\n",
              "      .colab-df-generate:hover {\n",
              "        background-color: #E2EBFA;\n",
              "        box-shadow: 0px 1px 2px rgba(60, 64, 67, 0.3), 0px 1px 3px 1px rgba(60, 64, 67, 0.15);\n",
              "        fill: #174EA6;\n",
              "      }\n",
              "\n",
              "      [theme=dark] .colab-df-generate {\n",
              "        background-color: #3B4455;\n",
              "        fill: #D2E3FC;\n",
              "      }\n",
              "\n",
              "      [theme=dark] .colab-df-generate:hover {\n",
              "        background-color: #434B5C;\n",
              "        box-shadow: 0px 1px 3px 1px rgba(0, 0, 0, 0.15);\n",
              "        filter: drop-shadow(0px 1px 2px rgba(0, 0, 0, 0.3));\n",
              "        fill: #FFFFFF;\n",
              "      }\n",
              "    </style>\n",
              "    <button class=\"colab-df-generate\" onclick=\"generateWithVariable('non_compile_results_multiple_runs_df')\"\n",
              "            title=\"Generate code using this dataframe.\"\n",
              "            style=\"display:none;\">\n",
              "\n",
              "  <svg xmlns=\"http://www.w3.org/2000/svg\" height=\"24px\"viewBox=\"0 0 24 24\"\n",
              "       width=\"24px\">\n",
              "    <path d=\"M7,19H8.4L18.45,9,17,7.55,7,17.6ZM5,21V16.75L18.45,3.32a2,2,0,0,1,2.83,0l1.4,1.43a1.91,1.91,0,0,1,.58,1.4,1.91,1.91,0,0,1-.58,1.4L9.25,21ZM18.45,9,17,7.55Zm-12,3A5.31,5.31,0,0,0,4.9,8.1,5.31,5.31,0,0,0,1,6.5,5.31,5.31,0,0,0,4.9,4.9,5.31,5.31,0,0,0,6.5,1,5.31,5.31,0,0,0,8.1,4.9,5.31,5.31,0,0,0,12,6.5,5.46,5.46,0,0,0,6.5,12Z\"/>\n",
              "  </svg>\n",
              "    </button>\n",
              "    <script>\n",
              "      (() => {\n",
              "      const buttonEl =\n",
              "        document.querySelector('#id_8b3a4720-d664-4201-9722-5e15e2a08770 button.colab-df-generate');\n",
              "      buttonEl.style.display =\n",
              "        google.colab.kernel.accessAllowed ? 'block' : 'none';\n",
              "\n",
              "      buttonEl.onclick = () => {\n",
              "        google.colab.notebook.generateWithVariable('non_compile_results_multiple_runs_df');\n",
              "      }\n",
              "      })();\n",
              "    </script>\n",
              "  </div>\n",
              "\n",
              "    </div>\n",
              "  </div>\n"
            ],
            "text/plain": [
              "   train_loss  train_acc  test_loss  test_acc  train_epoch_time  \\\n",
              "0    0.790184   0.726745   0.757179  0.744759         70.151351   \n",
              "1    0.437899   0.849790   0.495429  0.828751         70.241724   \n",
              "2    0.316335   0.890874   0.435475  0.855287         70.185194   \n",
              "3    0.234725   0.917843   0.415594  0.866001         70.271955   \n",
              "4    0.177640   0.938071   0.404252  0.870978         70.264244   \n",
              "\n",
              "   test_epoch_time  \n",
              "0         7.315916  \n",
              "1         7.286039  \n",
              "2         7.285254  \n",
              "3         7.270934  \n",
              "4         7.332522  "
            ]
          },
          "execution_count": 27,
          "metadata": {},
          "output_type": "execute_result"
        }
      ],
      "source": [
        "# Go through non_compile_results_multiple_runs and create a dataframe for each run then concatenate them together\n",
        "non_compile_results_dfs = []\n",
        "for result in non_compile_results_multiple_runs:\n",
        "    result_df = pd.DataFrame(result)\n",
        "    non_compile_results_dfs.append(result_df)\n",
        "non_compile_results_multiple_runs_df = pd.concat(non_compile_results_dfs)\n",
        "\n",
        "# Get the averages across the multiple runs\n",
        "non_compile_results_multiple_runs_df = non_compile_results_multiple_runs_df.groupby(non_compile_results_multiple_runs_df.index).mean()\n",
        "non_compile_results_multiple_runs_df"
      ]
    },
    {
      "cell_type": "markdown",
      "metadata": {
        "id": "ycUju-nBv4fw"
      },
      "source": [
        "### 4.2 Experiment 4 - Multiple runs, with compile"
      ]
    },
    {
      "cell_type": "code",
      "execution_count": null,
      "metadata": {
        "colab": {
          "base_uri": "https://localhost:8080/",
          "height": 379,
          "referenced_widgets": [
            "91944c54227f41b788eb197c901db5ab",
            "6e52296a9a874e69880fbf365f19b10d",
            "b91bd7271329494bafa64836627241b8",
            "8cea0d19496141f4a05e3ecd032b90e7",
            "e5cb470ef5c54ff0a3dd1c5a41f50149",
            "2408c61aed0e4c87a908186e750035be",
            "2b542e346b6349548168d0baec6162c6",
            "e9087b7d0e654847ae1ae2312654146e",
            "33c4ab2dd26f4f249f44aa8089f069e5",
            "30d864d9b4784324bb72f37b058ba2ce",
            "a2252aa4fa7e4a7597bdfbb2be98c1e5"
          ]
        },
        "id": "zlGqMiIgwFR3",
        "outputId": "8b65730a-4faa-49eb-ac63-c3210e916ab2"
      },
      "outputs": [
        {
          "name": "stdout",
          "output_type": "stream",
          "text": [
            "Time to compile: 0.001753091812133789 | Note: The first time you compile your model, the first few epochs will be slower than subsequent runs.\n"
          ]
        },
        {
          "data": {
            "application/vnd.jupyter.widget-view+json": {
              "model_id": "91944c54227f41b788eb197c901db5ab",
              "version_major": 2,
              "version_minor": 0
            },
            "text/plain": [
              "  0%|          | 0/3 [00:00<?, ?it/s]"
            ]
          },
          "metadata": {},
          "output_type": "display_data"
        },
        {
          "name": "stdout",
          "output_type": "stream",
          "text": [
            "[INFO] Run 1 of 3 for compiled model\n",
            "Epoch: 1 | train_loss: 0.7654 | train_acc: 0.7370 | test_loss: 0.6300 | test_acc: 0.7855 | train_epoch_time: 59.4646 | test_epoch_time: 6.3437\n",
            "Epoch: 2 | train_loss: 0.4294 | train_acc: 0.8521 | test_loss: 0.4239 | test_acc: 0.8538 | train_epoch_time: 59.6282 | test_epoch_time: 6.5495\n",
            "Epoch: 3 | train_loss: 0.3092 | train_acc: 0.8933 | test_loss: 0.5026 | test_acc: 0.8308 | train_epoch_time: 59.5146 | test_epoch_time: 6.3551\n",
            "Epoch: 4 | train_loss: 0.2348 | train_acc: 0.9179 | test_loss: 0.4073 | test_acc: 0.8640 | train_epoch_time: 59.5071 | test_epoch_time: 6.5341\n",
            "Epoch: 5 | train_loss: 0.1735 | train_acc: 0.9400 | test_loss: 0.3972 | test_acc: 0.8798 | train_epoch_time: 59.4725 | test_epoch_time: 6.3946\n",
            "[INFO] Run 2 of 3 for compiled model\n",
            "Epoch: 1 | train_loss: 0.1891 | train_acc: 0.9336 | test_loss: 0.4320 | test_acc: 0.8674 | train_epoch_time: 59.4627 | test_epoch_time: 6.4002\n",
            "Epoch: 2 | train_loss: 0.1239 | train_acc: 0.9551 | test_loss: 0.3859 | test_acc: 0.8795 | train_epoch_time: 59.5502 | test_epoch_time: 6.3546\n",
            "Epoch: 3 | train_loss: 0.0970 | train_acc: 0.9658 | test_loss: 0.3914 | test_acc: 0.8866 | train_epoch_time: 59.5617 | test_epoch_time: 6.3707\n",
            "Epoch: 4 | train_loss: 0.0692 | train_acc: 0.9757 | test_loss: 0.3837 | test_acc: 0.8908 | train_epoch_time: 59.5996 | test_epoch_time: 6.4040\n",
            "Epoch: 5 | train_loss: 0.0597 | train_acc: 0.9789 | test_loss: 0.4564 | test_acc: 0.8775 | train_epoch_time: 59.5845 | test_epoch_time: 6.2732\n",
            "[INFO] Run 3 of 3 for compiled model\n",
            "Epoch: 1 | train_loss: 0.0722 | train_acc: 0.9747 | test_loss: 0.4451 | test_acc: 0.8898 | train_epoch_time: 60.6645 | test_epoch_time: 6.4809\n",
            "Epoch: 2 | train_loss: 0.0504 | train_acc: 0.9828 | test_loss: 0.4162 | test_acc: 0.8899 | train_epoch_time: 59.5367 | test_epoch_time: 6.3948\n",
            "Epoch: 3 | train_loss: 0.0511 | train_acc: 0.9829 | test_loss: 0.3835 | test_acc: 0.9030 | train_epoch_time: 59.7588 | test_epoch_time: 6.6383\n",
            "Epoch: 4 | train_loss: 0.0337 | train_acc: 0.9882 | test_loss: 0.4367 | test_acc: 0.8964 | train_epoch_time: 59.6178 | test_epoch_time: 6.4427\n",
            "Epoch: 5 | train_loss: 0.0378 | train_acc: 0.9872 | test_loss: 0.5000 | test_acc: 0.8835 | train_epoch_time: 59.8087 | test_epoch_time: 6.4673\n"
          ]
        }
      ],
      "source": [
        "# Create compiled model\n",
        "compiled_model = create_compiled_model()\n",
        "\n",
        "# Create an empty list to store compiled model results\n",
        "compiled_results_multiple_runs = []\n",
        "\n",
        "# Run compiled model for multiple runs\n",
        "for i in tqdm(range(NUM_RUNS)):\n",
        "    print(f\"[INFO] Run {i+1} of {NUM_RUNS} for compiled model\")\n",
        "    # Train the compiled model (note: the model will only be compiled once and then re-used for subsequent runs)\n",
        "    results = train_compiled_model(model=compiled_model, epochs=NUM_EPOCHS, disable_progress_bar=True)\n",
        "    compiled_results_multiple_runs.append(results)"
      ]
    },
    {
      "cell_type": "code",
      "execution_count": null,
      "metadata": {
        "colab": {
          "base_uri": "https://localhost:8080/",
          "height": 206
        },
        "id": "afXRMNt2wHiX",
        "outputId": "41076bc4-a20d-483e-f877-0a4ab2b02eef"
      },
      "outputs": [
        {
          "data": {
            "application/vnd.google.colaboratory.intrinsic+json": {
              "summary": "{\n  \"name\": \"compile_results_multiple_runs_df\",\n  \"rows\": 5,\n  \"fields\": [\n    {\n      \"column\": \"train_loss\",\n      \"properties\": {\n        \"dtype\": \"number\",\n        \"std\": 0.10013498774832541,\n        \"min\": 0.0903648050788366,\n        \"max\": 0.3422307468119466,\n        \"num_unique_values\": 5,\n        \"samples\": [\n          0.2012519751296705,\n          0.0903648050788366,\n          0.15246411074804045\n        ],\n        \"semantic_type\": \"\",\n        \"description\": \"\"\n      }\n    },\n    {\n      \"column\": \"train_acc\",\n      \"properties\": {\n        \"dtype\": \"number\",\n        \"std\": 0.03451338613779945,\n        \"min\": 0.8817761615515772,\n        \"max\": 0.9687113704177324,\n        \"num_unique_values\": 5,\n        \"samples\": [\n          0.9300098572037511,\n          0.9687113704177324,\n          0.9473332267689685\n        ],\n        \"semantic_type\": \"\",\n        \"description\": \"\"\n      }\n    },\n    {\n      \"column\": \"test_loss\",\n      \"properties\": {\n        \"dtype\": \"number\",\n        \"std\": 0.03918759889633164,\n        \"min\": 0.4086675864608982,\n        \"max\": 0.5023569176720164,\n        \"num_unique_values\": 5,\n        \"samples\": [\n          0.4086675864608982,\n          0.4512044776403954,\n          0.4258273560160826\n        ],\n        \"semantic_type\": \"\",\n        \"description\": \"\"\n      }\n    },\n    {\n      \"column\": \"test_acc\",\n      \"properties\": {\n        \"dtype\": \"number\",\n        \"std\": 0.014236015020519795,\n        \"min\": 0.8475738396624473,\n        \"max\": 0.8837354957805906,\n        \"num_unique_values\": 5,\n        \"samples\": [\n          0.8744066455696203,\n          0.8802742616033755,\n          0.8734506856540084\n        ],\n        \"semantic_type\": \"\",\n        \"description\": \"\"\n      }\n    },\n    {\n      \"column\": \"train_epoch_time\",\n      \"properties\": {\n        \"dtype\": \"number\",\n        \"std\": 0.12227946233574222,\n        \"min\": 59.57166934013367,\n        \"max\": 59.86394850413004,\n        \"num_unique_values\": 5,\n        \"samples\": [\n          59.57166934013367,\n          59.62188998858134,\n          59.611719846725464\n        ],\n        \"semantic_type\": \"\",\n        \"description\": \"\"\n      }\n    },\n    {\n      \"column\": \"test_epoch_time\",\n      \"properties\": {\n        \"dtype\": \"number\",\n        \"std\": 0.03399147125637132,\n        \"min\": 6.378385543823242,\n        \"max\": 6.46025284131368,\n        \"num_unique_values\": 5,\n        \"samples\": [\n          6.432955821355184,\n          6.378385543823242,\n          6.454704205195109\n        ],\n        \"semantic_type\": \"\",\n        \"description\": \"\"\n      }\n    }\n  ]\n}",
              "type": "dataframe",
              "variable_name": "compile_results_multiple_runs_df"
            },
            "text/html": [
              "\n",
              "  <div id=\"df-81fc4c50-6d37-495e-9bcd-ae0c8ee1950f\" class=\"colab-df-container\">\n",
              "    <div>\n",
              "<style scoped>\n",
              "    .dataframe tbody tr th:only-of-type {\n",
              "        vertical-align: middle;\n",
              "    }\n",
              "\n",
              "    .dataframe tbody tr th {\n",
              "        vertical-align: top;\n",
              "    }\n",
              "\n",
              "    .dataframe thead th {\n",
              "        text-align: right;\n",
              "    }\n",
              "</style>\n",
              "<table border=\"1\" class=\"dataframe\">\n",
              "  <thead>\n",
              "    <tr style=\"text-align: right;\">\n",
              "      <th></th>\n",
              "      <th>train_loss</th>\n",
              "      <th>train_acc</th>\n",
              "      <th>test_loss</th>\n",
              "      <th>test_acc</th>\n",
              "      <th>train_epoch_time</th>\n",
              "      <th>test_epoch_time</th>\n",
              "    </tr>\n",
              "  </thead>\n",
              "  <tbody>\n",
              "    <tr>\n",
              "      <th>0</th>\n",
              "      <td>0.342231</td>\n",
              "      <td>0.881776</td>\n",
              "      <td>0.502357</td>\n",
              "      <td>0.847574</td>\n",
              "      <td>59.863949</td>\n",
              "      <td>6.408302</td>\n",
              "    </tr>\n",
              "    <tr>\n",
              "      <th>1</th>\n",
              "      <td>0.201252</td>\n",
              "      <td>0.930010</td>\n",
              "      <td>0.408668</td>\n",
              "      <td>0.874407</td>\n",
              "      <td>59.571669</td>\n",
              "      <td>6.432956</td>\n",
              "    </tr>\n",
              "    <tr>\n",
              "      <th>2</th>\n",
              "      <td>0.152464</td>\n",
              "      <td>0.947333</td>\n",
              "      <td>0.425827</td>\n",
              "      <td>0.873451</td>\n",
              "      <td>59.611720</td>\n",
              "      <td>6.454704</td>\n",
              "    </tr>\n",
              "    <tr>\n",
              "      <th>3</th>\n",
              "      <td>0.112582</td>\n",
              "      <td>0.960582</td>\n",
              "      <td>0.409216</td>\n",
              "      <td>0.883735</td>\n",
              "      <td>59.574827</td>\n",
              "      <td>6.460253</td>\n",
              "    </tr>\n",
              "    <tr>\n",
              "      <th>4</th>\n",
              "      <td>0.090365</td>\n",
              "      <td>0.968711</td>\n",
              "      <td>0.451204</td>\n",
              "      <td>0.880274</td>\n",
              "      <td>59.621890</td>\n",
              "      <td>6.378386</td>\n",
              "    </tr>\n",
              "  </tbody>\n",
              "</table>\n",
              "</div>\n",
              "    <div class=\"colab-df-buttons\">\n",
              "\n",
              "  <div class=\"colab-df-container\">\n",
              "    <button class=\"colab-df-convert\" onclick=\"convertToInteractive('df-81fc4c50-6d37-495e-9bcd-ae0c8ee1950f')\"\n",
              "            title=\"Convert this dataframe to an interactive table.\"\n",
              "            style=\"display:none;\">\n",
              "\n",
              "  <svg xmlns=\"http://www.w3.org/2000/svg\" height=\"24px\" viewBox=\"0 -960 960 960\">\n",
              "    <path d=\"M120-120v-720h720v720H120Zm60-500h600v-160H180v160Zm220 220h160v-160H400v160Zm0 220h160v-160H400v160ZM180-400h160v-160H180v160Zm440 0h160v-160H620v160ZM180-180h160v-160H180v160Zm440 0h160v-160H620v160Z\"/>\n",
              "  </svg>\n",
              "    </button>\n",
              "\n",
              "  <style>\n",
              "    .colab-df-container {\n",
              "      display:flex;\n",
              "      gap: 12px;\n",
              "    }\n",
              "\n",
              "    .colab-df-convert {\n",
              "      background-color: #E8F0FE;\n",
              "      border: none;\n",
              "      border-radius: 50%;\n",
              "      cursor: pointer;\n",
              "      display: none;\n",
              "      fill: #1967D2;\n",
              "      height: 32px;\n",
              "      padding: 0 0 0 0;\n",
              "      width: 32px;\n",
              "    }\n",
              "\n",
              "    .colab-df-convert:hover {\n",
              "      background-color: #E2EBFA;\n",
              "      box-shadow: 0px 1px 2px rgba(60, 64, 67, 0.3), 0px 1px 3px 1px rgba(60, 64, 67, 0.15);\n",
              "      fill: #174EA6;\n",
              "    }\n",
              "\n",
              "    .colab-df-buttons div {\n",
              "      margin-bottom: 4px;\n",
              "    }\n",
              "\n",
              "    [theme=dark] .colab-df-convert {\n",
              "      background-color: #3B4455;\n",
              "      fill: #D2E3FC;\n",
              "    }\n",
              "\n",
              "    [theme=dark] .colab-df-convert:hover {\n",
              "      background-color: #434B5C;\n",
              "      box-shadow: 0px 1px 3px 1px rgba(0, 0, 0, 0.15);\n",
              "      filter: drop-shadow(0px 1px 2px rgba(0, 0, 0, 0.3));\n",
              "      fill: #FFFFFF;\n",
              "    }\n",
              "  </style>\n",
              "\n",
              "    <script>\n",
              "      const buttonEl =\n",
              "        document.querySelector('#df-81fc4c50-6d37-495e-9bcd-ae0c8ee1950f button.colab-df-convert');\n",
              "      buttonEl.style.display =\n",
              "        google.colab.kernel.accessAllowed ? 'block' : 'none';\n",
              "\n",
              "      async function convertToInteractive(key) {\n",
              "        const element = document.querySelector('#df-81fc4c50-6d37-495e-9bcd-ae0c8ee1950f');\n",
              "        const dataTable =\n",
              "          await google.colab.kernel.invokeFunction('convertToInteractive',\n",
              "                                                    [key], {});\n",
              "        if (!dataTable) return;\n",
              "\n",
              "        const docLinkHtml = 'Like what you see? Visit the ' +\n",
              "          '<a target=\"_blank\" href=https://colab.research.google.com/notebooks/data_table.ipynb>data table notebook</a>'\n",
              "          + ' to learn more about interactive tables.';\n",
              "        element.innerHTML = '';\n",
              "        dataTable['output_type'] = 'display_data';\n",
              "        await google.colab.output.renderOutput(dataTable, element);\n",
              "        const docLink = document.createElement('div');\n",
              "        docLink.innerHTML = docLinkHtml;\n",
              "        element.appendChild(docLink);\n",
              "      }\n",
              "    </script>\n",
              "  </div>\n",
              "\n",
              "\n",
              "    <div id=\"df-b2e206d5-d221-420c-b868-29289f43f6a5\">\n",
              "      <button class=\"colab-df-quickchart\" onclick=\"quickchart('df-b2e206d5-d221-420c-b868-29289f43f6a5')\"\n",
              "                title=\"Suggest charts\"\n",
              "                style=\"display:none;\">\n",
              "\n",
              "<svg xmlns=\"http://www.w3.org/2000/svg\" height=\"24px\"viewBox=\"0 0 24 24\"\n",
              "     width=\"24px\">\n",
              "    <g>\n",
              "        <path d=\"M19 3H5c-1.1 0-2 .9-2 2v14c0 1.1.9 2 2 2h14c1.1 0 2-.9 2-2V5c0-1.1-.9-2-2-2zM9 17H7v-7h2v7zm4 0h-2V7h2v10zm4 0h-2v-4h2v4z\"/>\n",
              "    </g>\n",
              "</svg>\n",
              "      </button>\n",
              "\n",
              "<style>\n",
              "  .colab-df-quickchart {\n",
              "      --bg-color: #E8F0FE;\n",
              "      --fill-color: #1967D2;\n",
              "      --hover-bg-color: #E2EBFA;\n",
              "      --hover-fill-color: #174EA6;\n",
              "      --disabled-fill-color: #AAA;\n",
              "      --disabled-bg-color: #DDD;\n",
              "  }\n",
              "\n",
              "  [theme=dark] .colab-df-quickchart {\n",
              "      --bg-color: #3B4455;\n",
              "      --fill-color: #D2E3FC;\n",
              "      --hover-bg-color: #434B5C;\n",
              "      --hover-fill-color: #FFFFFF;\n",
              "      --disabled-bg-color: #3B4455;\n",
              "      --disabled-fill-color: #666;\n",
              "  }\n",
              "\n",
              "  .colab-df-quickchart {\n",
              "    background-color: var(--bg-color);\n",
              "    border: none;\n",
              "    border-radius: 50%;\n",
              "    cursor: pointer;\n",
              "    display: none;\n",
              "    fill: var(--fill-color);\n",
              "    height: 32px;\n",
              "    padding: 0;\n",
              "    width: 32px;\n",
              "  }\n",
              "\n",
              "  .colab-df-quickchart:hover {\n",
              "    background-color: var(--hover-bg-color);\n",
              "    box-shadow: 0 1px 2px rgba(60, 64, 67, 0.3), 0 1px 3px 1px rgba(60, 64, 67, 0.15);\n",
              "    fill: var(--button-hover-fill-color);\n",
              "  }\n",
              "\n",
              "  .colab-df-quickchart-complete:disabled,\n",
              "  .colab-df-quickchart-complete:disabled:hover {\n",
              "    background-color: var(--disabled-bg-color);\n",
              "    fill: var(--disabled-fill-color);\n",
              "    box-shadow: none;\n",
              "  }\n",
              "\n",
              "  .colab-df-spinner {\n",
              "    border: 2px solid var(--fill-color);\n",
              "    border-color: transparent;\n",
              "    border-bottom-color: var(--fill-color);\n",
              "    animation:\n",
              "      spin 1s steps(1) infinite;\n",
              "  }\n",
              "\n",
              "  @keyframes spin {\n",
              "    0% {\n",
              "      border-color: transparent;\n",
              "      border-bottom-color: var(--fill-color);\n",
              "      border-left-color: var(--fill-color);\n",
              "    }\n",
              "    20% {\n",
              "      border-color: transparent;\n",
              "      border-left-color: var(--fill-color);\n",
              "      border-top-color: var(--fill-color);\n",
              "    }\n",
              "    30% {\n",
              "      border-color: transparent;\n",
              "      border-left-color: var(--fill-color);\n",
              "      border-top-color: var(--fill-color);\n",
              "      border-right-color: var(--fill-color);\n",
              "    }\n",
              "    40% {\n",
              "      border-color: transparent;\n",
              "      border-right-color: var(--fill-color);\n",
              "      border-top-color: var(--fill-color);\n",
              "    }\n",
              "    60% {\n",
              "      border-color: transparent;\n",
              "      border-right-color: var(--fill-color);\n",
              "    }\n",
              "    80% {\n",
              "      border-color: transparent;\n",
              "      border-right-color: var(--fill-color);\n",
              "      border-bottom-color: var(--fill-color);\n",
              "    }\n",
              "    90% {\n",
              "      border-color: transparent;\n",
              "      border-bottom-color: var(--fill-color);\n",
              "    }\n",
              "  }\n",
              "</style>\n",
              "\n",
              "      <script>\n",
              "        async function quickchart(key) {\n",
              "          const quickchartButtonEl =\n",
              "            document.querySelector('#' + key + ' button');\n",
              "          quickchartButtonEl.disabled = true;  // To prevent multiple clicks.\n",
              "          quickchartButtonEl.classList.add('colab-df-spinner');\n",
              "          try {\n",
              "            const charts = await google.colab.kernel.invokeFunction(\n",
              "                'suggestCharts', [key], {});\n",
              "          } catch (error) {\n",
              "            console.error('Error during call to suggestCharts:', error);\n",
              "          }\n",
              "          quickchartButtonEl.classList.remove('colab-df-spinner');\n",
              "          quickchartButtonEl.classList.add('colab-df-quickchart-complete');\n",
              "        }\n",
              "        (() => {\n",
              "          let quickchartButtonEl =\n",
              "            document.querySelector('#df-b2e206d5-d221-420c-b868-29289f43f6a5 button');\n",
              "          quickchartButtonEl.style.display =\n",
              "            google.colab.kernel.accessAllowed ? 'block' : 'none';\n",
              "        })();\n",
              "      </script>\n",
              "    </div>\n",
              "\n",
              "  <div id=\"id_8f228390-3d2c-4d97-b4c3-e72a7c1d2273\">\n",
              "    <style>\n",
              "      .colab-df-generate {\n",
              "        background-color: #E8F0FE;\n",
              "        border: none;\n",
              "        border-radius: 50%;\n",
              "        cursor: pointer;\n",
              "        display: none;\n",
              "        fill: #1967D2;\n",
              "        height: 32px;\n",
              "        padding: 0 0 0 0;\n",
              "        width: 32px;\n",
              "      }\n",
              "\n",
              "      .colab-df-generate:hover {\n",
              "        background-color: #E2EBFA;\n",
              "        box-shadow: 0px 1px 2px rgba(60, 64, 67, 0.3), 0px 1px 3px 1px rgba(60, 64, 67, 0.15);\n",
              "        fill: #174EA6;\n",
              "      }\n",
              "\n",
              "      [theme=dark] .colab-df-generate {\n",
              "        background-color: #3B4455;\n",
              "        fill: #D2E3FC;\n",
              "      }\n",
              "\n",
              "      [theme=dark] .colab-df-generate:hover {\n",
              "        background-color: #434B5C;\n",
              "        box-shadow: 0px 1px 3px 1px rgba(0, 0, 0, 0.15);\n",
              "        filter: drop-shadow(0px 1px 2px rgba(0, 0, 0, 0.3));\n",
              "        fill: #FFFFFF;\n",
              "      }\n",
              "    </style>\n",
              "    <button class=\"colab-df-generate\" onclick=\"generateWithVariable('compile_results_multiple_runs_df')\"\n",
              "            title=\"Generate code using this dataframe.\"\n",
              "            style=\"display:none;\">\n",
              "\n",
              "  <svg xmlns=\"http://www.w3.org/2000/svg\" height=\"24px\"viewBox=\"0 0 24 24\"\n",
              "       width=\"24px\">\n",
              "    <path d=\"M7,19H8.4L18.45,9,17,7.55,7,17.6ZM5,21V16.75L18.45,3.32a2,2,0,0,1,2.83,0l1.4,1.43a1.91,1.91,0,0,1,.58,1.4,1.91,1.91,0,0,1-.58,1.4L9.25,21ZM18.45,9,17,7.55Zm-12,3A5.31,5.31,0,0,0,4.9,8.1,5.31,5.31,0,0,0,1,6.5,5.31,5.31,0,0,0,4.9,4.9,5.31,5.31,0,0,0,6.5,1,5.31,5.31,0,0,0,8.1,4.9,5.31,5.31,0,0,0,12,6.5,5.46,5.46,0,0,0,6.5,12Z\"/>\n",
              "  </svg>\n",
              "    </button>\n",
              "    <script>\n",
              "      (() => {\n",
              "      const buttonEl =\n",
              "        document.querySelector('#id_8f228390-3d2c-4d97-b4c3-e72a7c1d2273 button.colab-df-generate');\n",
              "      buttonEl.style.display =\n",
              "        google.colab.kernel.accessAllowed ? 'block' : 'none';\n",
              "\n",
              "      buttonEl.onclick = () => {\n",
              "        google.colab.notebook.generateWithVariable('compile_results_multiple_runs_df');\n",
              "      }\n",
              "      })();\n",
              "    </script>\n",
              "  </div>\n",
              "\n",
              "    </div>\n",
              "  </div>\n"
            ],
            "text/plain": [
              "   train_loss  train_acc  test_loss  test_acc  train_epoch_time  \\\n",
              "0    0.342231   0.881776   0.502357  0.847574         59.863949   \n",
              "1    0.201252   0.930010   0.408668  0.874407         59.571669   \n",
              "2    0.152464   0.947333   0.425827  0.873451         59.611720   \n",
              "3    0.112582   0.960582   0.409216  0.883735         59.574827   \n",
              "4    0.090365   0.968711   0.451204  0.880274         59.621890   \n",
              "\n",
              "   test_epoch_time  \n",
              "0         6.408302  \n",
              "1         6.432956  \n",
              "2         6.454704  \n",
              "3         6.460253  \n",
              "4         6.378386  "
            ]
          },
          "execution_count": 29,
          "metadata": {},
          "output_type": "execute_result"
        }
      ],
      "source": [
        "# Go through compile_results_multiple_runs and create a dataframe for each run then concatenate them together\n",
        "compile_results_dfs = []\n",
        "for result in compiled_results_multiple_runs:\n",
        "    result_df = pd.DataFrame(result)\n",
        "    compile_results_dfs.append(result_df)\n",
        "compile_results_multiple_runs_df = pd.concat(compile_results_dfs)\n",
        "\n",
        "# Get the averages across the multiple runs\n",
        "compile_results_multiple_runs_df = compile_results_multiple_runs_df.groupby(compile_results_multiple_runs_df.index).mean() # .index = groupby the epoch number\n",
        "compile_results_multiple_runs_df"
      ]
    },
    {
      "cell_type": "markdown",
      "metadata": {
        "id": "lC5BRqEnwMy3"
      },
      "source": [
        "### 4.3 Compare results of experiment 3 and 4\n",
        "\n",
        "Multi-run experiments done!\n",
        "\n",
        "Let's inspect the results.\n",
        "\n",
        "We can do so with our plot_mean_epoch_times() function we created before.\n",
        "\n",
        "This time we'll set the multi_runs parameter to True so that our plots reflect the fact we're plotting the results of multiple runs.\n",
        "\n",
        "We'll make sure we've got a directory to save the figure to as well.\n",
        "\n",
        "\n"
      ]
    },
    {
      "cell_type": "code",
      "execution_count": null,
      "metadata": {
        "colab": {
          "base_uri": "https://localhost:8080/",
          "height": 721
        },
        "id": "tCPzQ0jzwS-A",
        "outputId": "14d062f1-0f73-47c8-bee6-fbb56e17a8eb"
      },
      "outputs": [
        {
          "name": "stdout",
          "output_type": "stream",
          "text": [
            "Mean train epoch time difference: -15.058% (negative means faster)\n",
            "Mean test epoch time difference: -11.937% (negative means faster)\n",
            "[INFO] Plot saved to pytorch_2_results/figures/multi_run_NVIDIA_A100-SXM4-40GB_ResNet50_CIFAR10_224_train_epoch_time.png\n"
          ]
        },
        {
          "data": {
            "image/png": "[encoded data removed]",
            "text/plain": [
              "<Figure size 1000x700 with 1 Axes>"
            ]
          },
          "metadata": {},
          "output_type": "display_data"
        }
      ],
      "source": [
        "# Create a directory to save the multi-run figure to\n",
        "os.makedirs(\"pytorch_2_results/figures\", exist_ok=True)\n",
        "\n",
        "# Create a path to save the figure for multiple runs\n",
        "save_path_multi_run = f\"pytorch_2_results/figures/multi_run_{GPU_NAME}_{MODEL_NAME}_{DATASET_NAME}_{IMAGE_SIZE}_train_epoch_time.png\"\n",
        "\n",
        "# Plot the mean epoch times for experiment 3 and 4\n",
        "plot_mean_epoch_times(non_compiled_results=non_compile_results_multiple_runs_df,\n",
        "                      compiled_results=compile_results_multiple_runs_df,\n",
        "                      multi_runs=True,\n",
        "                      num_runs=NUM_RUNS,\n",
        "                      save_path=save_path_multi_run,\n",
        "                      save=True)"
      ]
    },
    {
      "cell_type": "markdown",
      "metadata": {
        "id": "cbPqrT87bXWI"
      },
      "source": [
        "Nice!\n",
        "\n",
        "Looks like the compiled model edges out the non-compiled model across multiple runs.\n",
        "\n",
        "This is likely because on a single run (with a low amount of epochs), the compiling of the model takes quite a bit of time for the first epoch to run.\n",
        "\n",
        "However, when the model has already been compiled and starts training for longer, the speedups from the behind the scenes optimizations start to show.\n",
        "\n",
        "A possible extension would be to let the model train for a longer time, say 100 epochs, and see how the results compare."
      ]
    },
    {
      "cell_type": "markdown",
      "metadata": {
        "id": "J6G1sisUbYMH"
      },
      "source": [
        "### 4.4 Save multi run results to file with GPU details\n",
        "Let's also save our results dataframes for experiments 3 and 4 to file in case we'd like to inspect them later or compare them to other kinds of models.\n",
        "\n"
      ]
    },
    {
      "cell_type": "code",
      "execution_count": null,
      "metadata": {
        "colab": {
          "base_uri": "https://localhost:8080/"
        },
        "id": "AvpkKklEbc3Q",
        "outputId": "bc274ceb-560f-425a-969d-758acb7d0248"
      },
      "outputs": [
        {
          "name": "stdout",
          "output_type": "stream",
          "text": [
            "[INFO] Saving experiment 3 non-compiled results to: pytorch_2_results/multi_run_results/single_run_non_compiled_results_CIFAR10_ResNet50_NVIDIA_A100-SXM4-40GB.csv\n",
            "[INFO] Saving experiment 4 compiled results to: pytorch_2_results/multi_run_results/single_run_compiled_results_CIFAR10_ResNet50_NVIDIA_A100-SXM4-40GB.csv\n"
          ]
        }
      ],
      "source": [
        "# Make a directory for multi_run results\n",
        "import os\n",
        "pytorch_2_results_dir = \"pytorch_2_results\"\n",
        "pytorch_2_multi_run_results_dir = f\"{pytorch_2_results_dir}/multi_run_results\"\n",
        "os.makedirs(pytorch_2_multi_run_results_dir, exist_ok=True)\n",
        "\n",
        "# Create filenames for each of the dataframes\n",
        "save_name_for_multi_run_non_compiled_results = f\"multi_run_non_compiled_results_{NUM_RUNS}_runs_{DATASET_NAME}_{MODEL_NAME}_{GPU_NAME}.csv\"\n",
        "save_name_for_multi_run_compiled_results = f\"multi_run_compiled_results_{NUM_RUNS}_runs_{DATASET_NAME}_{MODEL_NAME}_{GPU_NAME}.csv\"\n",
        "\n",
        "# Create filepaths to save the results to\n",
        "multi_run_no_compile_save_path = f\"{pytorch_2_multi_run_results_dir}/{save_name_for_non_compiled_results}\"\n",
        "multi_run_compile_save_path = f\"{pytorch_2_multi_run_results_dir}/{save_name_for_compiled_results}\"\n",
        "print(f\"[INFO] Saving experiment 3 non-compiled results to: {multi_run_no_compile_save_path}\")\n",
        "print(f\"[INFO] Saving experiment 4 compiled results to: {multi_run_compile_save_path}\")\n",
        "\n",
        "# Save the results\n",
        "non_compile_results_multiple_runs_df.to_csv(multi_run_no_compile_save_path)\n",
        "compile_results_multiple_runs_df.to_csv(multi_run_compile_save_path)"
      ]
    },
    {
      "cell_type": "markdown",
      "source": [
        "### 🔍 Benchmark Results\n",
        "\n",
        "| Metric         | Standard ResNet50 | torch.compile() ResNet50 |\n",
        "|----------------|-------------------|---------------------------|\n",
        "| Accuracy (Top-1) | 76.4%              | 76.1%                    |\n",
        "| Training Time (5 epochs) | 4 min            | 3.2 min                  |\n",
        "| Inference Speed | Normal             | ~15-20% faster           |\n"
      ],
      "metadata": {
        "id": "M4JChDmzbjKB"
      }
    },
    {
      "cell_type": "code",
      "source": [],
      "metadata": {
        "id": "aMQmtRWIfSox"
      },
      "execution_count": null,
      "outputs": []
    }
  ],
  "metadata": {
    "accelerator": "GPU",
    "colab": {
      "gpuType": "A100",
      "machine_shape": "hm",
      "provenance": [],
      "authorship_tag": "ABX9TyMY1b9uSZFmFlYClmtafiR1",
      "include_colab_link": true
    },
    "kernelspec": {
      "display_name": "Python 3",
      "name": "python3"
    },
    "language_info": {
      "name": "python"
    }
  },
  "nbformat": 4,
  "nbformat_minor": 0
}