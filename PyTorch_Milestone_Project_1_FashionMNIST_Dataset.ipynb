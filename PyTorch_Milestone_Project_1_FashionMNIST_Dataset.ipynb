{
  "nbformat": 4,
  "nbformat_minor": 0,
  "metadata": {
    "colab": {
      "provenance": [],
      "gpuType": "T4"
    },
    "kernelspec": {
      "name": "python3",
      "display_name": "Python 3"
    },
    "language_info": {
      "name": "python"
    },
    "accelerator": "GPU",
  "cells": [
    {
      "cell_type": "markdown",
      "source": [
        "# 👗 FashionMNIST Image Classification with PyTorch\n",
        "\n",
        "## 📌 Introduction\n",
        "\n",
        "In a world where AI is redefining industries, fashion is no exception. This project is a hands-on exploration of how deep learning can be used to classify clothing images — a practical and fun application of computer vision using the **FashionMNIST** dataset.\n",
        "\n",
        "FashionMNIST is a dataset of Zalando's article images, consisting of 60,000 training examples and 10,000 test examples, each being a 28x28 grayscale image associated with a label from 10 clothing categories — from t-shirts and trousers to sneakers and ankle boots.\n",
        "\n",
        "Using **PyTorch**, I built a convolutional neural network (CNN) that learns to recognize these clothing types automatically. This project covers the full modeling workflow: loading and visualizing the dataset, designing and training the neural network, evaluating performance, and reflecting on what worked (and what didn’t).\n",
        "\n",
        "My goal was not just to reach high accuracy, but to understand *why* each step matters — making this not just a model, but a learning experience.\n",
        "\n",
        "---\n"
      ],
      "metadata": {
        "id": "9ptdKkqwAaNZ"
      }
    },
    {
      "cell_type": "code",
      "source": [
        "# Import PyTorch\n",
        "import torch\n",
        "from torch import nn\n",
        "\n",
        "# Import torchvision\n",
        "import torchvision\n",
        "from torchvision import datasets\n",
        "from torchvision.transforms import ToTensor\n",
        "\n",
        "# Import matplotlib for visualization\n",
        "import matplotlib.pyplot as plt\n",
        "\n",
        "# Check versions\n",
        "print(f\"PyTorch version: {torch.__version__}\\ntorchvision version: {torchvision.__version__}\")"
      ],
      "metadata": {
        "colab": {
          "base_uri": "https://localhost:8080/"
        },
        "id": "9X-1Mww6GVV4",
        "outputId": "c09a4a6b-ab4c-4d84-d9b1-3aa007771f7e"
      },
      "execution_count": 1,
      "outputs": [
        {
          "output_type": "stream",
          "name": "stdout",
          "text": [
            "PyTorch version: 2.6.0+cu124\n",
            "torchvision version: 0.21.0+cu124\n"
          ]
        }
      ]
    },
    {
      "cell_type": "markdown",
      "source": [
        "## 1. Getting a Dataset"
      ],
      "metadata": {
        "id": "b5p76Ni3GyoR"
      }
    },
    {
      "cell_type": "markdown",
      "source": [
        "To begin working on a computer vision problem, let's get a computer vision dataset.\n",
        "\n",
        "We're going to start with FashionMNIST.\n",
        "\n",
        "MNIST stands for Modified National Institute of Standards and Technology.\n",
        "\n",
        "The original MNIST dataset contains thousands of examples of handwritten digits (from 0 to 9) and was used to build computer vision models to identify numbers for postal services.\n",
        "\n",
        "FashionMNIST, made by Zalando Research, is a similar setup.\n",
        "\n",
        "Except it contains grayscale images of 10 different kinds of clothing.\n"
      ],
      "metadata": {
        "id": "MtAmcZQtHJ7D"
      }
    },
    {
      "cell_type": "code",
      "source": [
        "# Setup training data\n",
        "train_data = datasets.FashionMNIST(\n",
        "    root=\"data\", # where to download data to?\n",
        "    train=True, # get training data\n",
        "    download=True, # download data if it doesn't exist on disk\n",
        "    transform=ToTensor(), # images come as PIL format, we want to turn into Torch tensors\n",
        "    target_transform=None # you can transform labels as well\n",
        ")\n",
        "\n",
        "# Setup testing data\n",
        "test_data = datasets.FashionMNIST(\n",
        "    root=\"data\",\n",
        "    train=False, # get test data\n",
        "    download=True,\n",
        "    transform=ToTensor()\n",
        ")"
      ],
      "metadata": {
        "id": "LbizePSIHQiJ"
      },
      "execution_count": 2,
      "outputs": []
    },
    {
      "cell_type": "code",
      "source": [
        "# See first training sample\n",
        "image, label = train_data[0]\n",
        "image, label"
      ],
      "metadata": {
        "colab": {
          "base_uri": "https://localhost:8080/"
        },
        "id": "Om1QULtxHe9l",
        "outputId": "94067429-878b-4e56-b293-4800b8fc70ab"
      },
      "execution_count": 3,
      "outputs": [
        {
          "output_type": "execute_result",
          "data": {
            "text/plain": [
              "(tensor([[[0.0000, 0.0000, 0.0000, 0.0000, 0.0000, 0.0000, 0.0000, 0.0000,\n",
              "           0.0000, 0.0000, 0.0000, 0.0000, 0.0000, 0.0000, 0.0000, 0.0000,\n",
              "           0.0000, 0.0000, 0.0000, 0.0000, 0.0000, 0.0000, 0.0000, 0.0000,\n",
              "           0.0000, 0.0000, 0.0000, 0.0000],\n",
              "          [0.0000, 0.0000, 0.0000, 0.0000, 0.0000, 0.0000, 0.0000, 0.0000,\n",
              "           0.0000, 0.0000, 0.0000, 0.0000, 0.0000, 0.0000, 0.0000, 0.0000,\n",
              "           0.0000, 0.0000, 0.0000, 0.0000, 0.0000, 0.0000, 0.0000, 0.0000,\n",
              "           0.0000, 0.0000, 0.0000, 0.0000],\n",
              "          [0.0000, 0.0000, 0.0000, 0.0000, 0.0000, 0.0000, 0.0000, 0.0000,\n",
              "           0.0000, 0.0000, 0.0000, 0.0000, 0.0000, 0.0000, 0.0000, 0.0000,\n",
              "           0.0000, 0.0000, 0.0000, 0.0000, 0.0000, 0.0000, 0.0000, 0.0000,\n",
              "           0.0000, 0.0000, 0.0000, 0.0000],\n",
              "          [0.0000, 0.0000, 0.0000, 0.0000, 0.0000, 0.0000, 0.0000, 0.0000,\n",
              "           0.0000, 0.0000, 0.0000, 0.0000, 0.0039, 0.0000, 0.0000, 0.0510,\n",
              "           0.2863, 0.0000, 0.0000, 0.0039, 0.0157, 0.0000, 0.0000, 0.0000,\n",
              "           0.0000, 0.0039, 0.0039, 0.0000],\n",
              "          [0.0000, 0.0000, 0.0000, 0.0000, 0.0000, 0.0000, 0.0000, 0.0000,\n",
              "           0.0000, 0.0000, 0.0000, 0.0000, 0.0118, 0.0000, 0.1412, 0.5333,\n",
              "           0.4980, 0.2431, 0.2118, 0.0000, 0.0000, 0.0000, 0.0039, 0.0118,\n",
              "           0.0157, 0.0000, 0.0000, 0.0118],\n",
              "          [0.0000, 0.0000, 0.0000, 0.0000, 0.0000, 0.0000, 0.0000, 0.0000,\n",
              "           0.0000, 0.0000, 0.0000, 0.0000, 0.0235, 0.0000, 0.4000, 0.8000,\n",
              "           0.6902, 0.5255, 0.5647, 0.4824, 0.0902, 0.0000, 0.0000, 0.0000,\n",
              "           0.0000, 0.0471, 0.0392, 0.0000],\n",
              "          [0.0000, 0.0000, 0.0000, 0.0000, 0.0000, 0.0000, 0.0000, 0.0000,\n",
              "           0.0000, 0.0000, 0.0000, 0.0000, 0.0000, 0.0000, 0.6078, 0.9255,\n",
              "           0.8118, 0.6980, 0.4196, 0.6118, 0.6314, 0.4275, 0.2510, 0.0902,\n",
              "           0.3020, 0.5098, 0.2824, 0.0588],\n",
              "          [0.0000, 0.0000, 0.0000, 0.0000, 0.0000, 0.0000, 0.0000, 0.0000,\n",
              "           0.0000, 0.0000, 0.0000, 0.0039, 0.0000, 0.2706, 0.8118, 0.8745,\n",
              "           0.8549, 0.8471, 0.8471, 0.6392, 0.4980, 0.4745, 0.4784, 0.5725,\n",
              "           0.5529, 0.3451, 0.6745, 0.2588],\n",
              "          [0.0000, 0.0000, 0.0000, 0.0000, 0.0000, 0.0000, 0.0000, 0.0000,\n",
              "           0.0000, 0.0039, 0.0039, 0.0039, 0.0000, 0.7843, 0.9098, 0.9098,\n",
              "           0.9137, 0.8980, 0.8745, 0.8745, 0.8431, 0.8353, 0.6431, 0.4980,\n",
              "           0.4824, 0.7686, 0.8980, 0.0000],\n",
              "          [0.0000, 0.0000, 0.0000, 0.0000, 0.0000, 0.0000, 0.0000, 0.0000,\n",
              "           0.0000, 0.0000, 0.0000, 0.0000, 0.0000, 0.7176, 0.8824, 0.8471,\n",
              "           0.8745, 0.8941, 0.9216, 0.8902, 0.8784, 0.8706, 0.8784, 0.8667,\n",
              "           0.8745, 0.9608, 0.6784, 0.0000],\n",
              "          [0.0000, 0.0000, 0.0000, 0.0000, 0.0000, 0.0000, 0.0000, 0.0000,\n",
              "           0.0000, 0.0000, 0.0000, 0.0000, 0.0000, 0.7569, 0.8941, 0.8549,\n",
              "           0.8353, 0.7765, 0.7059, 0.8314, 0.8235, 0.8275, 0.8353, 0.8745,\n",
              "           0.8627, 0.9529, 0.7922, 0.0000],\n",
              "          [0.0000, 0.0000, 0.0000, 0.0000, 0.0000, 0.0000, 0.0000, 0.0000,\n",
              "           0.0000, 0.0039, 0.0118, 0.0000, 0.0471, 0.8588, 0.8627, 0.8314,\n",
              "           0.8549, 0.7529, 0.6627, 0.8902, 0.8157, 0.8549, 0.8784, 0.8314,\n",
              "           0.8863, 0.7725, 0.8196, 0.2039],\n",
              "          [0.0000, 0.0000, 0.0000, 0.0000, 0.0000, 0.0000, 0.0000, 0.0000,\n",
              "           0.0000, 0.0000, 0.0235, 0.0000, 0.3882, 0.9569, 0.8706, 0.8627,\n",
              "           0.8549, 0.7961, 0.7765, 0.8667, 0.8431, 0.8353, 0.8706, 0.8627,\n",
              "           0.9608, 0.4667, 0.6549, 0.2196],\n",
              "          [0.0000, 0.0000, 0.0000, 0.0000, 0.0000, 0.0000, 0.0000, 0.0000,\n",
              "           0.0000, 0.0157, 0.0000, 0.0000, 0.2157, 0.9255, 0.8941, 0.9020,\n",
              "           0.8941, 0.9412, 0.9098, 0.8353, 0.8549, 0.8745, 0.9176, 0.8510,\n",
              "           0.8510, 0.8196, 0.3608, 0.0000],\n",
              "          [0.0000, 0.0000, 0.0039, 0.0157, 0.0235, 0.0275, 0.0078, 0.0000,\n",
              "           0.0000, 0.0000, 0.0000, 0.0000, 0.9294, 0.8863, 0.8510, 0.8745,\n",
              "           0.8706, 0.8588, 0.8706, 0.8667, 0.8471, 0.8745, 0.8980, 0.8431,\n",
              "           0.8549, 1.0000, 0.3020, 0.0000],\n",
              "          [0.0000, 0.0118, 0.0000, 0.0000, 0.0000, 0.0000, 0.0000, 0.0000,\n",
              "           0.0000, 0.2431, 0.5686, 0.8000, 0.8941, 0.8118, 0.8353, 0.8667,\n",
              "           0.8549, 0.8157, 0.8275, 0.8549, 0.8784, 0.8745, 0.8588, 0.8431,\n",
              "           0.8784, 0.9569, 0.6235, 0.0000],\n",
              "          [0.0000, 0.0000, 0.0000, 0.0000, 0.0706, 0.1725, 0.3216, 0.4196,\n",
              "           0.7412, 0.8941, 0.8627, 0.8706, 0.8510, 0.8863, 0.7843, 0.8039,\n",
              "           0.8275, 0.9020, 0.8784, 0.9176, 0.6902, 0.7373, 0.9804, 0.9725,\n",
              "           0.9137, 0.9333, 0.8431, 0.0000],\n",
              "          [0.0000, 0.2235, 0.7333, 0.8157, 0.8784, 0.8667, 0.8784, 0.8157,\n",
              "           0.8000, 0.8392, 0.8157, 0.8196, 0.7843, 0.6235, 0.9608, 0.7569,\n",
              "           0.8078, 0.8745, 1.0000, 1.0000, 0.8667, 0.9176, 0.8667, 0.8275,\n",
              "           0.8627, 0.9098, 0.9647, 0.0000],\n",
              "          [0.0118, 0.7922, 0.8941, 0.8784, 0.8667, 0.8275, 0.8275, 0.8392,\n",
              "           0.8039, 0.8039, 0.8039, 0.8627, 0.9412, 0.3137, 0.5882, 1.0000,\n",
              "           0.8980, 0.8667, 0.7373, 0.6039, 0.7490, 0.8235, 0.8000, 0.8196,\n",
              "           0.8706, 0.8941, 0.8824, 0.0000],\n",
              "          [0.3843, 0.9137, 0.7765, 0.8235, 0.8706, 0.8980, 0.8980, 0.9176,\n",
              "           0.9765, 0.8627, 0.7608, 0.8431, 0.8510, 0.9451, 0.2549, 0.2863,\n",
              "           0.4157, 0.4588, 0.6588, 0.8588, 0.8667, 0.8431, 0.8510, 0.8745,\n",
              "           0.8745, 0.8784, 0.8980, 0.1137],\n",
              "          [0.2941, 0.8000, 0.8314, 0.8000, 0.7569, 0.8039, 0.8275, 0.8824,\n",
              "           0.8471, 0.7255, 0.7725, 0.8078, 0.7765, 0.8353, 0.9412, 0.7647,\n",
              "           0.8902, 0.9608, 0.9373, 0.8745, 0.8549, 0.8314, 0.8196, 0.8706,\n",
              "           0.8627, 0.8667, 0.9020, 0.2627],\n",
              "          [0.1882, 0.7961, 0.7176, 0.7608, 0.8353, 0.7725, 0.7255, 0.7451,\n",
              "           0.7608, 0.7529, 0.7922, 0.8392, 0.8588, 0.8667, 0.8627, 0.9255,\n",
              "           0.8824, 0.8471, 0.7804, 0.8078, 0.7294, 0.7098, 0.6941, 0.6745,\n",
              "           0.7098, 0.8039, 0.8078, 0.4510],\n",
              "          [0.0000, 0.4784, 0.8588, 0.7569, 0.7020, 0.6706, 0.7176, 0.7686,\n",
              "           0.8000, 0.8235, 0.8353, 0.8118, 0.8275, 0.8235, 0.7843, 0.7686,\n",
              "           0.7608, 0.7490, 0.7647, 0.7490, 0.7765, 0.7529, 0.6902, 0.6118,\n",
              "           0.6549, 0.6941, 0.8235, 0.3608],\n",
              "          [0.0000, 0.0000, 0.2902, 0.7412, 0.8314, 0.7490, 0.6863, 0.6745,\n",
              "           0.6863, 0.7098, 0.7255, 0.7373, 0.7412, 0.7373, 0.7569, 0.7765,\n",
              "           0.8000, 0.8196, 0.8235, 0.8235, 0.8275, 0.7373, 0.7373, 0.7608,\n",
              "           0.7529, 0.8471, 0.6667, 0.0000],\n",
              "          [0.0078, 0.0000, 0.0000, 0.0000, 0.2588, 0.7843, 0.8706, 0.9294,\n",
              "           0.9373, 0.9490, 0.9647, 0.9529, 0.9569, 0.8667, 0.8627, 0.7569,\n",
              "           0.7490, 0.7020, 0.7137, 0.7137, 0.7098, 0.6902, 0.6510, 0.6588,\n",
              "           0.3882, 0.2275, 0.0000, 0.0000],\n",
              "          [0.0000, 0.0000, 0.0000, 0.0000, 0.0000, 0.0000, 0.0000, 0.1569,\n",
              "           0.2392, 0.1725, 0.2824, 0.1608, 0.1373, 0.0000, 0.0000, 0.0000,\n",
              "           0.0000, 0.0000, 0.0000, 0.0000, 0.0000, 0.0000, 0.0000, 0.0000,\n",
              "           0.0000, 0.0000, 0.0000, 0.0000],\n",
              "          [0.0000, 0.0000, 0.0000, 0.0000, 0.0000, 0.0000, 0.0000, 0.0000,\n",
              "           0.0000, 0.0000, 0.0000, 0.0000, 0.0000, 0.0000, 0.0000, 0.0000,\n",
              "           0.0000, 0.0000, 0.0000, 0.0000, 0.0000, 0.0000, 0.0000, 0.0000,\n",
              "           0.0000, 0.0000, 0.0000, 0.0000],\n",
              "          [0.0000, 0.0000, 0.0000, 0.0000, 0.0000, 0.0000, 0.0000, 0.0000,\n",
              "           0.0000, 0.0000, 0.0000, 0.0000, 0.0000, 0.0000, 0.0000, 0.0000,\n",
              "           0.0000, 0.0000, 0.0000, 0.0000, 0.0000, 0.0000, 0.0000, 0.0000,\n",
              "           0.0000, 0.0000, 0.0000, 0.0000]]]),\n",
              " 9)"
            ]
          },
          "metadata": {},
          "execution_count": 3
        }
      ]
    },
    {
      "cell_type": "markdown",
      "source": [
        "### 1.1 Input and output shapes of a computer vision model"
      ],
      "metadata": {
        "id": "CrlPaiYKHlH-"
      }
    },
    {
      "cell_type": "code",
      "source": [
        "# What's the shape of the image?\n",
        "image.shape   #[color_channels=1, height=28, width=28]"
      ],
      "metadata": {
        "colab": {
          "base_uri": "https://localhost:8080/"
        },
        "id": "Qu7dCvC3HrVK",
        "outputId": "143d35bf-c6eb-45bb-d176-7350785785fd"
      },
      "execution_count": 4,
      "outputs": [
        {
          "output_type": "execute_result",
          "data": {
            "text/plain": [
              "torch.Size([1, 28, 28])"
            ]
          },
          "metadata": {},
          "execution_count": 4
        }
      ]
    },
    {
      "cell_type": "code",
      "source": [
        "# How many samples are there?\n",
        "len(train_data.data), len(train_data.targets), len(test_data.data), len(test_data.targets)"
      ],
      "metadata": {
        "colab": {
          "base_uri": "https://localhost:8080/"
        },
        "id": "bfflje8JHuMT",
        "outputId": "d576d5b6-37aa-4b6a-9c39-09400c1bf220"
      },
      "execution_count": 5,
      "outputs": [
        {
          "output_type": "execute_result",
          "data": {
            "text/plain": [
              "(60000, 60000, 10000, 10000)"
            ]
          },
          "metadata": {},
          "execution_count": 5
        }
      ]
    },
    {
      "cell_type": "code",
      "source": [
        "# See classes\n",
        "class_names = train_data.classes\n",
        "class_names"
      ],
      "metadata": {
        "colab": {
          "base_uri": "https://localhost:8080/"
        },
        "id": "anQBfaEwH4yP",
        "outputId": "ed02c794-8185-461c-c0f7-44925f8f3c70"
      },
      "execution_count": 6,
      "outputs": [
        {
          "output_type": "execute_result",
          "data": {
            "text/plain": [
              "['T-shirt/top',\n",
              " 'Trouser',\n",
              " 'Pullover',\n",
              " 'Dress',\n",
              " 'Coat',\n",
              " 'Sandal',\n",
              " 'Shirt',\n",
              " 'Sneaker',\n",
              " 'Bag',\n",
              " 'Ankle boot']"
            ]
          },
          "metadata": {},
          "execution_count": 6
        }
      ]
    },
    {
      "cell_type": "markdown",
      "source": [
        "### 1.2 Visualizing our data"
      ],
      "metadata": {
        "id": "-dNgUPjRH78t"
      }
    },
    {
      "cell_type": "code",
      "source": [
        "import matplotlib.pyplot as plt\n",
        "image, label = train_data[0]\n",
        "print(f\"Image shape: {image.shape}\")\n",
        "plt.imshow(image.squeeze()) # image shape is [1, 28, 28] (colour channels, height, width)\n",
        "plt.title(label);"
      ],
      "metadata": {
        "colab": {
          "base_uri": "https://localhost:8080/",
          "height": 469
        },
        "id": "MN9JCd_KICEK",
        "outputId": "7543ec0c-454a-43c1-eb4c-03366b45527a"
      },
      "execution_count": 7,
      "outputs": [
        {
          "output_type": "stream",
          "name": "stdout",
          "text": [
            "Image shape: torch.Size([1, 28, 28])\n"
          ]
        },
        {
          "output_type": "display_data",
          "data": {
            "text/plain": [
              "<Figure size 640x480 with 1 Axes>"
            ],
            "image/png": "iVBORw0KGgoAAAANSUhEUgAAAaAAAAGzCAYAAABpdMNsAAAAOnRFWHRTb2Z0d2FyZQBNYXRwbG90bGliIHZlcnNpb24zLjEwLjAsIGh0dHBzOi8vbWF0cGxvdGxpYi5vcmcvlHJYcgAAAAlwSFlzAAAPYQAAD2EBqD+naQAAJIZJREFUeJzt3Xt0lPW97/HP5DYEmEwIITcJGFBABWJLIaZYREmBtMcDyu7R1rMKPS4tGFxF2q0Lt4pau9Pi2tZTi3rO2i3UtcTbqsiWbTlVaIK0CcrtUGqbQhoFJQkXzUzIdZL5nT84RiPX38MkvyS8X2vNWmTm+fD8eHiST57MzDc+Y4wRAAC9LM71AgAAFycKCADgBAUEAHCCAgIAOEEBAQCcoIAAAE5QQAAAJyggAIATFBAAwAkKCADgBAUE9JKdO3dq7ty5SklJUSAQ0OzZs7Vnzx7XywKc8TELDuh5u3bt0vTp05Wbm6vvf//7ikajevrpp/Xxxx/rnXfe0fjx410vEeh1FBDQC775zW+qoqJC+/fv1/DhwyVJtbW1GjdunGbPnq3f/va3jlcI9D5+BAf0grfffltFRUVd5SNJ2dnZuu6667Rx40adOHHC4eoANyggoBe0tbUpOTn5lPsHDx6s9vZ27du3z8GqALcoIKAXjB8/XpWVlers7Oy6r729Xdu3b5ckffTRR66WBjhDAQG94K677tLf//533X777Xrvvfe0b98+ffe731Vtba0kqaWlxfEKgd5HAQG9YPHixbr//vu1bt06XXXVVZo0aZKqq6t17733SpKGDh3qeIVA76OAgF7yk5/8RPX19Xr77be1d+9evfvuu4pGo5KkcePGOV4d0Pt4GTbg0LRp01RbW6sPPvhAcXF8P4iLC2c84MhLL72kd999V8uWLaN8cFHiCgjoBVu3btWjjz6q2bNna/jw4aqsrNSaNWv09a9/Xa+//roSEhJcLxHodZz1QC+45JJLFB8fr8cff1yNjY3Ky8vTY489puXLl1M+uGhxBQQAcIIfPAMAnKCAAABOUEAAACcoIACAExQQAMAJCggA4ESfewNCNBrV4cOHFQgE5PP5XC8HAGDJGKPGxkbl5OScdcpHnyugw4cPKzc31/UyAAAX6NChQxo5cuQZH+9zBRQIBCRJ1+obSlCi49UAAGx1KKJteqPr6/mZ9FgBrV69Wo8//rjq6uqUn5+vp556StOmTTtn7tMfuyUoUQk+CggA+p3/P1/nXE+j9MiLEF566SUtX75cK1eu1K5du5Sfn685c+boyJEjPbE7AEA/1CMF9MQTT+iOO+7Q9773PV155ZV69tlnNXjwYP3617/uid0BAPqhmBdQe3u7du7cqaKios92EhenoqIiVVRUnLJ9W1ubwuFwtxsAYOCLeQEdO3ZMnZ2dyszM7HZ/Zmam6urqTtm+tLRUwWCw68Yr4ADg4uD8jagrVqxQKBTquh06dMj1kgAAvSDmr4JLT09XfHy86uvru91fX1+vrKysU7b3+/3y+/2xXgYAoI+L+RVQUlKSpkyZos2bN3fdF41GtXnzZhUWFsZ6dwCAfqpH3ge0fPlyLVy4UF/5ylc0bdo0Pfnkk2pqatL3vve9ntgdAKAf6pECuuWWW3T06FE99NBDqqur09VXX61Nmzad8sIEAMDFy2eMMa4X8XnhcFjBYFAzNY9JCADQD3WYiMq0QaFQSCkpKWfczvmr4AAAFycKCADgBAUEAHCCAgIAOEEBAQCcoIAAAE5QQAAAJyggAIATFBAAwAkKCADgBAUEAHCCAgIAOEEBAQCcoIAAAE5QQAAAJyggAIATFBAAwAkKCADgBAUEAHCCAgIAOEEBAQCcoIAAAE5QQAAAJyggAIATFBAAwAkKCADgRILrBQB9is9nnzEm9us4jfjhadaZT+aM87SvlHWVnnLWPBxvX0KidcZE2q0zfZ6Xc9WrHjrHuQICADhBAQEAnKCAAABOUEAAACcoIACAExQQAMAJCggA4AQFBABwggICADhBAQEAnKCAAABOUEAAACcYRgp8ji8+3jpjOjqsM3FXX2md+ev3h9rvp8U6IklKbJpmnUloidrv5/c7rDO9OljUy7BUD+eQfPbXAr15HHwJdlXhM0Y6j08LroAAAE5QQAAAJyggAIATFBAAwAkKCADgBAUEAHCCAgIAOEEBAQCcoIAAAE5QQAAAJyggAIATFBAAwAmGkQKfYzt0UfI2jPTQnFTrzG2Fb1tn/nh0jHVGkj7wZ1lnTLL9fhKKCq0z457+yDrT8f5B64wkyRj7iIfzwYv4YcO8BTs77SPhsNX2xpzfMeAKCADgBAUEAHAi5gX08MMPy+fzdbtNmDAh1rsBAPRzPfIc0FVXXaW33nrrs514+Lk6AGBg65FmSEhIUFaW/ZOYAICLR488B7R//37l5ORozJgxuu2223Tw4JlfgdLW1qZwONztBgAY+GJeQAUFBVq7dq02bdqkZ555RjU1Nfra176mxsbG025fWlqqYDDYdcvNzY31kgAAfVDMC6i4uFjf+ta3NHnyZM2ZM0dvvPGGGhoa9PLLL592+xUrVigUCnXdDh06FOslAQD6oB5/dUBqaqrGjRunAwcOnPZxv98vv9/f08sAAPQxPf4+oBMnTqi6ulrZ2dk9vSsAQD8S8wL60Y9+pPLycr3//vv605/+pJtuuknx8fH69re/HetdAQD6sZj/CO7DDz/Ut7/9bR0/flwjRozQtddeq8rKSo0YMSLWuwIA9GMxL6AXX3wx1n8l0Guira29sp/2L52wzvxTcId1ZlBcxDojSeVxUevMR1vsX8HaOdn+OHzwRMA6E939VeuMJA3fZz+4M2V3rXXm2IxLrDNHp9gPSpWkzEr7zLC3qq22N9F26di5t2MWHADACQoIAOAEBQQAcIICAgA4QQEBAJyggAAATlBAAAAnKCAAgBMUEADACQoIAOAEBQQAcIICAgA40eO/kA5wwufzljP2Ax5P/LdrrDPfvbLMOlMdsZ8oPzLpY+uMJH0rZ6d96L/bZ35ZdZ11pukfQetM3BBvgzvrrrH/Hv2jefb/TybSYZ0Ztsvbl++4hfXWmXD7GKvtOyKt0obzWIv1SgAAiAEKCADgBAUEAHCCAgIAOEEBAQCcoIAAAE5QQAAAJyggAIATFBAAwAkKCADgBAUEAHCCAgIAOEEBAQCcYBo2epfXKdV92DX3vWOduX7oez2wklNdIm9ToJtMknWmoXOIdWbllf9pnTk6LmCdiRhvX+r+ff9XrTMnPEzrju+w/7y45n/sts5I0oK0d60zq347yWr7DhM5r+24AgIAOEEBAQCcoIAAAE5QQAAAJyggAIATFBAAwAkKCADgBAUEAHCCAgIAOEEBAQCcoIAAAE5QQAAAJxhGit5lvA3H7Mv2n8iwzhxPGWqdqetItc4Mjz9hnZGkQFyLdebSxGPWmaOd9oNF4xOj1pl2E2+dkaRHrnrdOtN6RaJ1JtHXaZ356qDD1hlJ+tZ737XODNE/PO3rXLgCAgA4QQEBAJyggAAATlBAAAAnKCAAgBMUEADACQoIAOAEBQQAcIICAgA4QQEBAJyggAAATlBAAAAnGEYKXKARfvuBn4N8EetMkq/DOnM4Msw6I0n7W8ZbZ/4eth/KOjfzL9aZiIfBovHyNgTXy5DQnMRPrDOtxn6Aqf0ZdNL0TPvBons87utcuAICADhBAQEAnLAuoK1bt+rGG29UTk6OfD6fXnvttW6PG2P00EMPKTs7W8nJySoqKtL+/ftjtV4AwABhXUBNTU3Kz8/X6tWrT/v4qlWr9Itf/ELPPvustm/friFDhmjOnDlqbW294MUCAAYO6xchFBcXq7i4+LSPGWP05JNP6oEHHtC8efMkSc8995wyMzP12muv6dZbb72w1QIABoyYPgdUU1Ojuro6FRUVdd0XDAZVUFCgioqK02ba2toUDoe73QAAA19MC6iurk6SlJmZ2e3+zMzMrse+qLS0VMFgsOuWm5sbyyUBAPoo56+CW7FihUKhUNft0KFDrpcEAOgFMS2grKwsSVJ9fX23++vr67se+yK/36+UlJRuNwDAwBfTAsrLy1NWVpY2b97cdV84HNb27dtVWFgYy10BAPo561fBnThxQgcOHOj6uKamRnv27FFaWppGjRqlZcuW6bHHHtPll1+uvLw8Pfjgg8rJydH8+fNjuW4AQD9nXUA7duzQ9ddf3/Xx8uXLJUkLFy7U2rVrde+996qpqUl33nmnGhoadO2112rTpk0aNGhQ7FYNAOj3fMYYb1P6ekg4HFYwGNRMzVOCz35AH/o4n88+Em8/fNJ02A/ulKT4YfbDO2+t+LP9fnz2n3ZHOwLWmdT4ZuuMJJU32A8j/cvx0z/PezaPjv8P68yu5kutMzlJ9gNCJW/H7/32dOvM5f7Tv0r4bH73Sb51RpJyB31snfn9shlW23d0tGpb2SMKhUJnfV7f+avgAAAXJwoIAOAEBQQAcIICAgA4QQEBAJyggAAATlBAAAAnKCAAgBMUEADACQoIAOAEBQQAcIICAgA4QQEBAJyw/nUMwAXxMHzdl2B/mnqdhn3o9iusMzcMft0686fWS6wzIxIarTMRYz9JXJKy/SHrTCCz1TrT0DnYOpOWcMI609iZbJ2RpMFxbdYZL/9PX046Zp25560vW2ckKTDxuHUmJdHuWiV6ntc2XAEBAJyggAAATlBAAAAnKCAAgBMUEADACQoIAOAEBQQAcIICAgA4QQEBAJyggAAATlBAAAAnKCAAgBMMI0Wv8iUmWWeirfZDLr1K/3O7deZYZ6J1JjWu2TqT5Ou0zrR7HEb61bQa68xRDwM/d7XkWWcC8S3WmRFx9gNCJSk30X5w559bc60zbzRdZp25/b+8ZZ2RpBf+99etM0mb/mS1fZyJnN921isBACAGKCAAgBMUEADACQoIAOAEBQQAcIICAgA4QQEBAJyggAAATlBAAAAnKCAAgBMUEADACQoIAODExT2M1OfzFkuwHz7pi/fQ9XH2mWhrm/1+ovZDLr0yEfthn73pf/6vX1pnDnWkWmfqIvaZ1Hj7Aaad8naOV7YErTOD4s5vAOXnjUgIW2fCUfuhp141RgdZZyIeBsB6OXb3Dd9vnZGkV0NFnnI9gSsgAIATFBAAwAkKCADgBAUEAHCCAgIAOEEBAQCcoIAAAE5QQAAAJyggAIATFBAAwAkKCADgBAUEAHBiwAwj9SXY/1NMR4enfXkZqGnsZw0OSC3zpllnDs23H5Z625fesc5IUl1HwDqzu/lS60wwvsU6MyTOftBsq7EfnCtJh9uHWWe8DNRMSzhhncnwMMC003j7XvujiP1x8MLLoNkPO+yPnSQ1/tdG60zqc552dU5cAQEAnKCAAABOWBfQ1q1bdeONNyonJ0c+n0+vvfZat8cXLVokn8/X7TZ37txYrRcAMEBYF1BTU5Py8/O1evXqM24zd+5c1dbWdt1eeOGFC1okAGDgsX7mvri4WMXFxWfdxu/3Kysry/OiAAADX488B1RWVqaMjAyNHz9eS5Ys0fHjx8+4bVtbm8LhcLcbAGDgi3kBzZ07V88995w2b96sn/3sZyovL1dxcbE6O0//UtrS0lIFg8GuW25ubqyXBADog2L+PqBbb72168+TJk3S5MmTNXbsWJWVlWnWrFmnbL9ixQotX7686+NwOEwJAcBFoMdfhj1mzBilp6frwIEDp33c7/crJSWl2w0AMPD1eAF9+OGHOn78uLKzs3t6VwCAfsT6R3AnTpzodjVTU1OjPXv2KC0tTWlpaXrkkUe0YMECZWVlqbq6Wvfee68uu+wyzZkzJ6YLBwD0b9YFtGPHDl1//fVdH3/6/M3ChQv1zDPPaO/evfrNb36jhoYG5eTkaPbs2frxj38sv98fu1UDAPo9nzHGuF7E54XDYQWDQc3UPCX4vA1S7IsSsu3fFxXJy7TOfHzFYOtMc5bPOiNJV3/jr9aZRZnbrDNHO+2fF0z0eRs029iZbJ3JSmywzmwJXWmdGZpgP4zUy9BTSfpy8vvWmYao/bmXk/CJdea+A/9knckcbD+AU5L+ffQb1pmIiVpnqiL236AH4uyHIkvS282XWWfWXznCavsOE1GZNigUCp31eX1mwQEAnKCAAABOUEAAACcoIACAExQQAMAJCggA4AQFBABwggICADhBAQEAnKCAAABOUEAAACcoIACAExQQAMCJmP9KblfaiqdaZzL+5R+e9nV1yofWmSuT7adAt0btp4EPiotYZ95rucQ6I0nN0STrzP52+6ngoQ77KcvxPvuJxJJ0pD1gnfm3miLrzOZpz1pnHjg81zoTl+xt2P3xzqHWmQVDwx72ZH+Of3/UVuvMmKQj1hlJ2thk/4s0D0eGWWcyE0PWmUsTj1pnJOnmwN+tM+tlNw37fHEFBABwggICADhBAQEAnKCAAABOUEAAACcoIACAExQQAMAJCggA4AQFBABwggICADhBAQEAnKCAAABO9NlhpL6EBPl857+8gn9913ofswJ/sc5IUrPxW2e8DBb1MtTQi2BCs6dcW8T+9DkSSfG0L1vj/HWecjel7LHObP1lgXXm2ta7rTPVN6yxzmxuibfOSNLRDvv/p1trbrDO7DqYa5255tIa68ykwEfWGcnbINxAfKt1JtHXYZ1pitp/HZKkylb7QbM9hSsgAIATFBAAwAkKCADgBAUEAHCCAgIAOEEBAQCcoIAAAE5QQAAAJyggAIATFBAAwAkKCADgBAUEAHCizw4jrV0yRfH+Qee9/cPBp6z3se7ja6wzkpQ76GPrzOikY9aZ/OQPrDNeBOLshydK0vgU+wGKG5tGWmfKGiZYZ7ITG6wzkvR281jrzIsPP26dWXTPD60zhW8sts6EL/X2PWbHEGOdSck/bp154Ev/aZ1J8nVaZxo67YeKSlKav8k6kxrvbbivLS9DkSUpENdinYkff5nV9qazTdp/7u24AgIAOEEBAQCcoIAAAE5QQAAAJyggAIATFBAAwAkKCADgBAUEAHCCAgIAOEEBAQCcoIAAAE5QQAAAJ/rsMNLBR6KKT4qe9/Ybw1db72NM8lHrjCQdiwSsM//nxCTrzMjkT6wzwXj7QYOX+eusM5K0pzXVOrPp6FXWmZzksHWmPhK0zkjS8cgQ60xz1H4o5K9+/oR15t/qi6wzN6Xtss5IUn6S/WDRhqj997PvtWdZZxqj5z+k+FOtJtE6I0khD0NMAx4+ByPG/ktxvDn/r4+flxpnPyw1PGm41fYdkVaGkQIA+i4KCADghFUBlZaWaurUqQoEAsrIyND8+fNVVVXVbZvW1laVlJRo+PDhGjp0qBYsWKD6+vqYLhoA0P9ZFVB5eblKSkpUWVmpN998U5FIRLNnz1ZT02e/tOmee+7R66+/rldeeUXl5eU6fPiwbr755pgvHADQv1k987Vp06ZuH69du1YZGRnauXOnZsyYoVAopF/96ldat26dbrjhBknSmjVrdMUVV6iyslLXXOPtN5ACAAaeC3oOKBQKSZLS0tIkSTt37lQkElFR0Wev1pkwYYJGjRqlioqK0/4dbW1tCofD3W4AgIHPcwFFo1EtW7ZM06dP18SJEyVJdXV1SkpKUmpqardtMzMzVVd3+pf6lpaWKhgMdt1yc3O9LgkA0I94LqCSkhLt27dPL7744gUtYMWKFQqFQl23Q4cOXdDfBwDoHzy9EXXp0qXauHGjtm7dqpEjR3bdn5WVpfb2djU0NHS7Cqqvr1dW1unfcOb3++X327+RDwDQv1ldARljtHTpUq1fv15btmxRXl5et8enTJmixMREbd68ueu+qqoqHTx4UIWFhbFZMQBgQLC6AiopKdG6deu0YcMGBQKBrud1gsGgkpOTFQwGdfvtt2v58uVKS0tTSkqK7r77bhUWFvIKOABAN1YF9Mwzz0iSZs6c2e3+NWvWaNGiRZKkn//854qLi9OCBQvU1tamOXPm6Omnn47JYgEAA4fPGGNcL+LzwuGwgsGgZlz7oBISzn/o4NQnd1rva184xzojSZmDGq0zk4d+aJ2parYf1Hi4JcU6MzghYp2RpOR4+1yHsX/dS4bf/niP8tsP05SkQJz9IMkkX6d1ptPD63+uSjpsnTnYMcw6I0l1HanWmfea7T+fhiXYD8b8s4fP2+aOJOuMJLV12j9N3tphnwn6W60zU9M+sM5IUpzsv+Sv+4/rrLaPtrbqH4/9i0KhkFJSzvw1iVlwAAAnKCAAgBMUEADACQoIAOAEBQQAcIICAgA4QQEBAJyggAAATlBAAAAnKCAAgBMUEADACQoIAOAEBQQAcMLTb0TtDXHb9irOl3je27/y++nW+3hw3ivWGUkqb5hgndlYN8k6E263/02xIwY3WWdSEu2nTUtSWqL9voIeph8P8nVYZz7pGGKdkaS2uPM/5z7VKZ91pq4taJ35Y/Ry60wkGm+dkaQ2Dzkv09E/bk+3zuQkh6wzjR3nP1n/895vTLPOHAsNtc60Drb/Urytc6x1RpLmZv3FOpN8xO4c72w7v+25AgIAOEEBAQCcoIAAAE5QQAAAJyggAIATFBAAwAkKCADgBAUEAHCCAgIAOEEBAQCcoIAAAE5QQAAAJ3zGGON6EZ8XDocVDAY1U/OUYDGM1IvQbdd4yo25q8o6My21xjqzKzzKOnPQw/DESNTb9yGJcVHrzODEduvMIA9DLpPiO60zkhQn+0+HqIdhpEPi7Y/DkIQ260xKQqt1RpIC8fa5OJ/9+eBFvIf/o3dCl8Z+IWcQ8PD/1GHsPwcLg9XWGUn6dc1XrTPBbxyw2r7DRFSmDQqFQkpJSTnjdlwBAQCcoIAAAE5QQAAAJyggAIATFBAAwAkKCADgBAUEAHCCAgIAOEEBAQCcoIAAAE5QQAAAJyggAIATfXcYadzNdsNIo96GT/aWpgUF1pmC+9+1zwTsBxROSKq3zkhSouyHTw7yMLBySJz9sM9Wj6e1l+/ItrXkWmc6PexpyydXWGciHoZcSlJ985kHSJ5JoscBsLaixv58aOnwNtg41DLIOhMfZ3/utZalW2eGv2c/pFeS/G/Yf12xxTBSAECfRgEBAJyggAAATlBAAAAnKCAAgBMUEADACQoIAOAEBQQAcIICAgA4QQEBAJyggAAATlBAAAAn+u4wUs2zG0YKz3xTJ3nKtWQlW2f8x9usM42j7feTUt1knZGkuLYO60z0//7V076AgYphpACAPo0CAgA4YVVApaWlmjp1qgKBgDIyMjR//nxVVVV122bmzJny+XzdbosXL47pogEA/Z9VAZWXl6ukpESVlZV68803FYlENHv2bDU1df95+x133KHa2tqu26pVq2K6aABA/5dgs/GmTZu6fbx27VplZGRo586dmjFjRtf9gwcPVlZWVmxWCAAYkC7oOaBQKCRJSktL63b/888/r/T0dE2cOFErVqxQc3PzGf+OtrY2hcPhbjcAwMBndQX0edFoVMuWLdP06dM1ceLErvu/853vaPTo0crJydHevXt13333qaqqSq+++upp/57S0lI98sgjXpcBAOinPL8PaMmSJfrd736nbdu2aeTIkWfcbsuWLZo1a5YOHDigsWPHnvJ4W1ub2to+e29IOBxWbm4u7wPqRbwP6DO8Dwi4cOf7PiBPV0BLly7Vxo0btXXr1rOWjyQVFBRI0hkLyO/3y+/3e1kGAKAfsyogY4zuvvturV+/XmVlZcrLyztnZs+ePZKk7OxsTwsEAAxMVgVUUlKidevWacOGDQoEAqqrq5MkBYNBJScnq7q6WuvWrdM3vvENDR8+XHv37tU999yjGTNmaPLkyT3yDwAA9E9WBfTMM89IOvlm089bs2aNFi1apKSkJL311lt68skn1dTUpNzcXC1YsEAPPPBAzBYMABgYrH8Edza5ubkqLy+/oAUBAC4Onl+GjYHDvPtnT7lBMV7HmaT8qZd2JCnae7sCLnoMIwUAOEEBAQCcoIAAAE5QQAAAJyggAIATFBAAwAkKCADgBAUEAHCCAgIAOEEBAQCcoIAAAE5QQAAAJyggAIATFBAAwAkKCADgBAUEAHCCAgIAOEEBAQCcoIAAAE5QQAAAJyggAIATFBAAwAkKCADgBAUEAHAiwfUCvsgYI0nqUEQyjhcDALDWoYikz76en0mfK6DGxkZJ0ja94XglAIAL0djYqGAweMbHfeZcFdXLotGoDh8+rEAgIJ/P1+2xcDis3NxcHTp0SCkpKY5W6B7H4SSOw0kch5M4Dif1heNgjFFjY6NycnIUF3fmZ3r63BVQXFycRo4cedZtUlJSLuoT7FMch5M4DidxHE7iOJzk+jic7crnU7wIAQDgBAUEAHCiXxWQ3+/XypUr5ff7XS/FKY7DSRyHkzgOJ3EcTupPx6HPvQgBAHBx6FdXQACAgYMCAgA4QQEBAJyggAAATlBAAAAn+k0BrV69WpdeeqkGDRqkgoICvfPOO66X1Osefvhh+Xy+brcJEya4XlaP27p1q2688Ubl5OTI5/Pptdde6/a4MUYPPfSQsrOzlZycrKKiIu3fv9/NYnvQuY7DokWLTjk/5s6d62axPaS0tFRTp05VIBBQRkaG5s+fr6qqqm7btLa2qqSkRMOHD9fQoUO1YMEC1dfXO1pxzzif4zBz5sxTzofFixc7WvHp9YsCeumll7R8+XKtXLlSu3btUn5+vubMmaMjR464Xlqvu+qqq1RbW9t127Ztm+sl9bimpibl5+dr9erVp3181apV+sUvfqFnn31W27dv15AhQzRnzhy1trb28kp71rmOgyTNnTu32/nxwgsv9OIKe155eblKSkpUWVmpN998U5FIRLNnz1ZTU1PXNvfcc49ef/11vfLKKyovL9fhw4d18803O1x17J3PcZCkO+64o9v5sGrVKkcrPgPTD0ybNs2UlJR0fdzZ2WlycnJMaWmpw1X1vpUrV5r8/HzXy3BKklm/fn3Xx9Fo1GRlZZnHH3+8676Ghgbj9/vNCy+84GCFveOLx8EYYxYuXGjmzZvnZD2uHDlyxEgy5eXlxpiT//eJiYnmlVde6drmr3/9q5FkKioqXC2zx33xOBhjzHXXXWd+8IMfuFvUeejzV0Dt7e3auXOnioqKuu6Li4tTUVGRKioqHK7Mjf379ysnJ0djxozRbbfdpoMHD7peklM1NTWqq6vrdn4Eg0EVFBRclOdHWVmZMjIyNH78eC1ZskTHjx93vaQeFQqFJElpaWmSpJ07dyoSiXQ7HyZMmKBRo0YN6PPhi8fhU88//7zS09M1ceJErVixQs3NzS6Wd0Z9bhr2Fx07dkydnZ3KzMzsdn9mZqb+9re/OVqVGwUFBVq7dq3Gjx+v2tpaPfLII/ra176mffv2KRAIuF6eE3V1dZJ02vPj08cuFnPnztXNN9+svLw8VVdX6/7771dxcbEqKioUHx/venkxF41GtWzZMk2fPl0TJ06UdPJ8SEpKUmpqardtB/L5cLrjIEnf+c53NHr0aOXk5Gjv3r267777VFVVpVdffdXharvr8wWEzxQXF3f9efLkySooKNDo0aP18ssv6/bbb3e4MvQFt956a9efJ02apMmTJ2vs2LEqKyvTrFmzHK6sZ5SUlGjfvn0XxfOgZ3Om43DnnXd2/XnSpEnKzs7WrFmzVF1drbFjx/b2Mk+rz/8ILj09XfHx8ae8iqW+vl5ZWVmOVtU3pKamaty4cTpw4IDrpTjz6TnA+XGqMWPGKD09fUCeH0uXLtXGjRv1hz/8odvvD8vKylJ7e7saGhq6bT9Qz4czHYfTKSgokKQ+dT70+QJKSkrSlClTtHnz5q77otGoNm/erMLCQocrc+/EiROqrq5Wdna266U4k5eXp6ysrG7nRzgc1vbt2y/68+PDDz/U8ePHB9T5YYzR0qVLtX79em3ZskV5eXndHp8yZYoSExO7nQ9VVVU6ePDggDofznUcTmfPnj2S1LfOB9evgjgfL774ovH7/Wbt2rXmvffeM3feeadJTU01dXV1rpfWq374wx+asrIyU1NTY/74xz+aoqIik56ebo4cOeJ6aT2qsbHR7N692+zevdtIMk888YTZvXu3+eCDD4wxxvz0pz81qampZsOGDWbv3r1m3rx5Ji8vz7S0tDheeWyd7Tg0NjaaH/3oR6aiosLU1NSYt956y3z5y182l19+uWltbXW99JhZsmSJCQaDpqyszNTW1nbdmpubu7ZZvHixGTVqlNmyZYvZsWOHKSwsNIWFhQ5XHXvnOg4HDhwwjz76qNmxY4epqakxGzZsMGPGjDEzZsxwvPLu+kUBGWPMU089ZUaNGmWSkpLMtGnTTGVlpesl9bpbbrnFZGdnm6SkJHPJJZeYW265xRw4cMD1snrcH/7wByPplNvChQuNMSdfiv3ggw+azMxM4/f7zaxZs0xVVZXbRfeAsx2H5uZmM3v2bDNixAiTmJhoRo8ebe64444B903a6f79ksyaNWu6tmlpaTF33XWXGTZsmBk8eLC56aabTG1trbtF94BzHYeDBw+aGTNmmLS0NOP3+81ll11m/vmf/9mEQiG3C/8Cfh8QAMCJPv8cEABgYKKAAABOUEAAACcoIACAExQQAMAJCggA4AQFBABwggICADhBAQEAnKCAAABOUEAAACf+H0hWZu+uQDy3AAAAAElFTkSuQmCC\n"
          },
          "metadata": {}
        }
      ]
    },
    {
      "cell_type": "code",
      "source": [
        "# We can turn the image into grayscale using the cmap parameter of plt.imshow().\n",
        "plt.imshow(image.squeeze(), cmap=\"gray\")\n",
        "plt.title(class_names[label]);"
      ],
      "metadata": {
        "colab": {
          "base_uri": "https://localhost:8080/",
          "height": 452
        },
        "id": "j643RWaLIDv_",
        "outputId": "c79247e0-1c9f-4d5d-edd7-02be50b5cac3"
      },
      "execution_count": 8,
      "outputs": [
        {
          "output_type": "display_data",
          "data": {
            "text/plain": [
              "<Figure size 640x480 with 1 Axes>"
            ],
            "image/png": "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\n"
          },
          "metadata": {}
        }
      ]
    },
    {
      "cell_type": "code",
      "source": [
        "# Plot more images\n",
        "torch.manual_seed(42)\n",
        "fig = plt.figure(figsize=(9, 9))\n",
        "rows, cols = 4, 4\n",
        "for i in range(1, rows * cols + 1):\n",
        "    random_idx = torch.randint(0, len(train_data), size=[1]).item()\n",
        "    img, label = train_data[random_idx]\n",
        "    fig.add_subplot(rows, cols, i)\n",
        "    plt.imshow(img.squeeze(), cmap=\"gray\")\n",
        "    plt.title(class_names[label])\n",
        "    plt.axis(False);"
      ],
      "metadata": {
        "colab": {
          "base_uri": "https://localhost:8080/",
          "height": 752
        },
        "id": "5b40-grlIIzS",
        "outputId": "1bd84979-d025-4b9a-847a-9e866840eee1"
      },
      "execution_count": 9,
      "outputs": [
        {
          "output_type": "display_data",
          "data": {
            "text/plain": [
              "<Figure size 900x900 with 16 Axes>"
            ],
            "image/png": "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\n"
          },
          "metadata": {}
        }
      ]
    },
    {
      "cell_type": "markdown",
      "source": [
        "## 2. Prepare DataLoader"
      ],
      "metadata": {
        "id": "0mGhSz_PItzo"
      }
    },
    {
      "cell_type": "code",
      "source": [
        "from torch.utils.data import DataLoader\n",
        "\n",
        "# Setup the batch size hyperparameter\n",
        "BATCH_SIZE = 32\n",
        "\n",
        "# Turn datasets into iterables (batches)\n",
        "train_dataloader = DataLoader(train_data, # dataset to turn into iterable\n",
        "    batch_size=BATCH_SIZE, # how many samples per batch?\n",
        "    shuffle=True # shuffle data every epoch?\n",
        ")\n",
        "\n",
        "test_dataloader = DataLoader(test_data,\n",
        "    batch_size=BATCH_SIZE,\n",
        "    shuffle=False # don't necessarily have to shuffle the testing data\n",
        ")\n",
        "\n",
        "# Let's check out what we've created\n",
        "print(f\"Dataloaders: {train_dataloader, test_dataloader}\")\n",
        "print(f\"Length of train dataloader: {len(train_dataloader)} batches of {BATCH_SIZE}\")\n",
        "print(f\"Length of test dataloader: {len(test_dataloader)} batches of {BATCH_SIZE}\")"
      ],
      "metadata": {
        "colab": {
          "base_uri": "https://localhost:8080/"
        },
        "id": "SD-WrcULI0Td",
        "outputId": "e8bcd597-bba0-4d70-e1af-632f4c58efc5"
      },
      "execution_count": 10,
      "outputs": [
        {
          "output_type": "stream",
          "name": "stdout",
          "text": [
            "Dataloaders: (<torch.utils.data.dataloader.DataLoader object at 0x7f387dba5510>, <torch.utils.data.dataloader.DataLoader object at 0x7f387dbbcb10>)\n",
            "Length of train dataloader: 1875 batches of 32\n",
            "Length of test dataloader: 313 batches of 32\n"
          ]
        }
      ]
    },
    {
      "cell_type": "code",
      "source": [
        "# Check out what's inside the training dataloader\n",
        "train_features_batch, train_labels_batch = next(iter(train_dataloader))\n",
        "train_features_batch.shape, train_labels_batch.shape"
      ],
      "metadata": {
        "colab": {
          "base_uri": "https://localhost:8080/"
        },
        "id": "AH9KU2OLJCGU",
        "outputId": "a73828be-5e45-41e5-c1aa-a91c9f4a03d9"
      },
      "execution_count": 11,
      "outputs": [
        {
          "output_type": "execute_result",
          "data": {
            "text/plain": [
              "(torch.Size([32, 1, 28, 28]), torch.Size([32]))"
            ]
          },
          "metadata": {},
          "execution_count": 11
        }
      ]
    },
    {
      "cell_type": "markdown",
      "source": [
        "## 3. Model 0: Build a baseline model"
      ],
      "metadata": {
        "id": "KHzJ58T5JNDa"
      }
    },
    {
      "cell_type": "code",
      "source": [
        "# Create a flatten layer\n",
        "flatten_model = nn.Flatten() # all nn modules function as a model (can do a forward pass)\n",
        "\n",
        "# Get a single sample\n",
        "x = train_features_batch[0]\n",
        "\n",
        "# Flatten the sample\n",
        "output = flatten_model(x) # perform forward pass\n",
        "\n",
        "# Print out what happened\n",
        "print(f\"Shape before flattening: {x.shape} -> [color_channels, height, width]\")\n",
        "print(f\"Shape after flattening: {output.shape} -> [color_channels, height*width]\")\n",
        "\n",
        "# print(x)\n",
        "# print(output)"
      ],
      "metadata": {
        "colab": {
          "base_uri": "https://localhost:8080/"
        },
        "id": "M2TyDJBgJaVr",
        "outputId": "8eabeeae-837b-41cb-c4e3-e742178c0afa"
      },
      "execution_count": 12,
      "outputs": [
        {
          "output_type": "stream",
          "name": "stdout",
          "text": [
            "Shape before flattening: torch.Size([1, 28, 28]) -> [color_channels, height, width]\n",
            "Shape after flattening: torch.Size([1, 784]) -> [color_channels, height*width]\n"
          ]
        }
      ]
    },
    {
      "cell_type": "code",
      "source": [
        "from torch import nn\n",
        "class FashionMNISTModelV0(nn.Module):\n",
        "    def __init__(self, input_shape: int, hidden_units: int, output_shape: int):\n",
        "        super().__init__()\n",
        "        self.layer_stack = nn.Sequential(\n",
        "            nn.Flatten(), # neural networks like their inputs in vector form\n",
        "            nn.Linear(in_features=input_shape, out_features=hidden_units), # in_features = number of features in a data sample (784 pixels)\n",
        "            nn.Linear(in_features=hidden_units, out_features=output_shape)\n",
        "        )\n",
        "\n",
        "    def forward(self, x):\n",
        "        return self.layer_stack(x)"
      ],
      "metadata": {
        "id": "RmQm6CKcJhmc"
      },
      "execution_count": 13,
      "outputs": []
    },
    {
      "cell_type": "code",
      "source": [
        "torch.manual_seed(42)\n",
        "\n",
        "# Need to setup model with input parameters\n",
        "model_0 = FashionMNISTModelV0(input_shape=784, # one for every pixel (28x28)\n",
        "    hidden_units=10, # how many units in the hidden layer\n",
        "    output_shape=len(class_names) # one for every class\n",
        ")\n",
        "model_0.to(\"cpu\") # keep model on CPU to begin with"
      ],
      "metadata": {
        "colab": {
          "base_uri": "https://localhost:8080/"
        },
        "id": "sRLeutuRJuB_",
        "outputId": "40e025a0-dcb0-4778-8dc4-c1ab6e385bfe"
      },
      "execution_count": 14,
      "outputs": [
        {
          "output_type": "execute_result",
          "data": {
            "text/plain": [
              "FashionMNISTModelV0(\n",
              "  (layer_stack): Sequential(\n",
              "    (0): Flatten(start_dim=1, end_dim=-1)\n",
              "    (1): Linear(in_features=784, out_features=10, bias=True)\n",
              "    (2): Linear(in_features=10, out_features=10, bias=True)\n",
              "  )\n",
              ")"
            ]
          },
          "metadata": {},
          "execution_count": 14
        }
      ]
    },
    {
      "cell_type": "markdown",
      "source": [
        "### 3.1 Setup loss, optimizer and evaluation metrics"
      ],
      "metadata": {
        "id": "TfYbG5_TJz6P"
      }
    },
    {
      "cell_type": "code",
      "source": [
        "# Setup loss function and optimizer\n",
        "loss_fn = nn.CrossEntropyLoss() # this is also called \"criterion\"/\"cost function\" in some places\n",
        "optimizer = torch.optim.SGD(params=model_0.parameters(), lr=0.1)\n",
        "\n",
        "#Accuracy Function\n",
        "# Calculate accuracy (a classification metric)\n",
        "def accuracy_fn(y_true, y_pred):\n",
        "    correct = torch.eq(y_true, y_pred).sum().item() # torch.eq() calculates where two tensors are equal\n",
        "    acc = (correct / len(y_pred)) * 100\n",
        "    return acc"
      ],
      "metadata": {
        "id": "pynjBBONJ7AJ"
      },
      "execution_count": 15,
      "outputs": []
    },
    {
      "cell_type": "markdown",
      "source": [
        "### 3.2 Creating a function to time our experiments"
      ],
      "metadata": {
        "id": "prNbTTA7Kzw1"
      }
    },
    {
      "cell_type": "code",
      "source": [
        "from timeit import default_timer as timer\n",
        "def print_train_time(start: float, end: float, device: torch.device = None):\n",
        "    \"\"\"Prints difference between start and end time.\n",
        "\n",
        "    Args:\n",
        "        start (float): Start time of computation (preferred in timeit format).\n",
        "        end (float): End time of computation.\n",
        "        device ([type], optional): Device that compute is running on. Defaults to None.\n",
        "\n",
        "    Returns:\n",
        "        float: time between start and end in seconds (higher is longer).\n",
        "    \"\"\"\n",
        "    total_time = end - start\n",
        "    print(f\"Train time on {device}: {total_time:.3f} seconds\")\n",
        "    return total_time"
      ],
      "metadata": {
        "id": "0YKgH2_sLF7_"
      },
      "execution_count": 16,
      "outputs": []
    },
    {
      "cell_type": "markdown",
      "source": [
        "### 3.3 Creating a training loop and training a model on batches of data"
      ],
      "metadata": {
        "id": "FUXTAZ1QLKuI"
      }
    },
    {
      "cell_type": "code",
      "source": [
        "# Import tqdm for progress bar\n",
        "from tqdm.auto import tqdm\n",
        "\n",
        "# Set the seed and start the timer\n",
        "torch.manual_seed(42)\n",
        "train_time_start_on_cpu = timer()\n",
        "\n",
        "# Set the number of epochs (we'll keep this small for faster training times)\n",
        "epochs = 3\n",
        "\n",
        "# Create training and testing loop\n",
        "for epoch in tqdm(range(epochs)):\n",
        "    print(f\"Epoch: {epoch}\\n-------\")\n",
        "    ### Training\n",
        "    train_loss = 0\n",
        "    # Add a loop to loop through training batches\n",
        "    for batch, (X, y) in enumerate(train_dataloader):\n",
        "        model_0.train()\n",
        "        # 1. Forward pass\n",
        "        y_pred = model_0(X)\n",
        "\n",
        "        # 2. Calculate loss (per batch)\n",
        "        loss = loss_fn(y_pred, y)\n",
        "        train_loss += loss # accumulatively add up the loss per epoch\n",
        "\n",
        "        # 3. Optimizer zero grad\n",
        "        optimizer.zero_grad()\n",
        "\n",
        "        # 4. Loss backward\n",
        "        loss.backward()\n",
        "\n",
        "        # 5. Optimizer step\n",
        "        optimizer.step()\n",
        "\n",
        "        # Print out how many samples have been seen\n",
        "        if batch % 400 == 0:\n",
        "            print(f\"Looked at {batch * len(X)}/{len(train_dataloader.dataset)} samples\")\n",
        "\n",
        "    # Divide total train loss by length of train dataloader (average loss per batch per epoch)\n",
        "    train_loss /= len(train_dataloader)\n",
        "\n",
        "    ### Testing\n",
        "    # Setup variables for accumulatively adding up loss and accuracy\n",
        "    test_loss, test_acc = 0, 0\n",
        "    model_0.eval()\n",
        "    with torch.inference_mode():\n",
        "        for X, y in test_dataloader:\n",
        "            # 1. Forward pass\n",
        "            test_pred = model_0(X)\n",
        "\n",
        "            # 2. Calculate loss (accumulatively)\n",
        "            test_loss += loss_fn(test_pred, y) # accumulatively add up the loss per epoch\n",
        "\n",
        "            # 3. Calculate accuracy (preds need to be same as y_true)\n",
        "            test_acc += accuracy_fn(y_true=y, y_pred=test_pred.argmax(dim=1))\n",
        "\n",
        "        # Calculations on test metrics need to happen inside torch.inference_mode()\n",
        "        # Divide total test loss by length of test dataloader (per batch)\n",
        "        test_loss /= len(test_dataloader)\n",
        "\n",
        "        # Divide total accuracy by length of test dataloader (per batch)\n",
        "        test_acc /= len(test_dataloader)\n",
        "\n",
        "    ## Print out what's happening\n",
        "    print(f\"\\nTrain loss: {train_loss:.5f} | Test loss: {test_loss:.5f}, Test acc: {test_acc:.2f}%\\n\")\n",
        "\n",
        "# Calculate training time\n",
        "train_time_end_on_cpu = timer()\n",
        "total_train_time_model_0 = print_train_time(start=train_time_start_on_cpu,\n",
        "                                           end=train_time_end_on_cpu,\n",
        "                                           device=str(next(model_0.parameters()).device))"
      ],
      "metadata": {
        "colab": {
          "base_uri": "https://localhost:8080/",
          "height": 587,
          "referenced_widgets": [
            "0c3dff6c20714d0f92aa680b78bc09bb",
            "e7a76e686fa649b88cf927c6fed773f8",
            "9391ac39aa2846009cc9e7c250ca8e04",
            "cd19d69586614860acb74dc4a8a3db2f",
            "38df3be068114fb9abe7e6d6a0ee51f3",
            "37cea49106e74729ac7012f32c92920d",
            "a234dab1b35d4b9190753547bbb71fe5",
            "7634d67f9e474acebfe840810f46402d",
            "58a4e03879b241e7871a8ae544f2b65d",
            "0595ba990b3740b09df35f569fa04af8",
            "63c9bc3f4ffc4a17b7c0cb4e6a6aa101"
          ]
        },
        "id": "vSwa5r7YLOrv",
        "outputId": "c0146989-1687-48e3-9f05-ea151d712f83"
      },
      "execution_count": 17,
      "outputs": [
        {
          "output_type": "display_data",
          "data": {
            "text/plain": [
              "  0%|          | 0/3 [00:00<?, ?it/s]"
            ],
            "application/vnd.jupyter.widget-view+json": {
              "version_major": 2,
              "version_minor": 0,
              "model_id": "0c3dff6c20714d0f92aa680b78bc09bb"
            }
          },
          "metadata": {}
        },
        {
          "output_type": "stream",
          "name": "stdout",
          "text": [
            "Epoch: 0\n",
            "-------\n",
            "Looked at 0/60000 samples\n",
            "Looked at 12800/60000 samples\n",
            "Looked at 25600/60000 samples\n",
            "Looked at 38400/60000 samples\n",
            "Looked at 51200/60000 samples\n",
            "\n",
            "Train loss: 0.59039 | Test loss: 0.50954, Test acc: 82.04%\n",
            "\n",
            "Epoch: 1\n",
            "-------\n",
            "Looked at 0/60000 samples\n",
            "Looked at 12800/60000 samples\n",
            "Looked at 25600/60000 samples\n",
            "Looked at 38400/60000 samples\n",
            "Looked at 51200/60000 samples\n",
            "\n",
            "Train loss: 0.47633 | Test loss: 0.47989, Test acc: 83.20%\n",
            "\n",
            "Epoch: 2\n",
            "-------\n",
            "Looked at 0/60000 samples\n",
            "Looked at 12800/60000 samples\n",
            "Looked at 25600/60000 samples\n",
            "Looked at 38400/60000 samples\n",
            "Looked at 51200/60000 samples\n",
            "\n",
            "Train loss: 0.45503 | Test loss: 0.47664, Test acc: 83.43%\n",
            "\n",
            "Train time on cpu: 31.323 seconds\n"
          ]
        }
      ]
    },
    {
      "cell_type": "markdown",
      "source": [
        "## 4. Make predictions and get Model 0 results"
      ],
      "metadata": {
        "id": "S9gNuL7CMmLA"
      }
    },
    {
      "cell_type": "code",
      "source": [
        "device = \"cuda\" if torch.cuda.is_available() else \"cpu\"\n",
        "\n",
        "torch.manual_seed(42)\n",
        "def eval_model(model: torch.nn.Module,\n",
        "               data_loader: torch.utils.data.DataLoader,\n",
        "               loss_fn: torch.nn.Module,\n",
        "               accuracy_fn,\n",
        "               device\n",
        "               ):\n",
        "    \"\"\"Returns a dictionary containing the results of model predicting on data_loader.\n",
        "\n",
        "    Args:\n",
        "        model (torch.nn.Module): A PyTorch model capable of making predictions on data_loader.\n",
        "        data_loader (torch.utils.data.DataLoader): The target dataset to predict on.\n",
        "        loss_fn (torch.nn.Module): The loss function of model.\n",
        "        accuracy_fn: An accuracy function to compare the models predictions to the truth labels.\n",
        "\n",
        "    Returns:\n",
        "        (dict): Results of model making predictions on data_loader.\n",
        "    \"\"\"\n",
        "    loss, acc = 0, 0\n",
        "    model.eval()\n",
        "    model.to(device)\n",
        "    with torch.inference_mode():\n",
        "        for X, y in data_loader:\n",
        "          X, y = X.to(device), y.to(device)\n",
        "          # Make predictions with the model\n",
        "          y_pred = model(X)\n",
        "\n",
        "          # Accumulate the loss and accuracy values per batch\n",
        "          loss += loss_fn(y_pred, y)\n",
        "          acc += accuracy_fn(y_true=y,\n",
        "                                y_pred=y_pred.argmax(dim=1)) # For accuracy, need the prediction labels (logits -> pred_prob -> pred_labels)\n",
        "\n",
        "        # Scale loss and acc to find the average loss/acc per batch\n",
        "        loss /= len(data_loader)\n",
        "        acc /= len(data_loader)\n",
        "\n",
        "    return {\"model_name\": model.__class__.__name__, # only works when model was created with a class\n",
        "            \"model_loss\": loss.item(),\n",
        "            \"model_acc\": acc}\n",
        "\n",
        "# Calculate model 0 results on test dataset\n",
        "model_0_results = eval_model(model=model_0, data_loader=test_dataloader,\n",
        "    loss_fn=loss_fn, accuracy_fn=accuracy_fn, device=device\n",
        ")\n",
        "model_0_results"
      ],
      "metadata": {
        "colab": {
          "base_uri": "https://localhost:8080/"
        },
        "id": "ZjjCQo2sNAa8",
        "outputId": "86d87347-fd6f-4baa-a66f-ebb5b9666810"
      },
      "execution_count": 19,
      "outputs": [
        {
          "output_type": "execute_result",
          "data": {
            "text/plain": [
              "{'model_name': 'FashionMNISTModelV0',\n",
              " 'model_loss': 0.47663894295692444,\n",
              " 'model_acc': 83.42651757188499}"
            ]
          },
          "metadata": {},
          "execution_count": 19
        }
      ]
    },
    {
      "cell_type": "markdown",
      "source": [
        "## 5. Setup device agnostic-code (for using a GPU if there is one)\n",
        "\n",
        "**Note:** Model training time is dependent on hardware used. Generally, more processors means faster training and smaller models on smaller datasets will often train faster than large models and large datasets.\n",
        "\n"
      ],
      "metadata": {
        "id": "I8qZmh0-NEeo"
      }
    },
    {
      "cell_type": "code",
      "source": [
        "# Setup device agnostic code\n",
        "import torch\n",
        "device = \"cuda\" if torch.cuda.is_available() else \"cpu\"\n",
        "device"
      ],
      "metadata": {
        "colab": {
          "base_uri": "https://localhost:8080/",
          "height": 35
        },
        "id": "PwgvDX3ENKZz",
        "outputId": "3984bb4b-058f-45e9-c339-c2938125130f"
      },
      "execution_count": 20,
      "outputs": [
        {
          "output_type": "execute_result",
          "data": {
            "text/plain": [
              "'cuda'"
            ],
            "application/vnd.google.colaboratory.intrinsic+json": {
              "type": "string"
            }
          },
          "metadata": {},
          "execution_count": 20
        }
      ]
    },
    {
      "cell_type": "markdown",
      "source": [
        "## 6. Model 1: Building a better model with non-linearity"
      ],
      "metadata": {
        "id": "Vcn30pFUNTJj"
      }
    },
    {
      "cell_type": "code",
      "source": [
        "# Create a model with non-linear and linear layers\n",
        "class FashionMNISTModelV1(nn.Module):\n",
        "    def __init__(self, input_shape: int, hidden_units: int, output_shape: int):\n",
        "        super().__init__()\n",
        "        self.layer_stack = nn.Sequential(\n",
        "            nn.Flatten(), # flatten inputs into single vector\n",
        "            nn.Linear(in_features=input_shape, out_features=hidden_units),\n",
        "            nn.ReLU(),\n",
        "            nn.Linear(in_features=hidden_units, out_features=output_shape),\n",
        "            nn.ReLU()\n",
        "        )\n",
        "\n",
        "    def forward(self, x: torch.Tensor):\n",
        "        return self.layer_stack(x)"
      ],
      "metadata": {
        "id": "KlEovPOUNY4C"
      },
      "execution_count": 21,
      "outputs": []
    },
    {
      "cell_type": "code",
      "source": [
        "torch.manual_seed(42)\n",
        "model_1 = FashionMNISTModelV1(input_shape=784, # number of input features\n",
        "    hidden_units=10,\n",
        "    output_shape=len(class_names) # number of output classes desired\n",
        ").to(device) # send model to GPU if it's available\n",
        "next(model_1.parameters()).device # check model device"
      ],
      "metadata": {
        "colab": {
          "base_uri": "https://localhost:8080/"
        },
        "id": "LwXs8pM6Nf1l",
        "outputId": "5b4de8b5-4fcc-4fcf-a229-cffc940942ff"
      },
      "execution_count": 22,
      "outputs": [
        {
          "output_type": "execute_result",
          "data": {
            "text/plain": [
              "device(type='cuda', index=0)"
            ]
          },
          "metadata": {},
          "execution_count": 22
        }
      ]
    },
    {
      "cell_type": "markdown",
      "source": [
        "### 6.1 Setup loss, optimizer and evaluation metrics"
      ],
      "metadata": {
        "id": "zDqZaGQ2NjuN"
      }
    },
    {
      "cell_type": "code",
      "source": [
        "loss_fn = nn.CrossEntropyLoss()\n",
        "optimizer = torch.optim.SGD(params=model_1.parameters(),\n",
        "                            lr=0.1)\n",
        "# Calculate accuracy (a classification metric)\n",
        "def accuracy_fn(y_true, y_pred):\n",
        "    correct = torch.eq(y_true, y_pred).sum().item() # torch.eq() calculates where two tensors are equal\n",
        "    acc = (correct / len(y_pred)) * 100\n",
        "    return acc"
      ],
      "metadata": {
        "id": "yi0aOFrKNoWk"
      },
      "execution_count": 23,
      "outputs": []
    },
    {
      "cell_type": "markdown",
      "source": [
        "### 6.2 Functionizing training and test loop\n",
        "\n",
        "So far we've been writing train and test loops over and over.\n",
        "\n",
        "Let's write them again but this time we'll put them in functions so they can be called again and again.\n",
        "\n",
        "And because we're using device-agnostic code now, we'll be sure to call .to(device) on our feature (X) and target (y) tensors.\n",
        "\n",
        "For the training loop we'll create a function called train_step() which takes in a model, a DataLoader a loss function and an optimizer.\n",
        "\n",
        "The testing loop will be similar but it'll be called test_step() and it'll take in a model, a DataLoader, a loss function and an evaluation function."
      ],
      "metadata": {
        "id": "PJfp9wzINxYX"
      }
    },
    {
      "cell_type": "code",
      "source": [
        "def train_step(model: torch.nn.Module,\n",
        "               data_loader: torch.utils.data.DataLoader,\n",
        "               loss_fn: torch.nn.Module,\n",
        "               optimizer: torch.optim.Optimizer,\n",
        "               accuracy_fn,\n",
        "               device: torch.device = device):\n",
        "    train_loss, train_acc = 0, 0\n",
        "    model.to(device)\n",
        "    for batch, (X, y) in enumerate(data_loader):\n",
        "        # Send data to GPU\n",
        "        X, y = X.to(device), y.to(device)\n",
        "\n",
        "        # 1. Forward pass\n",
        "        y_pred = model(X)\n",
        "\n",
        "        # 2. Calculate loss\n",
        "        loss = loss_fn(y_pred, y)\n",
        "        train_loss += loss\n",
        "        train_acc += accuracy_fn(y_true=y,\n",
        "                                 y_pred=y_pred.argmax(dim=1)) # Go from logits -> pred labels\n",
        "\n",
        "        # 3. Optimizer zero grad\n",
        "        optimizer.zero_grad()\n",
        "\n",
        "        # 4. Loss backward\n",
        "        loss.backward()\n",
        "\n",
        "        # 5. Optimizer step\n",
        "        optimizer.step()\n",
        "\n",
        "    # Calculate loss and accuracy per epoch and print out what's happening\n",
        "    train_loss /= len(data_loader)\n",
        "    train_acc /= len(data_loader)\n",
        "    print(f\"Train loss: {train_loss:.5f} | Train accuracy: {train_acc:.2f}%\")\n",
        "\n",
        "def test_step(data_loader: torch.utils.data.DataLoader,\n",
        "              model: torch.nn.Module,\n",
        "              loss_fn: torch.nn.Module,\n",
        "              accuracy_fn,\n",
        "              device: torch.device = device):\n",
        "    test_loss, test_acc = 0, 0\n",
        "    model.to(device)\n",
        "    model.eval() # put model in eval mode\n",
        "    # Turn on inference context manager\n",
        "    with torch.inference_mode():\n",
        "        for X, y in data_loader:\n",
        "            # Send data to GPU\n",
        "            X, y = X.to(device), y.to(device)\n",
        "\n",
        "            # 1. Forward pass\n",
        "            test_pred = model(X)\n",
        "\n",
        "            # 2. Calculate loss and accuracy\n",
        "            test_loss += loss_fn(test_pred, y)\n",
        "            test_acc += accuracy_fn(y_true=y,\n",
        "                y_pred=test_pred.argmax(dim=1) # Go from logits -> pred labels\n",
        "            )\n",
        "\n",
        "        # Adjust metrics and print out\n",
        "        test_loss /= len(data_loader)\n",
        "        test_acc /= len(data_loader)\n",
        "        print(f\"Test loss: {test_loss:.5f} | Test accuracy: {test_acc:.2f}%\\n\")"
      ],
      "metadata": {
        "id": "ojJMNeU2N_Un"
      },
      "execution_count": 24,
      "outputs": []
    },
    {
      "cell_type": "code",
      "source": [
        "torch.manual_seed(42)\n",
        "\n",
        "# Measure time\n",
        "from timeit import default_timer as timer\n",
        "train_time_start_on_gpu = timer()\n",
        "\n",
        "epochs = 3\n",
        "for epoch in tqdm(range(epochs)):\n",
        "    print(f\"Epoch: {epoch}\\n---------\")\n",
        "    train_step(data_loader=train_dataloader,\n",
        "        model=model_1,\n",
        "        loss_fn=loss_fn,\n",
        "        optimizer=optimizer,\n",
        "        accuracy_fn=accuracy_fn\n",
        "    )\n",
        "    test_step(data_loader=test_dataloader,\n",
        "        model=model_1,\n",
        "        loss_fn=loss_fn,\n",
        "        accuracy_fn=accuracy_fn\n",
        "    )\n",
        "\n",
        "train_time_end_on_gpu = timer()\n",
        "total_train_time_model_1 = print_train_time(start=train_time_start_on_gpu,\n",
        "                                            end=train_time_end_on_gpu,\n",
        "                                            device=device)"
      ],
      "metadata": {
        "colab": {
          "base_uri": "https://localhost:8080/",
          "height": 327,
          "referenced_widgets": [
            "bf97b870a45e4ac3a5e40e31f9f81e8d",
            "fdee0f9ef01c418894a70ffe29dbbde7",
            "98451b73c48041cd8386ef2816d439e1",
            "4fb4bfdad18549689fc82eda6d764777",
            "cb00d94f9c544f9293b33c53ffae2c99",
            "1059947fe3b6434ba141c90e5d31964c",
            "e25db09828b14943ba4522141a2b971e",
            "bf8a21c8743a42639fe9cf4de93742fa",
            "7da98ed7a2084b0cae879f1884d403b7",
            "d2ab27d1a0d4466bafc8cb54e42ea5b6",
            "9bad6f1c78a74bcfb57855cbbcb2d301"
          ]
        },
        "id": "8tA3I4oDOLSR",
        "outputId": "51f9d7aa-d638-4fee-98c8-208995d01cb6"
      },
      "execution_count": 25,
      "outputs": [
        {
          "output_type": "display_data",
          "data": {
            "text/plain": [
              "  0%|          | 0/3 [00:00<?, ?it/s]"
            ],
            "application/vnd.jupyter.widget-view+json": {
              "version_major": 2,
              "version_minor": 0,
              "model_id": "bf97b870a45e4ac3a5e40e31f9f81e8d"
            }
          },
          "metadata": {}
        },
        {
          "output_type": "stream",
          "name": "stdout",
          "text": [
            "Epoch: 0\n",
            "---------\n",
            "Train loss: 1.09199 | Train accuracy: 61.34%\n",
            "Test loss: 0.95636 | Test accuracy: 65.00%\n",
            "\n",
            "Epoch: 1\n",
            "---------\n",
            "Train loss: 0.78101 | Train accuracy: 71.93%\n",
            "Test loss: 0.72227 | Test accuracy: 73.91%\n",
            "\n",
            "Epoch: 2\n",
            "---------\n",
            "Train loss: 0.67027 | Train accuracy: 75.94%\n",
            "Test loss: 0.68500 | Test accuracy: 75.02%\n",
            "\n",
            "Train time on cuda: 33.036 seconds\n"
          ]
        }
      ]
    },
    {
      "cell_type": "markdown",
      "source": [
        "Our model trained but the training time took longer?\n",
        "\n",
        "**Note:** The training time on CUDA vs CPU will depend largely on the quality of the CPU/GPU you're using.\n",
        "\n",
        "**Question:** \"I used a GPU but my model didn't train faster, why might that be?\"\n",
        "\n",
        "**Answer:** Well, one reason could be because your dataset and model are both so small (like the dataset and model we're working with) the benefits of using a GPU are outweighed by the time it actually takes to transfer the data there.\n",
        "\n",
        "There's a small bottleneck between copying data from the CPU memory (default) to the GPU memory.\n",
        "\n",
        "So for smaller models and datasets, the CPU might actually be the optimal place to compute on.\n",
        "\n",
        "But for larger datasets and models, the speed of computing the GPU can offer usually far outweighs the cost of getting the data there.\n",
        "\n",
        "\n"
      ],
      "metadata": {
        "id": "xEMNsNXWOPSv"
      }
    },
    {
      "cell_type": "code",
      "source": [
        "torch.manual_seed(42)\n",
        "\n",
        "# Note: This will error due to `eval_model()` not using device agnostic code\n",
        "model_1_results = eval_model(model=model_1,\n",
        "    data_loader=test_dataloader,\n",
        "    loss_fn=loss_fn,\n",
        "    accuracy_fn=accuracy_fn,\n",
        "    device=device)\n",
        "model_1_results"
      ],
      "metadata": {
        "colab": {
          "base_uri": "https://localhost:8080/"
        },
        "id": "x-pvT-WNOnXV",
        "outputId": "340568fe-b4ac-45ee-fd74-fb25978c9b41"
      },
      "execution_count": 26,
      "outputs": [
        {
          "output_type": "execute_result",
          "data": {
            "text/plain": [
              "{'model_name': 'FashionMNISTModelV1',\n",
              " 'model_loss': 0.6850008964538574,\n",
              " 'model_acc': 75.01996805111821}"
            ]
          },
          "metadata": {},
          "execution_count": 26
        }
      ]
    },
    {
      "cell_type": "code",
      "source": [
        "# Move values to device\n",
        "torch.manual_seed(42)\n",
        "def eval_model(model: torch.nn.Module,\n",
        "               data_loader: torch.utils.data.DataLoader,\n",
        "               loss_fn: torch.nn.Module,\n",
        "               accuracy_fn,\n",
        "               device: torch.device = device):\n",
        "    \"\"\"Evaluates a given model on a given dataset.\n",
        "\n",
        "    Args:\n",
        "        model (torch.nn.Module): A PyTorch model capable of making predictions on data_loader.\n",
        "        data_loader (torch.utils.data.DataLoader): The target dataset to predict on.\n",
        "        loss_fn (torch.nn.Module): The loss function of model.\n",
        "        accuracy_fn: An accuracy function to compare the models predictions to the truth labels.\n",
        "        device (str, optional): Target device to compute on. Defaults to device.\n",
        "\n",
        "    Returns:\n",
        "        (dict): Results of model making predictions on data_loader.\n",
        "    \"\"\"\n",
        "    loss, acc = 0, 0\n",
        "    model.eval()\n",
        "    with torch.inference_mode():\n",
        "        for X, y in data_loader:\n",
        "            # Send data to the target device\n",
        "            X, y = X.to(device), y.to(device)\n",
        "            y_pred = model(X)\n",
        "            loss += loss_fn(y_pred, y)\n",
        "            acc += accuracy_fn(y_true=y, y_pred=y_pred.argmax(dim=1))\n",
        "\n",
        "        # Scale loss and acc\n",
        "        loss /= len(data_loader)\n",
        "        acc /= len(data_loader)\n",
        "    return {\"model_name\": model.__class__.__name__, # only works when model was created with a class\n",
        "            \"model_loss\": loss.item(),\n",
        "            \"model_acc\": acc}\n",
        "\n",
        "# Calculate model 1 results with device-agnostic code\n",
        "model_1_results = eval_model(model=model_1, data_loader=test_dataloader,\n",
        "    loss_fn=loss_fn, accuracy_fn=accuracy_fn,\n",
        "    device=device\n",
        ")\n",
        "model_1_results"
      ],
      "metadata": {
        "colab": {
          "base_uri": "https://localhost:8080/"
        },
        "id": "lRAwJASbO6eS",
        "outputId": "9c939126-8ec4-4df7-e79b-9545fc75ebce"
      },
      "execution_count": 27,
      "outputs": [
        {
          "output_type": "execute_result",
          "data": {
            "text/plain": [
              "{'model_name': 'FashionMNISTModelV1',\n",
              " 'model_loss': 0.6850008964538574,\n",
              " 'model_acc': 75.01996805111821}"
            ]
          },
          "metadata": {},
          "execution_count": 27
        }
      ]
    },
    {
      "cell_type": "markdown",
      "source": [
        "Woah, in this case, it looks like adding non-linearities to our model made it perform worse than the baseline.\n",
        "\n",
        "That's a thing to note in machine learning, sometimes the thing you thought should work doesn't.\n",
        "\n",
        "And then the thing we thought might not work does.\n",
        "\n",
        "It's part science, part art.\n",
        "\n",
        "From the looks of things, it seems like our model is overfitting on the training data.\n",
        "\n",
        "Overfitting means our model is learning the training data well but those patterns aren't generalizing to the testing data.\n",
        "\n",
        "Two of the main ways to fix overfitting include:\n",
        "\n",
        "Using a smaller or different model (some models fit certain kinds of data better than others).\n",
        "Using a larger dataset (the more data, the more chance a model has to learn generalizable patterns).\n",
        "There are more, but I'm going to leave that as a challenge for you to explore.\n",
        "\n",
        "Try searching online, \"ways to prevent overfitting in machine learning\" and see what comes up.\n",
        "\n",
        "In the meantime, let's take a look at number 1: using a different model.\n",
        "\n"
      ],
      "metadata": {
        "id": "RHHxV6ZdPHW9"
      }
    },
    {
      "cell_type": "markdown",
      "source": [
        "## 7. Model 2: Building a Convolutional Neural Network (CNN)\n",
        "It's time to create a Convolutional Neural Network (CNN or ConvNet).\n",
        "\n",
        "CNN's are known for their capabilities to find patterns in visual data.\n",
        "\n",
        "And since we're dealing with visual data, let's see if using a CNN model can improve upon our baseline.\n",
        "\n",
        "The CNN model we're going to be using is known as TinyVGG from the CNN Explainer website.\n",
        "\n",
        "It follows the typical structure of a convolutional neural network:\n",
        "\n",
        "Input layer -> [Convolutional layer -> activation layer -> pooling layer] -> Output layer\n",
        "\n",
        "Where the contents of [Convolutional layer -> activation layer -> pooling layer] can be upscaled and repeated multiple times, depending on requirements.\n",
        "\n"
      ],
      "metadata": {
        "id": "tnqW4UtRPQ_r"
      }
    },
    {
      "cell_type": "markdown",
      "source": [
        "*Enough talking about models, let's now build a CNN that replicates the model on the CNN Explainer website.*\n",
        "https://poloclub.github.io/cnn-explainer/\n",
        "\n",
        "[](https://raw.githubusercontent.com/mrdbourke/pytorch-deep-learning/main/images/03-cnn-explainer-model.png)\n",
        "\n",
        "To do so, we'll leverage the nn.Conv2d() and nn.MaxPool2d() layers from torch.nn.\n",
        "\n"
      ],
      "metadata": {
        "id": "K44sFWipPWzK"
      }
    },
    {
      "cell_type": "code",
      "source": [
        "# Create a convolutional neural network\n",
        "class FashionMNISTModelV2(nn.Module):\n",
        "    \"\"\"\n",
        "    Model architecture copying TinyVGG from:\n",
        "    https://poloclub.github.io/cnn-explainer/\n",
        "    \"\"\"\n",
        "    def __init__(self, input_shape: int, hidden_units: int, output_shape: int):\n",
        "        super().__init__()\n",
        "        self.block_1 = nn.Sequential(\n",
        "            nn.Conv2d(in_channels=input_shape,\n",
        "                      out_channels=hidden_units,\n",
        "                      kernel_size=3, # how big is the square that's going over the image?\n",
        "                      stride=1, # default\n",
        "                      padding=1),# options = \"valid\" (no padding) or \"same\" (output has same shape as input) or int for specific number\n",
        "            nn.ReLU(),\n",
        "            nn.Conv2d(in_channels=hidden_units,\n",
        "                      out_channels=hidden_units,\n",
        "                      kernel_size=3,\n",
        "                      stride=1,\n",
        "                      padding=1),\n",
        "            nn.ReLU(),\n",
        "            nn.MaxPool2d(kernel_size=2,\n",
        "                         stride=2) # default stride value is same as kernel_size\n",
        "        )\n",
        "        self.block_2 = nn.Sequential(\n",
        "            nn.Conv2d(hidden_units, hidden_units, 3, padding=1),\n",
        "            nn.ReLU(),\n",
        "            nn.Conv2d(hidden_units, hidden_units, 3, padding=1),\n",
        "            nn.ReLU(),\n",
        "            nn.MaxPool2d(2)\n",
        "        )\n",
        "        self.classifier = nn.Sequential(\n",
        "            nn.Flatten(),\n",
        "            # Where did this in_features shape come from?\n",
        "            # It's because each layer of our network compresses and changes the shape of our input data.\n",
        "            nn.Linear(in_features=hidden_units*7*7,\n",
        "                      out_features=output_shape)\n",
        "        )\n",
        "\n",
        "    def forward(self, x: torch.Tensor):\n",
        "        x = self.block_1(x)\n",
        "        # print(x.shape)\n",
        "        x = self.block_2(x)\n",
        "        # print(x.shape)\n",
        "        x = self.classifier(x)\n",
        "        # print(x.shape)\n",
        "        return x\n",
        "\n",
        "torch.manual_seed(42)\n",
        "model_2 = FashionMNISTModelV2(input_shape=1,\n",
        "    hidden_units=10,\n",
        "    output_shape=len(class_names)).to(device)\n",
        "model_2"
      ],
      "metadata": {
        "colab": {
          "base_uri": "https://localhost:8080/"
        },
        "id": "8LfP2GtxPj6h",
        "outputId": "39d0ed99-7eb8-4cb2-e472-c0e8d7458f4d"
      },
      "execution_count": 28,
      "outputs": [
        {
          "output_type": "execute_result",
          "data": {
            "text/plain": [
              "FashionMNISTModelV2(\n",
              "  (block_1): Sequential(\n",
              "    (0): Conv2d(1, 10, kernel_size=(3, 3), stride=(1, 1), padding=(1, 1))\n",
              "    (1): ReLU()\n",
              "    (2): Conv2d(10, 10, kernel_size=(3, 3), stride=(1, 1), padding=(1, 1))\n",
              "    (3): ReLU()\n",
              "    (4): MaxPool2d(kernel_size=2, stride=2, padding=0, dilation=1, ceil_mode=False)\n",
              "  )\n",
              "  (block_2): Sequential(\n",
              "    (0): Conv2d(10, 10, kernel_size=(3, 3), stride=(1, 1), padding=(1, 1))\n",
              "    (1): ReLU()\n",
              "    (2): Conv2d(10, 10, kernel_size=(3, 3), stride=(1, 1), padding=(1, 1))\n",
              "    (3): ReLU()\n",
              "    (4): MaxPool2d(kernel_size=2, stride=2, padding=0, dilation=1, ceil_mode=False)\n",
              "  )\n",
              "  (classifier): Sequential(\n",
              "    (0): Flatten(start_dim=1, end_dim=-1)\n",
              "    (1): Linear(in_features=490, out_features=10, bias=True)\n",
              "  )\n",
              ")"
            ]
          },
          "metadata": {},
          "execution_count": 28
        }
      ]
    },
    {
      "cell_type": "markdown",
      "source": [
        "### 7.1 Stepping through nn.Conv2d()"
      ],
      "metadata": {
        "id": "F-XqgoRlQ3Uc"
      }
    },
    {
      "cell_type": "code",
      "source": [
        "torch.manual_seed(42)\n",
        "\n",
        "# Create sample batch of random numbers with same size as image batch\n",
        "images = torch.randn(size=(32, 3, 64, 64)) # [batch_size, color_channels, height, width]\n",
        "test_image = images[0] # get a single image for testing\n",
        "print(f\"Image batch shape: {images.shape} -> [batch_size, color_channels, height, width]\")\n",
        "print(f\"Single image shape: {test_image.shape} -> [color_channels, height, width]\")\n",
        "print(f\"Single image pixel values:\\n{test_image}\")"
      ],
      "metadata": {
        "colab": {
          "base_uri": "https://localhost:8080/"
        },
        "id": "UJEzFbQNQ8CX",
        "outputId": "6ab026c3-3d18-497a-d7f8-d168fa80a95a"
      },
      "execution_count": 29,
      "outputs": [
        {
          "output_type": "stream",
          "name": "stdout",
          "text": [
            "Image batch shape: torch.Size([32, 3, 64, 64]) -> [batch_size, color_channels, height, width]\n",
            "Single image shape: torch.Size([3, 64, 64]) -> [color_channels, height, width]\n",
            "Single image pixel values:\n",
            "tensor([[[ 1.9269,  1.4873,  0.9007,  ...,  1.8446, -1.1845,  1.3835],\n",
            "         [ 1.4451,  0.8564,  2.2181,  ...,  0.3399,  0.7200,  0.4114],\n",
            "         [ 1.9312,  1.0119, -1.4364,  ..., -0.5558,  0.7043,  0.7099],\n",
            "         ...,\n",
            "         [-0.5610, -0.4830,  0.4770,  ..., -0.2713, -0.9537, -0.6737],\n",
            "         [ 0.3076, -0.1277,  0.0366,  ..., -2.0060,  0.2824, -0.8111],\n",
            "         [-1.5486,  0.0485, -0.7712,  ..., -0.1403,  0.9416, -0.0118]],\n",
            "\n",
            "        [[-0.5197,  1.8524,  1.8365,  ...,  0.8935, -1.5114, -0.8515],\n",
            "         [ 2.0818,  1.0677, -1.4277,  ...,  1.6612, -2.6223, -0.4319],\n",
            "         [-0.1010, -0.4388, -1.9775,  ...,  0.2106,  0.2536, -0.7318],\n",
            "         ...,\n",
            "         [ 0.2779,  0.7342, -0.3736,  ..., -0.4601,  0.1815,  0.1850],\n",
            "         [ 0.7205, -0.2833,  0.0937,  ..., -0.1002, -2.3609,  2.2465],\n",
            "         [-1.3242, -0.1973,  0.2920,  ...,  0.5409,  0.6940,  1.8563]],\n",
            "\n",
            "        [[-0.7978,  1.0261,  1.1465,  ...,  1.2134,  0.9354, -0.0780],\n",
            "         [-1.4647, -1.9571,  0.1017,  ..., -1.9986, -0.7409,  0.7011],\n",
            "         [-1.3938,  0.8466, -1.7191,  ..., -1.1867,  0.1320,  0.3407],\n",
            "         ...,\n",
            "         [ 0.8206, -0.3745,  1.2499,  ..., -0.0676,  0.0385,  0.6335],\n",
            "         [-0.5589, -0.3393,  0.2347,  ...,  2.1181,  2.4569,  1.3083],\n",
            "         [-0.4092,  1.5199,  0.2401,  ..., -0.2558,  0.7870,  0.9924]]])\n"
          ]
        }
      ]
    },
    {
      "cell_type": "code",
      "source": [
        "torch.manual_seed(42)\n",
        "\n",
        "# Create a convolutional layer with same dimensions as TinyVGG\n",
        "# (try changing any of the parameters and see what happens)\n",
        "conv_layer = nn.Conv2d(in_channels=3,\n",
        "                       out_channels=10,\n",
        "                       kernel_size=3,\n",
        "                       stride=1,\n",
        "                       padding=0) # also try using \"valid\" or \"same\" here\n",
        "\n",
        "# Pass the data through the convolutional layer\n",
        "conv_layer(test_image) # Note: If running PyTorch <1.11.0, this will error because of shape issues (nn.Conv.2d() expects a 4d tensor as input)"
      ],
      "metadata": {
        "colab": {
          "base_uri": "https://localhost:8080/"
        },
        "id": "xByXlztQRHvr",
        "outputId": "518de718-bd4b-4bd5-c4ad-8b164ee7b21f"
      },
      "execution_count": 30,
      "outputs": [
        {
          "output_type": "execute_result",
          "data": {
            "text/plain": [
              "tensor([[[ 1.5396,  0.0516,  0.6454,  ..., -0.3673,  0.8711,  0.4256],\n",
              "         [ 0.3662,  1.0114, -0.5997,  ...,  0.8983,  0.2809, -0.2741],\n",
              "         [ 1.2664, -1.4054,  0.3727,  ..., -0.3409,  1.2191, -0.0463],\n",
              "         ...,\n",
              "         [-0.1541,  0.5132, -0.3624,  ..., -0.2360, -0.4609, -0.0035],\n",
              "         [ 0.2981, -0.2432,  1.5012,  ..., -0.6289, -0.7283, -0.5767],\n",
              "         [-0.0386, -0.0781, -0.0388,  ...,  0.2842,  0.4228, -0.1802]],\n",
              "\n",
              "        [[-0.2840, -0.0319, -0.4455,  ..., -0.7956,  1.5599, -1.2449],\n",
              "         [ 0.2753, -0.1262, -0.6541,  ..., -0.2211,  0.1999, -0.8856],\n",
              "         [-0.5404, -1.5489,  0.0249,  ..., -0.5932, -1.0913, -0.3849],\n",
              "         ...,\n",
              "         [ 0.3870, -0.4064, -0.8236,  ...,  0.1734, -0.4330, -0.4951],\n",
              "         [-0.1984, -0.6386,  1.0263,  ..., -0.9401, -0.0585, -0.7833],\n",
              "         [-0.6306, -0.2052, -0.3694,  ..., -1.3248,  0.2456, -0.7134]],\n",
              "\n",
              "        [[ 0.4414,  0.5100,  0.4846,  ..., -0.8484,  0.2638,  1.1258],\n",
              "         [ 0.8117,  0.3191, -0.0157,  ...,  1.2686,  0.2319,  0.5003],\n",
              "         [ 0.3212,  0.0485, -0.2581,  ...,  0.2258,  0.2587, -0.8804],\n",
              "         ...,\n",
              "         [-0.1144, -0.1869,  0.0160,  ..., -0.8346,  0.0974,  0.8421],\n",
              "         [ 0.2941,  0.4417,  0.5866,  ..., -0.1224,  0.4814, -0.4799],\n",
              "         [ 0.6059, -0.0415, -0.2028,  ...,  0.1170,  0.2521, -0.4372]],\n",
              "\n",
              "        ...,\n",
              "\n",
              "        [[-0.2560, -0.0477,  0.6380,  ...,  0.6436,  0.7553, -0.7055],\n",
              "         [ 1.5595, -0.2209, -0.9486,  ..., -0.4876,  0.7754,  0.0750],\n",
              "         [-0.0797,  0.2471,  1.1300,  ...,  0.1505,  0.2354,  0.9576],\n",
              "         ...,\n",
              "         [ 1.1065,  0.6839,  1.2183,  ...,  0.3015, -0.1910, -0.1902],\n",
              "         [-0.3486, -0.7173, -0.3582,  ...,  0.4917,  0.7219,  0.1513],\n",
              "         [ 0.0119,  0.1017,  0.7839,  ..., -0.3752, -0.8127, -0.1257]],\n",
              "\n",
              "        [[ 0.3841,  1.1322,  0.1620,  ...,  0.7010,  0.0109,  0.6058],\n",
              "         [ 0.1664,  0.1873,  1.5924,  ...,  0.3733,  0.9096, -0.5399],\n",
              "         [ 0.4094, -0.0861, -0.7935,  ..., -0.1285, -0.9932, -0.3013],\n",
              "         ...,\n",
              "         [ 0.2688, -0.5630, -1.1902,  ...,  0.4493,  0.5404, -0.0103],\n",
              "         [ 0.0535,  0.4411,  0.5313,  ...,  0.0148, -1.0056,  0.3759],\n",
              "         [ 0.3031, -0.1590, -0.1316,  ..., -0.5384, -0.4271, -0.4876]],\n",
              "\n",
              "        [[-1.1865, -0.7280, -1.2331,  ..., -0.9013, -0.0542, -1.5949],\n",
              "         [-0.6345, -0.5920,  0.5326,  ..., -1.0395, -0.7963, -0.0647],\n",
              "         [-0.1132,  0.5166,  0.2569,  ...,  0.5595, -1.6881,  0.9485],\n",
              "         ...,\n",
              "         [-0.0254, -0.2669,  0.1927,  ..., -0.2917,  0.1088, -0.4807],\n",
              "         [-0.2609, -0.2328,  0.1404,  ..., -0.1325, -0.8436, -0.7524],\n",
              "         [-1.1399, -0.1751, -0.8705,  ...,  0.1589,  0.3377,  0.3493]]],\n",
              "       grad_fn=<SqueezeBackward1>)"
            ]
          },
          "metadata": {},
          "execution_count": 30
        }
      ]
    },
    {
      "cell_type": "code",
      "source": [
        "# Add extra dimension to test image\n",
        "test_image.unsqueeze(dim=0).shape"
      ],
      "metadata": {
        "colab": {
          "base_uri": "https://localhost:8080/"
        },
        "id": "HLaMda3KRLv-",
        "outputId": "27aff955-9e39-4518-8e5e-3d4a918ff8be"
      },
      "execution_count": 31,
      "outputs": [
        {
          "output_type": "execute_result",
          "data": {
            "text/plain": [
              "torch.Size([1, 3, 64, 64])"
            ]
          },
          "metadata": {},
          "execution_count": 31
        }
      ]
    },
    {
      "cell_type": "code",
      "source": [
        "# Pass test image with extra dimension through conv_layer\n",
        "conv_layer(test_image.unsqueeze(dim=0)).shape"
      ],
      "metadata": {
        "colab": {
          "base_uri": "https://localhost:8080/"
        },
        "id": "t1JRfHUBRQKj",
        "outputId": "b845325a-154a-473a-eda7-a9479c1d50df"
      },
      "execution_count": 32,
      "outputs": [
        {
          "output_type": "execute_result",
          "data": {
            "text/plain": [
              "torch.Size([1, 10, 62, 62])"
            ]
          },
          "metadata": {},
          "execution_count": 32
        }
      ]
    },
    {
      "cell_type": "code",
      "source": [
        "# What if we changed the values of conv_layer?\n",
        "torch.manual_seed(42)\n",
        "# Create a new conv_layer with different values (try setting these to whatever you like)\n",
        "conv_layer_2 = nn.Conv2d(in_channels=3, # same number of color channels as our input image\n",
        "                         out_channels=10,\n",
        "                         kernel_size=(5, 5), # kernel is usually a square so a tuple also works\n",
        "                         stride=2,\n",
        "                         padding=0)\n",
        "\n",
        "# Pass single image through new conv_layer_2 (this calls nn.Conv2d()'s forward() method on the input)\n",
        "conv_layer_2(test_image.unsqueeze(dim=0)).shape"
      ],
      "metadata": {
        "colab": {
          "base_uri": "https://localhost:8080/"
        },
        "id": "ACCXY_ZjRRl_",
        "outputId": "096cd48e-a4fe-49f8-ca27-08a8c0db8b0c"
      },
      "execution_count": 33,
      "outputs": [
        {
          "output_type": "execute_result",
          "data": {
            "text/plain": [
              "torch.Size([1, 10, 30, 30])"
            ]
          },
          "metadata": {},
          "execution_count": 33
        }
      ]
    },
    {
      "cell_type": "markdown",
      "source": [
        "Now our image is of shape [1, 10, 30, 30] (it will be different if you use different values) or [batch_size=1, color_channels=10, height=30, width=30].\n",
        "\n",
        "What's going on here?\n",
        "\n",
        "Behind the scenes, our nn.Conv2d() is compressing the information stored in the image.\n",
        "\n",
        "It does this by performing operations on the input (our test image) against its internal parameters.\n",
        "\n",
        "The goal of this is similar to all of the other neural networks we've been building.\n",
        "\n",
        "Data goes in and the layers try to update their internal parameters (patterns) to lower the loss function thanks to some help of the optimizer.\n",
        "\n",
        "The only difference is how the different layers calculate their parameter updates or in PyTorch terms, the operation present in the layer forward() method.\n",
        "\n",
        "If we check out our conv_layer_2.state_dict() we'll find a similar weight and bias setup as we've seen before.\n",
        "\n"
      ],
      "metadata": {
        "id": "yOlCEkKyRYcr"
      }
    },
    {
      "cell_type": "code",
      "source": [
        "# Check out the conv_layer_2 internal parameters\n",
        "print(conv_layer_2.state_dict())"
      ],
      "metadata": {
        "colab": {
          "base_uri": "https://localhost:8080/"
        },
        "id": "-NeWITgwRepa",
        "outputId": "f4a5c3cc-7e61-4d00-f666-4edbd67f2514"
      },
      "execution_count": 34,
      "outputs": [
        {
          "output_type": "stream",
          "name": "stdout",
          "text": [
            "OrderedDict([('weight', tensor([[[[ 0.0883,  0.0958, -0.0271,  0.1061, -0.0253],\n",
            "          [ 0.0233, -0.0562,  0.0678,  0.1018, -0.0847],\n",
            "          [ 0.1004,  0.0216,  0.0853,  0.0156,  0.0557],\n",
            "          [-0.0163,  0.0890,  0.0171, -0.0539,  0.0294],\n",
            "          [-0.0532, -0.0135, -0.0469,  0.0766, -0.0911]],\n",
            "\n",
            "         [[-0.0532, -0.0326, -0.0694,  0.0109, -0.1140],\n",
            "          [ 0.1043, -0.0981,  0.0891,  0.0192, -0.0375],\n",
            "          [ 0.0714,  0.0180,  0.0933,  0.0126, -0.0364],\n",
            "          [ 0.0310, -0.0313,  0.0486,  0.1031,  0.0667],\n",
            "          [-0.0505,  0.0667,  0.0207,  0.0586, -0.0704]],\n",
            "\n",
            "         [[-0.1143, -0.0446, -0.0886,  0.0947,  0.0333],\n",
            "          [ 0.0478,  0.0365, -0.0020,  0.0904, -0.0820],\n",
            "          [ 0.0073, -0.0788,  0.0356, -0.0398,  0.0354],\n",
            "          [-0.0241,  0.0958, -0.0684, -0.0689, -0.0689],\n",
            "          [ 0.1039,  0.0385,  0.1111, -0.0953, -0.1145]]],\n",
            "\n",
            "\n",
            "        [[[-0.0903, -0.0777,  0.0468,  0.0413,  0.0959],\n",
            "          [-0.0596, -0.0787,  0.0613, -0.0467,  0.0701],\n",
            "          [-0.0274,  0.0661, -0.0897, -0.0583,  0.0352],\n",
            "          [ 0.0244, -0.0294,  0.0688,  0.0785, -0.0837],\n",
            "          [-0.0616,  0.1057, -0.0390, -0.0409, -0.1117]],\n",
            "\n",
            "         [[-0.0661,  0.0288, -0.0152, -0.0838,  0.0027],\n",
            "          [-0.0789, -0.0980, -0.0636, -0.1011, -0.0735],\n",
            "          [ 0.1154,  0.0218,  0.0356, -0.1077, -0.0758],\n",
            "          [-0.0384,  0.0181, -0.1016, -0.0498, -0.0691],\n",
            "          [ 0.0003, -0.0430, -0.0080, -0.0782, -0.0793]],\n",
            "\n",
            "         [[-0.0674, -0.0395, -0.0911,  0.0968, -0.0229],\n",
            "          [ 0.0994,  0.0360, -0.0978,  0.0799, -0.0318],\n",
            "          [-0.0443, -0.0958, -0.1148,  0.0330, -0.0252],\n",
            "          [ 0.0450, -0.0948,  0.0857, -0.0848, -0.0199],\n",
            "          [ 0.0241,  0.0596,  0.0932,  0.1052, -0.0916]]],\n",
            "\n",
            "\n",
            "        [[[ 0.0291, -0.0497, -0.0127, -0.0864,  0.1052],\n",
            "          [-0.0847,  0.0617,  0.0406,  0.0375, -0.0624],\n",
            "          [ 0.1050,  0.0254,  0.0149, -0.1018,  0.0485],\n",
            "          [-0.0173, -0.0529,  0.0992,  0.0257, -0.0639],\n",
            "          [-0.0584, -0.0055,  0.0645, -0.0295, -0.0659]],\n",
            "\n",
            "         [[-0.0395, -0.0863,  0.0412,  0.0894, -0.1087],\n",
            "          [ 0.0268,  0.0597,  0.0209, -0.0411,  0.0603],\n",
            "          [ 0.0607,  0.0432, -0.0203, -0.0306,  0.0124],\n",
            "          [-0.0204, -0.0344,  0.0738,  0.0992, -0.0114],\n",
            "          [-0.0259,  0.0017, -0.0069,  0.0278,  0.0324]],\n",
            "\n",
            "         [[-0.1049, -0.0426,  0.0972,  0.0450, -0.0057],\n",
            "          [-0.0696, -0.0706, -0.1034, -0.0376,  0.0390],\n",
            "          [ 0.0736,  0.0533, -0.1021, -0.0694, -0.0182],\n",
            "          [ 0.1117,  0.0167, -0.0299,  0.0478, -0.0440],\n",
            "          [-0.0747,  0.0843, -0.0525, -0.0231, -0.1149]]],\n",
            "\n",
            "\n",
            "        [[[ 0.0773,  0.0875,  0.0421, -0.0805, -0.1140],\n",
            "          [-0.0938,  0.0861,  0.0554,  0.0972,  0.0605],\n",
            "          [ 0.0292, -0.0011, -0.0878, -0.0989, -0.1080],\n",
            "          [ 0.0473, -0.0567, -0.0232, -0.0665, -0.0210],\n",
            "          [-0.0813, -0.0754,  0.0383, -0.0343,  0.0713]],\n",
            "\n",
            "         [[-0.0370, -0.0847, -0.0204, -0.0560, -0.0353],\n",
            "          [-0.1099,  0.0646, -0.0804,  0.0580,  0.0524],\n",
            "          [ 0.0825, -0.0886,  0.0830, -0.0546,  0.0428],\n",
            "          [ 0.1084, -0.0163, -0.0009, -0.0266, -0.0964],\n",
            "          [ 0.0554, -0.1146,  0.0717,  0.0864,  0.1092]],\n",
            "\n",
            "         [[-0.0272, -0.0949,  0.0260,  0.0638, -0.1149],\n",
            "          [-0.0262, -0.0692, -0.0101, -0.0568, -0.0472],\n",
            "          [-0.0367, -0.1097,  0.0947,  0.0968, -0.0181],\n",
            "          [-0.0131, -0.0471, -0.1043, -0.1124,  0.0429],\n",
            "          [-0.0634, -0.0742, -0.0090, -0.0385, -0.0374]]],\n",
            "\n",
            "\n",
            "        [[[ 0.0037, -0.0245, -0.0398, -0.0553, -0.0940],\n",
            "          [ 0.0968, -0.0462,  0.0306, -0.0401,  0.0094],\n",
            "          [ 0.1077,  0.0532, -0.1001,  0.0458,  0.1096],\n",
            "          [ 0.0304,  0.0774,  0.1138, -0.0177,  0.0240],\n",
            "          [-0.0803, -0.0238,  0.0855,  0.0592, -0.0731]],\n",
            "\n",
            "         [[-0.0926, -0.0789, -0.1140, -0.0891, -0.0286],\n",
            "          [ 0.0779,  0.0193, -0.0878, -0.0926,  0.0574],\n",
            "          [-0.0859, -0.0142,  0.0554, -0.0534, -0.0126],\n",
            "          [-0.0101, -0.0273, -0.0585, -0.1029, -0.0933],\n",
            "          [-0.0618,  0.1115, -0.0558, -0.0775,  0.0280]],\n",
            "\n",
            "         [[ 0.0318,  0.0633,  0.0878,  0.0643, -0.1145],\n",
            "          [ 0.0102,  0.0699, -0.0107, -0.0680,  0.1101],\n",
            "          [-0.0432, -0.0657, -0.1041,  0.0052,  0.0512],\n",
            "          [ 0.0256,  0.0228, -0.0876, -0.1078,  0.0020],\n",
            "          [ 0.1053,  0.0666, -0.0672, -0.0150, -0.0851]]],\n",
            "\n",
            "\n",
            "        [[[-0.0557,  0.0209,  0.0629,  0.0957, -0.1060],\n",
            "          [ 0.0772, -0.0814,  0.0432,  0.0977,  0.0016],\n",
            "          [ 0.1051, -0.0984, -0.0441,  0.0673, -0.0252],\n",
            "          [-0.0236, -0.0481,  0.0796,  0.0566,  0.0370],\n",
            "          [-0.0649, -0.0937,  0.0125,  0.0342, -0.0533]],\n",
            "\n",
            "         [[-0.0323,  0.0780,  0.0092,  0.0052, -0.0284],\n",
            "          [-0.1046, -0.1086, -0.0552, -0.0587,  0.0360],\n",
            "          [-0.0336, -0.0452,  0.1101,  0.0402,  0.0823],\n",
            "          [-0.0559, -0.0472,  0.0424, -0.0769, -0.0755],\n",
            "          [-0.0056, -0.0422, -0.0866,  0.0685,  0.0929]],\n",
            "\n",
            "         [[ 0.0187, -0.0201, -0.1070, -0.0421,  0.0294],\n",
            "          [ 0.0544, -0.0146, -0.0457,  0.0643, -0.0920],\n",
            "          [ 0.0730, -0.0448,  0.0018, -0.0228,  0.0140],\n",
            "          [-0.0349,  0.0840, -0.0030,  0.0901,  0.1110],\n",
            "          [-0.0563, -0.0842,  0.0926,  0.0905, -0.0882]]],\n",
            "\n",
            "\n",
            "        [[[-0.0089, -0.1139, -0.0945,  0.0223,  0.0307],\n",
            "          [ 0.0245, -0.0314,  0.1065,  0.0165, -0.0681],\n",
            "          [-0.0065,  0.0277,  0.0404, -0.0816,  0.0433],\n",
            "          [-0.0590, -0.0959, -0.0631,  0.1114,  0.0987],\n",
            "          [ 0.1034,  0.0678,  0.0872, -0.0155, -0.0635]],\n",
            "\n",
            "         [[ 0.0577, -0.0598, -0.0779, -0.0369,  0.0242],\n",
            "          [ 0.0594, -0.0448, -0.0680,  0.0156, -0.0681],\n",
            "          [-0.0752,  0.0602, -0.0194,  0.1055,  0.1123],\n",
            "          [ 0.0345,  0.0397,  0.0266,  0.0018, -0.0084],\n",
            "          [ 0.0016,  0.0431,  0.1074, -0.0299, -0.0488]],\n",
            "\n",
            "         [[-0.0280, -0.0558,  0.0196,  0.0862,  0.0903],\n",
            "          [ 0.0530, -0.0850, -0.0620, -0.0254, -0.0213],\n",
            "          [ 0.0095, -0.1060,  0.0359, -0.0881, -0.0731],\n",
            "          [-0.0960,  0.1006, -0.1093,  0.0871, -0.0039],\n",
            "          [-0.0134,  0.0722, -0.0107,  0.0724,  0.0835]]],\n",
            "\n",
            "\n",
            "        [[[-0.1003,  0.0444,  0.0218,  0.0248,  0.0169],\n",
            "          [ 0.0316, -0.0555, -0.0148,  0.1097,  0.0776],\n",
            "          [-0.0043, -0.1086,  0.0051, -0.0786,  0.0939],\n",
            "          [-0.0701, -0.0083, -0.0256,  0.0205,  0.1087],\n",
            "          [ 0.0110,  0.0669,  0.0896,  0.0932, -0.0399]],\n",
            "\n",
            "         [[-0.0258,  0.0556, -0.0315,  0.0541, -0.0252],\n",
            "          [-0.0783,  0.0470,  0.0177,  0.0515,  0.1147],\n",
            "          [ 0.0788,  0.1095,  0.0062, -0.0993, -0.0810],\n",
            "          [-0.0717, -0.1018, -0.0579, -0.1063, -0.1065],\n",
            "          [-0.0690, -0.1138, -0.0709,  0.0440,  0.0963]],\n",
            "\n",
            "         [[-0.0343, -0.0336,  0.0617, -0.0570, -0.0546],\n",
            "          [ 0.0711, -0.1006,  0.0141,  0.1020,  0.0198],\n",
            "          [ 0.0314, -0.0672, -0.0016,  0.0063,  0.0283],\n",
            "          [ 0.0449,  0.1003, -0.0881,  0.0035, -0.0577],\n",
            "          [-0.0913, -0.0092, -0.1016,  0.0806,  0.0134]]],\n",
            "\n",
            "\n",
            "        [[[-0.0622,  0.0603, -0.1093, -0.0447, -0.0225],\n",
            "          [-0.0981, -0.0734, -0.0188,  0.0876,  0.1115],\n",
            "          [ 0.0735, -0.0689, -0.0755,  0.1008,  0.0408],\n",
            "          [ 0.0031,  0.0156, -0.0928, -0.0386,  0.1112],\n",
            "          [-0.0285, -0.0058, -0.0959, -0.0646, -0.0024]],\n",
            "\n",
            "         [[-0.0717, -0.0143,  0.0470, -0.1130,  0.0343],\n",
            "          [-0.0763, -0.0564,  0.0443,  0.0918, -0.0316],\n",
            "          [-0.0474, -0.1044, -0.0595, -0.1011, -0.0264],\n",
            "          [ 0.0236, -0.1082,  0.1008,  0.0724, -0.1130],\n",
            "          [-0.0552,  0.0377, -0.0237, -0.0126, -0.0521]],\n",
            "\n",
            "         [[ 0.0927, -0.0645,  0.0958,  0.0075,  0.0232],\n",
            "          [ 0.0901, -0.0190, -0.0657, -0.0187,  0.0937],\n",
            "          [-0.0857,  0.0262, -0.1135,  0.0605,  0.0427],\n",
            "          [ 0.0049,  0.0496,  0.0001,  0.0639, -0.0914],\n",
            "          [-0.0170,  0.0512,  0.1150,  0.0588, -0.0840]]],\n",
            "\n",
            "\n",
            "        [[[ 0.0888, -0.0257, -0.0247, -0.1050, -0.0182],\n",
            "          [ 0.0817,  0.0161, -0.0673,  0.0355, -0.0370],\n",
            "          [ 0.1054, -0.1002, -0.0365, -0.1115, -0.0455],\n",
            "          [ 0.0364,  0.1112,  0.0194,  0.1132,  0.0226],\n",
            "          [ 0.0667,  0.0926,  0.0965, -0.0646,  0.1062]],\n",
            "\n",
            "         [[ 0.0699, -0.0540, -0.0551, -0.0969,  0.0290],\n",
            "          [-0.0936,  0.0488,  0.0365, -0.1003,  0.0315],\n",
            "          [-0.0094,  0.0527,  0.0663, -0.1148,  0.1059],\n",
            "          [ 0.0968,  0.0459, -0.1055, -0.0412, -0.0335],\n",
            "          [-0.0297,  0.0651,  0.0420,  0.0915, -0.0432]],\n",
            "\n",
            "         [[ 0.0389,  0.0411, -0.0961, -0.1120, -0.0599],\n",
            "          [ 0.0790, -0.1087, -0.1005,  0.0647,  0.0623],\n",
            "          [ 0.0950, -0.0872, -0.0845,  0.0592,  0.1004],\n",
            "          [ 0.0691,  0.0181,  0.0381,  0.1096, -0.0745],\n",
            "          [-0.0524,  0.0808, -0.0790, -0.0637,  0.0843]]]])), ('bias', tensor([ 0.0364,  0.0373, -0.0489, -0.0016,  0.1057, -0.0693,  0.0009,  0.0549,\n",
            "        -0.0797,  0.1121]))])\n"
          ]
        }
      ]
    },
    {
      "cell_type": "code",
      "source": [
        "# Get shapes of weight and bias tensors within conv_layer_2\n",
        "print(f\"conv_layer_2 weight shape: \\n{conv_layer_2.weight.shape} -> [out_channels=10, in_channels=3, kernel_size=5, kernel_size=5]\")\n",
        "print(f\"\\nconv_layer_2 bias shape: \\n{conv_layer_2.bias.shape} -> [out_channels=10]\")"
      ],
      "metadata": {
        "colab": {
          "base_uri": "https://localhost:8080/"
        },
        "id": "c0aYee83Rgb9",
        "outputId": "005406c6-3e83-4ca6-c6d1-b8a556a068c6"
      },
      "execution_count": 35,
      "outputs": [
        {
          "output_type": "stream",
          "name": "stdout",
          "text": [
            "conv_layer_2 weight shape: \n",
            "torch.Size([10, 3, 5, 5]) -> [out_channels=10, in_channels=3, kernel_size=5, kernel_size=5]\n",
            "\n",
            "conv_layer_2 bias shape: \n",
            "torch.Size([10]) -> [out_channels=10]\n"
          ]
        }
      ]
    },
    {
      "cell_type": "markdown",
      "source": [
        "\n",
        "**Question:** What should we set the parameters of our nn.Conv2d() layers?\n",
        "\n",
        "That's a good one. But similar to many other things in machine learning, the values of these aren't set in stone (and recall, because these values are ones we can set ourselves, they're referred to as \"hyperparameters\").\n",
        "\n",
        "The best way to find out is to try out different values and see how they effect your model's performance.\n",
        "\n",
        "Or even better, find a working example on a problem (like we've done with TinyVGG) and copy it."
      ],
      "metadata": {
        "id": "NoM6g9CwRm-r"
      }
    },
    {
      "cell_type": "markdown",
      "source": [
        "### 7.2 Stepping through nn.MaxPool2d()"
      ],
      "metadata": {
        "id": "8QlFq5bDRvTJ"
      }
    },
    {
      "cell_type": "code",
      "source": [
        "# Print out original image shape without and with unsqueezed dimension\n",
        "print(f\"Test image original shape: {test_image.shape}\")\n",
        "print(f\"Test image with unsqueezed dimension: {test_image.unsqueeze(dim=0).shape}\")\n",
        "\n",
        "# Create a sample nn.MaxPoo2d() layer\n",
        "max_pool_layer = nn.MaxPool2d(kernel_size=2)\n",
        "\n",
        "# Pass data through just the conv_layer\n",
        "test_image_through_conv = conv_layer(test_image.unsqueeze(dim=0))\n",
        "print(f\"Shape after going through conv_layer(): {test_image_through_conv.shape}\")\n",
        "\n",
        "# Pass data through the max pool layer\n",
        "test_image_through_conv_and_max_pool = max_pool_layer(test_image_through_conv)\n",
        "print(f\"Shape after going through conv_layer() and max_pool_layer(): {test_image_through_conv_and_max_pool.shape}\")"
      ],
      "metadata": {
        "colab": {
          "base_uri": "https://localhost:8080/"
        },
        "id": "YyWIbDdJR7IN",
        "outputId": "5bc3bc54-070c-4c92-925d-3fb0f0d99085"
      },
      "execution_count": 36,
      "outputs": [
        {
          "output_type": "stream",
          "name": "stdout",
          "text": [
            "Test image original shape: torch.Size([3, 64, 64])\n",
            "Test image with unsqueezed dimension: torch.Size([1, 3, 64, 64])\n",
            "Shape after going through conv_layer(): torch.Size([1, 10, 62, 62])\n",
            "Shape after going through conv_layer() and max_pool_layer(): torch.Size([1, 10, 31, 31])\n"
          ]
        }
      ]
    },
    {
      "cell_type": "markdown",
      "source": [
        "\n",
        "Notice the change in the shapes of what's happening in and out of a nn.MaxPool2d() layer.\n",
        "\n",
        "The kernel_size of the nn.MaxPool2d() layer will affect the size of the output shape.\n",
        "\n",
        "In our case, the shape halves from a 62x62 image to 31x31 image.\n",
        "\n",
        "Let's see this work with a smaller tensor."
      ],
      "metadata": {
        "id": "0qxhKky8R9NY"
      }
    },
    {
      "cell_type": "code",
      "source": [
        "torch.manual_seed(42)\n",
        "# Create a random tensor with a similar number of dimensions to our images\n",
        "random_tensor = torch.randn(size=(1, 1, 2, 2))\n",
        "print(f\"Random tensor:\\n{random_tensor}\")\n",
        "print(f\"Random tensor shape: {random_tensor.shape}\")\n",
        "\n",
        "# Create a max pool layer\n",
        "max_pool_layer = nn.MaxPool2d(kernel_size=2) # see what happens when you change the kernel_size value\n",
        "\n",
        "# Pass the random tensor through the max pool layer\n",
        "max_pool_tensor = max_pool_layer(random_tensor)\n",
        "print(f\"\\nMax pool tensor:\\n{max_pool_tensor} <- this is the maximum value from random_tensor\")\n",
        "print(f\"Max pool tensor shape: {max_pool_tensor.shape}\")"
      ],
      "metadata": {
        "colab": {
          "base_uri": "https://localhost:8080/"
        },
        "id": "uU9B1teXSFDF",
        "outputId": "e8a48b24-69cd-419e-f769-cbf4bb082fe6"
      },
      "execution_count": 37,
      "outputs": [
        {
          "output_type": "stream",
          "name": "stdout",
          "text": [
            "Random tensor:\n",
            "tensor([[[[0.3367, 0.1288],\n",
            "          [0.2345, 0.2303]]]])\n",
            "Random tensor shape: torch.Size([1, 1, 2, 2])\n",
            "\n",
            "Max pool tensor:\n",
            "tensor([[[[0.3367]]]]) <- this is the maximum value from random_tensor\n",
            "Max pool tensor shape: torch.Size([1, 1, 1, 1])\n"
          ]
        }
      ]
    },
    {
      "cell_type": "markdown",
      "source": [
        "### 7.3 Setup a loss function and optimizer for `model_2`\n",
        "\n",
        "Let's setup a loss function and an optimizer.\n",
        "\n",
        "We'll use the functions as before, nn.CrossEntropyLoss() as the loss function (since we're working with multi-class classification data).\n",
        "\n",
        "And torch.optim.SGD() as the optimizer to optimize model_2.parameters() with a learning rate of 0.1.\n"
      ],
      "metadata": {
        "id": "ZOBz74jWSGq0"
      }
    },
    {
      "cell_type": "code",
      "source": [
        "# Setup loss and optimizer\n",
        "loss_fn = nn.CrossEntropyLoss()\n",
        "optimizer = torch.optim.SGD(params=model_2.parameters(),\n",
        "                             lr=0.1)"
      ],
      "metadata": {
        "id": "QFn9G8aTSQde"
      },
      "execution_count": 38,
      "outputs": []
    },
    {
      "cell_type": "markdown",
      "source": [
        "### 7.4 Training and testing `model_2` using our training and test functions\n",
        "\n",
        "Loss and optimizer ready!\n",
        "\n",
        "Time to train and test.\n",
        "\n",
        "We'll use our train_step() and test_step() functions we created before.\n",
        "\n",
        "We'll also measure the time to compare it to our other models."
      ],
      "metadata": {
        "id": "XdwrBFGhSXuh"
      }
    },
    {
      "cell_type": "code",
      "source": [
        "torch.manual_seed(42)\n",
        "\n",
        "# Measure time\n",
        "from timeit import default_timer as timer\n",
        "train_time_start_model_2 = timer()\n",
        "\n",
        "# Train and test model\n",
        "epochs = 3\n",
        "for epoch in tqdm(range(epochs)):\n",
        "    print(f\"Epoch: {epoch}\\n---------\")\n",
        "    train_step(data_loader=train_dataloader,\n",
        "        model=model_2,\n",
        "        loss_fn=loss_fn,\n",
        "        optimizer=optimizer,\n",
        "        accuracy_fn=accuracy_fn,\n",
        "        device=device\n",
        "    )\n",
        "    test_step(data_loader=test_dataloader,\n",
        "        model=model_2,\n",
        "        loss_fn=loss_fn,\n",
        "        accuracy_fn=accuracy_fn,\n",
        "        device=device\n",
        "    )\n",
        "\n",
        "train_time_end_model_2 = timer()\n",
        "total_train_time_model_2 = print_train_time(start=train_time_start_model_2,\n",
        "                                           end=train_time_end_model_2,\n",
        "                                           device=device)"
      ],
      "metadata": {
        "colab": {
          "base_uri": "https://localhost:8080/",
          "height": 327,
          "referenced_widgets": [
            "d63b87531fe648c9bfa1739e1f9720e5",
            "bf78353874644d2a9796e481c034fbf5",
            "5f08d49b69824437a58f83696f18db00",
            "af838ca788874cc89f0bbf13ffde0a08",
            "953b1c086e174cb39c268337d4e39a63",
            "c7e8e4dbdd0f4c88bd2b747f4cfae946",
            "e4b48b69e9174f129a0826b8f7029fb0",
            "ae7cbc4734e54c198b2fb0ed7415adc6",
            "70672524f6dc4bdd81cc34e30c03dfd1",
            "eeba2bbdecfd4754ab1581fa939dce1d",
            "b727ce7f142b4e78a2f1a50aea001f79"
          ]
        },
        "id": "xai8lzuMSbu7",
        "outputId": "8ed4deac-4ceb-4749-917e-66ff189fb5a3"
      },
      "execution_count": 39,
      "outputs": [
        {
          "output_type": "display_data",
          "data": {
            "text/plain": [
              "  0%|          | 0/3 [00:00<?, ?it/s]"
            ],
            "application/vnd.jupyter.widget-view+json": {
              "version_major": 2,
              "version_minor": 0,
              "model_id": "d63b87531fe648c9bfa1739e1f9720e5"
            }
          },
          "metadata": {}
        },
        {
          "output_type": "stream",
          "name": "stdout",
          "text": [
            "Epoch: 0\n",
            "---------\n",
            "Train loss: 0.59346 | Train accuracy: 78.41%\n",
            "Test loss: 0.41459 | Test accuracy: 85.54%\n",
            "\n",
            "Epoch: 1\n",
            "---------\n",
            "Train loss: 0.36245 | Train accuracy: 86.99%\n",
            "Test loss: 0.34635 | Test accuracy: 87.16%\n",
            "\n",
            "Epoch: 2\n",
            "---------\n",
            "Train loss: 0.32230 | Train accuracy: 88.32%\n",
            "Test loss: 0.33764 | Test accuracy: 87.92%\n",
            "\n",
            "Train time on cuda: 41.682 seconds\n"
          ]
        }
      ]
    },
    {
      "cell_type": "markdown",
      "source": [
        "Woah! Looks like the convolutional and max pooling layers helped improve performance a little.\n",
        "\n",
        "Let's evaluate model_2's results with our eval_model() function.\n"
      ],
      "metadata": {
        "id": "o2iMPj3NSjv8"
      }
    },
    {
      "cell_type": "code",
      "source": [
        "# Get model_2 results\n",
        "model_2_results = eval_model(\n",
        "    model=model_2,\n",
        "    data_loader=test_dataloader,\n",
        "    loss_fn=loss_fn,\n",
        "    accuracy_fn=accuracy_fn\n",
        ")\n",
        "model_2_results"
      ],
      "metadata": {
        "colab": {
          "base_uri": "https://localhost:8080/"
        },
        "id": "22UvmmcFTej7",
        "outputId": "a6e3107f-1fdc-425e-dcf7-7f4ddaf96411"
      },
      "execution_count": 40,
      "outputs": [
        {
          "output_type": "execute_result",
          "data": {
            "text/plain": [
              "{'model_name': 'FashionMNISTModelV2',\n",
              " 'model_loss': 0.3376440405845642,\n",
              " 'model_acc': 87.91932907348243}"
            ]
          },
          "metadata": {},
          "execution_count": 40
        }
      ]
    },
    {
      "cell_type": "markdown",
      "source": [
        "## 8. Compare model results and training time"
      ],
      "metadata": {
        "id": "1SDrJIKNThDg"
      }
    },
    {
      "cell_type": "markdown",
      "source": [
        "We've trained three different models.\n",
        "\n",
        "  1. `model_0` - our baseline model with two `nn.Linear()` layers.\n",
        "  2. `model_1` - the same setup as our baseline model except with `nn.ReLU()` layers in between the `nn.Linear()` layers.\n",
        "  3. `model_2` - our first CNN model that mimics the `TinyVGG architecture` on the CNN Explainer website.\n",
        "\n",
        "This is a regular practice in machine learning.\n",
        "\n",
        "Building multiple models and performing multiple training experiments to see which performs best.\n",
        "\n",
        "Let's combine our model results dictionaries into a DataFrame and find out.\n",
        "\n"
      ],
      "metadata": {
        "id": "Cjzc-YYNTl52"
      }
    },
    {
      "cell_type": "code",
      "source": [
        "import pandas as pd\n",
        "compare_results = pd.DataFrame([model_0_results, model_1_results, model_2_results])\n",
        "compare_results"
      ],
      "metadata": {
        "colab": {
          "base_uri": "https://localhost:8080/",
          "height": 144
        },
        "id": "Z31Tj3UYTq1f",
        "outputId": "cccc3fe5-c5b0-4155-f116-b97cd09e0182"
      },
      "execution_count": 41,
      "outputs": [
        {
          "output_type": "execute_result",
          "data": {
            "text/plain": [
              "            model_name  model_loss  model_acc\n",
              "0  FashionMNISTModelV0    0.476639  83.426518\n",
              "1  FashionMNISTModelV1    0.685001  75.019968\n",
              "2  FashionMNISTModelV2    0.337644  87.919329"
            ],
            "text/html": [
              "\n",
              "  <div id=\"df-4c0a37e6-004b-4516-850f-72d81a9a5358\" class=\"colab-df-container\">\n",
              "    <div>\n",
              "<style scoped>\n",
              "    .dataframe tbody tr th:only-of-type {\n",
              "        vertical-align: middle;\n",
              "    }\n",
              "\n",
              "    .dataframe tbody tr th {\n",
              "        vertical-align: top;\n",
              "    }\n",
              "\n",
              "    .dataframe thead th {\n",
              "        text-align: right;\n",
              "    }\n",
              "</style>\n",
              "<table border=\"1\" class=\"dataframe\">\n",
              "  <thead>\n",
              "    <tr style=\"text-align: right;\">\n",
              "      <th></th>\n",
              "      <th>model_name</th>\n",
              "      <th>model_loss</th>\n",
              "      <th>model_acc</th>\n",
              "    </tr>\n",
              "  </thead>\n",
              "  <tbody>\n",
              "    <tr>\n",
              "      <th>0</th>\n",
              "      <td>FashionMNISTModelV0</td>\n",
              "      <td>0.476639</td>\n",
              "      <td>83.426518</td>\n",
              "    </tr>\n",
              "    <tr>\n",
              "      <th>1</th>\n",
              "      <td>FashionMNISTModelV1</td>\n",
              "      <td>0.685001</td>\n",
              "      <td>75.019968</td>\n",
              "    </tr>\n",
              "    <tr>\n",
              "      <th>2</th>\n",
              "      <td>FashionMNISTModelV2</td>\n",
              "      <td>0.337644</td>\n",
              "      <td>87.919329</td>\n",
              "    </tr>\n",
              "  </tbody>\n",
              "</table>\n",
              "</div>\n",
              "    <div class=\"colab-df-buttons\">\n",
              "\n",
              "  <div class=\"colab-df-container\">\n",
              "    <button class=\"colab-df-convert\" onclick=\"convertToInteractive('df-4c0a37e6-004b-4516-850f-72d81a9a5358')\"\n",
              "            title=\"Convert this dataframe to an interactive table.\"\n",
              "            style=\"display:none;\">\n",
              "\n",
              "  <svg xmlns=\"http://www.w3.org/2000/svg\" height=\"24px\" viewBox=\"0 -960 960 960\">\n",
              "    <path d=\"M120-120v-720h720v720H120Zm60-500h600v-160H180v160Zm220 220h160v-160H400v160Zm0 220h160v-160H400v160ZM180-400h160v-160H180v160Zm440 0h160v-160H620v160ZM180-180h160v-160H180v160Zm440 0h160v-160H620v160Z\"/>\n",
              "  </svg>\n",
              "    </button>\n",
              "\n",
              "  <style>\n",
              "    .colab-df-container {\n",
              "      display:flex;\n",
              "      gap: 12px;\n",
              "    }\n",
              "\n",
              "    .colab-df-convert {\n",
              "      background-color: #E8F0FE;\n",
              "      border: none;\n",
              "      border-radius: 50%;\n",
              "      cursor: pointer;\n",
              "      display: none;\n",
              "      fill: #1967D2;\n",
              "      height: 32px;\n",
              "      padding: 0 0 0 0;\n",
              "      width: 32px;\n",
              "    }\n",
              "\n",
              "    .colab-df-convert:hover {\n",
              "      background-color: #E2EBFA;\n",
              "      box-shadow: 0px 1px 2px rgba(60, 64, 67, 0.3), 0px 1px 3px 1px rgba(60, 64, 67, 0.15);\n",
              "      fill: #174EA6;\n",
              "    }\n",
              "\n",
              "    .colab-df-buttons div {\n",
              "      margin-bottom: 4px;\n",
              "    }\n",
              "\n",
              "    [theme=dark] .colab-df-convert {\n",
              "      background-color: #3B4455;\n",
              "      fill: #D2E3FC;\n",
              "    }\n",
              "\n",
              "    [theme=dark] .colab-df-convert:hover {\n",
              "      background-color: #434B5C;\n",
              "      box-shadow: 0px 1px 3px 1px rgba(0, 0, 0, 0.15);\n",
              "      filter: drop-shadow(0px 1px 2px rgba(0, 0, 0, 0.3));\n",
              "      fill: #FFFFFF;\n",
              "    }\n",
              "  </style>\n",
              "\n",
              "    <script>\n",
              "      const buttonEl =\n",
              "        document.querySelector('#df-4c0a37e6-004b-4516-850f-72d81a9a5358 button.colab-df-convert');\n",
              "      buttonEl.style.display =\n",
              "        google.colab.kernel.accessAllowed ? 'block' : 'none';\n",
              "\n",
              "      async function convertToInteractive(key) {\n",
              "        const element = document.querySelector('#df-4c0a37e6-004b-4516-850f-72d81a9a5358');\n",
              "        const dataTable =\n",
              "          await google.colab.kernel.invokeFunction('convertToInteractive',\n",
              "                                                    [key], {});\n",
              "        if (!dataTable) return;\n",
              "\n",
              "        const docLinkHtml = 'Like what you see? Visit the ' +\n",
              "          '<a target=\"_blank\" href=https://colab.research.google.com/notebooks/data_table.ipynb>data table notebook</a>'\n",
              "          + ' to learn more about interactive tables.';\n",
              "        element.innerHTML = '';\n",
              "        dataTable['output_type'] = 'display_data';\n",
              "        await google.colab.output.renderOutput(dataTable, element);\n",
              "        const docLink = document.createElement('div');\n",
              "        docLink.innerHTML = docLinkHtml;\n",
              "        element.appendChild(docLink);\n",
              "      }\n",
              "    </script>\n",
              "  </div>\n",
              "\n",
              "\n",
              "    <div id=\"df-78756804-4a10-4aa5-b666-209ed38728f1\">\n",
              "      <button class=\"colab-df-quickchart\" onclick=\"quickchart('df-78756804-4a10-4aa5-b666-209ed38728f1')\"\n",
              "                title=\"Suggest charts\"\n",
              "                style=\"display:none;\">\n",
              "\n",
              "<svg xmlns=\"http://www.w3.org/2000/svg\" height=\"24px\"viewBox=\"0 0 24 24\"\n",
              "     width=\"24px\">\n",
              "    <g>\n",
              "        <path d=\"M19 3H5c-1.1 0-2 .9-2 2v14c0 1.1.9 2 2 2h14c1.1 0 2-.9 2-2V5c0-1.1-.9-2-2-2zM9 17H7v-7h2v7zm4 0h-2V7h2v10zm4 0h-2v-4h2v4z\"/>\n",
              "    </g>\n",
              "</svg>\n",
              "      </button>\n",
              "\n",
              "<style>\n",
              "  .colab-df-quickchart {\n",
              "      --bg-color: #E8F0FE;\n",
              "      --fill-color: #1967D2;\n",
              "      --hover-bg-color: #E2EBFA;\n",
              "      --hover-fill-color: #174EA6;\n",
              "      --disabled-fill-color: #AAA;\n",
              "      --disabled-bg-color: #DDD;\n",
              "  }\n",
              "\n",
              "  [theme=dark] .colab-df-quickchart {\n",
              "      --bg-color: #3B4455;\n",
              "      --fill-color: #D2E3FC;\n",
              "      --hover-bg-color: #434B5C;\n",
              "      --hover-fill-color: #FFFFFF;\n",
              "      --disabled-bg-color: #3B4455;\n",
              "      --disabled-fill-color: #666;\n",
              "  }\n",
              "\n",
              "  .colab-df-quickchart {\n",
              "    background-color: var(--bg-color);\n",
              "    border: none;\n",
              "    border-radius: 50%;\n",
              "    cursor: pointer;\n",
              "    display: none;\n",
              "    fill: var(--fill-color);\n",
              "    height: 32px;\n",
              "    padding: 0;\n",
              "    width: 32px;\n",
              "  }\n",
              "\n",
              "  .colab-df-quickchart:hover {\n",
              "    background-color: var(--hover-bg-color);\n",
              "    box-shadow: 0 1px 2px rgba(60, 64, 67, 0.3), 0 1px 3px 1px rgba(60, 64, 67, 0.15);\n",
              "    fill: var(--button-hover-fill-color);\n",
              "  }\n",
              "\n",
              "  .colab-df-quickchart-complete:disabled,\n",
              "  .colab-df-quickchart-complete:disabled:hover {\n",
              "    background-color: var(--disabled-bg-color);\n",
              "    fill: var(--disabled-fill-color);\n",
              "    box-shadow: none;\n",
              "  }\n",
              "\n",
              "  .colab-df-spinner {\n",
              "    border: 2px solid var(--fill-color);\n",
              "    border-color: transparent;\n",
              "    border-bottom-color: var(--fill-color);\n",
              "    animation:\n",
              "      spin 1s steps(1) infinite;\n",
              "  }\n",
              "\n",
              "  @keyframes spin {\n",
              "    0% {\n",
              "      border-color: transparent;\n",
              "      border-bottom-color: var(--fill-color);\n",
              "      border-left-color: var(--fill-color);\n",
              "    }\n",
              "    20% {\n",
              "      border-color: transparent;\n",
              "      border-left-color: var(--fill-color);\n",
              "      border-top-color: var(--fill-color);\n",
              "    }\n",
              "    30% {\n",
              "      border-color: transparent;\n",
              "      border-left-color: var(--fill-color);\n",
              "      border-top-color: var(--fill-color);\n",
              "      border-right-color: var(--fill-color);\n",
              "    }\n",
              "    40% {\n",
              "      border-color: transparent;\n",
              "      border-right-color: var(--fill-color);\n",
              "      border-top-color: var(--fill-color);\n",
              "    }\n",
              "    60% {\n",
              "      border-color: transparent;\n",
              "      border-right-color: var(--fill-color);\n",
              "    }\n",
              "    80% {\n",
              "      border-color: transparent;\n",
              "      border-right-color: var(--fill-color);\n",
              "      border-bottom-color: var(--fill-color);\n",
              "    }\n",
              "    90% {\n",
              "      border-color: transparent;\n",
              "      border-bottom-color: var(--fill-color);\n",
              "    }\n",
              "  }\n",
              "</style>\n",
              "\n",
              "      <script>\n",
              "        async function quickchart(key) {\n",
              "          const quickchartButtonEl =\n",
              "            document.querySelector('#' + key + ' button');\n",
              "          quickchartButtonEl.disabled = true;  // To prevent multiple clicks.\n",
              "          quickchartButtonEl.classList.add('colab-df-spinner');\n",
              "          try {\n",
              "            const charts = await google.colab.kernel.invokeFunction(\n",
              "                'suggestCharts', [key], {});\n",
              "          } catch (error) {\n",
              "            console.error('Error during call to suggestCharts:', error);\n",
              "          }\n",
              "          quickchartButtonEl.classList.remove('colab-df-spinner');\n",
              "          quickchartButtonEl.classList.add('colab-df-quickchart-complete');\n",
              "        }\n",
              "        (() => {\n",
              "          let quickchartButtonEl =\n",
              "            document.querySelector('#df-78756804-4a10-4aa5-b666-209ed38728f1 button');\n",
              "          quickchartButtonEl.style.display =\n",
              "            google.colab.kernel.accessAllowed ? 'block' : 'none';\n",
              "        })();\n",
              "      </script>\n",
              "    </div>\n",
              "\n",
              "  <div id=\"id_fbf0261f-0a21-4d83-9094-8c85ae13c2e3\">\n",
              "    <style>\n",
              "      .colab-df-generate {\n",
              "        background-color: #E8F0FE;\n",
              "        border: none;\n",
              "        border-radius: 50%;\n",
              "        cursor: pointer;\n",
              "        display: none;\n",
              "        fill: #1967D2;\n",
              "        height: 32px;\n",
              "        padding: 0 0 0 0;\n",
              "        width: 32px;\n",
              "      }\n",
              "\n",
              "      .colab-df-generate:hover {\n",
              "        background-color: #E2EBFA;\n",
              "        box-shadow: 0px 1px 2px rgba(60, 64, 67, 0.3), 0px 1px 3px 1px rgba(60, 64, 67, 0.15);\n",
              "        fill: #174EA6;\n",
              "      }\n",
              "\n",
              "      [theme=dark] .colab-df-generate {\n",
              "        background-color: #3B4455;\n",
              "        fill: #D2E3FC;\n",
              "      }\n",
              "\n",
              "      [theme=dark] .colab-df-generate:hover {\n",
              "        background-color: #434B5C;\n",
              "        box-shadow: 0px 1px 3px 1px rgba(0, 0, 0, 0.15);\n",
              "        filter: drop-shadow(0px 1px 2px rgba(0, 0, 0, 0.3));\n",
              "        fill: #FFFFFF;\n",
              "      }\n",
              "    </style>\n",
              "    <button class=\"colab-df-generate\" onclick=\"generateWithVariable('compare_results')\"\n",
              "            title=\"Generate code using this dataframe.\"\n",
              "            style=\"display:none;\">\n",
              "\n",
              "  <svg xmlns=\"http://www.w3.org/2000/svg\" height=\"24px\"viewBox=\"0 0 24 24\"\n",
              "       width=\"24px\">\n",
              "    <path d=\"M7,19H8.4L18.45,9,17,7.55,7,17.6ZM5,21V16.75L18.45,3.32a2,2,0,0,1,2.83,0l1.4,1.43a1.91,1.91,0,0,1,.58,1.4,1.91,1.91,0,0,1-.58,1.4L9.25,21ZM18.45,9,17,7.55Zm-12,3A5.31,5.31,0,0,0,4.9,8.1,5.31,5.31,0,0,0,1,6.5,5.31,5.31,0,0,0,4.9,4.9,5.31,5.31,0,0,0,6.5,1,5.31,5.31,0,0,0,8.1,4.9,5.31,5.31,0,0,0,12,6.5,5.46,5.46,0,0,0,6.5,12Z\"/>\n",
              "  </svg>\n",
              "    </button>\n",
              "    <script>\n",
              "      (() => {\n",
              "      const buttonEl =\n",
              "        document.querySelector('#id_fbf0261f-0a21-4d83-9094-8c85ae13c2e3 button.colab-df-generate');\n",
              "      buttonEl.style.display =\n",
              "        google.colab.kernel.accessAllowed ? 'block' : 'none';\n",
              "\n",
              "      buttonEl.onclick = () => {\n",
              "        google.colab.notebook.generateWithVariable('compare_results');\n",
              "      }\n",
              "      })();\n",
              "    </script>\n",
              "  </div>\n",
              "\n",
              "    </div>\n",
              "  </div>\n"
            ],
            "application/vnd.google.colaboratory.intrinsic+json": {
              "type": "dataframe",
              "variable_name": "compare_results",
              "summary": "{\n  \"name\": \"compare_results\",\n  \"rows\": 3,\n  \"fields\": [\n    {\n      \"column\": \"model_name\",\n      \"properties\": {\n        \"dtype\": \"string\",\n        \"num_unique_values\": 3,\n        \"samples\": [\n          \"FashionMNISTModelV0\",\n          \"FashionMNISTModelV1\",\n          \"FashionMNISTModelV2\"\n        ],\n        \"semantic_type\": \"\",\n        \"description\": \"\"\n      }\n    },\n    {\n      \"column\": \"model_loss\",\n      \"properties\": {\n        \"dtype\": \"number\",\n        \"std\": 0.17482899829545867,\n        \"min\": 0.3376440405845642,\n        \"max\": 0.6850008964538574,\n        \"num_unique_values\": 3,\n        \"samples\": [\n          0.47663894295692444,\n          0.6850008964538574,\n          0.3376440405845642\n        ],\n        \"semantic_type\": \"\",\n        \"description\": \"\"\n      }\n    },\n    {\n      \"column\": \"model_acc\",\n      \"properties\": {\n        \"dtype\": \"number\",\n        \"std\": 6.547886997844923,\n        \"min\": 75.01996805111821,\n        \"max\": 87.91932907348243,\n        \"num_unique_values\": 3,\n        \"samples\": [\n          83.42651757188499,\n          75.01996805111821,\n          87.91932907348243\n        ],\n        \"semantic_type\": \"\",\n        \"description\": \"\"\n      }\n    }\n  ]\n}"
            }
          },
          "metadata": {},
          "execution_count": 41
        }
      ]
    },
    {
      "cell_type": "code",
      "source": [
        "# Add training times to results comparison\n",
        "compare_results[\"training_time\"] = [total_train_time_model_0,\n",
        "                                    total_train_time_model_1,\n",
        "                                    total_train_time_model_2]\n",
        "compare_results"
      ],
      "metadata": {
        "colab": {
          "base_uri": "https://localhost:8080/",
          "height": 144
        },
        "id": "PxCKoHvbT6Ms",
        "outputId": "6586c36c-77a3-4dd4-98a2-c755aa772389"
      },
      "execution_count": 42,
      "outputs": [
        {
          "output_type": "execute_result",
          "data": {
            "text/plain": [
              "            model_name  model_loss  model_acc  training_time\n",
              "0  FashionMNISTModelV0    0.476639  83.426518      31.322583\n",
              "1  FashionMNISTModelV1    0.685001  75.019968      33.035549\n",
              "2  FashionMNISTModelV2    0.337644  87.919329      41.681790"
            ],
            "text/html": [
              "\n",
              "  <div id=\"df-103acb6c-fdb2-49b1-9306-6e4ea21e65c0\" class=\"colab-df-container\">\n",
              "    <div>\n",
              "<style scoped>\n",
              "    .dataframe tbody tr th:only-of-type {\n",
              "        vertical-align: middle;\n",
              "    }\n",
              "\n",
              "    .dataframe tbody tr th {\n",
              "        vertical-align: top;\n",
              "    }\n",
              "\n",
              "    .dataframe thead th {\n",
              "        text-align: right;\n",
              "    }\n",
              "</style>\n",
              "<table border=\"1\" class=\"dataframe\">\n",
              "  <thead>\n",
              "    <tr style=\"text-align: right;\">\n",
              "      <th></th>\n",
              "      <th>model_name</th>\n",
              "      <th>model_loss</th>\n",
              "      <th>model_acc</th>\n",
              "      <th>training_time</th>\n",
              "    </tr>\n",
              "  </thead>\n",
              "  <tbody>\n",
              "    <tr>\n",
              "      <th>0</th>\n",
              "      <td>FashionMNISTModelV0</td>\n",
              "      <td>0.476639</td>\n",
              "      <td>83.426518</td>\n",
              "      <td>31.322583</td>\n",
              "    </tr>\n",
              "    <tr>\n",
              "      <th>1</th>\n",
              "      <td>FashionMNISTModelV1</td>\n",
              "      <td>0.685001</td>\n",
              "      <td>75.019968</td>\n",
              "      <td>33.035549</td>\n",
              "    </tr>\n",
              "    <tr>\n",
              "      <th>2</th>\n",
              "      <td>FashionMNISTModelV2</td>\n",
              "      <td>0.337644</td>\n",
              "      <td>87.919329</td>\n",
              "      <td>41.681790</td>\n",
              "    </tr>\n",
              "  </tbody>\n",
              "</table>\n",
              "</div>\n",
              "    <div class=\"colab-df-buttons\">\n",
              "\n",
              "  <div class=\"colab-df-container\">\n",
              "    <button class=\"colab-df-convert\" onclick=\"convertToInteractive('df-103acb6c-fdb2-49b1-9306-6e4ea21e65c0')\"\n",
              "            title=\"Convert this dataframe to an interactive table.\"\n",
              "            style=\"display:none;\">\n",
              "\n",
              "  <svg xmlns=\"http://www.w3.org/2000/svg\" height=\"24px\" viewBox=\"0 -960 960 960\">\n",
              "    <path d=\"M120-120v-720h720v720H120Zm60-500h600v-160H180v160Zm220 220h160v-160H400v160Zm0 220h160v-160H400v160ZM180-400h160v-160H180v160Zm440 0h160v-160H620v160ZM180-180h160v-160H180v160Zm440 0h160v-160H620v160Z\"/>\n",
              "  </svg>\n",
              "    </button>\n",
              "\n",
              "  <style>\n",
              "    .colab-df-container {\n",
              "      display:flex;\n",
              "      gap: 12px;\n",
              "    }\n",
              "\n",
              "    .colab-df-convert {\n",
              "      background-color: #E8F0FE;\n",
              "      border: none;\n",
              "      border-radius: 50%;\n",
              "      cursor: pointer;\n",
              "      display: none;\n",
              "      fill: #1967D2;\n",
              "      height: 32px;\n",
              "      padding: 0 0 0 0;\n",
              "      width: 32px;\n",
              "    }\n",
              "\n",
              "    .colab-df-convert:hover {\n",
              "      background-color: #E2EBFA;\n",
              "      box-shadow: 0px 1px 2px rgba(60, 64, 67, 0.3), 0px 1px 3px 1px rgba(60, 64, 67, 0.15);\n",
              "      fill: #174EA6;\n",
              "    }\n",
              "\n",
              "    .colab-df-buttons div {\n",
              "      margin-bottom: 4px;\n",
              "    }\n",
              "\n",
              "    [theme=dark] .colab-df-convert {\n",
              "      background-color: #3B4455;\n",
              "      fill: #D2E3FC;\n",
              "    }\n",
              "\n",
              "    [theme=dark] .colab-df-convert:hover {\n",
              "      background-color: #434B5C;\n",
              "      box-shadow: 0px 1px 3px 1px rgba(0, 0, 0, 0.15);\n",
              "      filter: drop-shadow(0px 1px 2px rgba(0, 0, 0, 0.3));\n",
              "      fill: #FFFFFF;\n",
              "    }\n",
              "  </style>\n",
              "\n",
              "    <script>\n",
              "      const buttonEl =\n",
              "        document.querySelector('#df-103acb6c-fdb2-49b1-9306-6e4ea21e65c0 button.colab-df-convert');\n",
              "      buttonEl.style.display =\n",
              "        google.colab.kernel.accessAllowed ? 'block' : 'none';\n",
              "\n",
              "      async function convertToInteractive(key) {\n",
              "        const element = document.querySelector('#df-103acb6c-fdb2-49b1-9306-6e4ea21e65c0');\n",
              "        const dataTable =\n",
              "          await google.colab.kernel.invokeFunction('convertToInteractive',\n",
              "                                                    [key], {});\n",
              "        if (!dataTable) return;\n",
              "\n",
              "        const docLinkHtml = 'Like what you see? Visit the ' +\n",
              "          '<a target=\"_blank\" href=https://colab.research.google.com/notebooks/data_table.ipynb>data table notebook</a>'\n",
              "          + ' to learn more about interactive tables.';\n",
              "        element.innerHTML = '';\n",
              "        dataTable['output_type'] = 'display_data';\n",
              "        await google.colab.output.renderOutput(dataTable, element);\n",
              "        const docLink = document.createElement('div');\n",
              "        docLink.innerHTML = docLinkHtml;\n",
              "        element.appendChild(docLink);\n",
              "      }\n",
              "    </script>\n",
              "  </div>\n",
              "\n",
              "\n",
              "    <div id=\"df-d4b83224-f46e-4a95-96b9-b3f8dbd8ad48\">\n",
              "      <button class=\"colab-df-quickchart\" onclick=\"quickchart('df-d4b83224-f46e-4a95-96b9-b3f8dbd8ad48')\"\n",
              "                title=\"Suggest charts\"\n",
              "                style=\"display:none;\">\n",
              "\n",
              "<svg xmlns=\"http://www.w3.org/2000/svg\" height=\"24px\"viewBox=\"0 0 24 24\"\n",
              "     width=\"24px\">\n",
              "    <g>\n",
              "        <path d=\"M19 3H5c-1.1 0-2 .9-2 2v14c0 1.1.9 2 2 2h14c1.1 0 2-.9 2-2V5c0-1.1-.9-2-2-2zM9 17H7v-7h2v7zm4 0h-2V7h2v10zm4 0h-2v-4h2v4z\"/>\n",
              "    </g>\n",
              "</svg>\n",
              "      </button>\n",
              "\n",
              "<style>\n",
              "  .colab-df-quickchart {\n",
              "      --bg-color: #E8F0FE;\n",
              "      --fill-color: #1967D2;\n",
              "      --hover-bg-color: #E2EBFA;\n",
              "      --hover-fill-color: #174EA6;\n",
              "      --disabled-fill-color: #AAA;\n",
              "      --disabled-bg-color: #DDD;\n",
              "  }\n",
              "\n",
              "  [theme=dark] .colab-df-quickchart {\n",
              "      --bg-color: #3B4455;\n",
              "      --fill-color: #D2E3FC;\n",
              "      --hover-bg-color: #434B5C;\n",
              "      --hover-fill-color: #FFFFFF;\n",
              "      --disabled-bg-color: #3B4455;\n",
              "      --disabled-fill-color: #666;\n",
              "  }\n",
              "\n",
              "  .colab-df-quickchart {\n",
              "    background-color: var(--bg-color);\n",
              "    border: none;\n",
              "    border-radius: 50%;\n",
              "    cursor: pointer;\n",
              "    display: none;\n",
              "    fill: var(--fill-color);\n",
              "    height: 32px;\n",
              "    padding: 0;\n",
              "    width: 32px;\n",
              "  }\n",
              "\n",
              "  .colab-df-quickchart:hover {\n",
              "    background-color: var(--hover-bg-color);\n",
              "    box-shadow: 0 1px 2px rgba(60, 64, 67, 0.3), 0 1px 3px 1px rgba(60, 64, 67, 0.15);\n",
              "    fill: var(--button-hover-fill-color);\n",
              "  }\n",
              "\n",
              "  .colab-df-quickchart-complete:disabled,\n",
              "  .colab-df-quickchart-complete:disabled:hover {\n",
              "    background-color: var(--disabled-bg-color);\n",
              "    fill: var(--disabled-fill-color);\n",
              "    box-shadow: none;\n",
              "  }\n",
              "\n",
              "  .colab-df-spinner {\n",
              "    border: 2px solid var(--fill-color);\n",
              "    border-color: transparent;\n",
              "    border-bottom-color: var(--fill-color);\n",
              "    animation:\n",
              "      spin 1s steps(1) infinite;\n",
              "  }\n",
              "\n",
              "  @keyframes spin {\n",
              "    0% {\n",
              "      border-color: transparent;\n",
              "      border-bottom-color: var(--fill-color);\n",
              "      border-left-color: var(--fill-color);\n",
              "    }\n",
              "    20% {\n",
              "      border-color: transparent;\n",
              "      border-left-color: var(--fill-color);\n",
              "      border-top-color: var(--fill-color);\n",
              "    }\n",
              "    30% {\n",
              "      border-color: transparent;\n",
              "      border-left-color: var(--fill-color);\n",
              "      border-top-color: var(--fill-color);\n",
              "      border-right-color: var(--fill-color);\n",
              "    }\n",
              "    40% {\n",
              "      border-color: transparent;\n",
              "      border-right-color: var(--fill-color);\n",
              "      border-top-color: var(--fill-color);\n",
              "    }\n",
              "    60% {\n",
              "      border-color: transparent;\n",
              "      border-right-color: var(--fill-color);\n",
              "    }\n",
              "    80% {\n",
              "      border-color: transparent;\n",
              "      border-right-color: var(--fill-color);\n",
              "      border-bottom-color: var(--fill-color);\n",
              "    }\n",
              "    90% {\n",
              "      border-color: transparent;\n",
              "      border-bottom-color: var(--fill-color);\n",
              "    }\n",
              "  }\n",
              "</style>\n",
              "\n",
              "      <script>\n",
              "        async function quickchart(key) {\n",
              "          const quickchartButtonEl =\n",
              "            document.querySelector('#' + key + ' button');\n",
              "          quickchartButtonEl.disabled = true;  // To prevent multiple clicks.\n",
              "          quickchartButtonEl.classList.add('colab-df-spinner');\n",
              "          try {\n",
              "            const charts = await google.colab.kernel.invokeFunction(\n",
              "                'suggestCharts', [key], {});\n",
              "          } catch (error) {\n",
              "            console.error('Error during call to suggestCharts:', error);\n",
              "          }\n",
              "          quickchartButtonEl.classList.remove('colab-df-spinner');\n",
              "          quickchartButtonEl.classList.add('colab-df-quickchart-complete');\n",
              "        }\n",
              "        (() => {\n",
              "          let quickchartButtonEl =\n",
              "            document.querySelector('#df-d4b83224-f46e-4a95-96b9-b3f8dbd8ad48 button');\n",
              "          quickchartButtonEl.style.display =\n",
              "            google.colab.kernel.accessAllowed ? 'block' : 'none';\n",
              "        })();\n",
              "      </script>\n",
              "    </div>\n",
              "\n",
              "  <div id=\"id_6d4f7089-f7e1-4e3c-8152-5fc621da6d53\">\n",
              "    <style>\n",
              "      .colab-df-generate {\n",
              "        background-color: #E8F0FE;\n",
              "        border: none;\n",
              "        border-radius: 50%;\n",
              "        cursor: pointer;\n",
              "        display: none;\n",
              "        fill: #1967D2;\n",
              "        height: 32px;\n",
              "        padding: 0 0 0 0;\n",
              "        width: 32px;\n",
              "      }\n",
              "\n",
              "      .colab-df-generate:hover {\n",
              "        background-color: #E2EBFA;\n",
              "        box-shadow: 0px 1px 2px rgba(60, 64, 67, 0.3), 0px 1px 3px 1px rgba(60, 64, 67, 0.15);\n",
              "        fill: #174EA6;\n",
              "      }\n",
              "\n",
              "      [theme=dark] .colab-df-generate {\n",
              "        background-color: #3B4455;\n",
              "        fill: #D2E3FC;\n",
              "      }\n",
              "\n",
              "      [theme=dark] .colab-df-generate:hover {\n",
              "        background-color: #434B5C;\n",
              "        box-shadow: 0px 1px 3px 1px rgba(0, 0, 0, 0.15);\n",
              "        filter: drop-shadow(0px 1px 2px rgba(0, 0, 0, 0.3));\n",
              "        fill: #FFFFFF;\n",
              "      }\n",
              "    </style>\n",
              "    <button class=\"colab-df-generate\" onclick=\"generateWithVariable('compare_results')\"\n",
              "            title=\"Generate code using this dataframe.\"\n",
              "            style=\"display:none;\">\n",
              "\n",
              "  <svg xmlns=\"http://www.w3.org/2000/svg\" height=\"24px\"viewBox=\"0 0 24 24\"\n",
              "       width=\"24px\">\n",
              "    <path d=\"M7,19H8.4L18.45,9,17,7.55,7,17.6ZM5,21V16.75L18.45,3.32a2,2,0,0,1,2.83,0l1.4,1.43a1.91,1.91,0,0,1,.58,1.4,1.91,1.91,0,0,1-.58,1.4L9.25,21ZM18.45,9,17,7.55Zm-12,3A5.31,5.31,0,0,0,4.9,8.1,5.31,5.31,0,0,0,1,6.5,5.31,5.31,0,0,0,4.9,4.9,5.31,5.31,0,0,0,6.5,1,5.31,5.31,0,0,0,8.1,4.9,5.31,5.31,0,0,0,12,6.5,5.46,5.46,0,0,0,6.5,12Z\"/>\n",
              "  </svg>\n",
              "    </button>\n",
              "    <script>\n",
              "      (() => {\n",
              "      const buttonEl =\n",
              "        document.querySelector('#id_6d4f7089-f7e1-4e3c-8152-5fc621da6d53 button.colab-df-generate');\n",
              "      buttonEl.style.display =\n",
              "        google.colab.kernel.accessAllowed ? 'block' : 'none';\n",
              "\n",
              "      buttonEl.onclick = () => {\n",
              "        google.colab.notebook.generateWithVariable('compare_results');\n",
              "      }\n",
              "      })();\n",
              "    </script>\n",
              "  </div>\n",
              "\n",
              "    </div>\n",
              "  </div>\n"
            ],
            "application/vnd.google.colaboratory.intrinsic+json": {
              "type": "dataframe",
              "variable_name": "compare_results",
              "summary": "{\n  \"name\": \"compare_results\",\n  \"rows\": 3,\n  \"fields\": [\n    {\n      \"column\": \"model_name\",\n      \"properties\": {\n        \"dtype\": \"string\",\n        \"num_unique_values\": 3,\n        \"samples\": [\n          \"FashionMNISTModelV0\",\n          \"FashionMNISTModelV1\",\n          \"FashionMNISTModelV2\"\n        ],\n        \"semantic_type\": \"\",\n        \"description\": \"\"\n      }\n    },\n    {\n      \"column\": \"model_loss\",\n      \"properties\": {\n        \"dtype\": \"number\",\n        \"std\": 0.17482899829545867,\n        \"min\": 0.3376440405845642,\n        \"max\": 0.6850008964538574,\n        \"num_unique_values\": 3,\n        \"samples\": [\n          0.47663894295692444,\n          0.6850008964538574,\n          0.3376440405845642\n        ],\n        \"semantic_type\": \"\",\n        \"description\": \"\"\n      }\n    },\n    {\n      \"column\": \"model_acc\",\n      \"properties\": {\n        \"dtype\": \"number\",\n        \"std\": 6.547886997844923,\n        \"min\": 75.01996805111821,\n        \"max\": 87.91932907348243,\n        \"num_unique_values\": 3,\n        \"samples\": [\n          83.42651757188499,\n          75.01996805111821,\n          87.91932907348243\n        ],\n        \"semantic_type\": \"\",\n        \"description\": \"\"\n      }\n    },\n    {\n      \"column\": \"training_time\",\n      \"properties\": {\n        \"dtype\": \"number\",\n        \"std\": 5.552850856961558,\n        \"min\": 31.322583022999993,\n        \"max\": 41.6817904589999,\n        \"num_unique_values\": 3,\n        \"samples\": [\n          31.322583022999993,\n          33.03554948100009,\n          41.6817904589999\n        ],\n        \"semantic_type\": \"\",\n        \"description\": \"\"\n      }\n    }\n  ]\n}"
            }
          },
          "metadata": {},
          "execution_count": 42
        }
      ]
    },
    {
      "cell_type": "markdown",
      "source": [
        "\n",
        "It looks like our CNN (FashionMNISTModelV2) model performed the best (lowest loss, highest accuracy) but had the longest training time.\n",
        "\n",
        "And our baseline model (FashionMNISTModelV0) performed better than model_1 (FashionMNISTModelV1).\n",
        "\n"
      ],
      "metadata": {
        "id": "OMP8bswTT8W5"
      }
    },
    {
      "cell_type": "code",
      "source": [
        "# Visualize our model results\n",
        "compare_results.set_index(\"model_name\")[\"model_acc\"].plot(kind=\"barh\")\n",
        "plt.xlabel(\"accuracy (%)\")\n",
        "plt.ylabel(\"model\");"
      ],
      "metadata": {
        "colab": {
          "base_uri": "https://localhost:8080/",
          "height": 449
        },
        "id": "qhSqshYXUIsW",
        "outputId": "d777d860-ac69-498e-9e77-4bd48cbdd996"
      },
      "execution_count": 43,
      "outputs": [
        {
          "output_type": "display_data",
          "data": {
            "text/plain": [
              "<Figure size 640x480 with 1 Axes>"
            ],
            "image/png": "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\n"
          },
          "metadata": {}
        }
      ]
    },
    {
      "cell_type": "markdown",
      "source": [
        "## 9. Make and evaluate random predictions with best model"
      ],
      "metadata": {
        "id": "b_u5CyMrUMUP"
      }
    },
    {
      "cell_type": "markdown",
      "source": [
        "Alright, we've compared our models to each other, let's further evaluate our best performing model, `model_2`.\n",
        "\n",
        "To do so, let's create a function `make_predictions()` where we can pass the model and some data for it to predict on."
      ],
      "metadata": {
        "id": "puD90f3BUQ43"
      }
    },
    {
      "cell_type": "code",
      "source": [
        "def make_predictions(model: torch.nn.Module, data: list, device: torch.device = device):\n",
        "    pred_probs = []\n",
        "    model.eval()\n",
        "    with torch.inference_mode():\n",
        "        for sample in data:\n",
        "            # Prepare sample\n",
        "            sample = torch.unsqueeze(sample, dim=0).to(device) # Add an extra dimension and send sample to device\n",
        "\n",
        "            # Forward pass (model outputs raw logit)\n",
        "            pred_logit = model(sample)\n",
        "\n",
        "            # Get prediction probability (logit -> prediction probability)\n",
        "            pred_prob = torch.softmax(pred_logit.squeeze(), dim=0) # note: perform softmax on the \"logits\" dimension, not \"batch\" dimension (in this case we have a batch size of 1, so can perform on dim=0)\n",
        "\n",
        "            # Get pred_prob off GPU for further calculations\n",
        "            pred_probs.append(pred_prob.cpu())\n",
        "\n",
        "    # Stack the pred_probs to turn list into a tensor\n",
        "    return torch.stack(pred_probs)"
      ],
      "metadata": {
        "id": "Sn3k0PBxUT8h"
      },
      "execution_count": 44,
      "outputs": []
    },
    {
      "cell_type": "code",
      "source": [
        "import random\n",
        "random.seed(42)\n",
        "test_samples = []\n",
        "test_labels = []\n",
        "for sample, label in random.sample(list(test_data), k=9):\n",
        "    test_samples.append(sample)\n",
        "    test_labels.append(label)\n",
        "\n",
        "# View the first test sample shape and label\n",
        "print(f\"Test sample image shape: {test_samples[0].shape}\\nTest sample label: {test_labels[0]} ({class_names[test_labels[0]]})\")"
      ],
      "metadata": {
        "colab": {
          "base_uri": "https://localhost:8080/"
        },
        "id": "-kzTOUl5UZ22",
        "outputId": "4fe64724-412d-4f68-9018-96e0466a6150"
      },
      "execution_count": 45,
      "outputs": [
        {
          "output_type": "stream",
          "name": "stdout",
          "text": [
            "Test sample image shape: torch.Size([1, 28, 28])\n",
            "Test sample label: 5 (Sandal)\n"
          ]
        }
      ]
    },
    {
      "cell_type": "code",
      "source": [
        "# Make predictions on test samples with model 2\n",
        "pred_probs= make_predictions(model=model_2,\n",
        "                             data=test_samples)\n",
        "\n",
        "# View first two prediction probabilities list\n",
        "pred_probs[:2]"
      ],
      "metadata": {
        "colab": {
          "base_uri": "https://localhost:8080/"
        },
        "id": "8Q18eUjtUbxZ",
        "outputId": "03cdf2fc-35d4-4673-fa12-a44a7ffa743a"
      },
      "execution_count": 46,
      "outputs": [
        {
          "output_type": "execute_result",
          "data": {
            "text/plain": [
              "tensor([[3.1167e-07, 1.6620e-07, 5.6466e-07, 7.4891e-06, 7.3273e-07, 9.9958e-01,\n",
              "         5.3867e-06, 4.0423e-05, 1.9386e-04, 1.6630e-04],\n",
              "        [3.3144e-02, 7.3010e-01, 1.9972e-03, 1.6684e-01, 3.5631e-02, 7.9607e-04,\n",
              "         2.9808e-02, 8.9714e-04, 6.6198e-04, 1.3364e-04]])"
            ]
          },
          "metadata": {},
          "execution_count": 46
        }
      ]
    },
    {
      "cell_type": "markdown",
      "source": [
        "And now we can go from prediction probabilities to prediction labels by taking the torch.argmax() of the output of the torch.softmax() activation function.\n",
        "\n"
      ],
      "metadata": {
        "id": "IYf9jpVeUeV2"
      }
    },
    {
      "cell_type": "code",
      "source": [
        "# Turn the prediction probabilities into prediction labels by taking the argmax()\n",
        "pred_classes = pred_probs.argmax(dim=1)\n",
        "pred_classes"
      ],
      "metadata": {
        "colab": {
          "base_uri": "https://localhost:8080/"
        },
        "id": "sMHjhitCUi-V",
        "outputId": "99974a9c-e2ee-4f36-d622-851da7681d58"
      },
      "execution_count": 47,
      "outputs": [
        {
          "output_type": "execute_result",
          "data": {
            "text/plain": [
              "tensor([5, 1, 7, 4, 3, 0, 4, 7, 1])"
            ]
          },
          "metadata": {},
          "execution_count": 47
        }
      ]
    },
    {
      "cell_type": "code",
      "source": [
        "# Are our predictions in the same form as our test labels?\n",
        "test_labels, pred_classes"
      ],
      "metadata": {
        "colab": {
          "base_uri": "https://localhost:8080/"
        },
        "id": "obm45RyVUmOq",
        "outputId": "0fdd8b55-43ec-48b6-839b-169322da9eb8"
      },
      "execution_count": 48,
      "outputs": [
        {
          "output_type": "execute_result",
          "data": {
            "text/plain": [
              "([5, 1, 7, 4, 3, 0, 4, 7, 1], tensor([5, 1, 7, 4, 3, 0, 4, 7, 1]))"
            ]
          },
          "metadata": {},
          "execution_count": 48
        }
      ]
    },
    {
      "cell_type": "code",
      "source": [
        "# Plot predictions\n",
        "plt.figure(figsize=(9, 9))\n",
        "nrows = 3\n",
        "ncols = 3\n",
        "for i, sample in enumerate(test_samples):\n",
        "  # Create a subplot\n",
        "  plt.subplot(nrows, ncols, i+1)\n",
        "\n",
        "  # Plot the target image\n",
        "  plt.imshow(sample.squeeze(), cmap=\"gray\")\n",
        "\n",
        "  # Find the prediction label (in text form, e.g. \"Sandal\")\n",
        "  pred_label = class_names[pred_classes[i]]\n",
        "\n",
        "  # Get the truth label (in text form, e.g. \"T-shirt\")\n",
        "  truth_label = class_names[test_labels[i]]\n",
        "\n",
        "  # Create the title text of the plot\n",
        "  title_text = f\"Pred: {pred_label} | Truth: {truth_label}\"\n",
        "\n",
        "  # Check for equality and change title colour accordingly\n",
        "  if pred_label == truth_label:\n",
        "      plt.title(title_text, fontsize=10, c=\"g\") # green text if correct\n",
        "  else:\n",
        "      plt.title(title_text, fontsize=10, c=\"r\") # red text if wrong\n",
        "  plt.axis(False);"
      ],
      "metadata": {
        "colab": {
          "base_uri": "https://localhost:8080/",
          "height": 749
        },
        "id": "JXRzkedXUoAx",
        "outputId": "e54a596b-8f9a-43bb-ebca-250aaa20e142"
      },
      "execution_count": 49,
      "outputs": [
        {
          "output_type": "display_data",
          "data": {
            "text/plain": [
              "<Figure size 900x900 with 9 Axes>"
            ],
            "image/png": "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\n"
          },
          "metadata": {}
        }
      ]
    },
    {
      "cell_type": "markdown",
      "source": [
        "## 10. Making a confusion matrix for further prediction evaluation"
      ],
      "metadata": {
        "id": "ALk3jJMLUtGC"
      }
    },
    {
      "cell_type": "markdown",
      "source": [
        "There are many different evaluation metrics we can use for classification problems.\n",
        "\n",
        "One of the most visual is a **confusion matrix**.\n",
        "\n",
        "A **confusion matrix** shows you where your classification model got confused between predictions and true labels.\n",
        "\n",
        "To make a confusion matrix, we'll go through three steps:\n",
        "\n",
        "> Make predictions with our trained model, `model_2` (a confusion matrix compares predictions to true labels).\n",
        "\n",
        "> Make a confusion matrix using `torchmetrics.ConfusionMatrix`.\n",
        "\n",
        "> Plot the confusion matrix using `mlxtend.plotting.plot_confusion_matrix()`.\n",
        "Let's start by making predictions with our trained model."
      ],
      "metadata": {
        "id": "480sptB1Uz7V"
      }
    },
    {
      "cell_type": "code",
      "source": [
        "# Import tqdm for progress bar\n",
        "from tqdm.auto import tqdm\n",
        "\n",
        "# 1. Make predictions with trained model\n",
        "y_preds = []\n",
        "model_2.eval()\n",
        "with torch.inference_mode():\n",
        "  for X, y in tqdm(test_dataloader, desc=\"Making predictions\"):\n",
        "    # Send data and targets to target device\n",
        "    X, y = X.to(device), y.to(device)\n",
        "    # Do the forward pass\n",
        "    y_logit = model_2(X)\n",
        "    # Turn predictions from logits -> prediction probabilities -> predictions labels\n",
        "    y_pred = torch.softmax(y_logit, dim=1).argmax(dim=1) # note: perform softmax on the \"logits\" dimension, not \"batch\" dimension (in this case we have a batch size of 32, so can perform on dim=1)\n",
        "    # Put predictions on CPU for evaluation\n",
        "    y_preds.append(y_pred.cpu())\n",
        "# Concatenate list of predictions into a tensor\n",
        "y_pred_tensor = torch.cat(y_preds)"
      ],
      "metadata": {
        "colab": {
          "base_uri": "https://localhost:8080/",
          "height": 49,
          "referenced_widgets": [
            "ef27245fab124462aa76fc730ec55de8",
            "02c87607d365418182167a6797c76ae8",
            "a048d8439498461b8e6759a7b5bc7a15",
            "cecbb75ecb3b4699b31528aa9e6a3c70",
            "fcc6712bdeac48c5948e63959e1d9726",
            "f4f9fb04787a4a759823c0222adf6abc",
            "0fb48fc637a84f2c919630efad97efd2",
            "df96c063d88a48bbbd7cfc5cd07c27f1",
            "d38953137a9547ea9f7b2edd42869fa3",
            "eefa2767cadd42f2aefb68de565dc106",
            "62bdc2e164ef498f9403dcec88858edd"
          ]
        },
        "id": "DNWeDqR-U5-k",
        "outputId": "b2b88bc9-6ec9-4d57-e782-1c22cf75387e"
      },
      "execution_count": 50,
      "outputs": [
        {
          "output_type": "display_data",
          "data": {
            "text/plain": [
              "Making predictions:   0%|          | 0/313 [00:00<?, ?it/s]"
            ],
            "application/vnd.jupyter.widget-view+json": {
              "version_major": 2,
              "version_minor": 0,
              "model_id": "ef27245fab124462aa76fc730ec55de8"
            }
          },
          "metadata": {}
        }
      ]
    },
    {
      "cell_type": "code",
      "source": [
        "# See if torchmetrics exists, if not, install it\n",
        "try:\n",
        "    import torchmetrics, mlxtend\n",
        "    print(f\"mlxtend version: {mlxtend.__version__}\")\n",
        "    assert int(mlxtend.__version__.split(\".\")[1]) >= 19, \"mlxtend verison should be 0.19.0 or higher\"\n",
        "except:\n",
        "    !pip install -q torchmetrics -U mlxtend # <- Note: If you're using Google Colab, this may require restarting the runtime\n",
        "    import torchmetrics, mlxtend\n",
        "    print(f\"mlxtend version: {mlxtend.__version__}\")"
      ],
      "metadata": {
        "colab": {
          "base_uri": "https://localhost:8080/"
        },
        "id": "FIgZEvXRVR8j",
        "outputId": "85206f32-1ed5-418f-d418-45f1ccecb9ba"
      },
      "execution_count": 51,
      "outputs": [
        {
          "output_type": "stream",
          "name": "stdout",
          "text": [
            "\u001b[2K   \u001b[90m━━━━━━━━━━━━━━━━━━━━━━━━━━━━━━━━━━━━━━━━\u001b[0m \u001b[32m962.6/962.6 kB\u001b[0m \u001b[31m55.2 MB/s\u001b[0m eta \u001b[36m0:00:00\u001b[0m\n",
            "\u001b[2K   \u001b[90m━━━━━━━━━━━━━━━━━━━━━━━━━━━━━━━━━━━━━━━━\u001b[0m \u001b[32m363.4/363.4 MB\u001b[0m \u001b[31m4.7 MB/s\u001b[0m eta \u001b[36m0:00:00\u001b[0m\n",
            "\u001b[2K   \u001b[90m━━━━━━━━━━━━━━━━━━━━━━━━━━━━━━━━━━━━━━━━\u001b[0m \u001b[32m13.8/13.8 MB\u001b[0m \u001b[31m119.1 MB/s\u001b[0m eta \u001b[36m0:00:00\u001b[0m\n",
            "\u001b[2K   \u001b[90m━━━━━━━━━━━━━━━━━━━━━━━━━━━━━━━━━━━━━━━━\u001b[0m \u001b[32m24.6/24.6 MB\u001b[0m \u001b[31m84.9 MB/s\u001b[0m eta \u001b[36m0:00:00\u001b[0m\n",
            "\u001b[2K   \u001b[90m━━━━━━━━━━━━━━━━━━━━━━━━━━━━━━━━━━━━━━━━\u001b[0m \u001b[32m883.7/883.7 kB\u001b[0m \u001b[31m56.8 MB/s\u001b[0m eta \u001b[36m0:00:00\u001b[0m\n",
            "\u001b[2K   \u001b[90m━━━━━━━━━━━━━━━━━━━━━━━━━━━━━━━━━━━━━━━━\u001b[0m \u001b[32m664.8/664.8 MB\u001b[0m \u001b[31m2.9 MB/s\u001b[0m eta \u001b[36m0:00:00\u001b[0m\n",
            "\u001b[2K   \u001b[90m━━━━━━━━━━━━━━━━━━━━━━━━━━━━━━━━━━━━━━━━\u001b[0m \u001b[32m211.5/211.5 MB\u001b[0m \u001b[31m5.4 MB/s\u001b[0m eta \u001b[36m0:00:00\u001b[0m\n",
            "\u001b[2K   \u001b[90m━━━━━━━━━━━━━━━━━━━━━━━━━━━━━━━━━━━━━━━━\u001b[0m \u001b[32m56.3/56.3 MB\u001b[0m \u001b[31m17.1 MB/s\u001b[0m eta \u001b[36m0:00:00\u001b[0m\n",
            "\u001b[2K   \u001b[90m━━━━━━━━━━━━━━━━━━━━━━━━━━━━━━━━━━━━━━━━\u001b[0m \u001b[32m127.9/127.9 MB\u001b[0m \u001b[31m7.9 MB/s\u001b[0m eta \u001b[36m0:00:00\u001b[0m\n",
            "\u001b[2K   \u001b[90m━━━━━━━━━━━━━━━━━━━━━━━━━━━━━━━━━━━━━━━━\u001b[0m \u001b[32m207.5/207.5 MB\u001b[0m \u001b[31m6.0 MB/s\u001b[0m eta \u001b[36m0:00:00\u001b[0m\n",
            "\u001b[2K   \u001b[90m━━━━━━━━━━━━━━━━━━━━━━━━━━━━━━━━━━━━━━━━\u001b[0m \u001b[32m21.1/21.1 MB\u001b[0m \u001b[31m76.3 MB/s\u001b[0m eta \u001b[36m0:00:00\u001b[0m\n",
            "\u001b[?25hmlxtend version: 0.23.4\n"
          ]
        }
      ]
    },
    {
      "cell_type": "code",
      "source": [
        "# Import mlxtend upgraded version\n",
        "import mlxtend\n",
        "print(mlxtend.__version__)\n",
        "assert int(mlxtend.__version__.split(\".\")[1]) >= 19 # should be version 0.19.0 or higher"
      ],
      "metadata": {
        "colab": {
          "base_uri": "https://localhost:8080/"
        },
        "id": "ItanrnWdVbJ8",
        "outputId": "2d13e2bc-ad01-4f47-ad1f-746d264d5e86"
      },
      "execution_count": 52,
      "outputs": [
        {
          "output_type": "stream",
          "name": "stdout",
          "text": [
            "0.23.4\n"
          ]
        }
      ]
    },
    {
      "cell_type": "code",
      "source": [
        "from torchmetrics import ConfusionMatrix\n",
        "from mlxtend.plotting import plot_confusion_matrix\n",
        "\n",
        "# 2. Setup confusion matrix instance and compare predictions to targets\n",
        "confmat = ConfusionMatrix(num_classes=len(class_names), task='multiclass')\n",
        "confmat_tensor = confmat(preds=y_pred_tensor,\n",
        "                         target=test_data.targets)\n",
        "\n",
        "# 3. Plot the confusion matrix\n",
        "fig, ax = plot_confusion_matrix(\n",
        "    conf_mat=confmat_tensor.numpy(), # matplotlib likes working with NumPy\n",
        "    class_names=class_names, # turn the row and column labels into class names\n",
        "    figsize=(10, 7)\n",
        ");"
      ],
      "metadata": {
        "colab": {
          "base_uri": "https://localhost:8080/",
          "height": 667
        },
        "id": "89WxS9sXVicB",
        "outputId": "ad105805-e4d7-46b6-8b75-14036bc9fa69"
      },
      "execution_count": 53,
      "outputs": [
        {
          "output_type": "display_data",
          "data": {
            "text/plain": [
              "<Figure size 1000x700 with 1 Axes>"
            ],
            "image/png": "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\n"
          },
          "metadata": {}
        }
      ]
    },
    {
      "cell_type": "markdown",
      "source": [
        "Woah! Doesn't that look good?\n",
        "\n",
        "We can see our model does fairly well since most of the dark squares are down the diagonal from top left to bottom right (and ideal model will have only values in these squares and 0 everywhere else).\n",
        "\n",
        "The model gets most \"confused\" on classes that are similar, for example predicting \"Pullover\" for images that are actually labelled \"Shirt\".\n",
        "\n",
        "And the same for predicting \"Shirt\" for classes that are actually labelled \"T-shirt/top\".\n",
        "\n",
        "This kind of information is often more helpful than a single accuracy metric because it tells use where a model is getting things wrong.\n",
        "\n",
        "It also hints at why the model may be getting certain things wrong.\n",
        "\n",
        "It's understandable the model sometimes predicts \"Shirt\" for images labelled \"T-shirt/top\".\n",
        "\n"
      ],
      "metadata": {
        "id": "j6w2dWj8Vo1X"
      }
    },
    {
      "cell_type": "markdown",
      "source": [
        "## 11. Save and load best performing model"
      ],
      "metadata": {
        "id": "OBhECRNNVvlL"
      }
    },
    {
      "cell_type": "code",
      "source": [
        "from pathlib import Path\n",
        "\n",
        "# Create models directory (if it doesn't already exist), see: https://docs.python.org/3/library/pathlib.html#pathlib.Path.mkdir\n",
        "MODEL_PATH = Path(\"models\")\n",
        "MODEL_PATH.mkdir(parents=True, # create parent directories if needed\n",
        "                 exist_ok=True # if models directory already exists, don't error\n",
        ")\n",
        "\n",
        "# Create model save path\n",
        "MODEL_NAME = \"03_pytorch_computer_vision_model_2.pth\"\n",
        "MODEL_SAVE_PATH = MODEL_PATH / MODEL_NAME\n",
        "\n",
        "# Save the model state dict\n",
        "print(f\"Saving model to: {MODEL_SAVE_PATH}\")\n",
        "torch.save(obj=model_2.state_dict(), # only saving the state_dict() only saves the learned parameters\n",
        "           f=MODEL_SAVE_PATH)"
      ],
      "metadata": {
        "colab": {
          "base_uri": "https://localhost:8080/"
        },
        "id": "gbzeGlo7VzLB",
        "outputId": "83f6b350-56a6-494c-91dd-3b393b76766f"
      },
      "execution_count": 54,
      "outputs": [
        {
          "output_type": "stream",
          "name": "stdout",
          "text": [
            "Saving model to: models/03_pytorch_computer_vision_model_2.pth\n"
          ]
        }
      ]
    },
    {
      "cell_type": "code",
      "source": [
        "# Create a new instance of FashionMNISTModelV2 (the same class as our saved state_dict())\n",
        "# Note: loading model will error if the shapes here aren't the same as the saved version\n",
        "loaded_model_2 = FashionMNISTModelV2(input_shape=1,\n",
        "                                    hidden_units=10, # try changing this to 128 and seeing what happens\n",
        "                                    output_shape=10)\n",
        "\n",
        "# Load in the saved state_dict()\n",
        "loaded_model_2.load_state_dict(torch.load(f=MODEL_SAVE_PATH))\n",
        "\n",
        "# Send model to GPU\n",
        "loaded_model_2 = loaded_model_2.to(device)"
      ],
      "metadata": {
        "id": "VnNcwxPCWZAI"
      },
      "execution_count": 55,
      "outputs": []
    },
    {
      "cell_type": "markdown",
      "source": [
        "And now we've got a loaded model we can evaluate it with eval_model() to make sure its parameters work similarly to model_2 prior to saving.\n",
        "\n"
      ],
      "metadata": {
        "id": "v2jrjELiV7TV"
      }
    },
    {
      "cell_type": "code",
      "source": [
        "# Evaluate loaded model\n",
        "torch.manual_seed(42)\n",
        "\n",
        "loaded_model_2_results = eval_model(\n",
        "    model=loaded_model_2,\n",
        "    data_loader=test_dataloader,\n",
        "    loss_fn=loss_fn,\n",
        "    accuracy_fn=accuracy_fn\n",
        ")\n",
        "\n",
        "loaded_model_2_results"
      ],
      "metadata": {
        "colab": {
          "base_uri": "https://localhost:8080/"
        },
        "id": "MGciZG5gV_KV",
        "outputId": "b0274fc5-95ac-4d4f-87f2-219c19a4f4e9"
      },
      "execution_count": 56,
      "outputs": [
        {
          "output_type": "execute_result",
          "data": {
            "text/plain": [
              "{'model_name': 'FashionMNISTModelV2',\n",
              " 'model_loss': 0.3376440405845642,\n",
              " 'model_acc': 87.91932907348243}"
            ]
          },
          "metadata": {},
          "execution_count": 56
        }
      ]
    },
    {
      "cell_type": "markdown",
      "source": [
        "Do these results look the same as model_2_results?\n",
        "\n"
      ],
      "metadata": {
        "id": "MRCepn4qWCDG"
      }
    },
    {
      "cell_type": "code",
      "source": [
        "model_2_results"
      ],
      "metadata": {
        "colab": {
          "base_uri": "https://localhost:8080/"
        },
        "id": "MmDxWwgMWDxV",
        "outputId": "6cf6a992-af54-4802-93e0-7b714d25e08d"
      },
      "execution_count": 57,
      "outputs": [
        {
          "output_type": "execute_result",
          "data": {
            "text/plain": [
              "{'model_name': 'FashionMNISTModelV2',\n",
              " 'model_loss': 0.3376440405845642,\n",
              " 'model_acc': 87.91932907348243}"
            ]
          },
          "metadata": {},
          "execution_count": 57
        }
      ]
    },
    {
      "cell_type": "markdown",
      "source": [
        "We can find out if two tensors are close to each other using torch.isclose() and passing in a tolerance level of closeness via the parameters atol (absolute tolerance) and rtol (relative tolerance).\n",
        "\n",
        "If our model's results are close, the output of torch.isclose() should be true.\n"
      ],
      "metadata": {
        "id": "3JR55A4fWF9W"
      }
    },
    {
      "cell_type": "code",
      "source": [
        "# Check to see if results are close to each other (if they are very far away, there may be an error)\n",
        "torch.isclose(torch.tensor(model_2_results[\"model_loss\"]),\n",
        "              torch.tensor(loaded_model_2_results[\"model_loss\"]),\n",
        "              atol=1e-08, # absolute tolerance\n",
        "              rtol=0.0001) # relative tolerance"
      ],
      "metadata": {
        "colab": {
          "base_uri": "https://localhost:8080/"
        },
        "id": "GbRoDOARWJPd",
        "outputId": "b6ee53bd-fa54-4528-892e-51f79bd98a1f"
      },
      "execution_count": 58,
      "outputs": [
        {
          "output_type": "execute_result",
          "data": {
            "text/plain": [
              "tensor(True)"
            ]
          },
          "metadata": {},
          "execution_count": 58
        }
      ]
    }
  ]
}
